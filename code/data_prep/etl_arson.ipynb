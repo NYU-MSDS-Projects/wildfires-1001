{
 "cells": [
  {
   "cell_type": "markdown",
   "metadata": {},
   "source": [
    "# California Arson Data"
   ]
  },
  {
   "cell_type": "markdown",
   "metadata": {},
   "source": [
    "Import and preprocess California demographic data.\n",
    "\n",
    "Arson – any willful or malicious burning or attempt to burn, with or without intent to defraud, a dwelling house, public building, motor vehicle or aircraft, personal property of another, etc. (UCR definition).\n",
    "\n",
    "Contains the following fields by county by year from 1985 to 2019:\n",
    " * Arson: Number of Structural Properties\n",
    " * Arson: Number of Mobile Properties\n",
    " * Arson: Number of Other Properties\n",
    " * Number of Arsons\n",
    " * Number of Arsons Cleared\n",
    " \n",
    "Columns: ['Year', 'County', 'NCICCode', 'TotalStructural_sum', 'TotalMobile_sum',\n",
    "       'TotalOther_sum', 'GrandTotal_sum', 'GrandTotClr_sum']"
   ]
  },
  {
   "cell_type": "code",
   "execution_count": 3,
   "metadata": {},
   "outputs": [],
   "source": [
    "import pandas as pd\n",
    "import numpy as np"
   ]
  },
  {
   "cell_type": "code",
   "execution_count": 6,
   "metadata": {},
   "outputs": [],
   "source": [
    "#Import the data\n",
    "gitdir = 'C:\\\\Users\\jades\\\\1001 Intro to Data Science Notebooks\\\\Project\\\\wildfires-1001\\\\'\n",
    "subdir = 'data\\\\raw_data\\\\arson_crimes\\\\'\n",
    "filename = 'arson_typed.csv'\n",
    "\n",
    "df = pd.read_csv(gitdir + subdir + filename)"
   ]
  },
  {
   "cell_type": "code",
   "execution_count": 7,
   "metadata": {},
   "outputs": [
    {
     "data": {
      "text/html": [
       "<div>\n",
       "<style scoped>\n",
       "    .dataframe tbody tr th:only-of-type {\n",
       "        vertical-align: middle;\n",
       "    }\n",
       "\n",
       "    .dataframe tbody tr th {\n",
       "        vertical-align: top;\n",
       "    }\n",
       "\n",
       "    .dataframe thead th {\n",
       "        text-align: right;\n",
       "    }\n",
       "</style>\n",
       "<table border=\"1\" class=\"dataframe\">\n",
       "  <thead>\n",
       "    <tr style=\"text-align: right;\">\n",
       "      <th></th>\n",
       "      <th>Year</th>\n",
       "      <th>County</th>\n",
       "      <th>NCICCode</th>\n",
       "      <th>TotalStructural_sum</th>\n",
       "      <th>TotalMobile_sum</th>\n",
       "      <th>TotalOther_sum</th>\n",
       "      <th>GrandTotal_sum</th>\n",
       "      <th>GrandTotClr_sum</th>\n",
       "    </tr>\n",
       "  </thead>\n",
       "  <tbody>\n",
       "    <tr>\n",
       "      <th>0</th>\n",
       "      <td>1985</td>\n",
       "      <td>Alameda County</td>\n",
       "      <td>Alameda Co. Sheriff's Department</td>\n",
       "      <td>22</td>\n",
       "      <td>6</td>\n",
       "      <td>3</td>\n",
       "      <td>31</td>\n",
       "      <td>11</td>\n",
       "    </tr>\n",
       "    <tr>\n",
       "      <th>1</th>\n",
       "      <td>1985</td>\n",
       "      <td>Alameda County</td>\n",
       "      <td>Alameda</td>\n",
       "      <td>23</td>\n",
       "      <td>4</td>\n",
       "      <td>5</td>\n",
       "      <td>32</td>\n",
       "      <td>7</td>\n",
       "    </tr>\n",
       "    <tr>\n",
       "      <th>2</th>\n",
       "      <td>1985</td>\n",
       "      <td>Alameda County</td>\n",
       "      <td>Albany</td>\n",
       "      <td>2</td>\n",
       "      <td>0</td>\n",
       "      <td>0</td>\n",
       "      <td>2</td>\n",
       "      <td>1</td>\n",
       "    </tr>\n",
       "    <tr>\n",
       "      <th>3</th>\n",
       "      <td>1985</td>\n",
       "      <td>Alameda County</td>\n",
       "      <td>Berkeley</td>\n",
       "      <td>72</td>\n",
       "      <td>23</td>\n",
       "      <td>5</td>\n",
       "      <td>100</td>\n",
       "      <td>20</td>\n",
       "    </tr>\n",
       "    <tr>\n",
       "      <th>4</th>\n",
       "      <td>1985</td>\n",
       "      <td>Alameda County</td>\n",
       "      <td>Emeryville</td>\n",
       "      <td>0</td>\n",
       "      <td>1</td>\n",
       "      <td>0</td>\n",
       "      <td>1</td>\n",
       "      <td>0</td>\n",
       "    </tr>\n",
       "  </tbody>\n",
       "</table>\n",
       "</div>"
      ],
      "text/plain": [
       "   Year          County                          NCICCode TotalStructural_sum  \\\n",
       "0  1985  Alameda County  Alameda Co. Sheriff's Department                  22   \n",
       "1  1985  Alameda County                           Alameda                  23   \n",
       "2  1985  Alameda County                            Albany                   2   \n",
       "3  1985  Alameda County                          Berkeley                  72   \n",
       "4  1985  Alameda County                        Emeryville                   0   \n",
       "\n",
       "  TotalMobile_sum TotalOther_sum GrandTotal_sum GrandTotClr_sum  \n",
       "0               6              3             31              11  \n",
       "1               4              5             32               7  \n",
       "2               0              0              2               1  \n",
       "3              23              5            100              20  \n",
       "4               1              0              1               0  "
      ]
     },
     "execution_count": 7,
     "metadata": {},
     "output_type": "execute_result"
    }
   ],
   "source": [
    "#df.head()"
   ]
  },
  {
   "cell_type": "code",
   "execution_count": null,
   "metadata": {},
   "outputs": [],
   "source": []
  }
 ],
 "metadata": {
  "kernelspec": {
   "display_name": "Python 3",
   "language": "python",
   "name": "python3"
  },
  "language_info": {
   "codemirror_mode": {
    "name": "ipython",
    "version": 3
   },
   "file_extension": ".py",
   "mimetype": "text/x-python",
   "name": "python",
   "nbconvert_exporter": "python",
   "pygments_lexer": "ipython3",
   "version": "3.8.3"
  }
 },
 "nbformat": 4,
 "nbformat_minor": 4
}
