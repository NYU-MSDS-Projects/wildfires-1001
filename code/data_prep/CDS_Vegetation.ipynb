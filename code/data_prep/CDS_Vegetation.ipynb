{
 "cells": [
  {
   "cell_type": "code",
   "execution_count": 36,
   "metadata": {},
   "outputs": [],
   "source": [
    "#import the needed libraries\n",
    "import cdsapi\n",
    "import pygrib\n",
    "import numpy as np\n",
    "import urllib3"
   ]
  },
  {
   "cell_type": "code",
   "execution_count": 37,
   "metadata": {},
   "outputs": [],
   "source": [
    "#call the cdsapi and disable warnings\n",
    "c = cdsapi.Client()\n",
    "urllib3.disable_warnings()"
   ]
  },
  {
   "cell_type": "code",
   "execution_count": 74,
   "metadata": {},
   "outputs": [
    {
     "name": "stderr",
     "output_type": "stream",
     "text": [
      "2020-11-14 14:38:10,572 INFO Welcome to the CDS\n",
      "2020-11-14 14:38:10,573 INFO Sending request to https://cds.climate.copernicus.eu/api/v2/resources/reanalysis-era5-land-monthly-means\n",
      "2020-11-14 14:38:10,957 INFO Request is queued\n",
      "2020-11-14 14:38:12,063 INFO Request is running\n",
      "2020-11-14 14:44:30,376 INFO Request is completed\n",
      "2020-11-14 14:44:30,378 INFO Downloading http://136.156.133.37/cache-compute-0011/cache/data6/adaptor.mars.internal-1605382691.262136-11350-1-7131cee0-bfbc-4db9-93bc-c184a32a0922.grib to download.grib (10.7M)\n",
      "2020-11-14 14:44:32,118 INFO Download rate 6.2M/s   \n"
     ]
    },
    {
     "data": {
      "text/plain": [
       "Result(content_length=11216640,content_type=application/x-grib,location=http://136.156.133.37/cache-compute-0011/cache/data6/adaptor.mars.internal-1605382691.262136-11350-1-7131cee0-bfbc-4db9-93bc-c184a32a0922.grib)"
      ]
     },
     "execution_count": 74,
     "metadata": {},
     "output_type": "execute_result"
    }
   ],
   "source": [
    "#pull the actual data\n",
    "#this is monthly data from 1990-2020 of Leaf Area Index\n",
    "c.retrieve(\n",
    "    'reanalysis-era5-land-monthly-means',\n",
    "    {\n",
    "        'format': 'grib',\n",
    "        'product_type': 'monthly_averaged_reanalysis',\n",
    "        'area': [\n",
    "            42, 114, 32,\n",
    "            124,\n",
    "        ],\n",
    "        'variable': [\n",
    "            'leaf_area_index_high_vegetation', 'leaf_area_index_low_vegetation',\n",
    "        ],\n",
    "        'year': [\n",
    "            '1990', '1991', '1992',\n",
    "            '1993', '1994', '1995',\n",
    "            '1996', '1997', '1998',\n",
    "            '1999', '2000', '2001',\n",
    "            '2002', '2003', '2004',\n",
    "            '2005', '2006', '2007',\n",
    "            '2008', '2009', '2010',\n",
    "            '2011', '2012', '2013',\n",
    "            '2014', '2015', '2016',\n",
    "            '2017', '2018', '2019',\n",
    "            '2020',\n",
    "        ],\n",
    "        'month': [\n",
    "            '01', '02', '03',\n",
    "            '04', '05', '06',\n",
    "            '07', '08', '09',\n",
    "            '10', '11', '12',\n",
    "        ],\n",
    "        'time': '00:00',\n",
    "    },\n",
    "    'download.grib')"
   ]
  },
  {
   "cell_type": "code",
   "execution_count": 76,
   "metadata": {},
   "outputs": [
    {
     "data": {
      "text/plain": [
       "<pygrib.open at 0x7fc14894ad00>"
      ]
     },
     "execution_count": 76,
     "metadata": {},
     "output_type": "execute_result"
    }
   ],
   "source": [
    "#read in the grib\n",
    "grbs = pygrib.open('cds_vegetation.grib')\n",
    "grbs"
   ]
  },
  {
   "cell_type": "code",
   "execution_count": 77,
   "metadata": {},
   "outputs": [
    {
     "data": {
      "text/plain": [
       "1"
      ]
     },
     "execution_count": 77,
     "metadata": {},
     "output_type": "execute_result"
    }
   ],
   "source": [
    "#NOT ENTIRELY SURE\n",
    "grbs.seek(1)\n",
    "grbs.tell()"
   ]
  },
  {
   "cell_type": "code",
   "execution_count": 81,
   "metadata": {},
   "outputs": [
    {
     "data": {
      "text/plain": [
       "5:Leaf area index, high vegetation:m**2 m**-2 (avgid):regular_ll:surface:level 0:fcst time 1-24 hrs (avgid):from 199003010000"
      ]
     },
     "execution_count": 81,
     "metadata": {},
     "output_type": "execute_result"
    }
   ],
   "source": [
    "grb = grbs.read(1)[0] # read returns a list with the next N (N=1 in this case) messages.\n",
    "grb # printing a grib message object displays summary info"
   ]
  },
  {
   "cell_type": "code",
   "execution_count": 82,
   "metadata": {},
   "outputs": [
    {
     "data": {
      "text/plain": [
       "5"
      ]
     },
     "execution_count": 82,
     "metadata": {},
     "output_type": "execute_result"
    }
   ],
   "source": [
    "grbs.tell()"
   ]
  },
  {
   "cell_type": "code",
   "execution_count": 83,
   "metadata": {},
   "outputs": [
    {
     "data": {
      "text/plain": [
       "1:Leaf area index, high vegetation:m**2 m**-2 (avgid):regular_ll:surface:level 0:fcst time 1-24 hrs (avgid):from 199001010000"
      ]
     },
     "execution_count": 83,
     "metadata": {},
     "output_type": "execute_result"
    }
   ],
   "source": [
    "#SELECTING ONE OF THE FIELDS\n",
    "grb = grbs.select(name='Leaf area index, high vegetation')[0]\n",
    "grb"
   ]
  },
  {
   "cell_type": "code",
   "execution_count": 84,
   "metadata": {},
   "outputs": [
    {
     "data": {
      "text/plain": [
       "((101, 101), 0.0, 4.979736328125)"
      ]
     },
     "execution_count": 84,
     "metadata": {},
     "output_type": "execute_result"
    }
   ],
   "source": [
    "# The data is returned as a numpy array, or if missing values or a bitmap are present, a numpy masked array.  \n",
    "# Reduced lat/lon or gaussian grid\n",
    "# data is automatically expanded to a regular grid. Details of the internal\n",
    "# representation of the grib data (such as the scanning mode) are handled automatically.\n",
    "lai = grb.values # same as grb['values']\n",
    "lai.shape, lai.min(), lai.max()"
   ]
  },
  {
   "cell_type": "code",
   "execution_count": 85,
   "metadata": {},
   "outputs": [
    {
     "data": {
      "text/plain": [
       "masked_array(\n",
       "  data=[[0.0, 0.0, 0.0, ..., 1.390380859375, 1.31494140625,\n",
       "         1.281494140625],\n",
       "        [0.0, 0.0, 0.0, ..., 1.2552490234375, 1.26904296875,\n",
       "         1.4407958984375],\n",
       "        [0.0, 0.0, 0.0, ..., 2.2362060546875, 2.2242431640625,\n",
       "         2.12109375],\n",
       "        ...,\n",
       "        [0.0, 0.0, 0.0, ..., --, --, --],\n",
       "        [2.187255859375, 2.1939697265625, 0.67626953125, ..., --, --, --],\n",
       "        [0.74658203125, 0.748046875, 0.7412109375, ..., --, --, --]],\n",
       "  mask=[[False, False, False, ..., False, False, False],\n",
       "        [False, False, False, ..., False, False, False],\n",
       "        [False, False, False, ..., False, False, False],\n",
       "        ...,\n",
       "        [False, False, False, ...,  True,  True,  True],\n",
       "        [False, False, False, ...,  True,  True,  True],\n",
       "        [False, False, False, ...,  True,  True,  True]],\n",
       "  fill_value=9999.0)"
      ]
     },
     "execution_count": 85,
     "metadata": {},
     "output_type": "execute_result"
    }
   ],
   "source": [
    "lai"
   ]
  },
  {
   "cell_type": "code",
   "execution_count": 86,
   "metadata": {},
   "outputs": [],
   "source": [
    "lats, lons = grb.latlons()"
   ]
  },
  {
   "cell_type": "code",
   "execution_count": 87,
   "metadata": {},
   "outputs": [
    {
     "data": {
      "text/plain": [
       "2:Leaf area index, low vegetation:m**2 m**-2 (avgid):regular_ll:surface:level 0:fcst time 1-24 hrs (avgid):from 199001010000"
      ]
     },
     "execution_count": 87,
     "metadata": {},
     "output_type": "execute_result"
    }
   ],
   "source": [
    "grb2 = grbs.message(2) # same as grbs.seek(1); grb=grbs.readline()\n",
    "grb2"
   ]
  }
 ],
 "metadata": {
  "kernelspec": {
   "display_name": "Python 3",
   "language": "python",
   "name": "python3"
  },
  "language_info": {
   "codemirror_mode": {
    "name": "ipython",
    "version": 3
   },
   "file_extension": ".py",
   "mimetype": "text/x-python",
   "name": "python",
   "nbconvert_exporter": "python",
   "pygments_lexer": "ipython3",
   "version": "3.8.6"
  }
 },
 "nbformat": 4,
 "nbformat_minor": 4
}
