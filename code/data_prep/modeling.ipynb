{
 "cells": [
  {
   "cell_type": "code",
   "execution_count": 150,
   "metadata": {},
   "outputs": [],
   "source": [
    "from sklearn.ensemble import RandomForestClassifier\n",
    "from sklearn.metrics import accuracy_score, confusion_matrix, classification_report"
   ]
  },
  {
   "cell_type": "code",
   "execution_count": 5,
   "metadata": {},
   "outputs": [],
   "source": [
    "import pandas as pd  # provides interface for interacting with tabular data\n",
    "import geopandas as gpd  # combines the capabilities of pandas and shapely for geospatial operations\n",
    "from shapely.geometry import Point, Polygon, MultiPolygon  # for manipulating text data into geospatial shapes\n",
    "from shapely import wkt  # stands for \"well known text,\" allows for interchange across GIS programs\n",
    "import rtree  # supports geospatial join\n",
    "import os\n",
    "import fnmatch\n",
    "import numpy as np\n",
    "import matplotlib.pyplot as plt\n",
    "import descartes\n",
    "import sys\n",
    "import sklearn\n",
    "from shapely.ops import nearest_points\n",
    "from datetime import datetime as dt, date\n",
    "sys.path.append('/Users/saraprice/Documents/NYU/Fall_2020/DS_GA_1001/final_project/wildfires-1001/code/functions/')\n",
    "from gis_processing import *\n",
    "import pickle"
   ]
  },
  {
   "cell_type": "code",
   "execution_count": 2,
   "metadata": {},
   "outputs": [],
   "source": [
    "data_dir = '/Users/saraprice/Documents/NYU/Fall_2020/DS_GA_1001/final_project/wildfires-1001/data'"
   ]
  },
  {
   "cell_type": "code",
   "execution_count": null,
   "metadata": {},
   "outputs": [],
   "source": []
  },
  {
   "cell_type": "code",
   "execution_count": 32,
   "metadata": {},
   "outputs": [],
   "source": [
    "target_df = pd.read_pickle(os.path.join(data_dir, 'clean_data/target_df_final_geo.pkl'))\n",
    "weather_dict_path = os.path.join(data_dir, 'clean_data/ERA_weather-data/ERA_rename_dictionary.pkl')"
   ]
  },
  {
   "cell_type": "code",
   "execution_count": 18,
   "metadata": {},
   "outputs": [],
   "source": [
    "with open(weather_dict_path, 'rb') as handle:\n",
    "    rename_dict = pickle.load(handle)"
   ]
  },
  {
   "cell_type": "code",
   "execution_count": 26,
   "metadata": {},
   "outputs": [],
   "source": [
    "target_df.rename(columns = rename_dict, inplace = True)"
   ]
  },
  {
   "cell_type": "code",
   "execution_count": 133,
   "metadata": {},
   "outputs": [],
   "source": [
    "non_mod_cols = ['GRID_ID','month_id','MONTH','COUNTYFP','NAME','GRID_AREA','COUNTY_ARE','month_id_old_x','month_id_old_y',\n",
    "                'geometry', 'adj_fire_count','adj_fire_bcount']\n",
    "Y_cols = ['Y_bin', 'Y_fire_count', 'Y_fire_area_prop', 'Y_fire_class_size']"
   ]
  },
  {
   "cell_type": "code",
   "execution_count": 127,
   "metadata": {},
   "outputs": [],
   "source": [
    "non_weather_cols = [i for i in train_data.columns if str.find(i,\"hrs\")==-1]\n",
    "weather_cols = [i for i in train_data.columns if i not in(non_weather_cols)]\n",
    "oth_subset = ['elev_mean','elev_std','elev_media','elev_max','elev_min','elev_range','adj_fire_count','adj_fire_bcount']"
   ]
  },
  {
   "cell_type": "code",
   "execution_count": 141,
   "metadata": {},
   "outputs": [
    {
     "data": {
      "text/plain": [
       "2019    1188\n",
       "Name: YEAR, dtype: int64"
      ]
     },
     "execution_count": 141,
     "metadata": {},
     "output_type": "execute_result"
    }
   ],
   "source": [
    "sub = target_df[['YEAR', 'adj_fire_count','adj_fire_bcount']]\n",
    "sub[sub['adj_fire_count'].isnull()]['YEAR'].value_counts()"
   ]
  },
  {
   "cell_type": "code",
   "execution_count": 86,
   "metadata": {},
   "outputs": [],
   "source": [
    "for col in target_df.columns:\n",
    "    if target_df[col].dtypes == 'float64':\n",
    "        target_df[col] = target_df[col].astype(np.float32)"
   ]
  },
  {
   "cell_type": "markdown",
   "metadata": {},
   "source": [
    "## Train- test Split"
   ]
  },
  {
   "cell_type": "code",
   "execution_count": 144,
   "metadata": {},
   "outputs": [],
   "source": [
    "train_data = target_df[target_df['YEAR']<=2016]\n",
    "X_train = train_data.drop('YEAR', axis = 1)\n",
    "for y in Y_cols + non_mod_cols:\n",
    "    try:\n",
    "        X_train.drop(y, inplace = True, axis =1)\n",
    "    except:\n",
    "        pass\n",
    "Y_train = train_data[['Y_fire_class_size']]"
   ]
  },
  {
   "cell_type": "code",
   "execution_count": 146,
   "metadata": {},
   "outputs": [],
   "source": [
    "test_data = target_df[target_df['YEAR']>2016]\n",
    "X_test = test_data.drop('YEAR', axis = 1)\n",
    "for y in Y_cols + non_mod_cols:\n",
    "    try:\n",
    "        X_test.drop(y, inplace = True, axis =1)\n",
    "    except:\n",
    "        pass\n",
    "Y_test = test_data[['Y_fire_class_size']] "
   ]
  },
  {
   "cell_type": "code",
   "execution_count": 148,
   "metadata": {},
   "outputs": [
    {
     "data": {
      "text/plain": [
       "['elev_mean',\n",
       " 'elev_std',\n",
       " 'elev_media',\n",
       " 'elev_max',\n",
       " 'elev_min',\n",
       " 'elev_range',\n",
       " 'pl_count',\n",
       " 'total_pl_length',\n",
       " 'road_count',\n",
       " 'total_road_length',\n",
       " 'MEDIAN_AGE_TOT',\n",
       " 'MEDIAN_AGE_MALE',\n",
       " 'MEDIAN_AGE_FEM',\n",
       " 'AGEUNDER13_TOT',\n",
       " 'AGE1424_TOT',\n",
       " 'AGE2544_TOT',\n",
       " 'AGE4564_TOT',\n",
       " 'AGE65PLUS_TOT',\n",
       " 'COUNTY_AREA',\n",
       " 'POPDENSITY',\n",
       " 'POPDENSITY_MALE',\n",
       " 'POPDENSITY_FEM',\n",
       " 'Structure Arsons',\n",
       " 'Mobile Arsons',\n",
       " 'Other Arsons',\n",
       " 'Total Arsons',\n",
       " 'Total Arsons Cleared',\n",
       " 'Unemployment',\n",
       " 'medianHHI2018',\n",
       " '10 metre U wind component hrs:0',\n",
       " '10 metre V wind component hrs:0',\n",
       " '2 metre dewpoint temperature hrs:0',\n",
       " '2 metre temperature hrs:0',\n",
       " 'Leaf area index, high vegetation hrs:0',\n",
       " 'Leaf area index, low vegetation hrs:0',\n",
       " 'Surface pressure hrs:0',\n",
       " 'Total precipitation hrs:0',\n",
       " '10 metre U wind component hrs:6',\n",
       " '10 metre V wind component hrs:6',\n",
       " '2 metre dewpoint temperature hrs:6',\n",
       " '2 metre temperature hrs:6',\n",
       " 'Leaf area index, high vegetation hrs:6',\n",
       " 'Leaf area index, low vegetation hrs:6',\n",
       " 'Surface pressure hrs:6',\n",
       " 'Total precipitation hrs:6',\n",
       " '10 metre U wind component hrs:12',\n",
       " '10 metre V wind component hrs:12',\n",
       " '2 metre dewpoint temperature hrs:12',\n",
       " '2 metre temperature hrs:12',\n",
       " 'Leaf area index, high vegetation hrs:12',\n",
       " 'Leaf area index, low vegetation hrs:12',\n",
       " 'Surface pressure hrs:12',\n",
       " 'Total precipitation hrs:12',\n",
       " '10 metre U wind component hrs:18',\n",
       " '10 metre V wind component hrs:18',\n",
       " '2 metre dewpoint temperature hrs:18',\n",
       " '2 metre temperature hrs:18',\n",
       " 'Leaf area index, high vegetation hrs:18',\n",
       " 'Leaf area index, low vegetation hrs:18',\n",
       " 'Surface pressure hrs:18',\n",
       " 'Total precipitation hrs:18']"
      ]
     },
     "execution_count": 148,
     "metadata": {},
     "output_type": "execute_result"
    }
   ],
   "source": [
    "X_test.columns.tolist()"
   ]
  },
  {
   "cell_type": "code",
   "execution_count": 147,
   "metadata": {},
   "outputs": [
    {
     "name": "stderr",
     "output_type": "stream",
     "text": [
      "<ipython-input-147-ba37c60503a8>:1: DataConversionWarning: A column-vector y was passed when a 1d array was expected. Please change the shape of y to (n_samples,), for example using ravel().\n",
      "  rf_clf = RandomForestClassifier().fit(X_train, Y_train)\n"
     ]
    }
   ],
   "source": [
    "rf_clf = RandomForestClassifier().fit(X_train, Y_train)"
   ]
  },
  {
   "cell_type": "code",
   "execution_count": 155,
   "metadata": {},
   "outputs": [],
   "source": [
    "y_preds_class_size = rf_clf.predict(X_test)"
   ]
  },
  {
   "cell_type": "code",
   "execution_count": 163,
   "metadata": {},
   "outputs": [
    {
     "data": {
      "text/plain": [
       "(3564, 1)"
      ]
     },
     "execution_count": 163,
     "metadata": {},
     "output_type": "execute_result"
    }
   ],
   "source": [
    "y_eval.shape"
   ]
  },
  {
   "cell_type": "code",
   "execution_count": 168,
   "metadata": {},
   "outputs": [
    {
     "name": "stdout",
     "output_type": "stream",
     "text": [
      "Predicted Classes     0   1   2   3   4\n",
      "Actual Classes                         \n",
      "0                  2910  38  10  22  30\n",
      "1                   203  32   4  23  16\n",
      "2                   109   5   7   3   4\n",
      "3                    56   4   2   2   2\n",
      "4                    66   5   4   5   2\n"
     ]
    }
   ],
   "source": [
    "tab = dict(zip([0,1,2,3,4],[0,1,2,3,4]))\n",
    "y_eval = np.vectorize(tab.get)(Y_test)\n",
    "y_eval = y_eval.reshape(3564)\n",
    "y_pred = np.vectorize(tab.get)(y_preds_class_size)\n",
    "# Making the Confusion Matrix\n",
    "print(pd.crosstab(y_eval, y_pred, rownames=['Actual Classes'], colnames=['Predicted Classes']))"
   ]
  },
  {
   "cell_type": "code",
   "execution_count": 173,
   "metadata": {},
   "outputs": [
    {
     "data": {
      "text/plain": [
       "43"
      ]
     },
     "execution_count": 173,
     "metadata": {},
     "output_type": "execute_result"
    }
   ],
   "source": [
    "compare_df = Y_test.copy()\n",
    "compare_df['Y_class_size_pred'] = y_preds_class_size\n",
    "len(compare_df[(compare_df['Y_class_size_pred']==compare_df['Y_fire_class_size']) & (compare_df['Y_fire_class_size']>0)])"
   ]
  },
  {
   "cell_type": "code",
   "execution_count": 178,
   "metadata": {},
   "outputs": [
    {
     "data": {
      "text/plain": [
       "0.18050541516245489"
      ]
     },
     "execution_count": 178,
     "metadata": {},
     "output_type": "execute_result"
    }
   ],
   "source": [
    "len(compare_df[(compare_df['Y_class_size_pred']>0) & (compare_df['Y_fire_class_size']==0)])/554"
   ]
  }
 ],
 "metadata": {
  "kernelspec": {
   "display_name": "Python 3",
   "language": "python",
   "name": "python3"
  },
  "language_info": {
   "codemirror_mode": {
    "name": "ipython",
    "version": 3
   },
   "file_extension": ".py",
   "mimetype": "text/x-python",
   "name": "python",
   "nbconvert_exporter": "python",
   "pygments_lexer": "ipython3",
   "version": "3.8.6"
  }
 },
 "nbformat": 4,
 "nbformat_minor": 4
}
