{
 "cells": [
  {
   "cell_type": "code",
   "execution_count": 32,
   "metadata": {},
   "outputs": [],
   "source": [
    "import pandas as pd  # provides interface for interacting with tabular data\n",
    "import geopandas as gpd  # combines the capabilities of pandas and shapely for geospatial operations\n",
    "from shapely.geometry import Point, Polygon, MultiPolygon  # for manipulating text data into geospatial shapes\n",
    "from shapely import wkt  # stands for \"well known text,\" allows for interchange across GIS programs\n",
    "import rtree  # supports geospatial join\n",
    "import os\n",
    "import fnmatch\n",
    "import numpy as np\n",
    "import matplotlib.pyplot as plt\n",
    "import descartes\n",
    "import sys\n",
    "import sklearn\n",
    "import pickle\n",
    "from shapely.ops import nearest_points\n",
    "from datetime import datetime as dt, date\n",
    "sys.path.append('/Users/saraprice/Documents/NYU/Fall_2020/DS_GA_1001/final_project/wildfires-1001/code/functions/')\n",
    "from gis_processing import *"
   ]
  },
  {
   "cell_type": "code",
   "execution_count": 5,
   "metadata": {},
   "outputs": [],
   "source": [
    "data_dir = '/Users/saraprice/Documents/NYU/Fall_2020/DS_GA_1001/final_project/wildfires-1001/data'"
   ]
  },
  {
   "cell_type": "code",
   "execution_count": 6,
   "metadata": {},
   "outputs": [],
   "source": [
    "weather = pd.read_pickle(os.path.join(data_dir, 'clean_data/ERA_weather-data/ERA5_CAgrid_gdf.pkl'))"
   ]
  },
  {
   "cell_type": "code",
   "execution_count": 76,
   "metadata": {},
   "outputs": [],
   "source": [
    "weather_1980_90 = pd.read_pickle(os.path.join(data_dir, 'clean_data/ERA_weather-data/ERA5_CAgrid1980_gdf.pkl'))"
   ]
  },
  {
   "cell_type": "code",
   "execution_count": 54,
   "metadata": {},
   "outputs": [],
   "source": [
    "weather['month'] = weather['date'].apply(lambda x:x.month)\n",
    "weather['year'] = weather['date'].apply(lambda x:x.year)"
   ]
  },
  {
   "cell_type": "code",
   "execution_count": 86,
   "metadata": {},
   "outputs": [],
   "source": [
    "weather_1980_90['month'] = weather_1980_90['date'].apply(lambda x:x.month)\n",
    "weather_1980_90['year'] = weather_1980_90['date'].apply(lambda x:x.year)\n",
    "weather_1980_90['month_id'] = weather_1980_90['year'].astype(str) + \"_\" + weather_1980_90['month'].astype(str)"
   ]
  },
  {
   "cell_type": "code",
   "execution_count": 37,
   "metadata": {},
   "outputs": [],
   "source": [
    "rename_weather = {'10 metre U wind component': 'U_wind_10m',\n",
    "                  '10 metre V wind component': 'V_wind_10m',\n",
    "                  '2 metre dewpoint temperature': '2m_dewpoint_tmp',\n",
    "                  '2 metre temperature': '2m_tmp',\n",
    "                  'Leaf area index, high vegetation':'leaf_high_veg',\n",
    "                  'Leaf area index, low vegetation':'leaf_low_veg',\n",
    "                  'Surface pressure' : 'surface_pressure',\n",
    "                  'Total precipitation' : 'tot_prcp'}\n",
    "orig_keys = list(rename_weather.keys())\n",
    "for key in orig_keys:\n",
    "    for i in [0, 6, 12, 18]:\n",
    "        rename_weather[key + f\" hrs:{i}\"] = rename_weather[key]+f\"_{i}hrs\"\n",
    "for key in orig_keys:\n",
    "    del rename_weather[key]"
   ]
  },
  {
   "cell_type": "code",
   "execution_count": 79,
   "metadata": {},
   "outputs": [],
   "source": [
    "try:\n",
    "    weather.rename(columns= rename_weather, inplace = True)\n",
    "except:\n",
    "    pass\n",
    "try:\n",
    "    weather_1980_90.rename(columns= rename_weather, inplace = True)\n",
    "except:\n",
    "    pass"
   ]
  },
  {
   "cell_type": "code",
   "execution_count": 87,
   "metadata": {},
   "outputs": [],
   "source": [
    "for i in weather.columns:\n",
    "    if i not in weather_1980_90.columns:\n",
    "        print(i)"
   ]
  },
  {
   "cell_type": "code",
   "execution_count": 99,
   "metadata": {},
   "outputs": [],
   "source": [
    "weather_full = weather.append(weather_1980_90)"
   ]
  },
  {
   "cell_type": "code",
   "execution_count": 38,
   "metadata": {},
   "outputs": [],
   "source": [
    "with open(os.path.join(data_dir, 'clean_data/ERA_weather-data/ERA_rename_dictionary.pkl'), 'wb') as handle:\n",
    "    pickle.dump(rename_weather, handle)"
   ]
  },
  {
   "cell_type": "code",
   "execution_count": 41,
   "metadata": {},
   "outputs": [],
   "source": [
    "weather.rename(columns= rename_weather, inplace = True)\n"
   ]
  },
  {
   "cell_type": "code",
   "execution_count": 137,
   "metadata": {},
   "outputs": [
    {
     "name": "stdout",
     "output_type": "stream",
     "text": [
      "['U_wind_10m_0hrs', 'U_wind_10m_6hrs', 'U_wind_10m_12hrs', 'U_wind_10m_18hrs', 'V_wind_10m_0hrs', 'V_wind_10m_6hrs', 'V_wind_10m_12hrs', 'V_wind_10m_18hrs', '2m_dewpoint_tmp_0hrs', '2m_dewpoint_tmp_6hrs', '2m_dewpoint_tmp_12hrs', '2m_dewpoint_tmp_18hrs', '2m_tmp_0hrs', '2m_tmp_6hrs', '2m_tmp_12hrs', '2m_tmp_18hrs', 'leaf_high_veg_0hrs', 'leaf_high_veg_6hrs', 'leaf_high_veg_12hrs', 'leaf_high_veg_18hrs', 'leaf_low_veg_0hrs', 'leaf_low_veg_6hrs', 'leaf_low_veg_12hrs', 'leaf_low_veg_18hrs', 'surface_pressure_0hrs', 'surface_pressure_6hrs', 'surface_pressure_12hrs', 'surface_pressure_18hrs', 'tot_prcp_0hrs', 'tot_prcp_6hrs', 'tot_prcp_12hrs', 'tot_prcp_18hrs']\n"
     ]
    }
   ],
   "source": [
    "w_cols = list(rename_weather.values())\n",
    "print(w_cols)"
   ]
  },
  {
   "cell_type": "code",
   "execution_count": 160,
   "metadata": {},
   "outputs": [],
   "source": [
    "def hist_weather_data(df, w_cols, n_years, min_year, max_year):\n",
    "    w_cols_new = [f\"hist_{col}_{n_years}y\" for col in w_cols]\n",
    "    output_df = pd.DataFrame()\n",
    "    for g in df.GRID_ID.unique():\n",
    "        df_sub = df[df['GRID_ID']==g]\n",
    "        for m in range(1, 13):\n",
    "            df_sub = df_sub[df_sub['month']==m]\n",
    "            for y in np.arange(min_year, max_year +1):\n",
    "                time_sub = df_sub[(df_sub['year']>=y-n_years) & (df_sub['year']<y)]\n",
    "                hist_means= time_sub[w_cols].mean(axis = 0)\n",
    "                hist_means = hist_means.to_dict()\n",
    "                hist_means['GRID_ID'] = time_sub.GRID_ID\n",
    "                hist_means['year'] = time_sub.year\n",
    "                hist_means['month'] = time_sub.month\n",
    "                new_df = pd.DataFrame(hist_means, columns = list(hist_means.keys()))\n",
    "                output_df = output_df.append(new_df)\n",
    "    return output_df"
   ]
  },
  {
   "cell_type": "code",
   "execution_count": null,
   "metadata": {},
   "outputs": [],
   "source": [
    "hist_weather_1yr = hist_weather_data(weather_full, w_cols, 1, 1990, 2019)"
   ]
  },
  {
   "cell_type": "code",
   "execution_count": 146,
   "metadata": {},
   "outputs": [],
   "source": [
    "hist_weather_5yr = hist_weather_data(weather_full, w_cols, 5, 1990, 2019)"
   ]
  },
  {
   "cell_type": "code",
   "execution_count": 147,
   "metadata": {},
   "outputs": [],
   "source": [
    "hist_weather_10yr = hist_weather_data(weather_full, w_cols, 5, 1990, 2019)"
   ]
  },
  {
   "cell_type": "code",
   "execution_count": 153,
   "metadata": {},
   "outputs": [
    {
     "data": {
      "text/plain": [
       "(4020, 34)"
      ]
     },
     "execution_count": 153,
     "metadata": {},
     "output_type": "execute_result"
    }
   ],
   "source": [
    "hist_weather_1yr.shape"
   ]
  },
  {
   "cell_type": "code",
   "execution_count": 157,
   "metadata": {},
   "outputs": [
    {
     "data": {
      "text/plain": [
       "2017    134\n",
       "2015    134\n",
       "1992    134\n",
       "1994    134\n",
       "1996    134\n",
       "1998    134\n",
       "2000    134\n",
       "2002    134\n",
       "2004    134\n",
       "2006    134\n",
       "2008    134\n",
       "2010    134\n",
       "2012    134\n",
       "2014    134\n",
       "2016    134\n",
       "2018    134\n",
       "1989    134\n",
       "1991    134\n",
       "1993    134\n",
       "1995    134\n",
       "1997    134\n",
       "1999    134\n",
       "2001    134\n",
       "2003    134\n",
       "2005    134\n",
       "2007    134\n",
       "2009    134\n",
       "2011    134\n",
       "2013    134\n",
       "1990    134\n",
       "Name: year, dtype: int64"
      ]
     },
     "execution_count": 157,
     "metadata": {},
     "output_type": "execute_result"
    }
   ],
   "source": [
    "hist_weather_1yr['year'].value_counts()"
   ]
  }
 ],
 "metadata": {
  "kernelspec": {
   "display_name": "Python 3",
   "language": "python",
   "name": "python3"
  },
  "language_info": {
   "codemirror_mode": {
    "name": "ipython",
    "version": 3
   },
   "file_extension": ".py",
   "mimetype": "text/x-python",
   "name": "python",
   "nbconvert_exporter": "python",
   "pygments_lexer": "ipython3",
   "version": "3.8.6"
  }
 },
 "nbformat": 4,
 "nbformat_minor": 4
}
