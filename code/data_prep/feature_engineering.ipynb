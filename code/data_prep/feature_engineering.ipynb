{
 "cells": [
  {
   "cell_type": "code",
   "execution_count": 444,
   "metadata": {},
   "outputs": [],
   "source": [
    "import pandas as pd  # provides interface for interacting with tabular data\n",
    "import geopandas as gpd  # combines the capabilities of pandas and shapely for geospatial operations\n",
    "from shapely.geometry import Point, Polygon, MultiPolygon  # for manipulating text data into geospatial shapes\n",
    "from shapely import wkt  # stands for \"well known text,\" allows for interchange across GIS programs\n",
    "import rtree  # supports geospatial join\n",
    "import os\n",
    "import fnmatch\n",
    "import numpy as np\n",
    "import matplotlib.pyplot as plt\n",
    "import descartes\n",
    "import sys\n",
    "import sklearn \n",
    "from shapely.ops import nearest_points\n",
    "from datetime import datetime as dt, date\n",
    "sys.path.append('/Users/saraprice/Documents/NYU/Fall_2020/DS_GA_1001/final_project/wildfires-1001/code/functions/')\n",
    "from gis_processing import *\n",
    "from target_fire_functions import *\n",
    "import itertools\n",
    "import copy\n",
    "from functools import reduce"
   ]
  },
  {
   "cell_type": "code",
   "execution_count": 115,
   "metadata": {},
   "outputs": [],
   "source": [
    "data_dir = '/Users/saraprice/Documents/NYU/Fall_2020/DS_GA_1001/final_project/wildfires-1001/data'\n",
    "target_data = gpd.GeoDataFrame()\n",
    "for i in np.arange(1,5):\n",
    "    t_df = pd.read_pickle(os.path.join(data_dir, f'clean_data/target_full_{i}.pkl'))\n",
    "    target_data = target_data.append(t_df)"
   ]
  },
  {
   "cell_type": "code",
   "execution_count": 117,
   "metadata": {},
   "outputs": [],
   "source": [
    "full_fire_data = gpd.read_file(os.path.join(data_dir, 'clean_data/fire_gis/fire_gis.dbf'))\n",
    "county_grid = gpd.read_file(os.path.join(data_dir, 'clean_data/county_grid/county_grid.dbf'))"
   ]
  },
  {
   "cell_type": "markdown",
   "metadata": {},
   "source": [
    "## Historical Fire Features\n",
    "### Processing historical fire data (i.e. from 1980-1990)"
   ]
  },
  {
   "cell_type": "code",
   "execution_count": 118,
   "metadata": {},
   "outputs": [],
   "source": [
    "full_fire_data['start_date'] = pd.to_datetime(full_fire_data['ALARM_DATE'], format = '%Y-%m-%d', errors = 'coerce')\n",
    "full_fire_data['end_date'] = pd.to_datetime(full_fire_data['CONT_DATE'], format = '%Y-%m-%d', errors = 'coerce')\n",
    "full_fire_data.drop(['ALARM_DATE', 'CONT_DATE'], axis = 1, inplace = True)\n",
    "full_fire_data.dropna(subset = ['start_date', 'end_date'], inplace = True)\n",
    "full_fire_data['FIRE_AREA'] = full_fire_data.geometry.area"
   ]
  },
  {
   "cell_type": "code",
   "execution_count": 119,
   "metadata": {},
   "outputs": [
    {
     "data": {
      "text/plain": [
       "(786, 15)"
      ]
     },
     "execution_count": 119,
     "metadata": {},
     "output_type": "execute_result"
    }
   ],
   "source": [
    "hist_data = full_fire_data[(full_fire_data['YEAR']>= 1980) & (full_fire_data['YEAR']<= 1990)]\n",
    "hist_data.shape"
   ]
  },
  {
   "cell_type": "code",
   "execution_count": 121,
   "metadata": {},
   "outputs": [],
   "source": [
    "##Limit fire and grid data to just columns we need for target generate\n",
    "grid_target_subset = county_grid[['NAME', 'COUNTYFP', 'COUNTY_ARE','GRID_AREA', 'GRID_ID', 'geometry']]\n",
    "fire_target_subset = full_fire_data[['FIRE_AREA', 'FIRE_KEY', 'YEAR', 'start_date', 'end_date', 'geometry']]"
   ]
  },
  {
   "cell_type": "code",
   "execution_count": 140,
   "metadata": {},
   "outputs": [],
   "source": [
    "def disaggregate_fire_data(grid, fire_data, min_year, max_year):\n",
    "    ''' \n",
    "    Purpose: Create instances of wildfires occuring on a daily level. This function starts with daily because it\n",
    "    is easier to aggregate up once we have all days represented in one dataframe\n",
    "    -------\n",
    "    Inputs:\n",
    "    -------\n",
    "        - grid : GeoDataFrame of grid sections\n",
    "        - fire_data : GeoDataFrame of fire data\n",
    "    '''\n",
    "    fire_data = fire_data[(fire_data['YEAR']>=min_year) & (fire_data['YEAR']<=max_year)]\n",
    "    #Overlay grid and fire to get intersection geometry (this will create a dataframe with a few more fire\n",
    "    #instances than we had in the plain fire_data \n",
    "    ##** Note that this will automatically exclude grid sections where this is no fire\n",
    "    fire_grid = gpd.overlay(grid, fire_data, how = 'intersection')\n",
    "    fire_grid['FIRE_GRID_INT_AREA'] = fire_grid.geometry.area\n",
    "    fire_grid.index = range((len(fire_grid)))\n",
    "    \n",
    "    #create list of fires that had to be dropped due to data isseus (i.e. start date after end date)\n",
    "    fires_dropped = []\n",
    "    disagg_fire = pd.DataFrame()\n",
    "    for row in fire_grid.itertuples():\n",
    "        date_range = pd.date_range(row[list(fire_grid.columns).index('start_date')+1], \\\n",
    "                                   row[list(fire_grid.columns).index('end_date')+1], freq = 'D')\n",
    "        if len(date_range)> 365:\n",
    "            fires_dropped.append(row[list(fire_grid.columns).index('FIRE_KEY')])\n",
    "            continue\n",
    "        if len(date_range) == 0:\n",
    "            fires_dropped.append(row[list(fire_grid.columns).index('FIRE_KEY')])\n",
    "            continue\n",
    "        dup_fire_data = pd.concat([pd.Series(row[1:], index = list(fire_grid.columns)).to_frame().transpose()]*len(date_range))\n",
    "        dup_fire_data['date'] = date_range\n",
    "        disagg_fire = disagg_fire.append(dup_fire_data, ignore_index = True)\n",
    "        if row[0] in(np.arange(0,9000, 250)):\n",
    "            print(row[0], row[list(fire_grid.columns).index('GRID_ID')+1], len(disagg_fire))\n",
    "            print(disagg_fire['date'].head())\n",
    "    return disagg_fire, fires_dropped\n"
   ]
  },
  {
   "cell_type": "code",
   "execution_count": 141,
   "metadata": {},
   "outputs": [
    {
     "name": "stdout",
     "output_type": "stream",
     "text": [
      "0 49.0 5\n",
      "0   1986-08-14\n",
      "1   1986-08-15\n",
      "2   1986-08-16\n",
      "3   1986-08-17\n",
      "4   1986-08-18\n",
      "Name: date, dtype: datetime64[ns]\n",
      "250 84.0 1457\n",
      "0   1986-08-14\n",
      "1   1986-08-15\n",
      "2   1986-08-16\n",
      "3   1986-08-17\n",
      "4   1986-08-18\n",
      "Name: date, dtype: datetime64[ns]\n",
      "500 16.0 6788\n",
      "0   1986-08-14\n",
      "1   1986-08-15\n",
      "2   1986-08-16\n",
      "3   1986-08-17\n",
      "4   1986-08-18\n",
      "Name: date, dtype: datetime64[ns]\n",
      "750 97.0 9057\n",
      "0   1986-08-14\n",
      "1   1986-08-15\n",
      "2   1986-08-16\n",
      "3   1986-08-17\n",
      "4   1986-08-18\n",
      "Name: date, dtype: datetime64[ns]\n"
     ]
    }
   ],
   "source": [
    "### Get data back to 1980 since we need to do 10 years back starting with 1980\n",
    "fire_data_1980_90, fires_dropped = disaggregate_fire_data(grid_target_subset, fire_target_subset, min_year = 1980, max_year = 1990)"
   ]
  },
  {
   "cell_type": "code",
   "execution_count": 142,
   "metadata": {},
   "outputs": [
    {
     "name": "stdout",
     "output_type": "stream",
     "text": [
      "(4018, 1)\n",
      "           date  year  month  week month_id month_start  month_end week_id\n",
      "363  1980-12-29  1980     12     1  1980_12  1980-12-01 1980-12-31  1981_1\n",
      "364  1980-12-30  1980     12     1  1980_12  1980-12-01 1980-12-31  1981_1\n",
      "365  1980-12-31  1980     12     1  1980_12  1980-12-01 1980-12-31  1981_1\n",
      "1826 1984-12-31  1984     12     1  1984_12  1984-12-01 1984-12-31  1985_1\n",
      "2190 1985-12-30  1985     12     1  1985_12  1985-12-01 1985-12-31  1986_1\n",
      "2191 1985-12-31  1985     12     1  1985_12  1985-12-01 1985-12-31  1986_1\n",
      "2554 1986-12-29  1986     12     1  1986_12  1986-12-01 1986-12-31  1987_1\n",
      "2555 1986-12-30  1986     12     1  1986_12  1986-12-01 1986-12-31  1987_1\n",
      "2556 1986-12-31  1986     12     1  1986_12  1986-12-01 1986-12-31  1987_1\n",
      "4017 1990-12-31  1990     12     1  1990_12  1990-12-01 1990-12-31  1991_1\n"
     ]
    }
   ],
   "source": [
    "hist_target_frame = generate_target_frame(grid_target_subset, 1980, 1990)"
   ]
  },
  {
   "cell_type": "code",
   "execution_count": 145,
   "metadata": {},
   "outputs": [
    {
     "name": "stdout",
     "output_type": "stream",
     "text": [
      "Empty DataFrame\n",
      "Columns: [date, month_id, month_start, month_end, week_id, week_start, week_end, GRID_ID, NAME, COUNTYFP, COUNTY_ARE, GRID_AREA, FIRE_AREA, FIRE_KEY, YEAR, start_date, end_date, geometry, FIRE_GRID_INT_AREA]\n",
      "Index: []\n"
     ]
    }
   ],
   "source": [
    "hist_target_full = pd.merge(hist_target_frame, fire_data_1980_90,on = ['date', 'GRID_ID'], how = 'outer') \n",
    "print(hist_target_full[hist_target_full['month_id'].isna()])"
   ]
  },
  {
   "cell_type": "code",
   "execution_count": 146,
   "metadata": {},
   "outputs": [
    {
     "name": "stdout",
     "output_type": "stream",
     "text": [
      "(538412, 3)\n"
     ]
    }
   ],
   "source": [
    "##Add in target variable options for historical data\n",
    "#Binary\n",
    "hist_target_full ['Y_bin'] = np.where(hist_target_full ['FIRE_KEY'].isna()== True, 0, 1)   \n",
    "\n",
    "#Counts\n",
    "hist_target_fire_count = hist_target_full[['date', 'GRID_ID', 'FIRE_KEY']].groupby(['date', 'GRID_ID']).count().reset_index()\n",
    "hist_target_fire_count.rename(columns = {'FIRE_KEY': 'Y_fire_count'}, inplace = True)\n",
    "print(hist_target_fire_count.shape)\n",
    "#Merge onto target_options\n",
    "hist_target_full = hist_target_full.merge(hist_target_fire_count, on = ['date', 'GRID_ID'])"
   ]
  },
  {
   "cell_type": "code",
   "execution_count": 149,
   "metadata": {},
   "outputs": [],
   "source": [
    "### Option 3: area of fires\n",
    "hist_target_full['Y_fire_area_prop'] = np.where(hist_target_full['FIRE_GRID_INT_AREA'].isna(), 0, \n",
    "                                               hist_target_full['FIRE_GRID_INT_AREA']/hist_target_full['GRID_AREA'])\n",
    "hist_target_full['FIRE_ACRES'] = hist_target_full['FIRE_AREA'].fillna(0)* 0.0002471054\n",
    "## Uses NWCG fire size class code https://www.nwcg.gov/sites/default/files/data-standards/pdf/values.pdf\n",
    "hist_target_full['Y_fire_class_size'] = np.where(hist_target_full['FIRE_ACRES']== 0, 0, \n",
    "                                                  np.where((hist_target_full['FIRE_ACRES']>0) &\\\n",
    "                                                           (hist_target_full['FIRE_ACRES']<100), 1,\n",
    "                                                  np.where((hist_target_full['FIRE_ACRES']>=100) & \\\n",
    "                                                           (hist_target_full['FIRE_ACRES']<1000), 2,\n",
    "                                                           np.where((hist_target_full['FIRE_ACRES']>=1000) & \\\n",
    "                                                                    (hist_target_full['FIRE_ACRES']< 5000) , 3,\n",
    "                                                                    np.where(hist_target_full['FIRE_ACRES']>=5000, 4, 0)))))"
   ]
  },
  {
   "cell_type": "code",
   "execution_count": 150,
   "metadata": {},
   "outputs": [],
   "source": [
    "## append historical and current target data\n",
    "hist_train_target_data = target_data.append(hist_target_full)\n",
    "hist_train_target_data['YEAR'] = hist_train_target_data['date'].apply(lambda x:x.year)\n",
    "hist_train_target_data['MONTH'] = hist_train_target_data['date'].apply(lambda x:x.month)"
   ]
  },
  {
   "cell_type": "code",
   "execution_count": 153,
   "metadata": {},
   "outputs": [],
   "source": [
    "hist_train_target_data.rename(columns = {'YEAR': 'year', 'MONTH': 'month'}, inplace = True )"
   ]
  },
  {
   "cell_type": "markdown",
   "metadata": {},
   "source": [
    "## Fire in previous X timeframe?\n",
    "### Creating features: \n",
    "* **binary indicators for fire in a previous X timeframe in a given grid section**:\n",
    "    *  hist_bin_1m: was there a fire in the previous month?\n",
    "    *  hist_bin_1y: was there a fire in the previous year\n",
    "    *  hist_bin_5y: was there a fire in the previous 5 years\n",
    "    *  hist_bin_10y: was there a fire in the previous 10 years\n",
    "* **categorical variable for the max size of fire in a previous X timeframe in a given grid section**:\n",
    "    *  hist_cl_size_1m: max size of fire (denoted by class size) in previous month?\n",
    "    *  hist_cl_size_1y: max size of fire (denoted by class size) in previous year?\n",
    "    *  hist_cl_size_5y: max size of fire (denoted by class size) in previous 5 years?\n",
    "    *  hist_cl_size_10y: max size of fire (denoted by class size) in previous 10 years?\n",
    "* **max proportion of grid section covered by fire in previous X timeframe**:\n",
    "    *  hist_p_area_1m: max proportion of grid section covered by fire in the previous month?\n",
    "    *  hist_p_area_1y: max proportion of grid section covered by fire in previous year?\n",
    "    *  hist_p_area_5y: max proportion of grid section covered by fire in previous 5 years?\n",
    "    *  hist_p_area_10y: max proportion of grid section covered by fire in previous 10 years?\n",
    "* **total area of the grid covered by fire in the previous year**\n",
    "    *  hit_tot_p_area_1y\n",
    "* **percent of time over last X timeframe when fire was present**\n",
    "    *  hist_p_time_1m : percent of time fire was present in past month in given grid section\n",
    "    *  hist_p_time_1y : percent of time fire was present in past year in given grid section\n",
    "    *  hist_p_time_5y : percent of time fire was present in past 5 years in given grid section\n",
    "    *  hist_p_time_10y : percent of time fire was present in past 10 years in given grid section"
   ]
  },
  {
   "cell_type": "code",
   "execution_count": 302,
   "metadata": {},
   "outputs": [],
   "source": [
    "def fire_prev_time(df, time_int, int_num, train_min_year, train_max_year, fire_size = False, fire_area = False):\n",
    "    '''\n",
    "    Purpose: generate binary flag for if fire occurred in a given grid section in the past X timeframe\n",
    "    -------\n",
    "    Inputs:\n",
    "    ------\n",
    "        df :             GeoDataFrame \n",
    "                         training data and historical data back at least 10 years for last training year of interest\n",
    "        time_int :       str (options are 'month', 'year')\n",
    "                         unit of time we are looking back for\n",
    "        int_num :        numeric \n",
    "                         # number of units of the time int to look back for historical fire data\n",
    "        fire_size :      list , default = None; options are fire_class_size values (1,2,3,4)\n",
    "                         will create indicators for each value in the input list\n",
    "        train_min_year : numeric \n",
    "                         minimum year that will ultimately be in the training data (& not just including for \n",
    "                         historical calculations)\n",
    "        train_max_year : numeric\n",
    "                         same as train_min_year but for max\n",
    "    '''\n",
    "    #Set Y variable of interest depending on if we're interested in fire size or not\n",
    "    #If not we will look at binary Y and if yes then we look at Y_fire_class_size\n",
    "    if fire_size == False:\n",
    "        Y_var = 'Y_bin'\n",
    "        label_mod = 'bin'\n",
    "    if fire_size:\n",
    "        Y_var = 'Y_fire_class_size'\n",
    "        label_mod = 'cl_size'\n",
    "    if fire_area:\n",
    "        Y_var = 'Y_fire_area_prop'\n",
    "        label_mod = 'p_area'\n",
    "        \n",
    "    if time_int == 'month':\n",
    "        #Drop duplicates\n",
    "        fire_bin_map = df[['GRID_ID', 'year', 'month', 'month_id', Y_var]].drop_duplicates()\n",
    "        #aggregate on a grid_id and month_ID and take the max value of the Y_var. In the binary case this will return\n",
    "        #1 if there was a fire, and in the fire_class_size case will return largest fire class  \n",
    "        fire_bin_map = fire_bin_map.groupby(['GRID_ID', 'year', 'month', 'month_id']).max().reset_index()\n",
    "        #create copy that will be historical data we merge onto current data\n",
    "        fire_bin_map_hist = fire_bin_map.copy()\n",
    "        #create merge id for historical month\n",
    "        fire_bin_map_hist['merge_month_id'] = np.where(fire_bin_map_hist['month'] != 12, \n",
    "                                                  fire_bin_map_hist['year'].astype(str)+\"_\"+\\\n",
    "                                                  fire_bin_map_hist['month'].apply(lambda x:x+1).astype(str),\n",
    "                                                  fire_bin_map_hist['year'].apply(lambda x:x+1).astype(str)+\"_\"+\\\n",
    "                                                  '1')\n",
    "        fire_bin_map_hist.rename(columns= {Y_var: f'hist_{label_mod}_1m'}, inplace = True)\n",
    "        fire_bin_map_hist.drop(['month_id', 'month', 'year'], inplace = True, axis = 1)\n",
    "        fire_bin_map_hist.rename(columns = {'merge_month_id':'month_id'}, inplace = True)\n",
    "        hist_fire_df = pd.merge(fire_bin_map, fire_bin_map_hist, on =['month_id', 'GRID_ID'], how = 'left')\n",
    "        hist_fire_df = hist_fire_df[(hist_fire_df['year']>= train_min_year) & (hist_fire_df['year']<= train_max_year)]\n",
    "    else:\n",
    "        hist_fire_df = pd.DataFrame()\n",
    "        fire_bin_map = df[['GRID_ID', 'year', Y_var]]\n",
    "        for g in fire_bin_map.GRID_ID.unique():\n",
    "            g_df = fire_bin_map[fire_bin_map['GRID_ID']==g]\n",
    "            for y in np.arange(train_min_year, train_max_year +1):\n",
    "                prev_add = g_df[(g_df['year']>=y-int_num) & (g_df['year']<y)][Y_var].max()\n",
    "                hist_fire_df = hist_fire_df.append(pd.DataFrame({'GRID_ID':[g],'year':[y], \n",
    "                                                                 f'{Y_var}_prev_{int_num}yr':[prev_add]},\n",
    "                                                    columns = ['GRID_ID', 'year', f'hist{label_mod}_{int_num}y']))\n",
    "    return hist_fire_df "
   ]
  },
  {
   "cell_type": "code",
   "execution_count": 277,
   "metadata": {},
   "outputs": [
    {
     "name": "stdout",
     "output_type": "stream",
     "text": [
      "64320\n",
      "64320\n",
      "64320\n",
      "64320\n",
      "   GRID_ID  year  month month_id  Y_bin\n",
      "0      0.0  1980      1   1980_1      0\n",
      "1      0.0  1980      2   1980_2      0\n",
      "2      0.0  1980      3   1980_3      0\n",
      "3      0.0  1980      4   1980_4      0\n",
      "4      0.0  1980      5   1980_5      0\n",
      "   GRID_ID  Y_bin_prev_month month_id\n",
      "0      0.0                 0   1980_2\n",
      "1      0.0                 0   1980_3\n",
      "2      0.0                 0   1980_4\n",
      "3      0.0                 0   1980_5\n",
      "4      0.0                 0   1980_6\n",
      "64320\n"
     ]
    }
   ],
   "source": [
    "hist_fire_bin_1m = fire_prev_time(hist_train_target_data, 'month', 1, 1990, 2019, fire_size = False)"
   ]
  },
  {
   "cell_type": "code",
   "execution_count": 456,
   "metadata": {},
   "outputs": [
    {
     "data": {
      "text/html": [
       "<div>\n",
       "<style scoped>\n",
       "    .dataframe tbody tr th:only-of-type {\n",
       "        vertical-align: middle;\n",
       "    }\n",
       "\n",
       "    .dataframe tbody tr th {\n",
       "        vertical-align: top;\n",
       "    }\n",
       "\n",
       "    .dataframe thead th {\n",
       "        text-align: right;\n",
       "    }\n",
       "</style>\n",
       "<table border=\"1\" class=\"dataframe\">\n",
       "  <thead>\n",
       "    <tr style=\"text-align: right;\">\n",
       "      <th></th>\n",
       "      <th>GRID_ID</th>\n",
       "      <th>year</th>\n",
       "      <th>month</th>\n",
       "      <th>month_id</th>\n",
       "      <th>hist_bin_1m</th>\n",
       "    </tr>\n",
       "  </thead>\n",
       "  <tbody>\n",
       "    <tr>\n",
       "      <th>0</th>\n",
       "      <td>0.0</td>\n",
       "      <td>1980</td>\n",
       "      <td>1</td>\n",
       "      <td>1980_1</td>\n",
       "      <td>NaN</td>\n",
       "    </tr>\n",
       "    <tr>\n",
       "      <th>1</th>\n",
       "      <td>0.0</td>\n",
       "      <td>1980</td>\n",
       "      <td>2</td>\n",
       "      <td>1980_2</td>\n",
       "      <td>0.0</td>\n",
       "    </tr>\n",
       "    <tr>\n",
       "      <th>2</th>\n",
       "      <td>0.0</td>\n",
       "      <td>1980</td>\n",
       "      <td>3</td>\n",
       "      <td>1980_3</td>\n",
       "      <td>0.0</td>\n",
       "    </tr>\n",
       "    <tr>\n",
       "      <th>3</th>\n",
       "      <td>0.0</td>\n",
       "      <td>1980</td>\n",
       "      <td>4</td>\n",
       "      <td>1980_4</td>\n",
       "      <td>0.0</td>\n",
       "    </tr>\n",
       "    <tr>\n",
       "      <th>4</th>\n",
       "      <td>0.0</td>\n",
       "      <td>1980</td>\n",
       "      <td>5</td>\n",
       "      <td>1980_5</td>\n",
       "      <td>0.0</td>\n",
       "    </tr>\n",
       "  </tbody>\n",
       "</table>\n",
       "</div>"
      ],
      "text/plain": [
       "   GRID_ID  year  month month_id  hist_bin_1m\n",
       "0      0.0  1980      1   1980_1          NaN\n",
       "1      0.0  1980      2   1980_2          0.0\n",
       "2      0.0  1980      3   1980_3          0.0\n",
       "3      0.0  1980      4   1980_4          0.0\n",
       "4      0.0  1980      5   1980_5          0.0"
      ]
     },
     "execution_count": 456,
     "metadata": {},
     "output_type": "execute_result"
    }
   ],
   "source": [
    "hist_fire_bin_1m.rename(columns= {'Y_bin_prev_month': 'hist_bin_1m'}, inplace = True)\n",
    "try:\n",
    "    hist_fire_bin_1m.drop('Y_bin', inplace = True, axis = 1)\n",
    "except:\n",
    "    pass\n",
    "hist_fire_bin_1m.head()"
   ]
  },
  {
   "cell_type": "code",
   "execution_count": 251,
   "metadata": {},
   "outputs": [],
   "source": [
    "hist_fire_bin_1yr = fire_prev_time(hist_train_target_data, 'year', 1, 1990, 2019)"
   ]
  },
  {
   "cell_type": "code",
   "execution_count": 457,
   "metadata": {},
   "outputs": [],
   "source": [
    "hist_fire_bin_1yr.rename(columns= {'Y_bin_prev_1yr': 'hist_bin_1y'}, inplace = True)"
   ]
  },
  {
   "cell_type": "code",
   "execution_count": 257,
   "metadata": {},
   "outputs": [],
   "source": [
    "hist_fire_bin_5yr = fire_prev_time(hist_train_target_data, 'year', 5, 1990, 2019)"
   ]
  },
  {
   "cell_type": "code",
   "execution_count": 459,
   "metadata": {},
   "outputs": [],
   "source": [
    "hist_fire_bin_5yr.rename(columns= {'Y_bin_prev_5yr': 'hist_bin_5y'}, inplace = True)"
   ]
  },
  {
   "cell_type": "code",
   "execution_count": 448,
   "metadata": {},
   "outputs": [],
   "source": [
    "hist_fire_bin_10yr = fire_prev_time(hist_train_target_data, 'year', 10, 1990, 2019)"
   ]
  },
  {
   "cell_type": "code",
   "execution_count": 460,
   "metadata": {},
   "outputs": [],
   "source": [
    "hist_fire_bin_10yr.rename(columns= {'Y_bin_prev_10yr': 'hist_bin_10y'}, inplace = True)"
   ]
  },
  {
   "cell_type": "markdown",
   "metadata": {},
   "source": [
    "### Get max fire class size over the last X period"
   ]
  },
  {
   "cell_type": "code",
   "execution_count": null,
   "metadata": {},
   "outputs": [],
   "source": [
    "hist_max_fire_size_1m = fire_prev_time(hist_train_target_data, 'month', 1, 1990, 2019, fire_size = True)"
   ]
  },
  {
   "cell_type": "code",
   "execution_count": null,
   "metadata": {},
   "outputs": [],
   "source": [
    "hist_max_fire_size_1m.rename(columns = {'Y_fire_class_size_prev_month':'hist_cl_size_1m'}, inplace = True)"
   ]
  },
  {
   "cell_type": "code",
   "execution_count": 303,
   "metadata": {},
   "outputs": [],
   "source": [
    "hist_max_fire_size_1yr = fire_prev_time(hist_train_target_data, 'year', 1, 1990, 2019, fire_size = True)"
   ]
  },
  {
   "cell_type": "code",
   "execution_count": 467,
   "metadata": {},
   "outputs": [],
   "source": [
    "hist_max_fire_size_1yr.rename(columns = {'Y_fire_class_size_prev_1yr':'hist_cl_size_1y'}, inplace = True)"
   ]
  },
  {
   "cell_type": "code",
   "execution_count": 307,
   "metadata": {},
   "outputs": [],
   "source": [
    "hist_max_fire_size_5yr = fire_prev_time(hist_train_target_data, 'year', 5, 1990, 2019, fire_size = True)"
   ]
  },
  {
   "cell_type": "code",
   "execution_count": 468,
   "metadata": {},
   "outputs": [],
   "source": [
    "hist_max_fire_size_5yr.rename(columns = {'Y_fire_class_size_prev_5yr':'hist_cl_size_5y'}, inplace = True)"
   ]
  },
  {
   "cell_type": "code",
   "execution_count": 308,
   "metadata": {},
   "outputs": [],
   "source": [
    "hist_max_fire_size_10yr = fire_prev_time(hist_train_target_data, 'year', 10, 1990, 2019, fire_size = True)"
   ]
  },
  {
   "cell_type": "code",
   "execution_count": 469,
   "metadata": {},
   "outputs": [],
   "source": [
    "hist_max_fire_size_10yr.rename(columns = {'Y_fire_class_size_prev_10yr':'hist_cl_size_10y'}, inplace = True)"
   ]
  },
  {
   "cell_type": "markdown",
   "metadata": {},
   "source": [
    "### Max % of grid section covered by fire in the past X timeframe"
   ]
  },
  {
   "cell_type": "code",
   "execution_count": null,
   "metadata": {},
   "outputs": [],
   "source": [
    "hist_max_fire_area_prop_1m = fire_prev_time(hist_train_target_data, 'month', 1, 1990, 2019, fire_area = True)"
   ]
  },
  {
   "cell_type": "code",
   "execution_count": null,
   "metadata": {},
   "outputs": [],
   "source": [
    "hist_max_fire_area_prop_1m.rename({'Y_fire_area_prop_prev_month': 'hist_p_area_1m'}, inplace = True)"
   ]
  },
  {
   "cell_type": "code",
   "execution_count": 309,
   "metadata": {},
   "outputs": [],
   "source": [
    "hist_max_fire_area_prop_1yr = fire_prev_time(hist_train_target_data, 'year', 1, 1990, 2019, fire_area = True)"
   ]
  },
  {
   "cell_type": "code",
   "execution_count": 470,
   "metadata": {},
   "outputs": [],
   "source": [
    "hist_max_fire_area_prop_1yr.rename({'Y_fire_area_prop_prev_1yr': 'hist_p_area_1y'}, inplace = True)"
   ]
  },
  {
   "cell_type": "code",
   "execution_count": 310,
   "metadata": {},
   "outputs": [],
   "source": [
    "hist_max_fire_area_prop_5yr = fire_prev_time(hist_train_target_data, 'year', 5, 1990, 2019, fire_area = True)"
   ]
  },
  {
   "cell_type": "code",
   "execution_count": 471,
   "metadata": {},
   "outputs": [],
   "source": [
    "hist_max_fire_area_prop_5yr.rename({'Y_fire_area_prop_prev_5yr': 'hist_p_area_5y'}, inplace = True)"
   ]
  },
  {
   "cell_type": "code",
   "execution_count": 311,
   "metadata": {},
   "outputs": [],
   "source": [
    "hist_max_fire_area_prop_10yr = fire_prev_time(hist_train_target_data, 'year', 10, 1990, 2019, fire_area = True)"
   ]
  },
  {
   "cell_type": "code",
   "execution_count": 472,
   "metadata": {},
   "outputs": [],
   "source": [
    "hist_max_fire_area_prop_10yr.rename({'Y_fire_area_prop_prev_10yr': 'hist_p_area_10y'}, inplace = True)"
   ]
  },
  {
   "cell_type": "markdown",
   "metadata": {},
   "source": [
    "### Total % of grid section covered by fire in the previous X timeframe"
   ]
  },
  {
   "cell_type": "code",
   "execution_count": 399,
   "metadata": {},
   "outputs": [],
   "source": [
    "def perc_grid_covered(df, int_num, train_min_year, train_max_year):\n",
    "    '''\n",
    "    Purpose: generate binary flag for if fire occurred in a given grid section in the past X timeframe\n",
    "    -------\n",
    "    Inputs:\n",
    "    ------\n",
    "        df :             GeoDataFrame \n",
    "                         training data and historical data back at least 10 years for last training year of interest\n",
    "        time_int :       str (options are 'month', 'year')\n",
    "                         unit of time we are looking back for\n",
    "        int_num :        numeric \n",
    "                         # number of units of the time int to look back for historical fire data\n",
    "        fire_size :      list , default = None; options are fire_class_size values (1,2,3,4)\n",
    "                         will create indicators for each value in the input list\n",
    "        train_min_year : numeric \n",
    "                         minimum year that will ultimately be in the training data (& not just including for \n",
    "                         historical calculations)\n",
    "        train_max_year : numeric\n",
    "                         same as train_min_year but for max\n",
    "    '''    \n",
    "    #Drop duplicates\n",
    "    df = df[['GRID_ID', 'year','date','geometry']].drop_duplicates()\n",
    "    gdf = gpd.GeoDataFrame(df, geometry = df.geometry, crs={'init' :'epsg:3857'})\n",
    "    hist_fire_df = pd.DataFrame()\n",
    "    for g in gdf.GRID_ID.unique():\n",
    "        gdf_sub = gdf[(gdf['GRID_ID']==g) & (gdf['geometry'].isna() == False)]\n",
    "        for y in np.arange(train_min_year, train_max_year +1):\n",
    "            time_sub = gdf_sub[(gdf_sub['year']>=y-int_num) & (gdf_sub['year']<y)][['GRID_ID', 'geometry']]\n",
    "            if len(time_sub)==0:\n",
    "                hist_fire_df = hist_fire_df.append(pd.DataFrame({'GRID_ID':[g],'year':[y], 'total_area':[0]},\n",
    "                                                columns = ['GRID_ID', 'year', 'total_area']))\n",
    "            else:\n",
    "                x = time_sub[['GRID_ID', 'geometry']].dissolve(by = 'GRID_ID')\n",
    "                geo = x.geometry.area.iloc[0]\n",
    "                hist_fire_df = hist_fire_df.append(pd.DataFrame({'GRID_ID':[g],'year':[y], \n",
    "                                                                 'total_area':[geo]},\n",
    "                                                columns = ['GRID_ID', 'year', 'total_area']))\n",
    "\n",
    "    return hist_fire_df "
   ]
  },
  {
   "cell_type": "markdown",
   "metadata": {},
   "source": [
    "### Total % of Grid area touched by fire in the past X timeframe"
   ]
  },
  {
   "cell_type": "code",
   "execution_count": 406,
   "metadata": {},
   "outputs": [
    {
     "data": {
      "text/html": [
       "<div>\n",
       "<style scoped>\n",
       "    .dataframe tbody tr th:only-of-type {\n",
       "        vertical-align: middle;\n",
       "    }\n",
       "\n",
       "    .dataframe tbody tr th {\n",
       "        vertical-align: top;\n",
       "    }\n",
       "\n",
       "    .dataframe thead th {\n",
       "        text-align: right;\n",
       "    }\n",
       "</style>\n",
       "<table border=\"1\" class=\"dataframe\">\n",
       "  <thead>\n",
       "    <tr style=\"text-align: right;\">\n",
       "      <th></th>\n",
       "      <th>GRID_ID</th>\n",
       "      <th>year</th>\n",
       "      <th>total_area</th>\n",
       "    </tr>\n",
       "  </thead>\n",
       "  <tbody>\n",
       "    <tr>\n",
       "      <th>0</th>\n",
       "      <td>0.0</td>\n",
       "      <td>1990</td>\n",
       "      <td>0.000000e+00</td>\n",
       "    </tr>\n",
       "    <tr>\n",
       "      <th>0</th>\n",
       "      <td>0.0</td>\n",
       "      <td>1991</td>\n",
       "      <td>0.000000e+00</td>\n",
       "    </tr>\n",
       "    <tr>\n",
       "      <th>0</th>\n",
       "      <td>0.0</td>\n",
       "      <td>1992</td>\n",
       "      <td>0.000000e+00</td>\n",
       "    </tr>\n",
       "    <tr>\n",
       "      <th>0</th>\n",
       "      <td>0.0</td>\n",
       "      <td>1993</td>\n",
       "      <td>0.000000e+00</td>\n",
       "    </tr>\n",
       "    <tr>\n",
       "      <th>0</th>\n",
       "      <td>0.0</td>\n",
       "      <td>1994</td>\n",
       "      <td>0.000000e+00</td>\n",
       "    </tr>\n",
       "    <tr>\n",
       "      <th>0</th>\n",
       "      <td>0.0</td>\n",
       "      <td>1995</td>\n",
       "      <td>0.000000e+00</td>\n",
       "    </tr>\n",
       "    <tr>\n",
       "      <th>0</th>\n",
       "      <td>0.0</td>\n",
       "      <td>1996</td>\n",
       "      <td>0.000000e+00</td>\n",
       "    </tr>\n",
       "    <tr>\n",
       "      <th>0</th>\n",
       "      <td>0.0</td>\n",
       "      <td>1997</td>\n",
       "      <td>0.000000e+00</td>\n",
       "    </tr>\n",
       "    <tr>\n",
       "      <th>0</th>\n",
       "      <td>0.0</td>\n",
       "      <td>1998</td>\n",
       "      <td>0.000000e+00</td>\n",
       "    </tr>\n",
       "    <tr>\n",
       "      <th>0</th>\n",
       "      <td>0.0</td>\n",
       "      <td>1999</td>\n",
       "      <td>6.094418e+06</td>\n",
       "    </tr>\n",
       "  </tbody>\n",
       "</table>\n",
       "</div>"
      ],
      "text/plain": [
       "   GRID_ID  year    total_area\n",
       "0      0.0  1990  0.000000e+00\n",
       "0      0.0  1991  0.000000e+00\n",
       "0      0.0  1992  0.000000e+00\n",
       "0      0.0  1993  0.000000e+00\n",
       "0      0.0  1994  0.000000e+00\n",
       "0      0.0  1995  0.000000e+00\n",
       "0      0.0  1996  0.000000e+00\n",
       "0      0.0  1997  0.000000e+00\n",
       "0      0.0  1998  0.000000e+00\n",
       "0      0.0  1999  6.094418e+06"
      ]
     },
     "execution_count": 406,
     "metadata": {},
     "output_type": "execute_result"
    }
   ],
   "source": [
    "hist_df.head(10)"
   ]
  },
  {
   "cell_type": "code",
   "execution_count": 402,
   "metadata": {},
   "outputs": [
    {
     "name": "stderr",
     "output_type": "stream",
     "text": [
      "/Applications/anaconda3/envs/geopandas_env/lib/python3.8/site-packages/pyproj/crs/crs.py:53: FutureWarning: '+init=<authority>:<code>' syntax is deprecated. '<authority>:<code>' is the preferred initialization method. When making the change, be mindful of axis order changes: https://pyproj4.github.io/pyproj/stable/gotchas.html#axis-order-changes-in-proj-6\n",
      "  return _prepare_from_string(\" \".join(pjargs))\n"
     ]
    }
   ],
   "source": [
    "hist_df = perc_grid_covered(hist_train_target_data, 1, 1990, 2019)"
   ]
  },
  {
   "cell_type": "code",
   "execution_count": 407,
   "metadata": {},
   "outputs": [],
   "source": [
    "hist_df.rename(columns = {'total_area': 'tot_area_fire_prev_1yr'}, inplace = True)"
   ]
  },
  {
   "cell_type": "code",
   "execution_count": 476,
   "metadata": {},
   "outputs": [
    {
     "data": {
      "text/plain": [
       "(4020, 3)"
      ]
     },
     "execution_count": 476,
     "metadata": {},
     "output_type": "execute_result"
    }
   ],
   "source": [
    "perc_grid_fire_1y = hist_df.copy()\n",
    "perc_grid_fire_1y.shape"
   ]
  },
  {
   "cell_type": "markdown",
   "metadata": {},
   "source": [
    "### % of Time over last X when fire was present"
   ]
  },
  {
   "cell_type": "code",
   "execution_count": 410,
   "metadata": {},
   "outputs": [
    {
     "data": {
      "text/html": [
       "<div>\n",
       "<style scoped>\n",
       "    .dataframe tbody tr th:only-of-type {\n",
       "        vertical-align: middle;\n",
       "    }\n",
       "\n",
       "    .dataframe tbody tr th {\n",
       "        vertical-align: top;\n",
       "    }\n",
       "\n",
       "    .dataframe thead th {\n",
       "        text-align: right;\n",
       "    }\n",
       "</style>\n",
       "<table border=\"1\" class=\"dataframe\">\n",
       "  <thead>\n",
       "    <tr style=\"text-align: right;\">\n",
       "      <th></th>\n",
       "      <th>GRID_ID</th>\n",
       "      <th>date</th>\n",
       "      <th>month_id</th>\n",
       "      <th>month</th>\n",
       "      <th>year</th>\n",
       "      <th>Y_bin</th>\n",
       "    </tr>\n",
       "  </thead>\n",
       "  <tbody>\n",
       "    <tr>\n",
       "      <th>0</th>\n",
       "      <td>0.0</td>\n",
       "      <td>1980-01-01</td>\n",
       "      <td>1980_1</td>\n",
       "      <td>1</td>\n",
       "      <td>1980</td>\n",
       "      <td>0</td>\n",
       "    </tr>\n",
       "    <tr>\n",
       "      <th>1</th>\n",
       "      <td>0.0</td>\n",
       "      <td>1980-01-02</td>\n",
       "      <td>1980_1</td>\n",
       "      <td>1</td>\n",
       "      <td>1980</td>\n",
       "      <td>0</td>\n",
       "    </tr>\n",
       "    <tr>\n",
       "      <th>2</th>\n",
       "      <td>0.0</td>\n",
       "      <td>1980-01-03</td>\n",
       "      <td>1980_1</td>\n",
       "      <td>1</td>\n",
       "      <td>1980</td>\n",
       "      <td>0</td>\n",
       "    </tr>\n",
       "    <tr>\n",
       "      <th>3</th>\n",
       "      <td>0.0</td>\n",
       "      <td>1980-01-04</td>\n",
       "      <td>1980_1</td>\n",
       "      <td>1</td>\n",
       "      <td>1980</td>\n",
       "      <td>0</td>\n",
       "    </tr>\n",
       "    <tr>\n",
       "      <th>4</th>\n",
       "      <td>0.0</td>\n",
       "      <td>1980-01-05</td>\n",
       "      <td>1980_1</td>\n",
       "      <td>1</td>\n",
       "      <td>1980</td>\n",
       "      <td>0</td>\n",
       "    </tr>\n",
       "  </tbody>\n",
       "</table>\n",
       "</div>"
      ],
      "text/plain": [
       "   GRID_ID       date month_id  month  year  Y_bin\n",
       "0      0.0 1980-01-01   1980_1      1  1980      0\n",
       "1      0.0 1980-01-02   1980_1      1  1980      0\n",
       "2      0.0 1980-01-03   1980_1      1  1980      0\n",
       "3      0.0 1980-01-04   1980_1      1  1980      0\n",
       "4      0.0 1980-01-05   1980_1      1  1980      0"
      ]
     },
     "execution_count": 410,
     "metadata": {},
     "output_type": "execute_result"
    }
   ],
   "source": [
    "perc_time_df = hist_train_target_data[['GRID_ID', 'date', 'month_id', 'month', 'year', 'Y_bin']].drop_duplicates()\n",
    "perc_time_df = perc_time_df.groupby(['GRID_ID', 'date', 'month_id', 'month', 'year']).sum('Y_bin').reset_index()\n",
    "perc_time_df.head()"
   ]
  },
  {
   "cell_type": "code",
   "execution_count": 411,
   "metadata": {},
   "outputs": [
    {
     "name": "stdout",
     "output_type": "stream",
     "text": [
      "(1957740, 6)\n",
      "(1957740, 6)\n"
     ]
    }
   ],
   "source": [
    "print(perc_time_df.shape)\n",
    "print(perc_time_df.drop_duplicates(['GRID_ID', 'date']).shape)"
   ]
  },
  {
   "cell_type": "markdown",
   "metadata": {},
   "source": [
    "#### Last month"
   ]
  },
  {
   "cell_type": "code",
   "execution_count": 477,
   "metadata": {},
   "outputs": [
    {
     "name": "stdout",
     "output_type": "stream",
     "text": [
      "count    5749.000000\n",
      "mean        0.314248\n",
      "std         0.353804\n",
      "min         0.032258\n",
      "25%         0.064516\n",
      "50%         0.129032\n",
      "75%         0.483871\n",
      "max         1.000000\n",
      "Name: hist_p_time_1m, dtype: float64\n"
     ]
    }
   ],
   "source": [
    "perc_1month = perc_time_df.drop(['date'], axis =1)\n",
    "perc_1month['counter'] = 1\n",
    "perc_1month = perc_1month.groupby(['GRID_ID', 'month_id', 'month', 'year']).sum().reset_index()\\\n",
    "                          .rename(columns= {'Y_bin': 'count_fire_days'})\n",
    "perc_1month['hist_p_time_1m'] = perc_1month['count_fire_days']/perc_1month['counter']\n",
    "print(perc_1month[perc_1month['hist_p_time_1m']!=0]['hist_p_time_1m'].describe())\n",
    "perc_1month.drop(['counter', 'count_fire_days'], inplace = True, axis = 1)\n",
    "hist_perc_time_fire_1m = perc_1month.copy()"
   ]
  },
  {
   "cell_type": "code",
   "execution_count": 431,
   "metadata": {},
   "outputs": [],
   "source": [
    "def perc_year_fire(df, years, train_min_year, train_max_year):\n",
    "    '''\n",
    "    Purpose: generate binary flag for if fire occurred in a given grid section in the past X timeframe\n",
    "    -------\n",
    "    Inputs:\n",
    "    ------\n",
    "        df :             GeoDataFrame \n",
    "                         training data and historical data back at least 10 years for last training year of interest\n",
    "        time_int :       str (options are 'month', 'year')\n",
    "                         unit of time we are looking back for\n",
    "        int_num :        numeric \n",
    "                         # number of units of the time int to look back for historical fire data\n",
    "        train_min_year : numeric \n",
    "                         minimum year that will ultimately be in the training data (& not just including for \n",
    "                         historical calculations)\n",
    "        train_max_year : numeric\n",
    "                         same as train_min_year but for max\n",
    "    '''    \n",
    "    #Drop duplicates\n",
    "    df = df[['GRID_ID', 'year', 'date', 'Y_bin']].drop_duplicates()\n",
    "    df.drop('date', axis = 1, inplace = True)\n",
    "    df = df.groupby(['GRID_ID', 'year']).sum().reset_index()\n",
    "    hist_fire_df = pd.DataFrame()\n",
    "    for g in df.GRID_ID.unique():\n",
    "        df_sub = df[df['GRID_ID']==g]\n",
    "        for y in np.arange(train_min_year, train_max_year +1):\n",
    "            time_sub = df_sub[(df_sub['year']>=y-years) & (df_sub['year']<y)]\n",
    "            x = time_sub['Y_bin'].sum()\n",
    "            hist_fire_df = hist_fire_df.append(pd.DataFrame({'GRID_ID':[g],'year':[y], 'total_fire_days':[x]},\n",
    "                                                columns = ['GRID_ID', 'year', 'total_fire_days']))\n",
    "            hist_fire_df['hist_p_time_1y'] = hist_fire_df['total_fire_days']/(years *365)\n",
    "    return hist_fire_df "
   ]
  },
  {
   "cell_type": "code",
   "execution_count": 432,
   "metadata": {},
   "outputs": [
    {
     "data": {
      "text/html": [
       "<div>\n",
       "<style scoped>\n",
       "    .dataframe tbody tr th:only-of-type {\n",
       "        vertical-align: middle;\n",
       "    }\n",
       "\n",
       "    .dataframe tbody tr th {\n",
       "        vertical-align: top;\n",
       "    }\n",
       "\n",
       "    .dataframe thead th {\n",
       "        text-align: right;\n",
       "    }\n",
       "</style>\n",
       "<table border=\"1\" class=\"dataframe\">\n",
       "  <thead>\n",
       "    <tr style=\"text-align: right;\">\n",
       "      <th></th>\n",
       "      <th>GRID_ID</th>\n",
       "      <th>year</th>\n",
       "      <th>total_fire_days</th>\n",
       "      <th>hist_p_time_1y</th>\n",
       "    </tr>\n",
       "  </thead>\n",
       "  <tbody>\n",
       "    <tr>\n",
       "      <th>0</th>\n",
       "      <td>0.0</td>\n",
       "      <td>1990</td>\n",
       "      <td>0</td>\n",
       "      <td>0.0</td>\n",
       "    </tr>\n",
       "    <tr>\n",
       "      <th>0</th>\n",
       "      <td>0.0</td>\n",
       "      <td>1991</td>\n",
       "      <td>0</td>\n",
       "      <td>0.0</td>\n",
       "    </tr>\n",
       "    <tr>\n",
       "      <th>0</th>\n",
       "      <td>0.0</td>\n",
       "      <td>1992</td>\n",
       "      <td>0</td>\n",
       "      <td>0.0</td>\n",
       "    </tr>\n",
       "    <tr>\n",
       "      <th>0</th>\n",
       "      <td>0.0</td>\n",
       "      <td>1993</td>\n",
       "      <td>0</td>\n",
       "      <td>0.0</td>\n",
       "    </tr>\n",
       "    <tr>\n",
       "      <th>0</th>\n",
       "      <td>0.0</td>\n",
       "      <td>1994</td>\n",
       "      <td>0</td>\n",
       "      <td>0.0</td>\n",
       "    </tr>\n",
       "  </tbody>\n",
       "</table>\n",
       "</div>"
      ],
      "text/plain": [
       "   GRID_ID  year  total_fire_days  hist_p_time_1y\n",
       "0      0.0  1990                0             0.0\n",
       "0      0.0  1991                0             0.0\n",
       "0      0.0  1992                0             0.0\n",
       "0      0.0  1993                0             0.0\n",
       "0      0.0  1994                0             0.0"
      ]
     },
     "execution_count": 432,
     "metadata": {},
     "output_type": "execute_result"
    }
   ],
   "source": [
    "hist_perc_time_fire_1y = perc_year_fire(hist_train_target_data, 1, 1990, 2019)"
   ]
  },
  {
   "cell_type": "code",
   "execution_count": 438,
   "metadata": {},
   "outputs": [],
   "source": [
    "hist_perc_time_fire_5y = perc_year_fire(hist_train_target_data, 5, 1990, 2019)"
   ]
  },
  {
   "cell_type": "code",
   "execution_count": 439,
   "metadata": {},
   "outputs": [],
   "source": [
    "hist_perc_time_fire_10y = perc_year_fire(hist_train_target_data, 10, 1990, 2019)"
   ]
  },
  {
   "cell_type": "markdown",
   "metadata": {},
   "source": [
    "## Combine all historical features together"
   ]
  },
  {
   "cell_type": "code",
   "execution_count": 462,
   "metadata": {},
   "outputs": [
    {
     "data": {
      "text/html": [
       "<div>\n",
       "<style scoped>\n",
       "    .dataframe tbody tr th:only-of-type {\n",
       "        vertical-align: middle;\n",
       "    }\n",
       "\n",
       "    .dataframe tbody tr th {\n",
       "        vertical-align: top;\n",
       "    }\n",
       "\n",
       "    .dataframe thead th {\n",
       "        text-align: right;\n",
       "    }\n",
       "</style>\n",
       "<table border=\"1\" class=\"dataframe\">\n",
       "  <thead>\n",
       "    <tr style=\"text-align: right;\">\n",
       "      <th></th>\n",
       "      <th>GRID_ID</th>\n",
       "      <th>year</th>\n",
       "      <th>month</th>\n",
       "      <th>month_id</th>\n",
       "      <th>hist_bin_1m</th>\n",
       "      <th>hist_bin_1y</th>\n",
       "      <th>hist_bin_5y</th>\n",
       "      <th>hist_bin_10y</th>\n",
       "    </tr>\n",
       "  </thead>\n",
       "  <tbody>\n",
       "    <tr>\n",
       "      <th>120</th>\n",
       "      <td>0.0</td>\n",
       "      <td>1990</td>\n",
       "      <td>1</td>\n",
       "      <td>1990_1</td>\n",
       "      <td>0.0</td>\n",
       "      <td>0.0</td>\n",
       "      <td>0.0</td>\n",
       "      <td>0.0</td>\n",
       "    </tr>\n",
       "    <tr>\n",
       "      <th>121</th>\n",
       "      <td>0.0</td>\n",
       "      <td>1990</td>\n",
       "      <td>2</td>\n",
       "      <td>1990_2</td>\n",
       "      <td>0.0</td>\n",
       "      <td>0.0</td>\n",
       "      <td>0.0</td>\n",
       "      <td>0.0</td>\n",
       "    </tr>\n",
       "    <tr>\n",
       "      <th>122</th>\n",
       "      <td>0.0</td>\n",
       "      <td>1990</td>\n",
       "      <td>3</td>\n",
       "      <td>1990_3</td>\n",
       "      <td>0.0</td>\n",
       "      <td>0.0</td>\n",
       "      <td>0.0</td>\n",
       "      <td>0.0</td>\n",
       "    </tr>\n",
       "    <tr>\n",
       "      <th>123</th>\n",
       "      <td>0.0</td>\n",
       "      <td>1990</td>\n",
       "      <td>4</td>\n",
       "      <td>1990_4</td>\n",
       "      <td>0.0</td>\n",
       "      <td>0.0</td>\n",
       "      <td>0.0</td>\n",
       "      <td>0.0</td>\n",
       "    </tr>\n",
       "    <tr>\n",
       "      <th>124</th>\n",
       "      <td>0.0</td>\n",
       "      <td>1990</td>\n",
       "      <td>5</td>\n",
       "      <td>1990_5</td>\n",
       "      <td>0.0</td>\n",
       "      <td>0.0</td>\n",
       "      <td>0.0</td>\n",
       "      <td>0.0</td>\n",
       "    </tr>\n",
       "  </tbody>\n",
       "</table>\n",
       "</div>"
      ],
      "text/plain": [
       "     GRID_ID  year  month month_id  hist_bin_1m  hist_bin_1y  hist_bin_5y  \\\n",
       "120      0.0  1990      1   1990_1          0.0          0.0          0.0   \n",
       "121      0.0  1990      2   1990_2          0.0          0.0          0.0   \n",
       "122      0.0  1990      3   1990_3          0.0          0.0          0.0   \n",
       "123      0.0  1990      4   1990_4          0.0          0.0          0.0   \n",
       "124      0.0  1990      5   1990_5          0.0          0.0          0.0   \n",
       "\n",
       "     hist_bin_10y  \n",
       "120           0.0  \n",
       "121           0.0  \n",
       "122           0.0  \n",
       "123           0.0  \n",
       "124           0.0  "
      ]
     },
     "execution_count": 462,
     "metadata": {},
     "output_type": "execute_result"
    }
   ],
   "source": [
    "##Binary fire present variables\n",
    "hist_bin_df_list = [hist_fire_bin_1m, hist_fire_bin_1yr, hist_fire_bin_5yr,hist_fire_bin_10yr]\n",
    "hist_bin_merged = reduce(lambda  left,right: pd.merge(left,right,on=['GRID_ID', 'year'],\n",
    "                                                how='outer'), hist_bin_df_list)\n",
    "hist_bin_merged = hist_bin_merged[(hist_bin_merged['year']>=1990) & (hist_bin_merged['year']<=2019)]\n",
    "hist_bin_merged.head()"
   ]
  },
  {
   "cell_type": "code",
   "execution_count": 466,
   "metadata": {},
   "outputs": [
    {
     "name": "stdout",
     "output_type": "stream",
     "text": [
      "Index(['GRID_ID', 'year', 'month', 'month_id', 'Y_fire_class_size',\n",
      "       'Y_fire_class_size_prev_month'],\n",
      "      dtype='object') (64320, 6)\n",
      "Index(['GRID_ID', 'year', 'Y_fire_class_size_prev_1yr'], dtype='object') (4020, 3)\n",
      "Index(['GRID_ID', 'year', 'Y_fire_class_size_prev_5yr'], dtype='object') (4020, 3)\n",
      "Index(['GRID_ID', 'year', 'Y_fire_class_size_prev_10yr'], dtype='object') (4020, 3)\n",
      "(48240, 9)\n"
     ]
    },
    {
     "data": {
      "text/html": [
       "<div>\n",
       "<style scoped>\n",
       "    .dataframe tbody tr th:only-of-type {\n",
       "        vertical-align: middle;\n",
       "    }\n",
       "\n",
       "    .dataframe tbody tr th {\n",
       "        vertical-align: top;\n",
       "    }\n",
       "\n",
       "    .dataframe thead th {\n",
       "        text-align: right;\n",
       "    }\n",
       "</style>\n",
       "<table border=\"1\" class=\"dataframe\">\n",
       "  <thead>\n",
       "    <tr style=\"text-align: right;\">\n",
       "      <th></th>\n",
       "      <th>GRID_ID</th>\n",
       "      <th>year</th>\n",
       "      <th>month</th>\n",
       "      <th>month_id</th>\n",
       "      <th>Y_fire_class_size</th>\n",
       "      <th>Y_fire_class_size_prev_month</th>\n",
       "      <th>Y_fire_class_size_prev_1yr</th>\n",
       "      <th>Y_fire_class_size_prev_5yr</th>\n",
       "      <th>Y_fire_class_size_prev_10yr</th>\n",
       "    </tr>\n",
       "  </thead>\n",
       "  <tbody>\n",
       "    <tr>\n",
       "      <th>120</th>\n",
       "      <td>0.0</td>\n",
       "      <td>1990</td>\n",
       "      <td>1</td>\n",
       "      <td>1990_1</td>\n",
       "      <td>0</td>\n",
       "      <td>0.0</td>\n",
       "      <td>0.0</td>\n",
       "      <td>0.0</td>\n",
       "      <td>0.0</td>\n",
       "    </tr>\n",
       "    <tr>\n",
       "      <th>121</th>\n",
       "      <td>0.0</td>\n",
       "      <td>1990</td>\n",
       "      <td>2</td>\n",
       "      <td>1990_2</td>\n",
       "      <td>0</td>\n",
       "      <td>0.0</td>\n",
       "      <td>0.0</td>\n",
       "      <td>0.0</td>\n",
       "      <td>0.0</td>\n",
       "    </tr>\n",
       "    <tr>\n",
       "      <th>122</th>\n",
       "      <td>0.0</td>\n",
       "      <td>1990</td>\n",
       "      <td>3</td>\n",
       "      <td>1990_3</td>\n",
       "      <td>0</td>\n",
       "      <td>0.0</td>\n",
       "      <td>0.0</td>\n",
       "      <td>0.0</td>\n",
       "      <td>0.0</td>\n",
       "    </tr>\n",
       "    <tr>\n",
       "      <th>123</th>\n",
       "      <td>0.0</td>\n",
       "      <td>1990</td>\n",
       "      <td>4</td>\n",
       "      <td>1990_4</td>\n",
       "      <td>0</td>\n",
       "      <td>0.0</td>\n",
       "      <td>0.0</td>\n",
       "      <td>0.0</td>\n",
       "      <td>0.0</td>\n",
       "    </tr>\n",
       "    <tr>\n",
       "      <th>124</th>\n",
       "      <td>0.0</td>\n",
       "      <td>1990</td>\n",
       "      <td>5</td>\n",
       "      <td>1990_5</td>\n",
       "      <td>0</td>\n",
       "      <td>0.0</td>\n",
       "      <td>0.0</td>\n",
       "      <td>0.0</td>\n",
       "      <td>0.0</td>\n",
       "    </tr>\n",
       "  </tbody>\n",
       "</table>\n",
       "</div>"
      ],
      "text/plain": [
       "     GRID_ID  year  month month_id  Y_fire_class_size  \\\n",
       "120      0.0  1990      1   1990_1                  0   \n",
       "121      0.0  1990      2   1990_2                  0   \n",
       "122      0.0  1990      3   1990_3                  0   \n",
       "123      0.0  1990      4   1990_4                  0   \n",
       "124      0.0  1990      5   1990_5                  0   \n",
       "\n",
       "     Y_fire_class_size_prev_month  Y_fire_class_size_prev_1yr  \\\n",
       "120                           0.0                         0.0   \n",
       "121                           0.0                         0.0   \n",
       "122                           0.0                         0.0   \n",
       "123                           0.0                         0.0   \n",
       "124                           0.0                         0.0   \n",
       "\n",
       "     Y_fire_class_size_prev_5yr  Y_fire_class_size_prev_10yr  \n",
       "120                         0.0                          0.0  \n",
       "121                         0.0                          0.0  \n",
       "122                         0.0                          0.0  \n",
       "123                         0.0                          0.0  \n",
       "124                         0.0                          0.0  "
      ]
     },
     "execution_count": 466,
     "metadata": {},
     "output_type": "execute_result"
    }
   ],
   "source": [
    "#Max size fire variables\n",
    "hist_max_size_df_list = [hist_max_fire_size_1m, hist_max_fire_size_1yr, hist_max_fire_size_5yr,hist_max_fire_size_10yr]\n",
    "for df in hist_max_size_df_list:\n",
    "    print(df.columns, df.shape)\n",
    "hist_max_size_merged = reduce(lambda  left,right: pd.merge(left,right,on=['GRID_ID', 'year'],\n",
    "                                               how='outer'), hist_max_size_df_list)\n",
    "hist_max_size_merged = hist_max_size_merged[(hist_max_size_merged['year']>=1990) & \\\n",
    "                                            (hist_max_size_merged['year']<=2019)]\n",
    "print(hist_max_size_merged.shape)\n",
    "hist_max_size_merged.head()"
   ]
  },
  {
   "cell_type": "code",
   "execution_count": 474,
   "metadata": {},
   "outputs": [
    {
     "name": "stdout",
     "output_type": "stream",
     "text": [
      "Index(['GRID_ID', 'year', 'month', 'month_id', 'Y_fire_area_prop',\n",
      "       'Y_fire_area_prop_prev_month'],\n",
      "      dtype='object') (64320, 6)\n",
      "Index(['GRID_ID', 'year', 'Y_fire_area_prop_prev_1yr'], dtype='object') (4020, 3)\n",
      "Index(['GRID_ID', 'year', 'Y_fire_area_prop_prev_5yr'], dtype='object') (4020, 3)\n",
      "Index(['GRID_ID', 'year', 'Y_fire_area_prop_prev_10yr'], dtype='object') (4020, 3)\n",
      "(48240, 9)\n"
     ]
    },
    {
     "data": {
      "text/html": [
       "<div>\n",
       "<style scoped>\n",
       "    .dataframe tbody tr th:only-of-type {\n",
       "        vertical-align: middle;\n",
       "    }\n",
       "\n",
       "    .dataframe tbody tr th {\n",
       "        vertical-align: top;\n",
       "    }\n",
       "\n",
       "    .dataframe thead th {\n",
       "        text-align: right;\n",
       "    }\n",
       "</style>\n",
       "<table border=\"1\" class=\"dataframe\">\n",
       "  <thead>\n",
       "    <tr style=\"text-align: right;\">\n",
       "      <th></th>\n",
       "      <th>GRID_ID</th>\n",
       "      <th>year</th>\n",
       "      <th>month</th>\n",
       "      <th>month_id</th>\n",
       "      <th>Y_fire_area_prop</th>\n",
       "      <th>Y_fire_area_prop_prev_month</th>\n",
       "      <th>Y_fire_area_prop_prev_1yr</th>\n",
       "      <th>Y_fire_area_prop_prev_5yr</th>\n",
       "      <th>Y_fire_area_prop_prev_10yr</th>\n",
       "    </tr>\n",
       "  </thead>\n",
       "  <tbody>\n",
       "    <tr>\n",
       "      <th>120</th>\n",
       "      <td>0.0</td>\n",
       "      <td>1990</td>\n",
       "      <td>1</td>\n",
       "      <td>1990_1</td>\n",
       "      <td>0.0</td>\n",
       "      <td>0.0</td>\n",
       "      <td>0.0</td>\n",
       "      <td>0.0</td>\n",
       "      <td>0.0</td>\n",
       "    </tr>\n",
       "    <tr>\n",
       "      <th>121</th>\n",
       "      <td>0.0</td>\n",
       "      <td>1990</td>\n",
       "      <td>2</td>\n",
       "      <td>1990_2</td>\n",
       "      <td>0.0</td>\n",
       "      <td>0.0</td>\n",
       "      <td>0.0</td>\n",
       "      <td>0.0</td>\n",
       "      <td>0.0</td>\n",
       "    </tr>\n",
       "    <tr>\n",
       "      <th>122</th>\n",
       "      <td>0.0</td>\n",
       "      <td>1990</td>\n",
       "      <td>3</td>\n",
       "      <td>1990_3</td>\n",
       "      <td>0.0</td>\n",
       "      <td>0.0</td>\n",
       "      <td>0.0</td>\n",
       "      <td>0.0</td>\n",
       "      <td>0.0</td>\n",
       "    </tr>\n",
       "    <tr>\n",
       "      <th>123</th>\n",
       "      <td>0.0</td>\n",
       "      <td>1990</td>\n",
       "      <td>4</td>\n",
       "      <td>1990_4</td>\n",
       "      <td>0.0</td>\n",
       "      <td>0.0</td>\n",
       "      <td>0.0</td>\n",
       "      <td>0.0</td>\n",
       "      <td>0.0</td>\n",
       "    </tr>\n",
       "    <tr>\n",
       "      <th>124</th>\n",
       "      <td>0.0</td>\n",
       "      <td>1990</td>\n",
       "      <td>5</td>\n",
       "      <td>1990_5</td>\n",
       "      <td>0.0</td>\n",
       "      <td>0.0</td>\n",
       "      <td>0.0</td>\n",
       "      <td>0.0</td>\n",
       "      <td>0.0</td>\n",
       "    </tr>\n",
       "  </tbody>\n",
       "</table>\n",
       "</div>"
      ],
      "text/plain": [
       "     GRID_ID  year  month month_id  Y_fire_area_prop  \\\n",
       "120      0.0  1990      1   1990_1               0.0   \n",
       "121      0.0  1990      2   1990_2               0.0   \n",
       "122      0.0  1990      3   1990_3               0.0   \n",
       "123      0.0  1990      4   1990_4               0.0   \n",
       "124      0.0  1990      5   1990_5               0.0   \n",
       "\n",
       "     Y_fire_area_prop_prev_month  Y_fire_area_prop_prev_1yr  \\\n",
       "120                          0.0                        0.0   \n",
       "121                          0.0                        0.0   \n",
       "122                          0.0                        0.0   \n",
       "123                          0.0                        0.0   \n",
       "124                          0.0                        0.0   \n",
       "\n",
       "     Y_fire_area_prop_prev_5yr  Y_fire_area_prop_prev_10yr  \n",
       "120                        0.0                         0.0  \n",
       "121                        0.0                         0.0  \n",
       "122                        0.0                         0.0  \n",
       "123                        0.0                         0.0  \n",
       "124                        0.0                         0.0  "
      ]
     },
     "execution_count": 474,
     "metadata": {},
     "output_type": "execute_result"
    }
   ],
   "source": [
    "#Max prop fire variables\n",
    "hist_max_p_area_df_list = [hist_max_fire_area_prop_1m, hist_max_fire_area_prop_1yr, hist_max_fire_area_prop_5yr,\n",
    "                           hist_max_fire_area_prop_10yr]\n",
    "for df in hist_max_p_area_df_list:\n",
    "    print(df.columns, df.shape)\n",
    "hist_max_p_area_merged = reduce(lambda  left,right: pd.merge(left,right,on=['GRID_ID', 'year'],\n",
    "                                               how='outer'), hist_max_p_area_df_list)\n",
    "hist_max_p_area_merged = hist_max_p_area_merged[(hist_max_p_area_merged['year']>=1990) & \\\n",
    "                                            (hist_max_p_area_merged['year']<=2019)]\n",
    "print(hist_max_p_area_merged.shape)\n",
    "hist_max_p_area_merged.head()"
   ]
  },
  {
   "cell_type": "code",
   "execution_count": 479,
   "metadata": {},
   "outputs": [],
   "source": [
    "hist_perc_time_list = [hist_perc_time_fire_1m, hist_perc_time_fire_1y, hist_perc_time_fire_5y, hist_perc_time_fire_10y]\n",
    "hist_perc_time_merged = reduce(lambda  left,right: pd.merge(left,right,on=['GRID_ID', 'year'],\n",
    "                                               how='outer'), hist_perc_time_list)\n",
    "hist_perc_time_merged = hist_perc_time_merged[(hist_perc_time_merged['year']>=1990) & \\\n",
    "                                            (hist_perc_time_merged['year']<=2019)]"
   ]
  },
  {
   "cell_type": "code",
   "execution_count": 482,
   "metadata": {},
   "outputs": [],
   "source": [
    "hist_eng_features = reduce(lambda  left,right: pd.merge(left,right,on=['GRID_ID', 'year', 'month_id', 'month'],\n",
    "                                               how='outer'), \n",
    "                           [hist_bin_merged, hist_max_size_merged,hist_max_p_area_merged, hist_perc_time_merged])\n",
    "hist_eng_features = hist_eng_features.merge(perc_grid_fire_1y, on = ['GRID_ID', 'year'], how = 'outer')"
   ]
  },
  {
   "cell_type": "code",
   "execution_count": 486,
   "metadata": {},
   "outputs": [],
   "source": [
    "hist_eng_features.to_pickle(os.path.join(data_dir, 'clean_data/engineered_features/fire_hist_features.pkl'))"
   ]
  }
 ],
 "metadata": {
  "kernelspec": {
   "display_name": "Python 3",
   "language": "python",
   "name": "python3"
  },
  "language_info": {
   "codemirror_mode": {
    "name": "ipython",
    "version": 3
   },
   "file_extension": ".py",
   "mimetype": "text/x-python",
   "name": "python",
   "nbconvert_exporter": "python",
   "pygments_lexer": "ipython3",
   "version": "3.8.6"
  }
 },
 "nbformat": 4,
 "nbformat_minor": 4
}
