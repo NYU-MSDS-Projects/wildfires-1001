{
 "cells": [
  {
   "cell_type": "code",
   "execution_count": 4,
   "metadata": {},
   "outputs": [],
   "source": [
    "import pandas as pd  # provides interface for interacting with tabular data\n",
    "import geopandas as gpd  # combines the capabilities of pandas and shapely for geospatial operations\n",
    "from shapely.geometry import Point, Polygon, MultiPolygon  # for manipulating text data into geospatial shapes\n",
    "from shapely import wkt  # stands for \"well known text,\" allows for interchange across GIS programs\n",
    "import rtree  # supports geospatial join\n",
    "import os\n",
    "import fnmatch\n",
    "import numpy as np\n",
    "import matplotlib.pyplot as plt\n",
    "import descartes\n",
    "import sys\n",
    "import sklearn\n",
    "from datetime import datetime as dt\n",
    "\n",
    "pd.set_option('display.max_rows', 1000)\n",
    "pd.set_option('display.max_columns', 500)\n",
    "pd.set_option('display.width', 1000)"
   ]
  },
  {
   "cell_type": "markdown",
   "metadata": {},
   "source": [
    "#  Merge and Map Demographics into a Final DF"
   ]
  },
  {
   "cell_type": "markdown",
   "metadata": {},
   "source": [
    "1. First, calculate per county population density\n",
    "2. Next, align dates so all dataframes go back through 1990\n",
    "3. Merge all demogs dfs into a master df\n",
    "4. Save the cleaned data"
   ]
  },
  {
   "cell_type": "code",
   "execution_count": 12,
   "metadata": {},
   "outputs": [],
   "source": [
    "#Import the data\n",
    "#Import the county to grid mapping, demogs, hhi, unemployment, and arson crimes\n",
    "gitdir = '/Users/jades/1001 Intro to Data Science Notebooks/Project/wildfires-1001/'\n",
    "#gitdir = '/Users/saraprice/Documents/NYU/Fall_2020/DS_GA_1001/wildfires-1001/'\n",
    "subdir_from = 'data/clean_data/mapping_tables/'\n",
    "filename_from = 'CA_counties_clean.csv'\n",
    "\n",
    "df_area = pd.read_csv(gitdir + subdir_from + filename_from)\n",
    "\n",
    "subdir_from = 'data/clean_data/county_grid/'\n",
    "filename_from = 'county_grid.shp'\n",
    "\n",
    "df_map = gpd.read_file(gitdir + subdir_from + filename_from)\n",
    "\n",
    "subdir_from = 'data/clean_data/ca_demogs/'\n",
    "filename_from = 'ca_demogs_clean.csv'\n",
    "\n",
    "df_demogs = pd.read_csv(gitdir + subdir_from + filename_from)\n",
    "\n",
    "subdir_from = 'data/clean_data/ca_demogs/'\n",
    "filename_from = 'median_hhi_clean.csv'\n",
    "\n",
    "df_hhi = pd.read_csv(gitdir + subdir_from + filename_from)\n",
    "\n",
    "subdir_from = 'data/clean_data/ca_demogs/'\n",
    "filename_from = 'unemployment_clean.csv'\n",
    "\n",
    "df_unemployment = pd.read_csv(gitdir + subdir_from + filename_from)\n",
    "\n",
    "subdir_from = 'data/clean_data/arson_crimes/'\n",
    "filename_from = 'arson_clean.csv'\n",
    "\n",
    "df_arson = pd.read_csv(gitdir + subdir_from + filename_from)"
   ]
  },
  {
   "cell_type": "code",
   "execution_count": 13,
   "metadata": {},
   "outputs": [
    {
     "name": "stdout",
     "output_type": "stream",
     "text": [
      "County Area\n",
      "            NAME  COUNTYFP  GEOID       ALAND      AWATER                                           geometry   COUNTY_AREA\n",
      "0         Sierra        91   6091  2468694587    23299110  POLYGON ((-13431319.75097945 4821511.426395644...  4.200450e+09\n",
      "1     Sacramento        67   6067  2499183617    76073827  POLYGON ((-13490651.47641084 4680831.603393857...  4.205267e+09\n",
      "2  Santa Barbara        83   6083  7084000598  2729814515  MULTIPOLYGON (((-13423116.77225655 4042044.148...  1.449841e+10\n",
      "3      Calaveras         9   6009  2641820834    43806026  POLYGON ((-13428575.483353 4627725.227535474, ...  4.356213e+09\n",
      "4        Ventura       111   6111  4773390489   945942791  MULTIPOLYGON (((-13317853.59433417 3931602.413...  8.413293e+09\n",
      "-----------------------------------------------------------------\n",
      "Mapping File\n",
      "           NAME COUNTYFP  GEOID       ALAND     AWATER    COUNTY_ARE     GRID_AREA  GRID_ID    COUNTY_GRI  COUNTY_G_1                                           geometry\n",
      "0        Plumas      063  06063  6612400993  156387635  1.155000e+10  5.041000e+09     49.0  4.936293e+09    0.427385  POLYGON ((-13502275.000 4897930.000, -13431275...\n",
      "1        Sierra      091  06091  2468694587   23299110  4.200450e+09  5.041000e+09     50.0  1.535563e+09    0.365571  POLYGON ((-13502275.000 4826930.000, -13431275...\n",
      "2        Sierra      091  06091  2468694587   23299110  4.200450e+09  5.041000e+09     65.0  2.544187e+09    0.605694  POLYGON ((-13431275.000 4826930.000, -13360275...\n",
      "3    Sacramento      067  06067  2499183617   76073827  4.205267e+09  5.041000e+09     39.0  2.029400e+09    0.482585  POLYGON ((-13573275.000 4684930.000, -13502275...\n",
      "4  Contra Costa      013  06013  1871930816  209819213  3.351027e+09  5.041000e+09     40.0  1.618024e+09    0.482844  POLYGON ((-13573275.000 4613930.000, -13502275...\n",
      "-----------------------------------------------------------------\n",
      "Demogs\n",
      "   FIPS County Name  YEAR  POPESTIMATE  POPEST_MALE  POPEST_FEM  MEDIAN_AGE_TOT  MEDIAN_AGE_MALE  MEDIAN_AGE_FEM  AGEUNDER13_TOT  AGE1424_TOT  AGE2544_TOT  AGE4564_TOT  AGE65PLUS_TOT\n",
      "0     1     Alameda  2008      1510271       740573      769698            36.6             35.6            37.5          264726       225985       455695       396119         167746\n",
      "1     1     Alameda  2009      1510258       740568      769690            36.6             35.6            37.5          264724       225983       455693       396111         167747\n",
      "2     1     Alameda  2010      1512986       741756      771230            36.6             35.7            37.6          264711       225647       455901       397746         168981\n",
      "3     1     Alameda  2011      1530915       750107      780808            36.8             35.9            37.8          265724       225565       460352       404834         174440\n",
      "4     1     Alameda  2012      1553764       760739      793025            37.0             36.1            37.9          267456       225159       469410       408585         183154\n",
      "-----------------------------------------------------------------\n",
      "Household Income\n",
      "   FIPS County Name  medianHHI2018\n",
      "0     1     Alameda         101744\n",
      "1     3      Alpine          55384\n",
      "2     5      Amador          58515\n",
      "3     7       Butte          50945\n",
      "4     9   Calaveras          62984\n",
      "-----------------------------------------------------------------\n",
      "Unemployment\n",
      "   FIPS County Name  year  Unemployment\n",
      "0     1     Alameda  2011         0.101\n",
      "1     3      Alpine  2011         0.128\n",
      "2     5      Amador  2011         0.136\n",
      "3     7       Butte  2011         0.137\n",
      "4     9   Calaveras  2011         0.140\n",
      "-----------------------------------------------------------------\n",
      "Arson\n",
      "   FIPS County Name  Year  Structure Arsons  Mobile Arsons  Other Arsons  Total Arsons  Total Arsons Cleared\n",
      "0     1     Alameda  1985               540            274           249          1063                   160\n",
      "1     1     Alameda  1986               428            304           155           887                   144\n",
      "2     1     Alameda  1987               453            275           170           898                   172\n",
      "3     1     Alameda  1988               373            259           164           796                   127\n",
      "4     1     Alameda  1989               348            301           193           842                   152\n",
      "-----------------------------------------------------------------\n"
     ]
    }
   ],
   "source": [
    "#Confirm the data is what we expect\n",
    "print('County Area')\n",
    "print(df_area.head())\n",
    "print('-----------------------------------------------------------------')\n",
    "print('Mapping File')\n",
    "print(df_map.head())\n",
    "print('-----------------------------------------------------------------')\n",
    "print('Demogs')\n",
    "print(df_demogs.head())\n",
    "print('-----------------------------------------------------------------')\n",
    "print('Household Income')\n",
    "print(df_hhi.head())\n",
    "print('-----------------------------------------------------------------')\n",
    "print('Unemployment')\n",
    "print(df_unemployment.head())\n",
    "print('-----------------------------------------------------------------')\n",
    "print('Arson')\n",
    "print(df_arson.head())\n",
    "print('-----------------------------------------------------------------')"
   ]
  },
  {
   "cell_type": "code",
   "execution_count": 14,
   "metadata": {},
   "outputs": [
    {
     "data": {
      "text/plain": [
       "(58, 7)"
      ]
     },
     "execution_count": 14,
     "metadata": {},
     "output_type": "execute_result"
    }
   ],
   "source": [
    "df_area.shape"
   ]
  },
  {
   "cell_type": "code",
   "execution_count": 15,
   "metadata": {},
   "outputs": [],
   "source": [
    "#First calculate per county population density\n",
    "\n",
    "#Merge demogs with county area\n",
    "df_demogs = df_demogs.merge(df_area[['COUNTYFP', 'COUNTY_AREA']], how='left', left_on='FIPS', right_on='COUNTYFP') \n",
    "\n",
    "#Calculate the density normalized features in km squared\n",
    "df_demogs['POPDENSITY'] = df_demogs['POPESTIMATE']/df_demogs['COUNTY_AREA']*1000000\n",
    "df_demogs['POPDENSITY_MALE'] = df_demogs['POPEST_MALE']/df_demogs['COUNTY_AREA']*1000000\n",
    "df_demogs['POPDENSITY_FEM'] = df_demogs['POPEST_FEM']/df_demogs['COUNTY_AREA']*1000000\n",
    "df_demogs['AGEUNDER13_TOT'] = df_demogs['AGEUNDER13_TOT']/df_demogs['COUNTY_AREA']*1000000\n",
    "df_demogs['AGE1424_TOT'] = df_demogs['AGE1424_TOT']/df_demogs['COUNTY_AREA']*1000000\n",
    "df_demogs['AGE2544_TOT'] = df_demogs['AGE2544_TOT']/df_demogs['COUNTY_AREA']*1000000\n",
    "df_demogs['AGE4564_TOT'] = df_demogs['AGE4564_TOT']/df_demogs['COUNTY_AREA']*1000000\n",
    "df_demogs['AGE65PLUS_TOT'] = df_demogs['AGE65PLUS_TOT']/df_demogs['COUNTY_AREA']*1000000\n",
    "\n",
    "df_demogs = df_demogs.drop(['POPESTIMATE', 'POPEST_MALE', 'POPEST_FEM', 'COUNTYFP'], axis=1)"
   ]
  },
  {
   "cell_type": "code",
   "execution_count": 16,
   "metadata": {},
   "outputs": [],
   "source": [
    "#Next, align dates so all dataframes go back through 1990\n",
    "#We trim the arson data since it goes back through 1985\n",
    "#We extrapolate backwards the last year of data for ca demogs and unemployment\n",
    "\n",
    "df_arson = df_arson[df_arson['Year'] >= 1990]\n",
    "\n",
    "for i in range(18): #Duplicate 2008 onto 1990 to 2007\n",
    "    df_demogs = df_demogs.append(df_demogs[df_demogs['YEAR'] == 2008].assign(YEAR=i+1990))\n",
    "    \n",
    "for i in range(21): #Duplicate 2011 onto 1990 to 2010\n",
    "    df_unemployment = df_unemployment.append(df_unemployment[df_unemployment['year'] == 2011].assign(year=i+1990))"
   ]
  },
  {
   "cell_type": "code",
   "execution_count": 19,
   "metadata": {},
   "outputs": [],
   "source": [
    "df_map['COUNTYFP'] = df_map['COUNTYFP'].astype(int)\n",
    "df_map['GRID_ID'] = df_map['GRID_ID'].astype(int)"
   ]
  },
  {
   "cell_type": "code",
   "execution_count": 20,
   "metadata": {},
   "outputs": [],
   "source": [
    "#Finally, create the master dataframe and merge\n",
    "\n",
    "df_master = df_map[['NAME', 'COUNTYFP', 'GRID_ID']].merge(df_demogs, how='left', left_on='COUNTYFP', right_on='FIPS')\n",
    "df_master = df_master.drop(['FIPS', 'County Name'], axis=1)\n",
    "\n",
    "df_master = df_master.merge(df_arson, how='left', left_on=('COUNTYFP', 'YEAR'), right_on=('FIPS', 'Year'))\n",
    "df_master = df_master.drop(['FIPS', 'County Name', 'Year'], axis=1)\n",
    "\n",
    "df_master = df_master.merge(df_unemployment, how='left', left_on=('COUNTYFP', 'YEAR'), right_on=('FIPS', 'year'))\n",
    "df_master = df_master.drop(['FIPS', 'County Name', 'year'], axis=1)\n",
    "\n",
    "df_master = df_master.merge(df_hhi, how='left', left_on=('COUNTYFP'), right_on=('FIPS'))\n",
    "df_master = df_master.drop(['FIPS', 'County Name'], axis=1)"
   ]
  },
  {
   "cell_type": "code",
   "execution_count": 23,
   "metadata": {},
   "outputs": [
    {
     "data": {
      "text/plain": [
       "134"
      ]
     },
     "execution_count": 23,
     "metadata": {},
     "output_type": "execute_result"
    }
   ],
   "source": [
    "len(df_master['GRID_ID'].unique())"
   ]
  },
  {
   "cell_type": "code",
   "execution_count": 24,
   "metadata": {},
   "outputs": [],
   "source": [
    "#Save the cleaned dataframe\n",
    "\n",
    "subdir_to = 'data/clean_data/ca_demogs/'\n",
    "filename_to = 'demogs_arson_master.csv'\n",
    "df_master.to_csv(gitdir + subdir_to + filename_to, index=False)"
   ]
  }
 ],
 "metadata": {
  "kernelspec": {
   "display_name": "Python 3",
   "language": "python",
   "name": "python3"
  },
  "language_info": {
   "codemirror_mode": {
    "name": "ipython",
    "version": 3
   },
   "file_extension": ".py",
   "mimetype": "text/x-python",
   "name": "python",
   "nbconvert_exporter": "python",
   "pygments_lexer": "ipython3",
   "version": "3.8.3"
  }
 },
 "nbformat": 4,
 "nbformat_minor": 4
}
