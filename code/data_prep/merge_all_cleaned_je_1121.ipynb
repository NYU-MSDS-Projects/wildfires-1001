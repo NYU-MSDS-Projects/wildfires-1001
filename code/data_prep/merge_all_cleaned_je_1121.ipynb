{
 "cells": [
  {
   "cell_type": "markdown",
   "metadata": {},
   "source": [
    "# Pull in the main fire dataframe"
   ]
  },
  {
   "cell_type": "code",
   "execution_count": 1,
   "metadata": {},
   "outputs": [],
   "source": [
    "#import packages\n",
    "import pandas as pd  # provides interface for interacting with tabular data\n",
    "import geopandas as gpd  # combines the capabilities of pandas and shapely for geospatial operations\n",
    "import rtree  # supports geospatial join\n",
    "import os\n",
    "import fnmatch\n",
    "import numpy as np\n",
    "import matplotlib.pyplot as plt\n",
    "import sys\n",
    "import pickle\n",
    "from shapely.ops import nearest_points\n",
    "from datetime import datetime as dt, date\n",
    "sys.path.append('/Users/jackepstein/Documents/GitHub/wildfires-1001/code/functions/')\n",
    "data_dir = '/Users/jackepstein/Documents/GitHub/wildfires-1001/data'"
   ]
  },
  {
   "cell_type": "code",
   "execution_count": 2,
   "metadata": {},
   "outputs": [],
   "source": [
    "#read in the target variables for fire\n",
    "target_df = {}\n",
    "full_target_data = gpd.GeoDataFrame()\n",
    "for i in np.arange(1, 4):\n",
    "    target_df[i] = pd.read_pickle(os.path.join(data_dir, f'clean_data/target_full_{i}.pkl')) \n",
    "    full_target_data = full_target_data.append(target_df[i])\n",
    "    \n",
    "#change data types\n",
    "full_target_data['COUNTYFP'] = full_target_data['COUNTYFP'].astype(int)\n",
    "full_target_data['GRID_ID'] = full_target_data['GRID_ID'].astype(int)\n",
    "full_target_data['YEAR'] = full_target_data['date'].apply(lambda x:x.year)  \n",
    "full_target_data['MONTH'] = full_target_data['date'].apply(lambda x:x.month)  \n",
    "\n",
    "#drop unneeded columns\n",
    "full_target_data2 = full_target_data.drop(columns=['date','month_start', 'month_end', 'week_id',\n",
    "                                                  'week_start', 'week_end', 'start_date', 'end_date'])"
   ]
  },
  {
   "cell_type": "code",
   "execution_count": 3,
   "metadata": {},
   "outputs": [],
   "source": [
    "#checking what one instance will look like\n",
    "#full_target_data2.loc[full_target_data2['GRID_ID']==36].loc[full_target_data2['month_id']=='2018_11']"
   ]
  },
  {
   "cell_type": "markdown",
   "metadata": {},
   "source": [
    "# Initial Group By"
   ]
  },
  {
   "cell_type": "code",
   "execution_count": 4,
   "metadata": {},
   "outputs": [],
   "source": [
    "#group by gridid and month and take means of fire data\n",
    "#y_bin, y_fire_class_size -- take max\n",
    "#y_fire_count -- count distinct of FIRE ID\n",
    "#y_fire_area prop -- done below with a separate dissolve and join rather than groupby \n",
    "target_data_month = full_target_data2.groupby(['GRID_ID','month_id','YEAR', 'MONTH','COUNTYFP','NAME', 'GRID_AREA', \n",
    "                                               'COUNTY_ARE']).agg({'Y_bin':'max', \n",
    "                                                                   'Y_fire_class_size': 'max',\n",
    "                                                                   'FIRE_KEY':'nunique'}).reset_index()\n",
    "target_data_month = target_data_month.rename(columns={'FIRE_KEY': 'Y_fire_count'})"
   ]
  },
  {
   "cell_type": "code",
   "execution_count": null,
   "metadata": {},
   "outputs": [],
   "source": [
    "#DO NOT RE-RUN UNLESS NEEDED VERY SLOW\n",
    "#make a new DF with just needed columns\n",
    "sub_geo_df = full_target_data2[['month_id', 'GRID_ID', 'geometry']]\n",
    "#sub_geo_df.loc[sub_geo_df['GRID_ID']==36].loc[sub_geo_df['month_id']=='2018_11']\n",
    "\n",
    "#only positive instances\n",
    "sub_geo_df_2 = sub_geo_df.loc[~sub_geo_df['geometry'].isna()]\n",
    "\n",
    "#dissolve\n",
    "sub_geo_dissolve = sub_geo_df_2.dissolve(by=['GRID_ID','month_id'])"
   ]
  },
  {
   "cell_type": "code",
   "execution_count": null,
   "metadata": {},
   "outputs": [],
   "source": [
    "#reset the index and calcuate area\n",
    "sub_geo_dissolve = sub_geo_dissolve.reset_index()\n",
    "sub_geo_dissolve['Fire_area'] = sub_geo_dissolve['geometry'].area"
   ]
  },
  {
   "cell_type": "code",
   "execution_count": null,
   "metadata": {},
   "outputs": [],
   "source": [
    "#merge grouped by df with dissolved df\n",
    "target_data_month = target_data_month.merge(sub_geo_dissolve, on=['GRID_ID','month_id'], how='left')\n",
    "#replace NaN in Fire_area with 0\n",
    "target_data_month['Fire_area'] = target_data_month['Fire_area'].fillna(0)"
   ]
  },
  {
   "cell_type": "code",
   "execution_count": null,
   "metadata": {},
   "outputs": [],
   "source": [
    "#calculate target variable for regression\n",
    "target_data_month['Y_fire_area_prop'] = target_data_month['Fire_area']/target_data_month['GRID_AREA']"
   ]
  },
  {
   "cell_type": "code",
   "execution_count": null,
   "metadata": {},
   "outputs": [],
   "source": [
    "#drop grid ID 59 -- no weather data\n",
    "target_data_month_df = target_data_month.loc[target_data_month['GRID_ID']!=59]\n",
    "#check for positive instances\n",
    "#target_data_month_df.loc[target_data_month_df['Y_bin']==1]"
   ]
  },
  {
   "cell_type": "code",
   "execution_count": null,
   "metadata": {},
   "outputs": [],
   "source": [
    "#take in an object formatted as YYYY_MM\n",
    "def add_one_month(month_id_obj):\n",
    "    \n",
    "    #turn this object into a string\n",
    "    #split this and take the element after the '_'\n",
    "    #turn this back into an int\n",
    "    month_int = int(str(month_id_obj).split('_')[1])\n",
    "    year_int = int(str(month_id_obj).split('_')[0])\n",
    "    \n",
    "    #check if the month is decemember -- if so, set to 1 if not, add one\n",
    "    if month_int == 12:\n",
    "        mont = 1\n",
    "        new_month_id = str(year_int+1)+'_'+str(mont)\n",
    "    else:\n",
    "        mont = int(month_int+1)\n",
    "        new_month_id = str(year_int)+'_'+str(mont)\n",
    "        \n",
    "    return new_month_id    \n",
    "    \n",
    "#take in an object formatted as YYYY_MM\n",
    "def sub_one_month(month_id_obj):\n",
    "    \n",
    "    #turn this object into a string\n",
    "    #split this and take the element after the '_'\n",
    "    #turn this back into an int\n",
    "    month_int = int(str(month_id_obj).split('_')[1])\n",
    "    year_int = int(str(month_id_obj).split('_')[0])\n",
    "    \n",
    "    #check if the month is janary -- if so, set to 12 if not, subtract one\n",
    "    if month_int == 1:\n",
    "        mont = 12\n",
    "        new_month_id = str(year_int-1)+'_'+str(mont)\n",
    "    else:\n",
    "        mont = int(month_int-1)\n",
    "        new_month_id = str(year_int)+'_'+str(mont)\n",
    "        \n",
    "    return new_month_id  "
   ]
  },
  {
   "cell_type": "markdown",
   "metadata": {},
   "source": [
    "# Pull in the other simpler data sets (demogs, arson, topo, infr)"
   ]
  },
  {
   "cell_type": "code",
   "execution_count": null,
   "metadata": {},
   "outputs": [],
   "source": [
    "#topography\n",
    "#no need to shift -- no month ids\n",
    "topo_df = pd.read_csv(os.path.join(data_dir, 'clean_data/topography/grid_elevation.csv'))\n",
    "topo_df['GRID_ID'] = topo_df['GRID_ID'].astype(int)\n",
    "topo_df = topo_df.drop(columns=topo_df.columns[0])"
   ]
  },
  {
   "cell_type": "code",
   "execution_count": null,
   "metadata": {},
   "outputs": [],
   "source": [
    "#infrastructure\n",
    "#shift month up 1\n",
    "infr_df = pd.read_csv((os.path.join(data_dir, 'clean_data/grid_infrastructure/grid_infrastructure_monthly.csv')))\n",
    "infr_df['GRID_ID'] = infr_df['GRID_ID'].astype(int)\n",
    "infr_df['month_id_old'] = infr_df['month_id']\n",
    "infr_df['month_id'] = infr_df['month_id'].apply(lambda x: add_one_month(x))\n",
    "infr_df = infr_df.drop(columns=infr_df.columns[0])"
   ]
  },
  {
   "cell_type": "code",
   "execution_count": null,
   "metadata": {},
   "outputs": [],
   "source": [
    "#demographics\n",
    "#shift up a year\n",
    "demographics_df = pd.read_csv((os.path.join(data_dir, 'clean_data/ca_demogs/demogs_arson_master.csv')))\n",
    "demographics_df['YEAR'] = demographics_df['YEAR']+1"
   ]
  },
  {
   "cell_type": "code",
   "execution_count": null,
   "metadata": {},
   "outputs": [],
   "source": [
    "#pull in built fire features\n",
    "#no need to shift\n",
    "fire_feat = pd.read_csv((os.path.join(data_dir, 'clean_data/engineered_features/adj_fire_final.csv')))\n",
    "fire_feat['GRID_ID'] = fire_feat['GRID_ID'].astype(int)"
   ]
  },
  {
   "cell_type": "markdown",
   "metadata": {},
   "source": [
    "# Merge with these"
   ]
  },
  {
   "cell_type": "code",
   "execution_count": null,
   "metadata": {},
   "outputs": [],
   "source": [
    "#merge with topo\n",
    "target_data_month_df = target_data_month_df.merge(topo_df, on='GRID_ID', how='left')\n",
    "\n",
    "#merge with infrastructure\n",
    "target_data_month_df = target_data_month_df.merge(infr_df, on=['GRID_ID','month_id'], how='left')\n",
    "\n",
    "#merge with demographics\n",
    "target_data_month_df = target_data_month_df.merge(demographics_df, on=['GRID_ID', 'NAME', 'COUNTYFP', 'YEAR'], how='left')\n",
    "\n",
    "#merge with other fire\n",
    "target_data_month_df = target_data_month_df.merge(fire_feat, on=['GRID_ID','month_id'], how='left')"
   ]
  },
  {
   "cell_type": "markdown",
   "metadata": {},
   "source": [
    "# Pull in and merge with weather"
   ]
  },
  {
   "cell_type": "code",
   "execution_count": null,
   "metadata": {},
   "outputs": [],
   "source": [
    "#weather \n",
    "era_weather = pd.read_pickle((os.path.join(data_dir, 'clean_data/ERA_weather-data/ERA5_CAgrid_gdf.pkl')))\n",
    "era_weather['GRID_ID'] = era_weather['GRID_ID'].astype(int)\n",
    "\n",
    "\n",
    "#add in a month_id column\n",
    "#need to shift up a month\n",
    "era_weather['month'] = pd.DatetimeIndex(era_weather['date']).month\n",
    "era_weather['YEAR'] = pd.DatetimeIndex(era_weather['date']).year\n",
    "era_weather['month_id'] = era_weather['YEAR'].astype(str)+'_'+era_weather['month'].astype(str)\n",
    "era_weather['month_id_old'] = era_weather['month_id']\n",
    "era_weather['month_id'] = era_weather['month_id'].apply(lambda x: add_one_month(x))\n",
    "era_weather = era_weather.drop(columns=['date','month','YEAR'])"
   ]
  },
  {
   "cell_type": "code",
   "execution_count": null,
   "metadata": {},
   "outputs": [],
   "source": [
    "#merge weather\n",
    "target_data_month_df = target_data_month_df.merge(era_weather, on=['GRID_ID','month_id'], how='left')"
   ]
  },
  {
   "cell_type": "markdown",
   "metadata": {},
   "source": [
    "# Merge with additional fire and weather features"
   ]
  },
  {
   "cell_type": "code",
   "execution_count": null,
   "metadata": {},
   "outputs": [],
   "source": [
    "target_data_month_df"
   ]
  },
  {
   "cell_type": "code",
   "execution_count": null,
   "metadata": {},
   "outputs": [],
   "source": [
    "#read in historical features - no need to shift\n",
    "fire_hist = pd.read_pickle((os.path.join(data_dir, 'clean_data/engineered_features/fire_hist_features.pkl')))\n",
    "fire_hist['GRID_ID'] = fire_hist['GRID_ID'].astype(int)\n",
    "fire_hist = fire_hist.rename(columns={'month': 'MONTH', 'year':'YEAR'})"
   ]
  },
  {
   "cell_type": "code",
   "execution_count": null,
   "metadata": {},
   "outputs": [],
   "source": [
    "#merge with main df\n",
    "target_data_month_df = target_data_month_df.merge(fire_hist, on=['GRID_ID','month_id', 'MONTH', 'YEAR'], how='left')"
   ]
  },
  {
   "cell_type": "code",
   "execution_count": null,
   "metadata": {},
   "outputs": [],
   "source": [
    "#read in engineered weather - no need to shift\n",
    "#read in historical features - no need to shift\n",
    "weather_hist = pd.read_pickle((os.path.join(data_dir, 'clean_data/engineered_features/historical_weather.pkl')))\n",
    "weather_hist = weather_hist.rename(columns={'month': 'MONTH', 'year':'YEAR'})"
   ]
  },
  {
   "cell_type": "code",
   "execution_count": null,
   "metadata": {},
   "outputs": [],
   "source": [
    "#merge with main df\n",
    "target_data_month_df = target_data_month_df.merge(weather_hist, on=['GRID_ID', 'MONTH', 'YEAR'], how='left')"
   ]
  },
  {
   "cell_type": "markdown",
   "metadata": {},
   "source": [
    "# Final Clean Up and Send to Pickle"
   ]
  },
  {
   "cell_type": "code",
   "execution_count": null,
   "metadata": {},
   "outputs": [],
   "source": [
    "#checking the merge with shifts\n",
    "target_data_month_df.loc[target_data_month_df['Total precipitation hrs:12'].isna()].groupby(['GRID_ID','month_id'])['month_id'].count()\n",
    "#target_data_month.loc[target_data_month['Total precipitation hrs:12'].isna()].loc[target_data_month['YEAR']==2017]\n",
    "target_data_month_df.loc[target_data_month_df['Total precipitation hrs:12'].isna()].shape[0]"
   ]
  },
  {
   "cell_type": "code",
   "execution_count": null,
   "metadata": {},
   "outputs": [],
   "source": [
    "#dropping jan 1990 with no weather data from the previous month\n",
    "target_df_final = target_data_month_df.loc[target_data_month_df['month_id']!='1990_1']\n",
    "target_df_final.describe()"
   ]
  },
  {
   "cell_type": "code",
   "execution_count": null,
   "metadata": {},
   "outputs": [],
   "source": [
    "#re-read in county grid to join with geometry\n",
    "county_grid = gpd.read_file(os.path.join(data_dir, 'clean_data/county_grid/county_grid.dbf'))\n",
    "county_grid['GRID_ID'] = county_grid['GRID_ID'].astype(int)"
   ]
  },
  {
   "cell_type": "code",
   "execution_count": null,
   "metadata": {},
   "outputs": [],
   "source": [
    "#merge this with the initial df to get geometry\n",
    "target_df_final_geo = target_df_final.merge(county_grid[['GRID_ID','geometry']], on='GRID_ID', how='left')\n",
    "\n",
    "#final column clear up\n",
    "target_df_final_geo['geometry'] = target_df_final_geo['geometry_x']\n",
    "target_df_final_geo['Y_fire_class_size'] = target_df_final_geo['Y_fire_class_size_x']\n",
    "target_df_final_geo['Y_fire_area_prop'] = target_df_final_geo['Y_fire_area_prop_x']\n",
    "target_df_final_geo = target_df_final_geo.drop(columns=['geometry_x', 'geometry_y','month_id_old_x',\n",
    "                                                        'month_id_old_y','Y_fire_class_size_y','Y_fire_class_size_x',\n",
    "                                                        'Y_fire_area_prop_x','Y_fire_area_prop_y','total_fire_days_y',\n",
    "                                                        'hist_p_time_1y_y'])"
   ]
  },
  {
   "cell_type": "code",
   "execution_count": null,
   "metadata": {},
   "outputs": [],
   "source": [
    "#check number of columns and columns -- look for duplicates\n",
    "print(target_df_final_geo.columns.size)\n",
    "for i in target_df_final_geo.columns:\n",
    "    print(i)"
   ]
  },
  {
   "cell_type": "code",
   "execution_count": null,
   "metadata": {},
   "outputs": [],
   "source": [
    "#send to pickle file and csv -- always change date when uploading pickle\n",
    "target_df_final_geo.to_pickle(os.path.join(data_dir, 'clean_data/target_df_final_geo_1121_weathereng.pkl'))\n",
    "#target_df_final_geo.to_csv(os.path.join(data_dir, 'clean_data/target_df_final_geo.csv'))"
   ]
  }
 ],
 "metadata": {
  "kernelspec": {
   "display_name": "Python 3",
   "language": "python",
   "name": "python3"
  },
  "language_info": {
   "codemirror_mode": {
    "name": "ipython",
    "version": 3
   },
   "file_extension": ".py",
   "mimetype": "text/x-python",
   "name": "python",
   "nbconvert_exporter": "python",
   "pygments_lexer": "ipython3",
   "version": "3.8.6"
  }
 },
 "nbformat": 4,
 "nbformat_minor": 4
}
