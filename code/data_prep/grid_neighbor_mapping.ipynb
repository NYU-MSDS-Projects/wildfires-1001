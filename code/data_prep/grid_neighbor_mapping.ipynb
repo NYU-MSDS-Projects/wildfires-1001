{
 "cells": [
  {
   "cell_type": "markdown",
   "metadata": {},
   "source": [
    "# Create Grid to Neighbor Mapping"
   ]
  },
  {
   "cell_type": "code",
   "execution_count": 1,
   "metadata": {},
   "outputs": [],
   "source": [
    "import pandas as pd  # provides interface for interacting with tabular data\n",
    "import geopandas as gpd  # combines the capabilities of pandas and shapely for geospatial operations\n",
    "from shapely.geometry import Point, Polygon, MultiPolygon  # for manipulating text data into geospatial shapes\n",
    "from shapely import wkt  # stands for \"well known text,\" allows for interchange across GIS programs\n",
    "import rtree  # supports geospatial join\n",
    "import os\n",
    "import fnmatch\n",
    "import numpy as np\n",
    "import matplotlib.pyplot as plt\n",
    "import descartes\n",
    "import sys\n",
    "import sklearn\n",
    "import math\n",
    "from datetime import datetime as dt\n",
    "sys.path.append('C:\\\\Users\\\\jades\\\\1001 Intro to Data Science Notebooks\\\\Project\\\\wildfires-1001\\\\code\\\\functions')\n",
    "from gis_processing import *\n",
    "\n",
    "import warnings\n",
    "warnings.simplefilter('ignore')\n",
    "\n",
    "pd.set_option('display.max_rows', 1000)\n",
    "pd.set_option('display.max_columns', 500)\n",
    "pd.set_option('display.width', 1000)"
   ]
  },
  {
   "cell_type": "code",
   "execution_count": 2,
   "metadata": {},
   "outputs": [],
   "source": [
    "gitdir = 'C:/Users/jades/1001 Intro to Data Science Notebooks/Project/wildfires-1001/'"
   ]
  },
  {
   "cell_type": "code",
   "execution_count": 3,
   "metadata": {},
   "outputs": [],
   "source": [
    "#Import grid data\n",
    "subdir_from = 'data/clean_data/county_grid/'\n",
    "filename_from = 'county_grid.shp'\n",
    "\n",
    "county_grid_map = gpd.read_file(gitdir + subdir_from + filename_from)\n",
    "\n",
    "county_grid_map = county_grid_map.to_crs(crs='epsg:4326')"
   ]
  },
  {
   "cell_type": "code",
   "execution_count": 4,
   "metadata": {},
   "outputs": [],
   "source": [
    "\n",
    "county_grid_map['key'] = 1\n",
    "county_grid_map['centroid'] = county_grid_map.centroid\n",
    "county_grid_map['lat'] = county_grid_map.centroid.y\n",
    "county_grid_map['long'] = county_grid_map.centroid.x\n",
    "\n",
    "county_grid_map_cross = county_grid_map.merge(county_grid_map, how='outer', on='key')\n",
    "\n",
    "county_grid_map_cross['distance'] = ((county_grid_map_cross['lat_x']-county_grid_map_cross['lat_y'])**2 + (county_grid_map_cross['long_x']-county_grid_map_cross['long_y'])**2)**(1/2)"
   ]
  },
  {
   "cell_type": "code",
   "execution_count": 5,
   "metadata": {},
   "outputs": [],
   "source": [
    "#Create the mapping of each grid ID (GRID_ID_x) to its neighbors (GRID_ID_y)\n",
    "distance_thresh = 0.85 #Through iteration, this was the distance that captures the 8 surrounding grids\n",
    "\n",
    "neighbor_map = county_grid_map_cross[(county_grid_map_cross['distance'] > 0) & (county_grid_map_cross['distance'] < distance_thresh)][['GRID_ID_x', 'GRID_ID_y', 'distance']]"
   ]
  },
  {
   "cell_type": "code",
   "execution_count": 6,
   "metadata": {},
   "outputs": [],
   "source": [
    "#Create feature for the count of nearby grids and a multiplier that is 8 over the count (to normalize edge grids)\n",
    "nearby_count = neighbor_map.groupby(neighbor_map['GRID_ID_x']).count()['GRID_ID_y']\n",
    "\n",
    "neighbor_map = neighbor_map.merge(nearby_count, how='left', on='GRID_ID_x')\n",
    "\n",
    "neighbor_map['multiplier'] = 8/neighbor_map['GRID_ID_y_y']\n",
    "\n",
    "neighbor_map = neighbor_map.drop(['distance', 'GRID_ID_y_y'], axis=1)\n",
    "neighbor_map = neighbor_map.rename(columns={\"GRID_ID_x\": \"GRID_ID\", \"GRID_ID_y_x\": \"GRID_ID_adj\"})"
   ]
  },
  {
   "cell_type": "code",
   "execution_count": 7,
   "metadata": {},
   "outputs": [],
   "source": [
    "#Save the mapping df\n",
    "subdir_to = 'data/clean_data/mapping_tables/'\n",
    "filename_to = 'grid_neighbor_map.csv'\n",
    "neighbor_map.to_csv(gitdir + subdir_to + filename_to, index=False)"
   ]
  },
  {
   "cell_type": "markdown",
   "metadata": {},
   "source": [
    "## Visualize/Validate"
   ]
  },
  {
   "cell_type": "code",
   "execution_count": 8,
   "metadata": {},
   "outputs": [
    {
     "data": {
      "text/html": [
       "<div>\n",
       "<style scoped>\n",
       "    .dataframe tbody tr th:only-of-type {\n",
       "        vertical-align: middle;\n",
       "    }\n",
       "\n",
       "    .dataframe tbody tr th {\n",
       "        vertical-align: top;\n",
       "    }\n",
       "\n",
       "    .dataframe thead th {\n",
       "        text-align: right;\n",
       "    }\n",
       "</style>\n",
       "<table border=\"1\" class=\"dataframe\">\n",
       "  <thead>\n",
       "    <tr style=\"text-align: right;\">\n",
       "      <th></th>\n",
       "      <th>GRID_ID_x</th>\n",
       "      <th>GRID_ID_y</th>\n",
       "      <th>distance</th>\n",
       "    </tr>\n",
       "  </thead>\n",
       "  <tbody>\n",
       "    <tr>\n",
       "      <th>946</th>\n",
       "      <td>59.0</td>\n",
       "      <td>74.0</td>\n",
       "      <td>0.383656</td>\n",
       "    </tr>\n",
       "    <tr>\n",
       "      <th>947</th>\n",
       "      <td>59.0</td>\n",
       "      <td>75.0</td>\n",
       "      <td>0.612243</td>\n",
       "    </tr>\n",
       "    <tr>\n",
       "      <th>1057</th>\n",
       "      <td>59.0</td>\n",
       "      <td>73.0</td>\n",
       "      <td>0.575198</td>\n",
       "    </tr>\n",
       "    <tr>\n",
       "      <th>1071</th>\n",
       "      <td>59.0</td>\n",
       "      <td>58.0</td>\n",
       "      <td>0.515047</td>\n",
       "    </tr>\n",
       "  </tbody>\n",
       "</table>\n",
       "</div>"
      ],
      "text/plain": [
       "      GRID_ID_x  GRID_ID_y  distance\n",
       "946        59.0       74.0  0.383656\n",
       "947        59.0       75.0  0.612243\n",
       "1057       59.0       73.0  0.575198\n",
       "1071       59.0       58.0  0.515047"
      ]
     },
     "execution_count": 8,
     "metadata": {},
     "output_type": "execute_result"
    }
   ],
   "source": [
    "#Visualize nearest neighbors (1/2)\n",
    "grid = 59 #Input the grid value you want to check\n",
    "\n",
    "county_grid_map_cross[(county_grid_map_cross['distance'] > 0) & (county_grid_map_cross['distance'] < 0.85) & (county_grid_map_cross['GRID_ID_x'] == grid)][['GRID_ID_x', 'GRID_ID_y', 'distance']]"
   ]
  },
  {
   "cell_type": "code",
   "execution_count": 9,
   "metadata": {},
   "outputs": [
    {
     "data": {
      "text/plain": [
       "<matplotlib.axes._subplots.AxesSubplot at 0x1be1235dc40>"
      ]
     },
     "execution_count": 9,
     "metadata": {},
     "output_type": "execute_result"
    },
    {
     "data": {
      "image/png": "[encoded data removed]",
      "text/plain": [
       "<Figure size 864x864 with 1 Axes>"
      ]
     },
     "metadata": {
      "needs_background": "light"
     },
     "output_type": "display_data"
    }
   ],
   "source": [
    "#Plot (2/2)\n",
    "neighbors = [74,75,73,58] #Copy the GRID_ID_y values above into this list and plot\n",
    "\n",
    "ax = county_grid_map.plot(color = 'white', edgecolor = 'black', figsize = (12,12))\n",
    "county_grid_map[county_grid_map['GRID_ID'].isin([grid])]['centroid'].plot(ax=ax, color = 'red', alpha = 0.5, figsize = (12,12))\n",
    "county_grid_map[county_grid_map['GRID_ID'].isin(neighbors)]['centroid'].plot(ax=ax, color = 'blue', alpha = 0.5, figsize = (12,12))"
   ]
  },
  {
   "cell_type": "code",
   "execution_count": null,
   "metadata": {},
   "outputs": [],
   "source": []
  }
 ],
 "metadata": {
  "kernelspec": {
   "display_name": "Python 3",
   "language": "python",
   "name": "python3"
  },
  "language_info": {
   "codemirror_mode": {
    "name": "ipython",
    "version": 3
   },
   "file_extension": ".py",
   "mimetype": "text/x-python",
   "name": "python",
   "nbconvert_exporter": "python",
   "pygments_lexer": "ipython3",
   "version": "3.8.3"
  }
 },
 "nbformat": 4,
 "nbformat_minor": 4
}
