{
 "cells": [
  {
   "cell_type": "code",
   "execution_count": 9,
   "metadata": {},
   "outputs": [],
   "source": [
    "import pandas as pd  # provides interface for interacting with tabular data\n",
    "import geopandas as gpd  # combines the capabilities of pandas and shapely for geospatial operations\n",
    "from shapely.geometry import Point, Polygon, MultiPolygon  # for manipulating text data into geospatial shapes\n",
    "from shapely import wkt  # stands for \"well known text,\" allows for interchange across GIS programs\n",
    "import rtree  # supports geospatial join\n",
    "import os\n",
    "import fnmatch\n",
    "import numpy as np\n",
    "import matplotlib.pyplot as plt\n",
    "import descartes\n",
    "import sys\n",
    "import sklearn\n",
    "from datetime import datetime as dt, timedelta, date\n",
    "sys.path.append('/Users/saraprice/Documents/NYU/Fall_2020/DS_GA_1001/final_project/wildfires-1001/packages/gpd_lite_toolbox')\n",
    "sys.path.append('/Users/saraprice/Documents/NYU/Fall_2020/DS_GA_1001/final_project/wildfires-1001/code/functions/')\n",
    "from gis_processing import *\n",
    "from target_fire_functions import *\n",
    "import itertools"
   ]
  },
  {
   "cell_type": "code",
   "execution_count": 20,
   "metadata": {},
   "outputs": [],
   "source": [
    "#Load county grid and fire data\n",
    "data_dir = data_dir = '/Users/saraprice/Documents/NYU/Fall_2020/DS_GA_1001/final_project/wildfires-1001/data'\n",
    "county_grid = gpd.read_file(os.path.join(data_dir, 'clean_data/county_grid/county_grid.dbf'))\n",
    "fire_data = gpd.read_file(os.path.join(data_dir, 'clean_data/fire_gis/fire_gis.dbf'))"
   ]
  },
  {
   "cell_type": "code",
   "execution_count": 21,
   "metadata": {},
   "outputs": [],
   "source": [
    "fire_data['start_date'] = pd.to_datetime(fire_data['ALARM_DATE'], format = '%Y-%m-%d', errors = 'coerce')\n",
    "fire_data['end_date'] = pd.to_datetime(fire_data['CONT_DATE'], format = '%Y-%m-%d', errors = 'coerce')\n",
    "fire_data.drop(['ALARM_DATE', 'CONT_DATE'], axis = 1, inplace = True)\n",
    "fire_data.dropna(subset = ['start_date', 'end_date'], inplace = True)\n",
    "fire_data = fire_data[(fire_data['YEAR']>=1990) &  (fire_data['YEAR']<=2018)]"
   ]
  },
  {
   "cell_type": "code",
   "execution_count": 7,
   "metadata": {},
   "outputs": [],
   "source": [
    "county_grid.rename(columns = {'COUNTY_ARE': 'COUNTY_AREA'}, inplace = True)"
   ]
  },
  {
   "cell_type": "markdown",
   "metadata": {},
   "source": [
    "## Target Variable Creation"
   ]
  },
  {
   "cell_type": "code",
   "execution_count": 4,
   "metadata": {},
   "outputs": [],
   "source": [
    "##Start by creating empty array into which we will fill data for selected timeframe and area\n",
    "def generate_target_frame(grid_data, min_year, max_year):\n",
    "    '''\n",
    "    Purpose:\n",
    "    --------\n",
    "    Create shell target dataframe that has dates and grid ids broken down at all time intervals we may be interested in\n",
    "    (days, weeks, and months - creating all of these at once reduces need to merge and combine dataframes later)\n",
    "    Inputs:\n",
    "    ------\n",
    "        - grid_data : GeoDataFrame that will tell us the number of sections of the map for each we want to create observations\n",
    "        - min_year : minimum year for which we want to include training data (inclusive)\n",
    "        - max_year : max year for which we want to include training data (inclusive)\n",
    "    Output(s):\n",
    "    ---------\n",
    "        - target_frame: pandas DataFrame w/ two columns\n",
    "            1. date : will have all dates on the user input time interval between min and max input dates\n",
    "            2. GRID_ID : column of grid ids for each date (i.e. will be colmn with lots of repeated grid ids)\n",
    "                                     \n",
    "    '''\n",
    "    #get number of map sections\n",
    "    n_areas = len(grid_data)\n",
    "    #get number of time intervals\n",
    "    years = max_year - min_year + 1\n",
    "    \n",
    "    #Generate day data first\n",
    "    target_frame = pd.DataFrame(pd.date_range(f'1/1/{min_year}', f'12/31/{max_year}', freq = 'D'), columns = ['date'])\n",
    "    print(target_frame.shape)\n",
    "    #Get year, month, and week values from this date column\n",
    "    target_frame['year'] = target_frame['date'].apply(lambda x:x.year)\n",
    "    target_frame['month'] = target_frame['date'].apply(lambda x:x.month)\n",
    "    target_frame['week'] = target_frame['date'].apply(lambda x:x.week)\n",
    "    \n",
    "    #Generate month data\n",
    "    target_frame['month_id'] = target_frame['year'].astype(str) + '_' + target_frame['month'].astype(str)\n",
    "    \n",
    "    #get min and max date values for each month and then merge back onto full dataframe\n",
    "    month_grp = target_frame[['month_id', 'date']].groupby(['month_id']).agg({'date' : ['min', 'max']}).reset_index()\n",
    "    month_grp.columns = ['_'.join(col).strip() for col in month_grp.columns.values]\n",
    "    month_grp.rename(columns = {'month_id_': 'month_id', 'date_min': 'month_start', 'date_max': 'month_end'}, \\\n",
    "                     inplace = True)\n",
    "    target_frame = target_frame.merge(month_grp, on = 'month_id')\n",
    "    \n",
    "    #Generate week data - deal with weeks that start in december (assign them to the previous year)\n",
    "    target_frame['week_id'] = np.where((target_frame['month'] ==12) & (target_frame['week'] ==1),\n",
    "                                        target_frame['year'].apply(lambda x: str(x+1))+\"_\"+ target_frame['week'].astype(str), \n",
    "                                       target_frame['year'].astype(str) + '_' + target_frame['week'].astype(str))\n",
    "    \n",
    "    #get min and max date values for each month and then merge back onto full dataframe\n",
    "    print(target_frame[(target_frame['week']==1) & (target_frame['month']==12)])\n",
    "    week_grp = target_frame[['week_id', 'date']].groupby(['week_id']).agg({'date' : ['min', 'max']}).reset_index()\n",
    "    week_grp.columns = ['_'.join(col).strip() for col in week_grp.columns.values]\n",
    "    week_grp.rename(columns = {'week_id_': 'week_id', 'date_min': 'week_start', 'date_max': 'week_end'}, \\\n",
    "                     inplace = True)\n",
    "    week_grp.sort_values(['week_start'], inplace = True)\n",
    "    target_frame = target_frame.merge(week_grp, on = 'week_id')\n",
    "    \n",
    "    n_dates = len(target_frame)\n",
    "    #Duplicate dates x # of times for grid sections we have\n",
    "    target_frame = pd.concat([target_frame]*n_areas)\n",
    "    target_frame['GRID_ID'] = list(itertools.chain(*[np.repeat(i, n_dates) for i in grid_data['GRID_ID'].sort_values()]))\n",
    "    target_frame.drop(['year', 'month', 'week'], inplace = True, axis = 1)\n",
    "    return target_frame"
   ]
  },
  {
   "cell_type": "code",
   "execution_count": 27,
   "metadata": {},
   "outputs": [
    {
     "name": "stdout",
     "output_type": "stream",
     "text": [
      "(10957, 1)\n",
      "            date  year  month  week month_id month_start  month_end week_id\n",
      "364   1990-12-31  1990     12     1  1990_12  1990-12-01 1990-12-31  1991_1\n",
      "728   1991-12-30  1991     12     1  1991_12  1991-12-01 1991-12-31  1992_1\n",
      "729   1991-12-31  1991     12     1  1991_12  1991-12-01 1991-12-31  1992_1\n",
      "2555  1996-12-30  1996     12     1  1996_12  1996-12-01 1996-12-31  1997_1\n",
      "2556  1996-12-31  1996     12     1  1996_12  1996-12-01 1996-12-31  1997_1\n",
      "2919  1997-12-29  1997     12     1  1997_12  1997-12-01 1997-12-31  1998_1\n",
      "2920  1997-12-30  1997     12     1  1997_12  1997-12-01 1997-12-31  1998_1\n",
      "2921  1997-12-31  1997     12     1  1997_12  1997-12-01 1997-12-31  1998_1\n",
      "4382  2001-12-31  2001     12     1  2001_12  2001-12-01 2001-12-31  2002_1\n",
      "4746  2002-12-30  2002     12     1  2002_12  2002-12-01 2002-12-31  2003_1\n",
      "4747  2002-12-31  2002     12     1  2002_12  2002-12-01 2002-12-31  2003_1\n",
      "5110  2003-12-29  2003     12     1  2003_12  2003-12-01 2003-12-31  2004_1\n",
      "5111  2003-12-30  2003     12     1  2003_12  2003-12-01 2003-12-31  2004_1\n",
      "5112  2003-12-31  2003     12     1  2003_12  2003-12-01 2003-12-31  2004_1\n",
      "6573  2007-12-31  2007     12     1  2007_12  2007-12-01 2007-12-31  2008_1\n",
      "6937  2008-12-29  2008     12     1  2008_12  2008-12-01 2008-12-31  2009_1\n",
      "6938  2008-12-30  2008     12     1  2008_12  2008-12-01 2008-12-31  2009_1\n",
      "6939  2008-12-31  2008     12     1  2008_12  2008-12-01 2008-12-31  2009_1\n",
      "8400  2012-12-31  2012     12     1  2012_12  2012-12-01 2012-12-31  2013_1\n",
      "8764  2013-12-30  2013     12     1  2013_12  2013-12-01 2013-12-31  2014_1\n",
      "8765  2013-12-31  2013     12     1  2013_12  2013-12-01 2013-12-31  2014_1\n",
      "9128  2014-12-29  2014     12     1  2014_12  2014-12-01 2014-12-31  2015_1\n",
      "9129  2014-12-30  2014     12     1  2014_12  2014-12-01 2014-12-31  2015_1\n",
      "9130  2014-12-31  2014     12     1  2014_12  2014-12-01 2014-12-31  2015_1\n",
      "10591 2018-12-31  2018     12     1  2018_12  2018-12-01 2018-12-31  2019_1\n",
      "10955 2019-12-30  2019     12     1  2019_12  2019-12-01 2019-12-31  2020_1\n",
      "10956 2019-12-31  2019     12     1  2019_12  2019-12-01 2019-12-31  2020_1\n"
     ]
    },
    {
     "data": {
      "text/html": [
       "<div>\n",
       "<style scoped>\n",
       "    .dataframe tbody tr th:only-of-type {\n",
       "        vertical-align: middle;\n",
       "    }\n",
       "\n",
       "    .dataframe tbody tr th {\n",
       "        vertical-align: top;\n",
       "    }\n",
       "\n",
       "    .dataframe thead th {\n",
       "        text-align: right;\n",
       "    }\n",
       "</style>\n",
       "<table border=\"1\" class=\"dataframe\">\n",
       "  <thead>\n",
       "    <tr style=\"text-align: right;\">\n",
       "      <th></th>\n",
       "      <th>date</th>\n",
       "      <th>month_id</th>\n",
       "      <th>month_start</th>\n",
       "      <th>month_end</th>\n",
       "      <th>week_id</th>\n",
       "      <th>week_start</th>\n",
       "      <th>week_end</th>\n",
       "      <th>GRID_ID</th>\n",
       "    </tr>\n",
       "  </thead>\n",
       "  <tbody>\n",
       "    <tr>\n",
       "      <th>0</th>\n",
       "      <td>1990-01-01</td>\n",
       "      <td>1990_1</td>\n",
       "      <td>1990-01-01</td>\n",
       "      <td>1990-01-31</td>\n",
       "      <td>1990_1</td>\n",
       "      <td>1990-01-01</td>\n",
       "      <td>1990-01-07</td>\n",
       "      <td>0.0</td>\n",
       "    </tr>\n",
       "    <tr>\n",
       "      <th>1</th>\n",
       "      <td>1990-01-02</td>\n",
       "      <td>1990_1</td>\n",
       "      <td>1990-01-01</td>\n",
       "      <td>1990-01-31</td>\n",
       "      <td>1990_1</td>\n",
       "      <td>1990-01-01</td>\n",
       "      <td>1990-01-07</td>\n",
       "      <td>0.0</td>\n",
       "    </tr>\n",
       "    <tr>\n",
       "      <th>2</th>\n",
       "      <td>1990-01-03</td>\n",
       "      <td>1990_1</td>\n",
       "      <td>1990-01-01</td>\n",
       "      <td>1990-01-31</td>\n",
       "      <td>1990_1</td>\n",
       "      <td>1990-01-01</td>\n",
       "      <td>1990-01-07</td>\n",
       "      <td>0.0</td>\n",
       "    </tr>\n",
       "    <tr>\n",
       "      <th>3</th>\n",
       "      <td>1990-01-04</td>\n",
       "      <td>1990_1</td>\n",
       "      <td>1990-01-01</td>\n",
       "      <td>1990-01-31</td>\n",
       "      <td>1990_1</td>\n",
       "      <td>1990-01-01</td>\n",
       "      <td>1990-01-07</td>\n",
       "      <td>0.0</td>\n",
       "    </tr>\n",
       "    <tr>\n",
       "      <th>4</th>\n",
       "      <td>1990-01-05</td>\n",
       "      <td>1990_1</td>\n",
       "      <td>1990-01-01</td>\n",
       "      <td>1990-01-31</td>\n",
       "      <td>1990_1</td>\n",
       "      <td>1990-01-01</td>\n",
       "      <td>1990-01-07</td>\n",
       "      <td>0.0</td>\n",
       "    </tr>\n",
       "  </tbody>\n",
       "</table>\n",
       "</div>"
      ],
      "text/plain": [
       "        date month_id month_start  month_end week_id week_start   week_end  \\\n",
       "0 1990-01-01   1990_1  1990-01-01 1990-01-31  1990_1 1990-01-01 1990-01-07   \n",
       "1 1990-01-02   1990_1  1990-01-01 1990-01-31  1990_1 1990-01-01 1990-01-07   \n",
       "2 1990-01-03   1990_1  1990-01-01 1990-01-31  1990_1 1990-01-01 1990-01-07   \n",
       "3 1990-01-04   1990_1  1990-01-01 1990-01-31  1990_1 1990-01-01 1990-01-07   \n",
       "4 1990-01-05   1990_1  1990-01-01 1990-01-31  1990_1 1990-01-01 1990-01-07   \n",
       "\n",
       "   GRID_ID  \n",
       "0      0.0  \n",
       "1      0.0  \n",
       "2      0.0  \n",
       "3      0.0  \n",
       "4      0.0  "
      ]
     },
     "execution_count": 27,
     "metadata": {},
     "output_type": "execute_result"
    }
   ],
   "source": [
    "target_frame = generate_target_frame(county_grid, 1990, 2019)\n",
    "target_frame.head()"
   ]
  },
  {
   "cell_type": "code",
   "execution_count": 11,
   "metadata": {},
   "outputs": [
    {
     "data": {
      "text/html": [
       "<div>\n",
       "<style scoped>\n",
       "    .dataframe tbody tr th:only-of-type {\n",
       "        vertical-align: middle;\n",
       "    }\n",
       "\n",
       "    .dataframe tbody tr th {\n",
       "        vertical-align: top;\n",
       "    }\n",
       "\n",
       "    .dataframe thead th {\n",
       "        text-align: right;\n",
       "    }\n",
       "</style>\n",
       "<table border=\"1\" class=\"dataframe\">\n",
       "  <thead>\n",
       "    <tr style=\"text-align: right;\">\n",
       "      <th></th>\n",
       "      <th>NAME</th>\n",
       "      <th>COUNTYFP</th>\n",
       "      <th>GEOID</th>\n",
       "      <th>ALAND</th>\n",
       "      <th>AWATER</th>\n",
       "      <th>COUNTY_AREA</th>\n",
       "      <th>GRID_AREA</th>\n",
       "      <th>GRID_ID</th>\n",
       "      <th>COUNTY_GRI</th>\n",
       "      <th>COUNTY_G_1</th>\n",
       "      <th>geometry</th>\n",
       "    </tr>\n",
       "  </thead>\n",
       "  <tbody>\n",
       "    <tr>\n",
       "      <th>0</th>\n",
       "      <td>Plumas</td>\n",
       "      <td>063</td>\n",
       "      <td>06063</td>\n",
       "      <td>6612400993</td>\n",
       "      <td>156387635</td>\n",
       "      <td>1.155000e+10</td>\n",
       "      <td>5.041000e+09</td>\n",
       "      <td>49.0</td>\n",
       "      <td>4.936293e+09</td>\n",
       "      <td>0.427385</td>\n",
       "      <td>POLYGON ((-13502275.000 4897930.000, -13431275...</td>\n",
       "    </tr>\n",
       "    <tr>\n",
       "      <th>1</th>\n",
       "      <td>Sierra</td>\n",
       "      <td>091</td>\n",
       "      <td>06091</td>\n",
       "      <td>2468694587</td>\n",
       "      <td>23299110</td>\n",
       "      <td>4.200450e+09</td>\n",
       "      <td>5.041000e+09</td>\n",
       "      <td>50.0</td>\n",
       "      <td>1.535563e+09</td>\n",
       "      <td>0.365571</td>\n",
       "      <td>POLYGON ((-13502275.000 4826930.000, -13431275...</td>\n",
       "    </tr>\n",
       "    <tr>\n",
       "      <th>2</th>\n",
       "      <td>Sierra</td>\n",
       "      <td>091</td>\n",
       "      <td>06091</td>\n",
       "      <td>2468694587</td>\n",
       "      <td>23299110</td>\n",
       "      <td>4.200450e+09</td>\n",
       "      <td>5.041000e+09</td>\n",
       "      <td>65.0</td>\n",
       "      <td>2.544187e+09</td>\n",
       "      <td>0.605694</td>\n",
       "      <td>POLYGON ((-13431275.000 4826930.000, -13360275...</td>\n",
       "    </tr>\n",
       "    <tr>\n",
       "      <th>3</th>\n",
       "      <td>Sacramento</td>\n",
       "      <td>067</td>\n",
       "      <td>06067</td>\n",
       "      <td>2499183617</td>\n",
       "      <td>76073827</td>\n",
       "      <td>4.205267e+09</td>\n",
       "      <td>5.041000e+09</td>\n",
       "      <td>39.0</td>\n",
       "      <td>2.029400e+09</td>\n",
       "      <td>0.482585</td>\n",
       "      <td>POLYGON ((-13573275.000 4684930.000, -13502275...</td>\n",
       "    </tr>\n",
       "    <tr>\n",
       "      <th>4</th>\n",
       "      <td>Contra Costa</td>\n",
       "      <td>013</td>\n",
       "      <td>06013</td>\n",
       "      <td>1871930816</td>\n",
       "      <td>209819213</td>\n",
       "      <td>3.351027e+09</td>\n",
       "      <td>5.041000e+09</td>\n",
       "      <td>40.0</td>\n",
       "      <td>1.618024e+09</td>\n",
       "      <td>0.482844</td>\n",
       "      <td>POLYGON ((-13573275.000 4613930.000, -13502275...</td>\n",
       "    </tr>\n",
       "  </tbody>\n",
       "</table>\n",
       "</div>"
      ],
      "text/plain": [
       "           NAME COUNTYFP  GEOID       ALAND     AWATER   COUNTY_AREA  \\\n",
       "0        Plumas      063  06063  6612400993  156387635  1.155000e+10   \n",
       "1        Sierra      091  06091  2468694587   23299110  4.200450e+09   \n",
       "2        Sierra      091  06091  2468694587   23299110  4.200450e+09   \n",
       "3    Sacramento      067  06067  2499183617   76073827  4.205267e+09   \n",
       "4  Contra Costa      013  06013  1871930816  209819213  3.351027e+09   \n",
       "\n",
       "      GRID_AREA  GRID_ID    COUNTY_GRI  COUNTY_G_1  \\\n",
       "0  5.041000e+09     49.0  4.936293e+09    0.427385   \n",
       "1  5.041000e+09     50.0  1.535563e+09    0.365571   \n",
       "2  5.041000e+09     65.0  2.544187e+09    0.605694   \n",
       "3  5.041000e+09     39.0  2.029400e+09    0.482585   \n",
       "4  5.041000e+09     40.0  1.618024e+09    0.482844   \n",
       "\n",
       "                                            geometry  \n",
       "0  POLYGON ((-13502275.000 4897930.000, -13431275...  \n",
       "1  POLYGON ((-13502275.000 4826930.000, -13431275...  \n",
       "2  POLYGON ((-13431275.000 4826930.000, -13360275...  \n",
       "3  POLYGON ((-13573275.000 4684930.000, -13502275...  \n",
       "4  POLYGON ((-13573275.000 4613930.000, -13502275...  "
      ]
     },
     "execution_count": 11,
     "metadata": {},
     "output_type": "execute_result"
    }
   ],
   "source": [
    "county_grid.head()"
   ]
  },
  {
   "cell_type": "code",
   "execution_count": 14,
   "metadata": {},
   "outputs": [
    {
     "data": {
      "text/html": [
       "<div>\n",
       "<style scoped>\n",
       "    .dataframe tbody tr th:only-of-type {\n",
       "        vertical-align: middle;\n",
       "    }\n",
       "\n",
       "    .dataframe tbody tr th {\n",
       "        vertical-align: top;\n",
       "    }\n",
       "\n",
       "    .dataframe thead th {\n",
       "        text-align: right;\n",
       "    }\n",
       "</style>\n",
       "<table border=\"1\" class=\"dataframe\">\n",
       "  <thead>\n",
       "    <tr style=\"text-align: right;\">\n",
       "      <th></th>\n",
       "      <th>AGENCY</th>\n",
       "      <th>FIRE_NAME</th>\n",
       "      <th>INC_NUM</th>\n",
       "      <th>CAUSE</th>\n",
       "      <th>REPORT_AC</th>\n",
       "      <th>GIS_ACRES</th>\n",
       "      <th>C_METHOD</th>\n",
       "      <th>OBJECTIVE</th>\n",
       "      <th>FIRE_NUM</th>\n",
       "      <th>Shape_Leng</th>\n",
       "      <th>Shape_Area</th>\n",
       "      <th>FIRE_KEY</th>\n",
       "      <th>YEAR</th>\n",
       "      <th>geometry</th>\n",
       "      <th>start_date</th>\n",
       "      <th>end_date</th>\n",
       "    </tr>\n",
       "  </thead>\n",
       "  <tbody>\n",
       "    <tr>\n",
       "      <th>0</th>\n",
       "      <td>CCO</td>\n",
       "      <td>OCTOBER</td>\n",
       "      <td>00246393</td>\n",
       "      <td>14.0</td>\n",
       "      <td>NaN</td>\n",
       "      <td>25.736713</td>\n",
       "      <td>8.0</td>\n",
       "      <td>1.0</td>\n",
       "      <td>00233414</td>\n",
       "      <td>1902.439051</td>\n",
       "      <td>1.041528e+05</td>\n",
       "      <td>OCTOBER_2007_00246393_00233414</td>\n",
       "      <td>2007</td>\n",
       "      <td>POLYGON ((-13191194.231 4080267.936, -13191133...</td>\n",
       "      <td>2007-10-21</td>\n",
       "      <td>2007-10-23</td>\n",
       "    </tr>\n",
       "    <tr>\n",
       "      <th>1</th>\n",
       "      <td>CCO</td>\n",
       "      <td>MAGIC</td>\n",
       "      <td>00233077</td>\n",
       "      <td>14.0</td>\n",
       "      <td>NaN</td>\n",
       "      <td>2824.877197</td>\n",
       "      <td>8.0</td>\n",
       "      <td>1.0</td>\n",
       "      <td>00233077</td>\n",
       "      <td>20407.965662</td>\n",
       "      <td>1.143187e+07</td>\n",
       "      <td>MAGIC_2007_00233077_00233077</td>\n",
       "      <td>2007</td>\n",
       "      <td>POLYGON ((-13200763.900 4085308.071, -13200737...</td>\n",
       "      <td>2007-10-22</td>\n",
       "      <td>2007-10-25</td>\n",
       "    </tr>\n",
       "    <tr>\n",
       "      <th>2</th>\n",
       "      <td>USF</td>\n",
       "      <td>RANCH</td>\n",
       "      <td>00000166</td>\n",
       "      <td>2.0</td>\n",
       "      <td>54716.0</td>\n",
       "      <td>58410.335938</td>\n",
       "      <td>7.0</td>\n",
       "      <td>1.0</td>\n",
       "      <td>00000166</td>\n",
       "      <td>169150.715690</td>\n",
       "      <td>2.363782e+08</td>\n",
       "      <td>RANCH_2007_00000166_00000166</td>\n",
       "      <td>2007</td>\n",
       "      <td>POLYGON ((-13219907.361 4109183.199, -13219694...</td>\n",
       "      <td>2007-10-20</td>\n",
       "      <td>2007-11-15</td>\n",
       "    </tr>\n",
       "    <tr>\n",
       "      <th>3</th>\n",
       "      <td>CCO</td>\n",
       "      <td>EMMA</td>\n",
       "      <td>00201384</td>\n",
       "      <td>14.0</td>\n",
       "      <td>NaN</td>\n",
       "      <td>172.214951</td>\n",
       "      <td>8.0</td>\n",
       "      <td>1.0</td>\n",
       "      <td>00201384</td>\n",
       "      <td>6117.777086</td>\n",
       "      <td>6.969292e+05</td>\n",
       "      <td>EMMA_2007_00201384_00201384</td>\n",
       "      <td>2007</td>\n",
       "      <td>POLYGON ((-13143800.871 4096406.674, -13143793...</td>\n",
       "      <td>2007-09-11</td>\n",
       "      <td>2007-09-11</td>\n",
       "    </tr>\n",
       "    <tr>\n",
       "      <th>4</th>\n",
       "      <td>CCO</td>\n",
       "      <td>CORRAL</td>\n",
       "      <td>00259483</td>\n",
       "      <td>14.0</td>\n",
       "      <td>NaN</td>\n",
       "      <td>4707.997070</td>\n",
       "      <td>8.0</td>\n",
       "      <td>1.0</td>\n",
       "      <td>00259483</td>\n",
       "      <td>22907.182174</td>\n",
       "      <td>1.905259e+07</td>\n",
       "      <td>CORRAL_2007_00259483_00259483</td>\n",
       "      <td>2007</td>\n",
       "      <td>POLYGON ((-13218530.800 4039723.471, -13218504...</td>\n",
       "      <td>2007-11-24</td>\n",
       "      <td>2007-11-27</td>\n",
       "    </tr>\n",
       "  </tbody>\n",
       "</table>\n",
       "</div>"
      ],
      "text/plain": [
       "  AGENCY FIRE_NAME   INC_NUM  CAUSE  REPORT_AC     GIS_ACRES  C_METHOD  \\\n",
       "0    CCO   OCTOBER  00246393   14.0        NaN     25.736713       8.0   \n",
       "1    CCO     MAGIC  00233077   14.0        NaN   2824.877197       8.0   \n",
       "2    USF     RANCH  00000166    2.0    54716.0  58410.335938       7.0   \n",
       "3    CCO      EMMA  00201384   14.0        NaN    172.214951       8.0   \n",
       "4    CCO    CORRAL  00259483   14.0        NaN   4707.997070       8.0   \n",
       "\n",
       "   OBJECTIVE  FIRE_NUM     Shape_Leng    Shape_Area  \\\n",
       "0        1.0  00233414    1902.439051  1.041528e+05   \n",
       "1        1.0  00233077   20407.965662  1.143187e+07   \n",
       "2        1.0  00000166  169150.715690  2.363782e+08   \n",
       "3        1.0  00201384    6117.777086  6.969292e+05   \n",
       "4        1.0  00259483   22907.182174  1.905259e+07   \n",
       "\n",
       "                         FIRE_KEY  YEAR  \\\n",
       "0  OCTOBER_2007_00246393_00233414  2007   \n",
       "1    MAGIC_2007_00233077_00233077  2007   \n",
       "2    RANCH_2007_00000166_00000166  2007   \n",
       "3     EMMA_2007_00201384_00201384  2007   \n",
       "4   CORRAL_2007_00259483_00259483  2007   \n",
       "\n",
       "                                            geometry start_date   end_date  \n",
       "0  POLYGON ((-13191194.231 4080267.936, -13191133... 2007-10-21 2007-10-23  \n",
       "1  POLYGON ((-13200763.900 4085308.071, -13200737... 2007-10-22 2007-10-25  \n",
       "2  POLYGON ((-13219907.361 4109183.199, -13219694... 2007-10-20 2007-11-15  \n",
       "3  POLYGON ((-13143800.871 4096406.674, -13143793... 2007-09-11 2007-09-11  \n",
       "4  POLYGON ((-13218530.800 4039723.471, -13218504... 2007-11-24 2007-11-27  "
      ]
     },
     "execution_count": 14,
     "metadata": {},
     "output_type": "execute_result"
    }
   ],
   "source": [
    "fire_data.head()"
   ]
  },
  {
   "cell_type": "code",
   "execution_count": 22,
   "metadata": {},
   "outputs": [],
   "source": [
    "##Limit fire and grid data to just columns we need for target generate\n",
    "grid_target_subset = county_grid[['NAME', 'COUNTYFP', 'COUNTY_ARE','GRID_AREA', 'GRID_ID', 'geometry']]\n",
    "fire_target_subset = fire_data[['FIRE_AREA', 'FIRE_KEY', 'YEAR', 'start_date', 'end_date', 'geometry']]"
   ]
  },
  {
   "cell_type": "code",
   "execution_count": 9,
   "metadata": {},
   "outputs": [
    {
     "name": "stdout",
     "output_type": "stream",
     "text": [
      "start_date   2007-10-22\n",
      "end_date     2007-10-23\n",
      "Name: 10, dtype: datetime64[ns]\n"
     ]
    },
    {
     "data": {
      "text/plain": [
       "DatetimeIndex([], dtype='datetime64[ns]', freq='W-SUN')"
      ]
     },
     "execution_count": 9,
     "metadata": {},
     "output_type": "execute_result"
    }
   ],
   "source": [
    "print(fire_data[['start_date', 'end_date']].iloc[10])\n",
    "pd.date_range(fire_data['start_date'].iloc[10], fire_data['end_date'].iloc[10], freq = 'w')"
   ]
  },
  {
   "cell_type": "code",
   "execution_count": 52,
   "metadata": {},
   "outputs": [],
   "source": [
    "def disaggregate_fire_data(grid, fire_data):\n",
    "    ''' \n",
    "    Purpose: Create instances of wildfires occuring on a daily level. This function starts with daily because it\n",
    "    is easier to aggregate up once we have all days represented in one dataframe\n",
    "    -------\n",
    "    Inputs:\n",
    "    -------\n",
    "        - grid : GeoDataFrame of grid sections\n",
    "        - fire_data : GeoDataFrame of fire data\n",
    "    '''\n",
    "    #Overlay grid and fire to get intersection geometry (this will create a dataframe with a few more fire\n",
    "    #instances than we had in the plain fire_data \n",
    "    ##** Note that this will automatically exclude grid sections where this is no fire\n",
    "    fire_grid = gpd.overlay(grid, fire_data, how = 'intersection')\n",
    "    fire_grid['FIRE_GRID_INT_AREA'] = fire_grid.geometry.area\n",
    "    fire_grid['FIRE_GRID_INT_AREA'] = fire_grid['FIRE_GRID_INT_AREA'].astype(float)\n",
    "    fire_grid.index = range((len(fire_grid)))\n",
    "    \n",
    "    #create list of fires that had to be dropped due to data isseus (i.e. start date after end date)\n",
    "    fires_dropped = []\n",
    "    disagg_fire = pd.DataFrame()\n",
    "    for row in fire_grid.itertuples():\n",
    "        date_range = pd.date_range(row[list(fire_grid.columns).index('start_date')+1], \\\n",
    "                                   row[list(fire_grid.columns).index('end_date')+1], freq = 'D')\n",
    "        if len(date_range) == 0:\n",
    "            fires_dropped.append(row[list(fire_grid.columns).index('FIRE_KEY')])\n",
    "            continue\n",
    "        dup_fire_data = pd.concat([pd.Series(row[1:], index = list(fire_grid.columns)).to_frame().transpose()]*len(date_range))\n",
    "        dup_fire_data['date'] = date_range\n",
    "        disagg_fire = disagg_fire.append(dup_fire_data, ignore_index = True)\n",
    "        if row[0] in(np.arange(0,9000, 250)):\n",
    "            print(row[0], row[list(fire_grid.columns).index('GRID_ID')+1], len(disagg_fire))\n",
    "            print(disagg_fire['date'].head())\n",
    "    return disagg_fire, fires_dropped\n"
   ]
  },
  {
   "cell_type": "code",
   "execution_count": 24,
   "metadata": {},
   "outputs": [
    {
     "name": "stdout",
     "output_type": "stream",
     "text": [
      "0 49.0 23\n",
      "0   2007-09-03\n",
      "1   2007-09-04\n",
      "2   2007-09-05\n",
      "3   2007-09-06\n",
      "4   2007-09-07\n",
      "Name: date, dtype: datetime64[ns]\n",
      "250 52.0 3324\n",
      "0   2007-09-03\n",
      "1   2007-09-04\n",
      "2   2007-09-05\n",
      "3   2007-09-06\n",
      "4   2007-09-07\n",
      "Name: date, dtype: datetime64[ns]\n",
      "500 90.0 4651\n",
      "0   2007-09-03\n",
      "1   2007-09-04\n",
      "2   2007-09-05\n",
      "3   2007-09-06\n",
      "4   2007-09-07\n",
      "Name: date, dtype: datetime64[ns]\n",
      "750 68.0 6283\n",
      "0   2007-09-03\n",
      "1   2007-09-04\n",
      "2   2007-09-05\n",
      "3   2007-09-06\n",
      "4   2007-09-07\n",
      "Name: date, dtype: datetime64[ns]\n",
      "1000 102.0 8466\n",
      "0   2007-09-03\n",
      "1   2007-09-04\n",
      "2   2007-09-05\n",
      "3   2007-09-06\n",
      "4   2007-09-07\n",
      "Name: date, dtype: datetime64[ns]\n",
      "1250 112.0 9121\n",
      "0   2007-09-03\n",
      "1   2007-09-04\n",
      "2   2007-09-05\n",
      "3   2007-09-06\n",
      "4   2007-09-07\n",
      "Name: date, dtype: datetime64[ns]\n",
      "1500 114.0 9954\n",
      "0   2007-09-03\n",
      "1   2007-09-04\n",
      "2   2007-09-05\n",
      "3   2007-09-06\n",
      "4   2007-09-07\n",
      "Name: date, dtype: datetime64[ns]\n",
      "1750 11.0 11462\n",
      "0   2007-09-03\n",
      "1   2007-09-04\n",
      "2   2007-09-05\n",
      "3   2007-09-06\n",
      "4   2007-09-07\n",
      "Name: date, dtype: datetime64[ns]\n",
      "2000 29.0 12955\n",
      "0   2007-09-03\n",
      "1   2007-09-04\n",
      "2   2007-09-05\n",
      "3   2007-09-06\n",
      "4   2007-09-07\n",
      "Name: date, dtype: datetime64[ns]\n",
      "2250 133.0 14078\n",
      "0   2007-09-03\n",
      "1   2007-09-04\n",
      "2   2007-09-05\n",
      "3   2007-09-06\n",
      "4   2007-09-07\n",
      "Name: date, dtype: datetime64[ns]\n",
      "2500 51.0 14821\n",
      "0   2007-09-03\n",
      "1   2007-09-04\n",
      "2   2007-09-05\n",
      "3   2007-09-06\n",
      "4   2007-09-07\n",
      "Name: date, dtype: datetime64[ns]\n",
      "2750 66.0 16720\n",
      "0   2007-09-03\n",
      "1   2007-09-04\n",
      "2   2007-09-05\n",
      "3   2007-09-06\n",
      "4   2007-09-07\n",
      "Name: date, dtype: datetime64[ns]\n",
      "3000 84.0 27017\n",
      "0   2007-09-03\n",
      "1   2007-09-04\n",
      "2   2007-09-05\n",
      "3   2007-09-06\n",
      "4   2007-09-07\n",
      "Name: date, dtype: datetime64[ns]\n",
      "3250 95.0 30544\n",
      "0   2007-09-03\n",
      "1   2007-09-04\n",
      "2   2007-09-05\n",
      "3   2007-09-06\n",
      "4   2007-09-07\n",
      "Name: date, dtype: datetime64[ns]\n",
      "3500 63.0 34888\n",
      "0   2007-09-03\n",
      "1   2007-09-04\n",
      "2   2007-09-05\n",
      "3   2007-09-06\n",
      "4   2007-09-07\n",
      "Name: date, dtype: datetime64[ns]\n",
      "3750 23.0 40265\n",
      "0   2007-09-03\n",
      "1   2007-09-04\n",
      "2   2007-09-05\n",
      "3   2007-09-06\n",
      "4   2007-09-07\n",
      "Name: date, dtype: datetime64[ns]\n",
      "4000 56.0 42100\n",
      "0   2007-09-03\n",
      "1   2007-09-04\n",
      "2   2007-09-05\n",
      "3   2007-09-06\n",
      "4   2007-09-07\n",
      "Name: date, dtype: datetime64[ns]\n",
      "4250 9.0 45482\n",
      "0   2007-09-03\n",
      "1   2007-09-04\n",
      "2   2007-09-05\n",
      "3   2007-09-06\n",
      "4   2007-09-07\n",
      "Name: date, dtype: datetime64[ns]\n",
      "4500 10.0 49638\n",
      "0   2007-09-03\n",
      "1   2007-09-04\n",
      "2   2007-09-05\n",
      "3   2007-09-06\n",
      "4   2007-09-07\n",
      "Name: date, dtype: datetime64[ns]\n",
      "4750 108.0 59220\n",
      "0   2007-09-03\n",
      "1   2007-09-04\n",
      "2   2007-09-05\n",
      "3   2007-09-06\n",
      "4   2007-09-07\n",
      "Name: date, dtype: datetime64[ns]\n",
      "5000 130.0 63274\n",
      "0   2007-09-03\n",
      "1   2007-09-04\n",
      "2   2007-09-05\n",
      "3   2007-09-06\n",
      "4   2007-09-07\n",
      "Name: date, dtype: datetime64[ns]\n",
      "5250 131.0 65002\n",
      "0   2007-09-03\n",
      "1   2007-09-04\n",
      "2   2007-09-05\n",
      "3   2007-09-06\n",
      "4   2007-09-07\n",
      "Name: date, dtype: datetime64[ns]\n",
      "5500 55.0 66199\n",
      "0   2007-09-03\n",
      "1   2007-09-04\n",
      "2   2007-09-05\n",
      "3   2007-09-06\n",
      "4   2007-09-07\n",
      "Name: date, dtype: datetime64[ns]\n",
      "5750 89.0 69620\n",
      "0   2007-09-03\n",
      "1   2007-09-04\n",
      "2   2007-09-05\n",
      "3   2007-09-06\n",
      "4   2007-09-07\n",
      "Name: date, dtype: datetime64[ns]\n",
      "6000 110.0 70026\n",
      "0   2007-09-03\n",
      "1   2007-09-04\n",
      "2   2007-09-05\n",
      "3   2007-09-06\n",
      "4   2007-09-07\n",
      "Name: date, dtype: datetime64[ns]\n",
      "6250 61.0 71880\n",
      "0   2007-09-03\n",
      "1   2007-09-04\n",
      "2   2007-09-05\n",
      "3   2007-09-06\n",
      "4   2007-09-07\n",
      "Name: date, dtype: datetime64[ns]\n"
     ]
    }
   ],
   "source": [
    "fire_instances, fires_dropped = disaggregate_fire_data(grid_target_subset, fire_target_subset, 1990, 2019)"
   ]
  },
  {
   "cell_type": "code",
   "execution_count": 84,
   "metadata": {},
   "outputs": [],
   "source": [
    "test = gpd.GeoDataFrame(fire_instances, geometry = fire_instances.geometry, crs={'init' :'epsg:3857'})\n",
    "test_max = test[test['FIRE_GRID_INT_AREA']== test['FIRE_GRID_INT_AREA'].max()]"
   ]
  },
  {
   "cell_type": "code",
   "execution_count": 85,
   "metadata": {},
   "outputs": [
    {
     "data": {
      "text/plain": [
       "<AxesSubplot:>"
      ]
     },
     "execution_count": 85,
     "metadata": {},
     "output_type": "execute_result"
    },
    {
     "data": {
      "image/png": "[encoded data removed]",
      "text/plain": [
       "<Figure size 648x648 with 1 Axes>"
      ]
     },
     "metadata": {
      "needs_background": "light"
     },
     "output_type": "display_data"
    }
   ],
   "source": [
    "#Plot this fire data onto the grid\n",
    "ax = county_grid.plot(color = 'white', edgecolor = 'black', figsize = (9,9))\n",
    "test_max.plot(ax=ax, color = 'red', alpha = 0.5, figsize = (9,9))"
   ]
  },
  {
   "cell_type": "markdown",
   "metadata": {},
   "source": [
    "Plot the sections of the grid where we apparently don't have fires against fire map just to make sure visually this tracks"
   ]
  },
  {
   "cell_type": "code",
   "execution_count": 353,
   "metadata": {},
   "outputs": [
    {
     "data": {
      "text/plain": [
       "<AxesSubplot:>"
      ]
     },
     "execution_count": 353,
     "metadata": {},
     "output_type": "execute_result"
    },
    {
     "data": {
      "image/png": "[encoded data removed]",
      "text/plain": [
       "<Figure size 1152x1152 with 1 Axes>"
      ]
     },
     "metadata": {
      "needs_background": "light"
     },
     "output_type": "display_data"
    }
   ],
   "source": [
    "#Plot this fire data onto the grid\n",
    "ax = county_grid.plot(color = 'white', edgecolor = 'black', figsize = (16,16))\n",
    "county_grid[county_grid['GRID_ID'].isin(gs_no_fires)].plot(ax=ax, color = 'blue',figsize = (16,16))\n",
    "fire_data.plot(ax=ax, color = 'red', alpha = 0.5, figsize = (16,16))"
   ]
  },
  {
   "cell_type": "markdown",
   "metadata": {},
   "source": [
    "Merge fire data onto full target dataframe of dates and grid sections that we've generated "
   ]
  },
  {
   "cell_type": "code",
   "execution_count": 28,
   "metadata": {},
   "outputs": [
    {
     "name": "stdout",
     "output_type": "stream",
     "text": [
      "74445\n",
      "1468238\n",
      "(1492566, 19)\n"
     ]
    }
   ],
   "source": [
    "print(len(fire_instances))\n",
    "print(len(target_frame))\n",
    "target_full = pd.merge(target_frame, fire_instances,on = ['date', 'GRID_ID'], how = 'outer') \n",
    "target_full.head()\n",
    "print(target_full.shape)"
   ]
  },
  {
   "cell_type": "markdown",
   "metadata": {},
   "source": [
    "# Create full target dataframe will all target data options by different time intervals"
   ]
  },
  {
   "cell_type": "markdown",
   "metadata": {},
   "source": [
    "### Option 1 : binary flag\n",
    "Create binary 0,1 flag if wildfire occurred in a given grid section for a given time period "
   ]
  },
  {
   "cell_type": "code",
   "execution_count": 30,
   "metadata": {},
   "outputs": [],
   "source": [
    "target_full.sort_values('date', inplace = True)\n",
    "target_full.head()\n",
    "target_full['Y_bin'] = np.where(target_full['FIRE_KEY'].isna()== True, 0, 1)   "
   ]
  },
  {
   "cell_type": "markdown",
   "metadata": {},
   "source": [
    "### Option 2: counts of fires\n",
    "Count the number of distinct fires occurring in any one area on a given day "
   ]
  },
  {
   "cell_type": "code",
   "execution_count": 31,
   "metadata": {},
   "outputs": [
    {
     "name": "stdout",
     "output_type": "stream",
     "text": [
      "(1468238, 3)\n"
     ]
    },
    {
     "data": {
      "text/html": [
       "<div>\n",
       "<style scoped>\n",
       "    .dataframe tbody tr th:only-of-type {\n",
       "        vertical-align: middle;\n",
       "    }\n",
       "\n",
       "    .dataframe tbody tr th {\n",
       "        vertical-align: top;\n",
       "    }\n",
       "\n",
       "    .dataframe thead th {\n",
       "        text-align: right;\n",
       "    }\n",
       "</style>\n",
       "<table border=\"1\" class=\"dataframe\">\n",
       "  <thead>\n",
       "    <tr style=\"text-align: right;\">\n",
       "      <th></th>\n",
       "      <th>date</th>\n",
       "      <th>month_id</th>\n",
       "      <th>month_start</th>\n",
       "      <th>month_end</th>\n",
       "      <th>week_id</th>\n",
       "      <th>week_start</th>\n",
       "      <th>week_end</th>\n",
       "      <th>GRID_ID</th>\n",
       "      <th>NAME</th>\n",
       "      <th>COUNTYFP</th>\n",
       "      <th>...</th>\n",
       "      <th>GRID_AREA</th>\n",
       "      <th>FIRE_AREA</th>\n",
       "      <th>FIRE_KEY</th>\n",
       "      <th>YEAR</th>\n",
       "      <th>start_date</th>\n",
       "      <th>end_date</th>\n",
       "      <th>geometry</th>\n",
       "      <th>FIRE_GRID_INT_AREA</th>\n",
       "      <th>Y_bin</th>\n",
       "      <th>Y_fire_count</th>\n",
       "    </tr>\n",
       "  </thead>\n",
       "  <tbody>\n",
       "    <tr>\n",
       "      <th>0</th>\n",
       "      <td>1990-01-01</td>\n",
       "      <td>1990_1</td>\n",
       "      <td>1990-01-01</td>\n",
       "      <td>1990-01-31</td>\n",
       "      <td>1990_1</td>\n",
       "      <td>1990-01-01</td>\n",
       "      <td>1990-01-07</td>\n",
       "      <td>0</td>\n",
       "      <td>NaN</td>\n",
       "      <td>NaN</td>\n",
       "      <td>...</td>\n",
       "      <td>NaN</td>\n",
       "      <td>NaN</td>\n",
       "      <td>NaN</td>\n",
       "      <td>NaN</td>\n",
       "      <td>NaT</td>\n",
       "      <td>NaT</td>\n",
       "      <td>NaN</td>\n",
       "      <td>NaN</td>\n",
       "      <td>0</td>\n",
       "      <td>0</td>\n",
       "    </tr>\n",
       "    <tr>\n",
       "      <th>1</th>\n",
       "      <td>1990-01-01</td>\n",
       "      <td>1990_1</td>\n",
       "      <td>1990-01-01</td>\n",
       "      <td>1990-01-31</td>\n",
       "      <td>1990_1</td>\n",
       "      <td>1990-01-01</td>\n",
       "      <td>1990-01-07</td>\n",
       "      <td>118</td>\n",
       "      <td>NaN</td>\n",
       "      <td>NaN</td>\n",
       "      <td>...</td>\n",
       "      <td>NaN</td>\n",
       "      <td>NaN</td>\n",
       "      <td>NaN</td>\n",
       "      <td>NaN</td>\n",
       "      <td>NaT</td>\n",
       "      <td>NaT</td>\n",
       "      <td>NaN</td>\n",
       "      <td>NaN</td>\n",
       "      <td>0</td>\n",
       "      <td>0</td>\n",
       "    </tr>\n",
       "    <tr>\n",
       "      <th>2</th>\n",
       "      <td>1990-01-01</td>\n",
       "      <td>1990_1</td>\n",
       "      <td>1990-01-01</td>\n",
       "      <td>1990-01-31</td>\n",
       "      <td>1990_1</td>\n",
       "      <td>1990-01-01</td>\n",
       "      <td>1990-01-07</td>\n",
       "      <td>13</td>\n",
       "      <td>NaN</td>\n",
       "      <td>NaN</td>\n",
       "      <td>...</td>\n",
       "      <td>NaN</td>\n",
       "      <td>NaN</td>\n",
       "      <td>NaN</td>\n",
       "      <td>NaN</td>\n",
       "      <td>NaT</td>\n",
       "      <td>NaT</td>\n",
       "      <td>NaN</td>\n",
       "      <td>NaN</td>\n",
       "      <td>0</td>\n",
       "      <td>0</td>\n",
       "    </tr>\n",
       "    <tr>\n",
       "      <th>3</th>\n",
       "      <td>1990-01-01</td>\n",
       "      <td>1990_1</td>\n",
       "      <td>1990-01-01</td>\n",
       "      <td>1990-01-31</td>\n",
       "      <td>1990_1</td>\n",
       "      <td>1990-01-01</td>\n",
       "      <td>1990-01-07</td>\n",
       "      <td>117</td>\n",
       "      <td>NaN</td>\n",
       "      <td>NaN</td>\n",
       "      <td>...</td>\n",
       "      <td>NaN</td>\n",
       "      <td>NaN</td>\n",
       "      <td>NaN</td>\n",
       "      <td>NaN</td>\n",
       "      <td>NaT</td>\n",
       "      <td>NaT</td>\n",
       "      <td>NaN</td>\n",
       "      <td>NaN</td>\n",
       "      <td>0</td>\n",
       "      <td>0</td>\n",
       "    </tr>\n",
       "    <tr>\n",
       "      <th>4</th>\n",
       "      <td>1990-01-01</td>\n",
       "      <td>1990_1</td>\n",
       "      <td>1990-01-01</td>\n",
       "      <td>1990-01-31</td>\n",
       "      <td>1990_1</td>\n",
       "      <td>1990-01-01</td>\n",
       "      <td>1990-01-07</td>\n",
       "      <td>116</td>\n",
       "      <td>NaN</td>\n",
       "      <td>NaN</td>\n",
       "      <td>...</td>\n",
       "      <td>NaN</td>\n",
       "      <td>NaN</td>\n",
       "      <td>NaN</td>\n",
       "      <td>NaN</td>\n",
       "      <td>NaT</td>\n",
       "      <td>NaT</td>\n",
       "      <td>NaN</td>\n",
       "      <td>NaN</td>\n",
       "      <td>0</td>\n",
       "      <td>0</td>\n",
       "    </tr>\n",
       "  </tbody>\n",
       "</table>\n",
       "<p>5 rows × 21 columns</p>\n",
       "</div>"
      ],
      "text/plain": [
       "        date month_id month_start  month_end week_id week_start   week_end  \\\n",
       "0 1990-01-01   1990_1  1990-01-01 1990-01-31  1990_1 1990-01-01 1990-01-07   \n",
       "1 1990-01-01   1990_1  1990-01-01 1990-01-31  1990_1 1990-01-01 1990-01-07   \n",
       "2 1990-01-01   1990_1  1990-01-01 1990-01-31  1990_1 1990-01-01 1990-01-07   \n",
       "3 1990-01-01   1990_1  1990-01-01 1990-01-31  1990_1 1990-01-01 1990-01-07   \n",
       "4 1990-01-01   1990_1  1990-01-01 1990-01-31  1990_1 1990-01-01 1990-01-07   \n",
       "\n",
       "  GRID_ID NAME COUNTYFP  ... GRID_AREA FIRE_AREA FIRE_KEY YEAR start_date  \\\n",
       "0       0  NaN      NaN  ...       NaN       NaN      NaN  NaN        NaT   \n",
       "1     118  NaN      NaN  ...       NaN       NaN      NaN  NaN        NaT   \n",
       "2      13  NaN      NaN  ...       NaN       NaN      NaN  NaN        NaT   \n",
       "3     117  NaN      NaN  ...       NaN       NaN      NaN  NaN        NaT   \n",
       "4     116  NaN      NaN  ...       NaN       NaN      NaN  NaN        NaT   \n",
       "\n",
       "  end_date geometry FIRE_GRID_INT_AREA Y_bin  Y_fire_count  \n",
       "0      NaT      NaN                NaN     0             0  \n",
       "1      NaT      NaN                NaN     0             0  \n",
       "2      NaT      NaN                NaN     0             0  \n",
       "3      NaT      NaN                NaN     0             0  \n",
       "4      NaT      NaN                NaN     0             0  \n",
       "\n",
       "[5 rows x 21 columns]"
      ]
     },
     "execution_count": 31,
     "metadata": {},
     "output_type": "execute_result"
    }
   ],
   "source": [
    "target_fire_count = target_full[['date', 'GRID_ID', 'FIRE_KEY']].groupby(['date', 'GRID_ID']).count().reset_index()\n",
    "target_fire_count.rename(columns = {'FIRE_KEY': 'Y_fire_count'}, inplace = True)\n",
    "print(target_fire_count.shape)\n",
    "#Merge onto target_options\n",
    "target_full = target_full.merge(target_fire_count, on = ['date', 'GRID_ID'])\n",
    "target_full.head()"
   ]
  },
  {
   "cell_type": "markdown",
   "metadata": {},
   "source": [
    "### Option 3: area of fires"
   ]
  },
  {
   "cell_type": "code",
   "execution_count": 51,
   "metadata": {},
   "outputs": [
    {
     "data": {
      "text/plain": [
       "count     7.444500e+04\n",
       "unique    6.442000e+03\n",
       "top       3.601862e+06\n",
       "freq      3.320000e+03\n",
       "Name: FIRE_GRID_INT_AREA, dtype: float64"
      ]
     },
     "execution_count": 51,
     "metadata": {},
     "output_type": "execute_result"
    }
   ],
   "source": [
    "target_full['FIRE_GRID_INT_AREA'].describe()"
   ]
  },
  {
   "cell_type": "code",
   "execution_count": 57,
   "metadata": {},
   "outputs": [
    {
     "name": "stdout",
     "output_type": "stream",
     "text": [
      "count    1.492566e+06\n",
      "mean     2.036108e+06\n",
      "std      2.920200e+07\n",
      "min      0.000000e+00\n",
      "25%      0.000000e+00\n",
      "50%      0.000000e+00\n",
      "75%      0.000000e+00\n",
      "max      1.651920e+09\n",
      "Name: FIRE_GRID_INT_AREA, dtype: float64\n",
      "count    7.444500e+04\n",
      "mean     8.496664e-03\n",
      "std      2.589507e-02\n",
      "min      1.826890e-09\n",
      "25%      7.333799e-05\n",
      "50%      7.145135e-04\n",
      "75%      4.570981e-03\n",
      "max      3.276969e-01\n",
      "Name: Y_fire_area_prop, dtype: float64\n"
     ]
    }
   ],
   "source": [
    "### Option 3: area of fires\n",
    "target_full['FIRE_GRID_INT_AREA'] = target_full['FIRE_GRID_INT_AREA'].fillna(0).astype(float) \n",
    "print(target_full['FIRE_GRID_INT_AREA'].describe())\n",
    "target_full['Y_fire_area_prop'] = np.where(target_full['FIRE_GRID_INT_AREA'].isna(), 0, \n",
    "                                           target_full['FIRE_GRID_INT_AREA']/target_full['GRID_AREA'])\n",
    "target_full['Y_fire_area_prop'] = target_full['Y_fire_area_prop'].astype(float)\n",
    "print(target_full[target_full['Y_fire_area_prop']!=0]['Y_fire_area_prop'].describe())"
   ]
  },
  {
   "cell_type": "markdown",
   "metadata": {},
   "source": [
    "### Option 4: fire class size"
   ]
  },
  {
   "cell_type": "code",
   "execution_count": 33,
   "metadata": {},
   "outputs": [
    {
     "name": "stdout",
     "output_type": "stream",
     "text": [
      "0    0.0\n",
      "1    0.0\n",
      "2    0.0\n",
      "3    0.0\n",
      "4    0.0\n",
      "Name: FIRE_ACRES, dtype: float64\n",
      "count     74445.000000\n",
      "mean      12663.841653\n",
      "std       40748.433972\n",
      "min           0.001357\n",
      "25%          62.979526\n",
      "50%         552.472735\n",
      "75%        5570.187226\n",
      "max      410202.494043\n",
      "Name: FIRE_ACRES, dtype: float64\n"
     ]
    }
   ],
   "source": [
    "target_full['FIRE_ACRES'] = target_full['FIRE_AREA'].fillna(0)* 0.0002471054\n",
    "print(target_full['FIRE_ACRES'].head())\n",
    "print(target_full[target_full['FIRE_ACRES']!=0]['FIRE_ACRES'].describe())"
   ]
  },
  {
   "cell_type": "code",
   "execution_count": 34,
   "metadata": {},
   "outputs": [],
   "source": [
    "## Uses NWCG fire size class code https://www.nwcg.gov/sites/default/files/data-standards/pdf/values.pdf\n",
    "target_full['Y_fire_class_size'] = np.where(target_full['FIRE_ACRES']== 0, 0, \n",
    "                                          np.where((target_full['FIRE_ACRES']>0) &\\\n",
    "                                                   (target_full['FIRE_ACRES']<100), 1,\n",
    "                                          np.where((target_full['FIRE_ACRES']>=100) & \\\n",
    "                                                   (target_full['FIRE_ACRES']<1000), 2,\n",
    "                                                   np.where((target_full['FIRE_ACRES']>=1000) & \\\n",
    "                                                            (target_full['FIRE_ACRES']< 5000) , 3,\n",
    "                                                            np.where(target_full['FIRE_ACRES']>=5000, 4, 0)))))"
   ]
  },
  {
   "cell_type": "code",
   "execution_count": 35,
   "metadata": {},
   "outputs": [
    {
     "data": {
      "text/plain": [
       "0    1418121\n",
       "1      21707\n",
       "4      19125\n",
       "2      19026\n",
       "3      14587\n",
       "Name: Y_fire_class_size, dtype: int64"
      ]
     },
     "execution_count": 35,
     "metadata": {},
     "output_type": "execute_result"
    }
   ],
   "source": [
    "target_full['Y_fire_class_size'].value_counts()"
   ]
  },
  {
   "cell_type": "code",
   "execution_count": 36,
   "metadata": {},
   "outputs": [],
   "source": [
    "target_full.drop(['NAME', 'COUNTYFP', 'COUNTY_ARE', 'GRID_AREA'], axis = 1, inplace = True)"
   ]
  },
  {
   "cell_type": "code",
   "execution_count": 38,
   "metadata": {},
   "outputs": [
    {
     "name": "stdout",
     "output_type": "stream",
     "text": [
      "(1492566, 20)\n",
      "        date month_id month_start  month_end week_id week_start   week_end  \\\n",
      "0 1990-01-01   1990_1  1990-01-01 1990-01-31  1990_1 1990-01-01 1990-01-07   \n",
      "1 1990-01-02   1990_1  1990-01-01 1990-01-31  1990_1 1990-01-01 1990-01-07   \n",
      "2 1990-01-03   1990_1  1990-01-01 1990-01-31  1990_1 1990-01-01 1990-01-07   \n",
      "3 1990-01-04   1990_1  1990-01-01 1990-01-31  1990_1 1990-01-01 1990-01-07   \n",
      "4 1990-01-05   1990_1  1990-01-01 1990-01-31  1990_1 1990-01-01 1990-01-07   \n",
      "\n",
      "  GRID_ID FIRE_AREA FIRE_KEY  ... FIRE_GRID_INT_AREA Y_bin Y_fire_count  \\\n",
      "0       0       NaN      NaN  ...                NaN     0            0   \n",
      "1       0       NaN      NaN  ...                NaN     0            0   \n",
      "2       0       NaN      NaN  ...                NaN     0            0   \n",
      "3       0       NaN      NaN  ...                NaN     0            0   \n",
      "4       0       NaN      NaN  ...                NaN     0            0   \n",
      "\n",
      "  Y_fire_area_prop FIRE_ACRES  Y_fire_class_size       NAME COUNTYFP  \\\n",
      "0                0        0.0                  0  Del Norte      015   \n",
      "1                0        0.0                  0  Del Norte      015   \n",
      "2                0        0.0                  0  Del Norte      015   \n",
      "3                0        0.0                  0  Del Norte      015   \n",
      "4                0        0.0                  0  Del Norte      015   \n",
      "\n",
      "     COUNTY_ARE     GRID_AREA  \n",
      "0  5.725577e+09  2.665977e+09  \n",
      "1  5.725577e+09  2.665977e+09  \n",
      "2  5.725577e+09  2.665977e+09  \n",
      "3  5.725577e+09  2.665977e+09  \n",
      "4  5.725577e+09  2.665977e+09  \n",
      "\n",
      "[5 rows x 24 columns]\n"
     ]
    }
   ],
   "source": [
    "print(target_full.shape)\n",
    "target_full = target_full.merge(grid_target_subset[['NAME', 'COUNTYFP', 'COUNTY_ARE', 'GRID_AREA', 'GRID_ID']], on = ['GRID_ID'])\n",
    "print(target_full.head())"
   ]
  },
  {
   "cell_type": "code",
   "execution_count": 39,
   "metadata": {},
   "outputs": [
    {
     "name": "stdout",
     "output_type": "stream",
     "text": [
      "FIRE_AREA\n",
      "FIRE_KEY\n",
      "YEAR\n",
      "start_date\n",
      "end_date\n",
      "geometry\n",
      "FIRE_GRID_INT_AREA\n"
     ]
    }
   ],
   "source": [
    "for col in target_full.columns:\n",
    "    if len(target_full[target_full[col].isna()])> 0:\n",
    "        print(col)"
   ]
  },
  {
   "cell_type": "code",
   "execution_count": 40,
   "metadata": {},
   "outputs": [],
   "source": [
    "### Output full target data (note that the geometry in this is for the fire area in each grid section)\n",
    "target_full_gpd = gpd.GeoDataFrame(target_full, geometry = target_full.geometry)"
   ]
  },
  {
   "cell_type": "code",
   "execution_count": 89,
   "metadata": {},
   "outputs": [
    {
     "data": {
      "text/plain": [
       "['date',\n",
       " 'month_id',\n",
       " 'month_start',\n",
       " 'month_end',\n",
       " 'week_id',\n",
       " 'week_start',\n",
       " 'week_end',\n",
       " 'GRID_ID',\n",
       " 'FIRE_AREA',\n",
       " 'FIRE_KEY',\n",
       " 'YEAR',\n",
       " 'start_date',\n",
       " 'end_date',\n",
       " 'geometry',\n",
       " 'FIRE_GRID_INT_AREA',\n",
       " 'FIRE_ACRES',\n",
       " 'Y_fire_class_size',\n",
       " 'Y_bin',\n",
       " 'Y_fire_count',\n",
       " 'Y_fire_area_prop',\n",
       " 'NAME',\n",
       " 'COUNTYFP',\n",
       " 'COUNTY_ARE',\n",
       " 'GRID_AREA']"
      ]
     },
     "execution_count": 89,
     "metadata": {},
     "output_type": "execute_result"
    }
   ],
   "source": [
    "target_full_gpd.columns.tolist()"
   ]
  },
  {
   "cell_type": "code",
   "execution_count": 41,
   "metadata": {},
   "outputs": [],
   "source": [
    "n_rows = np.round(len(target_full_gpd)/4,0).astype(int)\n",
    "target_full_gpd.iloc[:n_rows].to_pickle(os.path.join(data_dir, 'clean_data/target_full_1.pkl'))\n",
    "target_full_gpd.iloc[n_rows:2*n_rows].to_pickle(os.path.join(data_dir, 'clean_data/target_full_2.pkl'))\n",
    "target_full_gpd.iloc[2*n_rows:3*n_rows].to_pickle(os.path.join(data_dir, 'clean_data/target_full_3.pkl'))\n",
    "target_full_gpd.iloc[3*n_rows:].to_pickle(os.path.join(data_dir, 'clean_data/target_full_4.pkl'))"
   ]
  },
  {
   "cell_type": "code",
   "execution_count": 42,
   "metadata": {},
   "outputs": [
    {
     "data": {
      "text/html": [
       "<div>\n",
       "<style scoped>\n",
       "    .dataframe tbody tr th:only-of-type {\n",
       "        vertical-align: middle;\n",
       "    }\n",
       "\n",
       "    .dataframe tbody tr th {\n",
       "        vertical-align: top;\n",
       "    }\n",
       "\n",
       "    .dataframe thead th {\n",
       "        text-align: right;\n",
       "    }\n",
       "</style>\n",
       "<table border=\"1\" class=\"dataframe\">\n",
       "  <thead>\n",
       "    <tr style=\"text-align: right;\">\n",
       "      <th></th>\n",
       "      <th>date</th>\n",
       "      <th>month_id</th>\n",
       "      <th>month_start</th>\n",
       "      <th>month_end</th>\n",
       "      <th>week_id</th>\n",
       "      <th>week_start</th>\n",
       "      <th>week_end</th>\n",
       "      <th>GRID_ID</th>\n",
       "      <th>FIRE_AREA</th>\n",
       "      <th>FIRE_KEY</th>\n",
       "      <th>...</th>\n",
       "      <th>FIRE_GRID_INT_AREA</th>\n",
       "      <th>Y_bin</th>\n",
       "      <th>Y_fire_count</th>\n",
       "      <th>Y_fire_area_prop</th>\n",
       "      <th>FIRE_ACRES</th>\n",
       "      <th>Y_fire_class_size</th>\n",
       "      <th>NAME</th>\n",
       "      <th>COUNTYFP</th>\n",
       "      <th>COUNTY_ARE</th>\n",
       "      <th>GRID_AREA</th>\n",
       "    </tr>\n",
       "  </thead>\n",
       "  <tbody>\n",
       "  </tbody>\n",
       "</table>\n",
       "<p>0 rows × 24 columns</p>\n",
       "</div>"
      ],
      "text/plain": [
       "Empty GeoDataFrame\n",
       "Columns: [date, month_id, month_start, month_end, week_id, week_start, week_end, GRID_ID, FIRE_AREA, FIRE_KEY, YEAR, start_date, end_date, geometry, FIRE_GRID_INT_AREA, Y_bin, Y_fire_count, Y_fire_area_prop, FIRE_ACRES, Y_fire_class_size, NAME, COUNTYFP, COUNTY_ARE, GRID_AREA]\n",
       "Index: []\n",
       "\n",
       "[0 rows x 24 columns]"
      ]
     },
     "execution_count": 42,
     "metadata": {},
     "output_type": "execute_result"
    }
   ],
   "source": [
    "target_full_gpd[target_full_gpd['month_id'].isna()]"
   ]
  },
  {
   "cell_type": "code",
   "execution_count": 564,
   "metadata": {},
   "outputs": [],
   "source": [
    "y = pd.read_pickle(os.path.join(data_dir, 'clean_data/target_full.pkl'))"
   ]
  },
  {
   "cell_type": "code",
   "execution_count": 566,
   "metadata": {},
   "outputs": [
    {
     "data": {
      "text/plain": [
       "geopandas.geodataframe.GeoDataFrame"
      ]
     },
     "execution_count": 566,
     "metadata": {},
     "output_type": "execute_result"
    }
   ],
   "source": []
  }
 ],
 "metadata": {
  "kernelspec": {
   "display_name": "Python 3",
   "language": "python",
   "name": "python3"
  },
  "language_info": {
   "codemirror_mode": {
    "name": "ipython",
    "version": 3
   },
   "file_extension": ".py",
   "mimetype": "text/x-python",
   "name": "python",
   "nbconvert_exporter": "python",
   "pygments_lexer": "ipython3",
   "version": "3.8.3"
  }
 },
 "nbformat": 4,
 "nbformat_minor": 4
}
