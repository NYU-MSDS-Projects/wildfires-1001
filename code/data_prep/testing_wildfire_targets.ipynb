{
 "cells": [
  {
   "cell_type": "code",
   "execution_count": 2,
   "metadata": {},
   "outputs": [],
   "source": [
    "import pandas as pd  # provides interface for interacting with tabular data\n",
    "import geopandas as gpd  # combines the capabilities of pandas and shapely for geospatial operations\n",
    "from shapely.geometry import Point, Polygon, MultiPolygon  # for manipulating text data into geospatial shapes\n",
    "from shapely import wkt  # stands for \"well known text,\" allows for interchange across GIS programs\n",
    "import rtree  # supports geospatial join\n",
    "import os\n",
    "import fnmatch\n",
    "import numpy as np\n",
    "import matplotlib.pyplot as plt\n",
    "import descartes\n",
    "import sys\n",
    "import sklearn\n",
    "from datetime import datetime as dt, timedelta, date\n",
    "sys.path.append('/Users/saraprice/Documents/NYU/Fall_2020/DS_GA_1001/final_project/wildfires-1001/packages/gpd_lite_toolbox')\n",
    "sys.path.append('/Users/saraprice/Documents/NYU/Fall_2020/DS_GA_1001/final_project/wildfires-1001/code/functions/')\n",
    "from gis_processing import *\n",
    "from target_fire_functions import *\n",
    "import itertools"
   ]
  },
  {
   "cell_type": "code",
   "execution_count": 3,
   "metadata": {},
   "outputs": [],
   "source": [
    "#Load county grid and fire data\n",
    "data_dir = data_dir = '/Users/saraprice/Documents/NYU/Fall_2020/DS_GA_1001/final_project/wildfires-1001/data'\n",
    "county_grid = gpd.read_file(os.path.join(data_dir, 'clean_data/county_grid/county_grid.dbf'))\n",
    "fire_data = gpd.read_file(os.path.join(data_dir, 'clean_data/fire_gis/fire_gis.dbf'))"
   ]
  },
  {
   "cell_type": "code",
   "execution_count": 4,
   "metadata": {},
   "outputs": [],
   "source": [
    "fire_data['start_date'] = pd.to_datetime(fire_data['ALARM_DATE'], format = '%Y-%m-%d', errors = 'coerce')\n",
    "fire_data['end_date'] = pd.to_datetime(fire_data['CONT_DATE'], format = '%Y-%m-%d', errors = 'coerce')\n",
    "fire_data.drop(['ALARM_DATE', 'CONT_DATE'], axis = 1, inplace = True)\n",
    "fire_data.dropna(subset = ['start_date', 'end_date'], inplace = True)\n",
    "fire_data = fire_data[(fire_data['YEAR']>=1990) &  (fire_data['YEAR']<=2018)]"
   ]
  },
  {
   "cell_type": "code",
   "execution_count": 5,
   "metadata": {},
   "outputs": [],
   "source": [
    "county_grid.rename(columns = {'COUNTY_ARE': 'COUNTY_AREA'}, inplace = True)"
   ]
  },
  {
   "cell_type": "markdown",
   "metadata": {},
   "source": [
    "## Target Variable Creation"
   ]
  },
  {
   "cell_type": "code",
   "execution_count": 6,
   "metadata": {},
   "outputs": [],
   "source": [
    "##Start by creating empty array into which we will fill data for selected timeframe and area\n",
    "def generate_target_frame(grid_data, min_year, max_year):\n",
    "    '''\n",
    "    Purpose:\n",
    "    --------\n",
    "    Create shell target dataframe that has dates and grid ids broken down at all time intervals we may be interested in\n",
    "    (days, weeks, and months - creating all of these at once reduces need to merge and combine dataframes later)\n",
    "    Inputs:\n",
    "    ------\n",
    "        - grid_data : GeoDataFrame that will tell us the number of sections of the map for each we want to create observations\n",
    "        - min_year : minimum year for which we want to include training data (inclusive)\n",
    "        - max_year : max year for which we want to include training data (inclusive)\n",
    "    Output(s):\n",
    "    ---------\n",
    "        - target_frame: pandas DataFrame w/ two columns\n",
    "            1. date : will have all dates on the user input time interval between min and max input dates\n",
    "            2. GRID_ID : column of grid ids for each date (i.e. will be colmn with lots of repeated grid ids)\n",
    "                                     \n",
    "    '''\n",
    "    #get number of map sections\n",
    "    n_areas = len(grid_data)\n",
    "    #get number of time intervals\n",
    "    years = max_year - min_year + 1\n",
    "    \n",
    "    #Generate day data first\n",
    "    target_frame = pd.DataFrame(pd.date_range(f'1/1/{min_year}', f'12/31/{max_year}', freq = 'D'), columns = ['date'])\n",
    "    print(target_frame.shape)\n",
    "    #Get year, month, and week values from this date column\n",
    "    target_frame['year'] = target_frame['date'].apply(lambda x:x.year)\n",
    "    target_frame['month'] = target_frame['date'].apply(lambda x:x.month)\n",
    "    target_frame['week'] = target_frame['date'].apply(lambda x:x.week)\n",
    "    \n",
    "    #Generate month data\n",
    "    target_frame['month_id'] = target_frame['year'].astype(str) + '_' + target_frame['month'].astype(str)\n",
    "    \n",
    "    #get min and max date values for each month and then merge back onto full dataframe\n",
    "    month_grp = target_frame[['month_id', 'date']].groupby(['month_id']).agg({'date' : ['min', 'max']}).reset_index()\n",
    "    month_grp.columns = ['_'.join(col).strip() for col in month_grp.columns.values]\n",
    "    month_grp.rename(columns = {'month_id_': 'month_id', 'date_min': 'month_start', 'date_max': 'month_end'}, \\\n",
    "                     inplace = True)\n",
    "    target_frame = target_frame.merge(month_grp, on = 'month_id')\n",
    "    \n",
    "    #Generate week data - deal with weeks that start in december (assign them to the previous year)\n",
    "    target_frame['week_id'] = np.where((target_frame['month'] ==12) & (target_frame['week'] ==1),\n",
    "                                        target_frame['year'].apply(lambda x: str(x+1))+\"_\"+ target_frame['week'].astype(str), \n",
    "                                       target_frame['year'].astype(str) + '_' + target_frame['week'].astype(str))\n",
    "    \n",
    "    #get min and max date values for each month and then merge back onto full dataframe\n",
    "    print(target_frame[(target_frame['week']==1) & (target_frame['month']==12)])\n",
    "    week_grp = target_frame[['week_id', 'date']].groupby(['week_id']).agg({'date' : ['min', 'max']}).reset_index()\n",
    "    week_grp.columns = ['_'.join(col).strip() for col in week_grp.columns.values]\n",
    "    week_grp.rename(columns = {'week_id_': 'week_id', 'date_min': 'week_start', 'date_max': 'week_end'}, \\\n",
    "                     inplace = True)\n",
    "    week_grp.sort_values(['week_start'], inplace = True)\n",
    "    target_frame = target_frame.merge(week_grp, on = 'week_id')\n",
    "    \n",
    "    n_dates = len(target_frame)\n",
    "    #Duplicate dates x # of times for grid sections we have\n",
    "    target_frame = pd.concat([target_frame]*n_areas)\n",
    "    target_frame['GRID_ID'] = list(itertools.chain(*[np.repeat(i, n_dates) for i in grid_data['GRID_ID'].sort_values()]))\n",
    "    target_frame.drop(['year', 'month', 'week'], inplace = True, axis = 1)\n",
    "    return target_frame"
   ]
  },
  {
   "cell_type": "code",
   "execution_count": 7,
   "metadata": {},
   "outputs": [
    {
     "name": "stdout",
     "output_type": "stream",
     "text": [
      "(10957, 1)\n",
      "            date  year  month  week month_id month_start  month_end week_id\n",
      "364   1990-12-31  1990     12     1  1990_12  1990-12-01 1990-12-31  1991_1\n",
      "728   1991-12-30  1991     12     1  1991_12  1991-12-01 1991-12-31  1992_1\n",
      "729   1991-12-31  1991     12     1  1991_12  1991-12-01 1991-12-31  1992_1\n",
      "2555  1996-12-30  1996     12     1  1996_12  1996-12-01 1996-12-31  1997_1\n",
      "2556  1996-12-31  1996     12     1  1996_12  1996-12-01 1996-12-31  1997_1\n",
      "2919  1997-12-29  1997     12     1  1997_12  1997-12-01 1997-12-31  1998_1\n",
      "2920  1997-12-30  1997     12     1  1997_12  1997-12-01 1997-12-31  1998_1\n",
      "2921  1997-12-31  1997     12     1  1997_12  1997-12-01 1997-12-31  1998_1\n",
      "4382  2001-12-31  2001     12     1  2001_12  2001-12-01 2001-12-31  2002_1\n",
      "4746  2002-12-30  2002     12     1  2002_12  2002-12-01 2002-12-31  2003_1\n",
      "4747  2002-12-31  2002     12     1  2002_12  2002-12-01 2002-12-31  2003_1\n",
      "5110  2003-12-29  2003     12     1  2003_12  2003-12-01 2003-12-31  2004_1\n",
      "5111  2003-12-30  2003     12     1  2003_12  2003-12-01 2003-12-31  2004_1\n",
      "5112  2003-12-31  2003     12     1  2003_12  2003-12-01 2003-12-31  2004_1\n",
      "6573  2007-12-31  2007     12     1  2007_12  2007-12-01 2007-12-31  2008_1\n",
      "6937  2008-12-29  2008     12     1  2008_12  2008-12-01 2008-12-31  2009_1\n",
      "6938  2008-12-30  2008     12     1  2008_12  2008-12-01 2008-12-31  2009_1\n",
      "6939  2008-12-31  2008     12     1  2008_12  2008-12-01 2008-12-31  2009_1\n",
      "8400  2012-12-31  2012     12     1  2012_12  2012-12-01 2012-12-31  2013_1\n",
      "8764  2013-12-30  2013     12     1  2013_12  2013-12-01 2013-12-31  2014_1\n",
      "8765  2013-12-31  2013     12     1  2013_12  2013-12-01 2013-12-31  2014_1\n",
      "9128  2014-12-29  2014     12     1  2014_12  2014-12-01 2014-12-31  2015_1\n",
      "9129  2014-12-30  2014     12     1  2014_12  2014-12-01 2014-12-31  2015_1\n",
      "9130  2014-12-31  2014     12     1  2014_12  2014-12-01 2014-12-31  2015_1\n",
      "10591 2018-12-31  2018     12     1  2018_12  2018-12-01 2018-12-31  2019_1\n",
      "10955 2019-12-30  2019     12     1  2019_12  2019-12-01 2019-12-31  2020_1\n",
      "10956 2019-12-31  2019     12     1  2019_12  2019-12-01 2019-12-31  2020_1\n"
     ]
    },
    {
     "data": {
      "text/html": [
       "<div>\n",
       "<style scoped>\n",
       "    .dataframe tbody tr th:only-of-type {\n",
       "        vertical-align: middle;\n",
       "    }\n",
       "\n",
       "    .dataframe tbody tr th {\n",
       "        vertical-align: top;\n",
       "    }\n",
       "\n",
       "    .dataframe thead th {\n",
       "        text-align: right;\n",
       "    }\n",
       "</style>\n",
       "<table border=\"1\" class=\"dataframe\">\n",
       "  <thead>\n",
       "    <tr style=\"text-align: right;\">\n",
       "      <th></th>\n",
       "      <th>date</th>\n",
       "      <th>month_id</th>\n",
       "      <th>month_start</th>\n",
       "      <th>month_end</th>\n",
       "      <th>week_id</th>\n",
       "      <th>week_start</th>\n",
       "      <th>week_end</th>\n",
       "      <th>GRID_ID</th>\n",
       "    </tr>\n",
       "  </thead>\n",
       "  <tbody>\n",
       "    <tr>\n",
       "      <th>0</th>\n",
       "      <td>1990-01-01</td>\n",
       "      <td>1990_1</td>\n",
       "      <td>1990-01-01</td>\n",
       "      <td>1990-01-31</td>\n",
       "      <td>1990_1</td>\n",
       "      <td>1990-01-01</td>\n",
       "      <td>1990-01-07</td>\n",
       "      <td>0.0</td>\n",
       "    </tr>\n",
       "    <tr>\n",
       "      <th>1</th>\n",
       "      <td>1990-01-02</td>\n",
       "      <td>1990_1</td>\n",
       "      <td>1990-01-01</td>\n",
       "      <td>1990-01-31</td>\n",
       "      <td>1990_1</td>\n",
       "      <td>1990-01-01</td>\n",
       "      <td>1990-01-07</td>\n",
       "      <td>0.0</td>\n",
       "    </tr>\n",
       "    <tr>\n",
       "      <th>2</th>\n",
       "      <td>1990-01-03</td>\n",
       "      <td>1990_1</td>\n",
       "      <td>1990-01-01</td>\n",
       "      <td>1990-01-31</td>\n",
       "      <td>1990_1</td>\n",
       "      <td>1990-01-01</td>\n",
       "      <td>1990-01-07</td>\n",
       "      <td>0.0</td>\n",
       "    </tr>\n",
       "    <tr>\n",
       "      <th>3</th>\n",
       "      <td>1990-01-04</td>\n",
       "      <td>1990_1</td>\n",
       "      <td>1990-01-01</td>\n",
       "      <td>1990-01-31</td>\n",
       "      <td>1990_1</td>\n",
       "      <td>1990-01-01</td>\n",
       "      <td>1990-01-07</td>\n",
       "      <td>0.0</td>\n",
       "    </tr>\n",
       "    <tr>\n",
       "      <th>4</th>\n",
       "      <td>1990-01-05</td>\n",
       "      <td>1990_1</td>\n",
       "      <td>1990-01-01</td>\n",
       "      <td>1990-01-31</td>\n",
       "      <td>1990_1</td>\n",
       "      <td>1990-01-01</td>\n",
       "      <td>1990-01-07</td>\n",
       "      <td>0.0</td>\n",
       "    </tr>\n",
       "  </tbody>\n",
       "</table>\n",
       "</div>"
      ],
      "text/plain": [
       "        date month_id month_start  month_end week_id week_start   week_end  \\\n",
       "0 1990-01-01   1990_1  1990-01-01 1990-01-31  1990_1 1990-01-01 1990-01-07   \n",
       "1 1990-01-02   1990_1  1990-01-01 1990-01-31  1990_1 1990-01-01 1990-01-07   \n",
       "2 1990-01-03   1990_1  1990-01-01 1990-01-31  1990_1 1990-01-01 1990-01-07   \n",
       "3 1990-01-04   1990_1  1990-01-01 1990-01-31  1990_1 1990-01-01 1990-01-07   \n",
       "4 1990-01-05   1990_1  1990-01-01 1990-01-31  1990_1 1990-01-01 1990-01-07   \n",
       "\n",
       "   GRID_ID  \n",
       "0      0.0  \n",
       "1      0.0  \n",
       "2      0.0  \n",
       "3      0.0  \n",
       "4      0.0  "
      ]
     },
     "execution_count": 7,
     "metadata": {},
     "output_type": "execute_result"
    }
   ],
   "source": [
    "target_frame = generate_target_frame(county_grid, 1990, 2019)\n",
    "target_frame.head()"
   ]
  },
  {
   "cell_type": "code",
   "execution_count": 9,
   "metadata": {},
   "outputs": [],
   "source": [
    "##Limit fire and grid data to just columns we need for target generate\n",
    "grid_target_subset = county_grid[['NAME', 'COUNTYFP', 'COUNTY_AREA','GRID_AREA', 'GRID_ID', 'geometry']]\n",
    "fire_target_subset = fire_data[['FIRE_AREA', 'FIRE_KEY', 'YEAR', 'start_date', 'end_date', 'geometry']]"
   ]
  },
  {
   "cell_type": "code",
   "execution_count": 10,
   "metadata": {},
   "outputs": [
    {
     "name": "stdout",
     "output_type": "stream",
     "text": [
      "start_date   2007-10-22\n",
      "end_date     2007-10-23\n",
      "Name: 10, dtype: datetime64[ns]\n"
     ]
    },
    {
     "data": {
      "text/plain": [
       "DatetimeIndex([], dtype='datetime64[ns]', freq='W-SUN')"
      ]
     },
     "execution_count": 10,
     "metadata": {},
     "output_type": "execute_result"
    }
   ],
   "source": [
    "print(fire_data[['start_date', 'end_date']].iloc[10])\n",
    "pd.date_range(fire_data['start_date'].iloc[10], fire_data['end_date'].iloc[10], freq = 'w')"
   ]
  },
  {
   "cell_type": "code",
   "execution_count": 11,
   "metadata": {},
   "outputs": [],
   "source": [
    "def disaggregate_fire_data(grid, fire_data):\n",
    "    ''' \n",
    "    Purpose: Create instances of wildfires occuring on a daily level. This function starts with daily because it\n",
    "    is easier to aggregate up once we have all days represented in one dataframe\n",
    "    -------\n",
    "    Inputs:\n",
    "    -------\n",
    "        - grid : GeoDataFrame of grid sections\n",
    "        - fire_data : GeoDataFrame of fire data\n",
    "    '''\n",
    "    #Overlay grid and fire to get intersection geometry (this will create a dataframe with a few more fire\n",
    "    #instances than we had in the plain fire_data \n",
    "    ##** Note that this will automatically exclude grid sections where this is no fire\n",
    "    fire_grid = gpd.overlay(grid, fire_data, how = 'intersection')\n",
    "    fire_grid['FIRE_GRID_INT_AREA'] = fire_grid.geometry.area\n",
    "    fire_grid['FIRE_GRID_INT_AREA'] = fire_grid['FIRE_GRID_INT_AREA'].astype(float)\n",
    "    fire_grid.index = range((len(fire_grid)))\n",
    "    \n",
    "    #create list of fires that had to be dropped due to data isseus (i.e. start date after end date)\n",
    "    fires_dropped = []\n",
    "    disagg_fire = pd.DataFrame()\n",
    "    for row in fire_grid.itertuples():\n",
    "        date_range = pd.date_range(row[list(fire_grid.columns).index('start_date')+1], \\\n",
    "                                   row[list(fire_grid.columns).index('end_date')+1], freq = 'D')\n",
    "        if len(date_range) == 0:\n",
    "            fires_dropped.append(row[list(fire_grid.columns).index('FIRE_KEY')])\n",
    "            continue\n",
    "        dup_fire_data = pd.concat([pd.Series(row[1:], index = list(fire_grid.columns)).to_frame().transpose()]*len(date_range))\n",
    "        dup_fire_data['date'] = date_range\n",
    "        disagg_fire = disagg_fire.append(dup_fire_data, ignore_index = True)\n",
    "        if row[0] in(np.arange(0,9000, 250)):\n",
    "            print(row[0], row[list(fire_grid.columns).index('GRID_ID')+1], len(disagg_fire))\n",
    "            print(disagg_fire['date'].head())\n",
    "    return disagg_fire, fires_dropped\n"
   ]
  },
  {
   "cell_type": "code",
   "execution_count": 13,
   "metadata": {},
   "outputs": [
    {
     "name": "stdout",
     "output_type": "stream",
     "text": [
      "0 49.0 23\n",
      "0   2007-09-03\n",
      "1   2007-09-04\n",
      "2   2007-09-05\n",
      "3   2007-09-06\n",
      "4   2007-09-07\n",
      "Name: date, dtype: datetime64[ns]\n",
      "250 52.0 3324\n",
      "0   2007-09-03\n",
      "1   2007-09-04\n",
      "2   2007-09-05\n",
      "3   2007-09-06\n",
      "4   2007-09-07\n",
      "Name: date, dtype: datetime64[ns]\n",
      "500 90.0 4651\n",
      "0   2007-09-03\n",
      "1   2007-09-04\n",
      "2   2007-09-05\n",
      "3   2007-09-06\n",
      "4   2007-09-07\n",
      "Name: date, dtype: datetime64[ns]\n",
      "750 68.0 6283\n",
      "0   2007-09-03\n",
      "1   2007-09-04\n",
      "2   2007-09-05\n",
      "3   2007-09-06\n",
      "4   2007-09-07\n",
      "Name: date, dtype: datetime64[ns]\n",
      "1000 102.0 8466\n",
      "0   2007-09-03\n",
      "1   2007-09-04\n",
      "2   2007-09-05\n",
      "3   2007-09-06\n",
      "4   2007-09-07\n",
      "Name: date, dtype: datetime64[ns]\n",
      "1250 112.0 9121\n",
      "0   2007-09-03\n",
      "1   2007-09-04\n",
      "2   2007-09-05\n",
      "3   2007-09-06\n",
      "4   2007-09-07\n",
      "Name: date, dtype: datetime64[ns]\n",
      "1500 114.0 9954\n",
      "0   2007-09-03\n",
      "1   2007-09-04\n",
      "2   2007-09-05\n",
      "3   2007-09-06\n",
      "4   2007-09-07\n",
      "Name: date, dtype: datetime64[ns]\n",
      "1750 11.0 11462\n",
      "0   2007-09-03\n",
      "1   2007-09-04\n",
      "2   2007-09-05\n",
      "3   2007-09-06\n",
      "4   2007-09-07\n",
      "Name: date, dtype: datetime64[ns]\n",
      "2000 29.0 12955\n",
      "0   2007-09-03\n",
      "1   2007-09-04\n",
      "2   2007-09-05\n",
      "3   2007-09-06\n",
      "4   2007-09-07\n",
      "Name: date, dtype: datetime64[ns]\n",
      "2250 133.0 14078\n",
      "0   2007-09-03\n",
      "1   2007-09-04\n",
      "2   2007-09-05\n",
      "3   2007-09-06\n",
      "4   2007-09-07\n",
      "Name: date, dtype: datetime64[ns]\n",
      "2500 51.0 14821\n",
      "0   2007-09-03\n",
      "1   2007-09-04\n",
      "2   2007-09-05\n",
      "3   2007-09-06\n",
      "4   2007-09-07\n",
      "Name: date, dtype: datetime64[ns]\n",
      "2750 66.0 16720\n",
      "0   2007-09-03\n",
      "1   2007-09-04\n",
      "2   2007-09-05\n",
      "3   2007-09-06\n",
      "4   2007-09-07\n",
      "Name: date, dtype: datetime64[ns]\n",
      "3000 84.0 27017\n",
      "0   2007-09-03\n",
      "1   2007-09-04\n",
      "2   2007-09-05\n",
      "3   2007-09-06\n",
      "4   2007-09-07\n",
      "Name: date, dtype: datetime64[ns]\n",
      "3250 95.0 30544\n",
      "0   2007-09-03\n",
      "1   2007-09-04\n",
      "2   2007-09-05\n",
      "3   2007-09-06\n",
      "4   2007-09-07\n",
      "Name: date, dtype: datetime64[ns]\n",
      "3500 63.0 34888\n",
      "0   2007-09-03\n",
      "1   2007-09-04\n",
      "2   2007-09-05\n",
      "3   2007-09-06\n",
      "4   2007-09-07\n",
      "Name: date, dtype: datetime64[ns]\n",
      "3750 23.0 40265\n",
      "0   2007-09-03\n",
      "1   2007-09-04\n",
      "2   2007-09-05\n",
      "3   2007-09-06\n",
      "4   2007-09-07\n",
      "Name: date, dtype: datetime64[ns]\n",
      "4000 56.0 42100\n",
      "0   2007-09-03\n",
      "1   2007-09-04\n",
      "2   2007-09-05\n",
      "3   2007-09-06\n",
      "4   2007-09-07\n",
      "Name: date, dtype: datetime64[ns]\n",
      "4250 9.0 45482\n",
      "0   2007-09-03\n",
      "1   2007-09-04\n",
      "2   2007-09-05\n",
      "3   2007-09-06\n",
      "4   2007-09-07\n",
      "Name: date, dtype: datetime64[ns]\n",
      "4500 10.0 49638\n",
      "0   2007-09-03\n",
      "1   2007-09-04\n",
      "2   2007-09-05\n",
      "3   2007-09-06\n",
      "4   2007-09-07\n",
      "Name: date, dtype: datetime64[ns]\n",
      "4750 108.0 59220\n",
      "0   2007-09-03\n",
      "1   2007-09-04\n",
      "2   2007-09-05\n",
      "3   2007-09-06\n",
      "4   2007-09-07\n",
      "Name: date, dtype: datetime64[ns]\n",
      "5000 130.0 63274\n",
      "0   2007-09-03\n",
      "1   2007-09-04\n",
      "2   2007-09-05\n",
      "3   2007-09-06\n",
      "4   2007-09-07\n",
      "Name: date, dtype: datetime64[ns]\n",
      "5250 131.0 65002\n",
      "0   2007-09-03\n",
      "1   2007-09-04\n",
      "2   2007-09-05\n",
      "3   2007-09-06\n",
      "4   2007-09-07\n",
      "Name: date, dtype: datetime64[ns]\n",
      "5500 55.0 66199\n",
      "0   2007-09-03\n",
      "1   2007-09-04\n",
      "2   2007-09-05\n",
      "3   2007-09-06\n",
      "4   2007-09-07\n",
      "Name: date, dtype: datetime64[ns]\n",
      "5750 89.0 69620\n",
      "0   2007-09-03\n",
      "1   2007-09-04\n",
      "2   2007-09-05\n",
      "3   2007-09-06\n",
      "4   2007-09-07\n",
      "Name: date, dtype: datetime64[ns]\n",
      "6000 110.0 70026\n",
      "0   2007-09-03\n",
      "1   2007-09-04\n",
      "2   2007-09-05\n",
      "3   2007-09-06\n",
      "4   2007-09-07\n",
      "Name: date, dtype: datetime64[ns]\n",
      "6250 61.0 71880\n",
      "0   2007-09-03\n",
      "1   2007-09-04\n",
      "2   2007-09-05\n",
      "3   2007-09-06\n",
      "4   2007-09-07\n",
      "Name: date, dtype: datetime64[ns]\n"
     ]
    }
   ],
   "source": [
    "fire_instances, fires_dropped = disaggregate_fire_data(grid_target_subset, fire_target_subset)"
   ]
  },
  {
   "cell_type": "code",
   "execution_count": 14,
   "metadata": {},
   "outputs": [
    {
     "name": "stderr",
     "output_type": "stream",
     "text": [
      "/Applications/anaconda3/envs/geopandas_env/lib/python3.8/site-packages/pyproj/crs/crs.py:53: FutureWarning: '+init=<authority>:<code>' syntax is deprecated. '<authority>:<code>' is the preferred initialization method. When making the change, be mindful of axis order changes: https://pyproj4.github.io/pyproj/stable/gotchas.html#axis-order-changes-in-proj-6\n",
      "  return _prepare_from_string(\" \".join(pjargs))\n"
     ]
    }
   ],
   "source": [
    "test = gpd.GeoDataFrame(fire_instances, geometry = fire_instances.geometry, crs={'init' :'epsg:3857'})\n",
    "test_max = test[test['FIRE_GRID_INT_AREA']== test['FIRE_GRID_INT_AREA'].max()]"
   ]
  },
  {
   "cell_type": "code",
   "execution_count": 15,
   "metadata": {},
   "outputs": [
    {
     "data": {
      "text/plain": [
       "<AxesSubplot:>"
      ]
     },
     "execution_count": 15,
     "metadata": {},
     "output_type": "execute_result"
    },
    {
     "data": {
      "image/png": "[encoded data removed]",
      "text/plain": [
       "<Figure size 648x648 with 1 Axes>"
      ]
     },
     "metadata": {
      "needs_background": "light"
     },
     "output_type": "display_data"
    }
   ],
   "source": [
    "#Plot this fire data onto the grid\n",
    "ax = county_grid.plot(color = 'white', edgecolor = 'black', figsize = (9,9))\n",
    "test_max.plot(ax=ax, color = 'red', alpha = 0.5, figsize = (9,9))"
   ]
  },
  {
   "cell_type": "markdown",
   "metadata": {},
   "source": [
    "Plot the sections of the grid where we apparently don't have fires against fire map just to make sure visually this tracks"
   ]
  },
  {
   "cell_type": "markdown",
   "metadata": {},
   "source": [
    "Merge fire data onto full target dataframe of dates and grid sections that we've generated "
   ]
  },
  {
   "cell_type": "code",
   "execution_count": 86,
   "metadata": {},
   "outputs": [
    {
     "name": "stdout",
     "output_type": "stream",
     "text": [
      "74445\n",
      "1468238\n",
      "(1492566, 19)\n"
     ]
    }
   ],
   "source": [
    "print(len(fire_instances))\n",
    "print(len(target_frame))\n",
    "target_full = pd.merge(target_frame, fire_instances,on = ['date', 'GRID_ID'], how = 'outer') \n",
    "target_full.head()\n",
    "print(target_full.shape)"
   ]
  },
  {
   "cell_type": "markdown",
   "metadata": {},
   "source": [
    "# Create full target dataframe will all target data options by different time intervals"
   ]
  },
  {
   "cell_type": "markdown",
   "metadata": {},
   "source": [
    "### Option 1 : binary flag\n",
    "Create binary 0,1 flag if wildfire occurred in a given grid section for a given time period "
   ]
  },
  {
   "cell_type": "code",
   "execution_count": 87,
   "metadata": {},
   "outputs": [],
   "source": [
    "target_full.sort_values('date', inplace = True)\n",
    "target_full.head()\n",
    "target_full['Y_bin'] = np.where(target_full['FIRE_KEY'].isna()== True, 0, 1)   "
   ]
  },
  {
   "cell_type": "markdown",
   "metadata": {},
   "source": [
    "### Option 2: counts of fires\n",
    "Count the number of distinct fires occurring in any one area on a given day "
   ]
  },
  {
   "cell_type": "code",
   "execution_count": 88,
   "metadata": {},
   "outputs": [
    {
     "name": "stdout",
     "output_type": "stream",
     "text": [
      "(1468238, 3)\n"
     ]
    },
    {
     "data": {
      "text/html": [
       "<div>\n",
       "<style scoped>\n",
       "    .dataframe tbody tr th:only-of-type {\n",
       "        vertical-align: middle;\n",
       "    }\n",
       "\n",
       "    .dataframe tbody tr th {\n",
       "        vertical-align: top;\n",
       "    }\n",
       "\n",
       "    .dataframe thead th {\n",
       "        text-align: right;\n",
       "    }\n",
       "</style>\n",
       "<table border=\"1\" class=\"dataframe\">\n",
       "  <thead>\n",
       "    <tr style=\"text-align: right;\">\n",
       "      <th></th>\n",
       "      <th>date</th>\n",
       "      <th>month_id</th>\n",
       "      <th>month_start</th>\n",
       "      <th>month_end</th>\n",
       "      <th>week_id</th>\n",
       "      <th>week_start</th>\n",
       "      <th>week_end</th>\n",
       "      <th>GRID_ID</th>\n",
       "      <th>NAME</th>\n",
       "      <th>COUNTYFP</th>\n",
       "      <th>...</th>\n",
       "      <th>GRID_AREA</th>\n",
       "      <th>FIRE_AREA</th>\n",
       "      <th>FIRE_KEY</th>\n",
       "      <th>YEAR</th>\n",
       "      <th>start_date</th>\n",
       "      <th>end_date</th>\n",
       "      <th>geometry</th>\n",
       "      <th>FIRE_GRID_INT_AREA</th>\n",
       "      <th>Y_bin</th>\n",
       "      <th>Y_fire_count</th>\n",
       "    </tr>\n",
       "  </thead>\n",
       "  <tbody>\n",
       "    <tr>\n",
       "      <th>0</th>\n",
       "      <td>1990-01-01</td>\n",
       "      <td>1990_1</td>\n",
       "      <td>1990-01-01</td>\n",
       "      <td>1990-01-31</td>\n",
       "      <td>1990_1</td>\n",
       "      <td>1990-01-01</td>\n",
       "      <td>1990-01-07</td>\n",
       "      <td>0</td>\n",
       "      <td>NaN</td>\n",
       "      <td>NaN</td>\n",
       "      <td>...</td>\n",
       "      <td>NaN</td>\n",
       "      <td>NaN</td>\n",
       "      <td>NaN</td>\n",
       "      <td>NaN</td>\n",
       "      <td>NaT</td>\n",
       "      <td>NaT</td>\n",
       "      <td>None</td>\n",
       "      <td>NaN</td>\n",
       "      <td>0</td>\n",
       "      <td>0</td>\n",
       "    </tr>\n",
       "    <tr>\n",
       "      <th>1</th>\n",
       "      <td>1990-01-01</td>\n",
       "      <td>1990_1</td>\n",
       "      <td>1990-01-01</td>\n",
       "      <td>1990-01-31</td>\n",
       "      <td>1990_1</td>\n",
       "      <td>1990-01-01</td>\n",
       "      <td>1990-01-07</td>\n",
       "      <td>118</td>\n",
       "      <td>NaN</td>\n",
       "      <td>NaN</td>\n",
       "      <td>...</td>\n",
       "      <td>NaN</td>\n",
       "      <td>NaN</td>\n",
       "      <td>NaN</td>\n",
       "      <td>NaN</td>\n",
       "      <td>NaT</td>\n",
       "      <td>NaT</td>\n",
       "      <td>None</td>\n",
       "      <td>NaN</td>\n",
       "      <td>0</td>\n",
       "      <td>0</td>\n",
       "    </tr>\n",
       "    <tr>\n",
       "      <th>2</th>\n",
       "      <td>1990-01-01</td>\n",
       "      <td>1990_1</td>\n",
       "      <td>1990-01-01</td>\n",
       "      <td>1990-01-31</td>\n",
       "      <td>1990_1</td>\n",
       "      <td>1990-01-01</td>\n",
       "      <td>1990-01-07</td>\n",
       "      <td>13</td>\n",
       "      <td>NaN</td>\n",
       "      <td>NaN</td>\n",
       "      <td>...</td>\n",
       "      <td>NaN</td>\n",
       "      <td>NaN</td>\n",
       "      <td>NaN</td>\n",
       "      <td>NaN</td>\n",
       "      <td>NaT</td>\n",
       "      <td>NaT</td>\n",
       "      <td>None</td>\n",
       "      <td>NaN</td>\n",
       "      <td>0</td>\n",
       "      <td>0</td>\n",
       "    </tr>\n",
       "    <tr>\n",
       "      <th>3</th>\n",
       "      <td>1990-01-01</td>\n",
       "      <td>1990_1</td>\n",
       "      <td>1990-01-01</td>\n",
       "      <td>1990-01-31</td>\n",
       "      <td>1990_1</td>\n",
       "      <td>1990-01-01</td>\n",
       "      <td>1990-01-07</td>\n",
       "      <td>117</td>\n",
       "      <td>NaN</td>\n",
       "      <td>NaN</td>\n",
       "      <td>...</td>\n",
       "      <td>NaN</td>\n",
       "      <td>NaN</td>\n",
       "      <td>NaN</td>\n",
       "      <td>NaN</td>\n",
       "      <td>NaT</td>\n",
       "      <td>NaT</td>\n",
       "      <td>None</td>\n",
       "      <td>NaN</td>\n",
       "      <td>0</td>\n",
       "      <td>0</td>\n",
       "    </tr>\n",
       "    <tr>\n",
       "      <th>4</th>\n",
       "      <td>1990-01-01</td>\n",
       "      <td>1990_1</td>\n",
       "      <td>1990-01-01</td>\n",
       "      <td>1990-01-31</td>\n",
       "      <td>1990_1</td>\n",
       "      <td>1990-01-01</td>\n",
       "      <td>1990-01-07</td>\n",
       "      <td>116</td>\n",
       "      <td>NaN</td>\n",
       "      <td>NaN</td>\n",
       "      <td>...</td>\n",
       "      <td>NaN</td>\n",
       "      <td>NaN</td>\n",
       "      <td>NaN</td>\n",
       "      <td>NaN</td>\n",
       "      <td>NaT</td>\n",
       "      <td>NaT</td>\n",
       "      <td>None</td>\n",
       "      <td>NaN</td>\n",
       "      <td>0</td>\n",
       "      <td>0</td>\n",
       "    </tr>\n",
       "  </tbody>\n",
       "</table>\n",
       "<p>5 rows × 21 columns</p>\n",
       "</div>"
      ],
      "text/plain": [
       "        date month_id month_start  month_end week_id week_start   week_end  \\\n",
       "0 1990-01-01   1990_1  1990-01-01 1990-01-31  1990_1 1990-01-01 1990-01-07   \n",
       "1 1990-01-01   1990_1  1990-01-01 1990-01-31  1990_1 1990-01-01 1990-01-07   \n",
       "2 1990-01-01   1990_1  1990-01-01 1990-01-31  1990_1 1990-01-01 1990-01-07   \n",
       "3 1990-01-01   1990_1  1990-01-01 1990-01-31  1990_1 1990-01-01 1990-01-07   \n",
       "4 1990-01-01   1990_1  1990-01-01 1990-01-31  1990_1 1990-01-01 1990-01-07   \n",
       "\n",
       "  GRID_ID NAME COUNTYFP  ... GRID_AREA FIRE_AREA FIRE_KEY YEAR start_date  \\\n",
       "0       0  NaN      NaN  ...       NaN       NaN      NaN  NaN        NaT   \n",
       "1     118  NaN      NaN  ...       NaN       NaN      NaN  NaN        NaT   \n",
       "2      13  NaN      NaN  ...       NaN       NaN      NaN  NaN        NaT   \n",
       "3     117  NaN      NaN  ...       NaN       NaN      NaN  NaN        NaT   \n",
       "4     116  NaN      NaN  ...       NaN       NaN      NaN  NaN        NaT   \n",
       "\n",
       "  end_date geometry FIRE_GRID_INT_AREA Y_bin  Y_fire_count  \n",
       "0      NaT     None                NaN     0             0  \n",
       "1      NaT     None                NaN     0             0  \n",
       "2      NaT     None                NaN     0             0  \n",
       "3      NaT     None                NaN     0             0  \n",
       "4      NaT     None                NaN     0             0  \n",
       "\n",
       "[5 rows x 21 columns]"
      ]
     },
     "execution_count": 88,
     "metadata": {},
     "output_type": "execute_result"
    }
   ],
   "source": [
    "target_fire_count = target_full[['date', 'GRID_ID', 'FIRE_KEY']].groupby(['date', 'GRID_ID']).count().reset_index()\n",
    "target_fire_count.rename(columns = {'FIRE_KEY': 'Y_fire_count'}, inplace = True)\n",
    "print(target_fire_count.shape)\n",
    "#Merge onto target_options\n",
    "target_full = target_full.merge(target_fire_count, on = ['date', 'GRID_ID'])\n",
    "target_full.head()"
   ]
  },
  {
   "cell_type": "markdown",
   "metadata": {},
   "source": [
    "### Option 3: area of fires"
   ]
  },
  {
   "cell_type": "code",
   "execution_count": 89,
   "metadata": {},
   "outputs": [
    {
     "data": {
      "text/plain": [
       "count     7.444500e+04\n",
       "unique    6.442000e+03\n",
       "top       3.601862e+06\n",
       "freq      3.320000e+03\n",
       "Name: FIRE_GRID_INT_AREA, dtype: float64"
      ]
     },
     "execution_count": 89,
     "metadata": {},
     "output_type": "execute_result"
    }
   ],
   "source": [
    "target_full['FIRE_GRID_INT_AREA'].describe()"
   ]
  },
  {
   "cell_type": "code",
   "execution_count": 90,
   "metadata": {},
   "outputs": [
    {
     "name": "stdout",
     "output_type": "stream",
     "text": [
      "count    1.492566e+06\n",
      "mean     2.036108e+06\n",
      "std      2.920200e+07\n",
      "min      0.000000e+00\n",
      "25%      0.000000e+00\n",
      "50%      0.000000e+00\n",
      "75%      0.000000e+00\n",
      "max      1.651920e+09\n",
      "Name: FIRE_GRID_INT_AREA, dtype: float64\n",
      "count    7.444500e+04\n",
      "mean     8.496664e-03\n",
      "std      2.589507e-02\n",
      "min      1.826890e-09\n",
      "25%      7.333799e-05\n",
      "50%      7.145135e-04\n",
      "75%      4.570981e-03\n",
      "max      3.276969e-01\n",
      "Name: Y_fire_area_prop, dtype: float64\n"
     ]
    }
   ],
   "source": [
    "### Option 3: area of fires\n",
    "target_full['FIRE_GRID_INT_AREA'] = target_full['FIRE_GRID_INT_AREA'].fillna(0).astype(float) \n",
    "print(target_full['FIRE_GRID_INT_AREA'].describe())\n",
    "target_full['Y_fire_area_prop'] = np.where(target_full['FIRE_GRID_INT_AREA'].isna(), 0, \n",
    "                                           target_full['FIRE_GRID_INT_AREA']/target_full['GRID_AREA'])\n",
    "target_full['Y_fire_area_prop'] = target_full['Y_fire_area_prop'].astype(float)\n",
    "print(target_full[target_full['Y_fire_area_prop']!=0]['Y_fire_area_prop'].describe())"
   ]
  },
  {
   "cell_type": "markdown",
   "metadata": {},
   "source": [
    "### Option 4: fire class size"
   ]
  },
  {
   "cell_type": "code",
   "execution_count": 91,
   "metadata": {},
   "outputs": [
    {
     "name": "stdout",
     "output_type": "stream",
     "text": [
      "0    0.0\n",
      "1    0.0\n",
      "2    0.0\n",
      "3    0.0\n",
      "4    0.0\n",
      "Name: FIRE_ACRES, dtype: float64\n",
      "count     74445.000000\n",
      "mean      12663.841653\n",
      "std       40748.433972\n",
      "min           0.001357\n",
      "25%          62.979526\n",
      "50%         552.472735\n",
      "75%        5570.187226\n",
      "max      410202.494043\n",
      "Name: FIRE_ACRES, dtype: float64\n"
     ]
    }
   ],
   "source": [
    "target_full['FIRE_ACRES'] = target_full['FIRE_AREA'].fillna(0)* 0.0002471054\n",
    "print(target_full['FIRE_ACRES'].head())\n",
    "print(target_full[target_full['FIRE_ACRES']!=0]['FIRE_ACRES'].describe())"
   ]
  },
  {
   "cell_type": "code",
   "execution_count": 92,
   "metadata": {},
   "outputs": [],
   "source": [
    "## Uses NWCG fire size class code https://www.nwcg.gov/sites/default/files/data-standards/pdf/values.pdf\n",
    "target_full['Y_fire_class_size'] = np.where(target_full['FIRE_ACRES']== 0, 0, \n",
    "                                          np.where((target_full['FIRE_ACRES']>0) &\\\n",
    "                                                   (target_full['FIRE_ACRES']<100), 1,\n",
    "                                          np.where((target_full['FIRE_ACRES']>=100) & \\\n",
    "                                                   (target_full['FIRE_ACRES']<1000), 2,\n",
    "                                                   np.where((target_full['FIRE_ACRES']>=1000) & \\\n",
    "                                                            (target_full['FIRE_ACRES']< 5000) , 3,\n",
    "                                                            np.where(target_full['FIRE_ACRES']>=5000, 4, 0)))))"
   ]
  },
  {
   "cell_type": "code",
   "execution_count": 74,
   "metadata": {},
   "outputs": [
    {
     "data": {
      "text/plain": [
       "0    1418121\n",
       "1      21707\n",
       "4      19125\n",
       "2      19026\n",
       "3      14587\n",
       "Name: Y_fire_class_size, dtype: int64"
      ]
     },
     "execution_count": 74,
     "metadata": {},
     "output_type": "execute_result"
    }
   ],
   "source": [
    "target_full['Y_fire_class_size'].value_counts()"
   ]
  },
  {
   "cell_type": "code",
   "execution_count": 93,
   "metadata": {},
   "outputs": [],
   "source": [
    "target_full.drop(['NAME', 'COUNTYFP', 'COUNTY_AREA', 'GRID_AREA'], axis = 1, inplace = True)"
   ]
  },
  {
   "cell_type": "code",
   "execution_count": 94,
   "metadata": {},
   "outputs": [],
   "source": [
    "target_full = target_full.merge(grid_target_subset[['NAME', 'COUNTYFP', 'COUNTY_AREA', 'GRID_AREA', 'GRID_ID']], on = ['GRID_ID'])"
   ]
  },
  {
   "cell_type": "markdown",
   "metadata": {},
   "source": [
    "## Updated Target Variabales to Avoid Leakage"
   ]
  },
  {
   "cell_type": "markdown",
   "metadata": {},
   "source": [
    "### Option 1: binary flag for a new fire in this month"
   ]
  },
  {
   "cell_type": "code",
   "execution_count": 95,
   "metadata": {},
   "outputs": [
    {
     "name": "stdout",
     "output_type": "stream",
     "text": [
      "(7963, 3)\n",
      "(6026, 3)\n"
     ]
    }
   ],
   "source": [
    "target_full.sort_values('date', inplace = True)\n",
    "target_full_month = target_full[['month_id', 'FIRE_KEY', 'Y_bin']].drop_duplicates()\n",
    "target_full_month_fires = target_full_month[target_full_month['Y_bin']==1]\n",
    "print(target_full_month_fires.shape)\n",
    "target_full_month_fires_nodups = target_full_month_fires.drop_duplicates(['FIRE_KEY'], keep = 'first')\n",
    "print(target_full_month_fires_nodups.shape)"
   ]
  },
  {
   "cell_type": "code",
   "execution_count": 96,
   "metadata": {},
   "outputs": [
    {
     "name": "stderr",
     "output_type": "stream",
     "text": [
      "<ipython-input-96-c269f977c809>:1: SettingWithCopyWarning: \n",
      "A value is trying to be set on a copy of a slice from a DataFrame.\n",
      "Try using .loc[row_indexer,col_indexer] = value instead\n",
      "\n",
      "See the caveats in the documentation: https://pandas.pydata.org/pandas-docs/stable/user_guide/indexing.html#returning-a-view-versus-a-copy\n",
      "  target_full_month_fires_nodups['Y_bin_new_fire_month'] = 1\n"
     ]
    },
    {
     "name": "stdout",
     "output_type": "stream",
     "text": [
      "(1492566, 24)\n",
      "(1492566, 25)\n"
     ]
    }
   ],
   "source": [
    "target_full_month_fires_nodups['Y_bin_new_fire_month'] = 1\n",
    "print(target_full.shape)\n",
    "target_full = pd.merge(target_full, target_full_month_fires_nodups, on = ['month_id', 'FIRE_KEY', 'Y_bin'], how = 'outer')\n",
    "print(target_full.shape)\n",
    "target_full['Y_bin_new_fire_month'] = target_full['Y_bin_new_fire_month'].fillna(0)"
   ]
  },
  {
   "cell_type": "markdown",
   "metadata": {},
   "source": [
    "### Option 2: count of new fires in this month"
   ]
  },
  {
   "cell_type": "code",
   "execution_count": 97,
   "metadata": {},
   "outputs": [
    {
     "name": "stdout",
     "output_type": "stream",
     "text": [
      "  month_id  Y_count_new_fires_month\n",
      "0  1990_10                        5\n",
      "1  1990_11                        3\n",
      "2  1990_12                        2\n",
      "3   1990_3                        2\n",
      "4   1990_4                        2\n",
      "(1492566, 26)\n",
      "        date month_id month_start  month_end week_id week_start   week_end  \\\n",
      "0 1990-01-01   1990_1  1990-01-01 1990-01-31  1990_1 1990-01-01 1990-01-07   \n",
      "1 1990-01-01   1990_1  1990-01-01 1990-01-31  1990_1 1990-01-01 1990-01-07   \n",
      "2 1990-01-01   1990_1  1990-01-01 1990-01-31  1990_1 1990-01-01 1990-01-07   \n",
      "3 1990-01-01   1990_1  1990-01-01 1990-01-31  1990_1 1990-01-01 1990-01-07   \n",
      "4 1990-01-01   1990_1  1990-01-01 1990-01-31  1990_1 1990-01-01 1990-01-07   \n",
      "\n",
      "  GRID_ID FIRE_AREA FIRE_KEY  ... Y_fire_count Y_fire_area_prop FIRE_ACRES  \\\n",
      "0       0       NaN      NaN  ...            0              NaN        0.0   \n",
      "1     120       NaN      NaN  ...            0              NaN        0.0   \n",
      "2      12       NaN      NaN  ...            0              NaN        0.0   \n",
      "3      72       NaN      NaN  ...            0              NaN        0.0   \n",
      "4     121       NaN      NaN  ...            0              NaN        0.0   \n",
      "\n",
      "  Y_fire_class_size       NAME  COUNTYFP   COUNTY_AREA     GRID_AREA  \\\n",
      "0                 0  Del Norte       015  5.725577e+09  2.665977e+09   \n",
      "1                 0       Kern       029  3.184544e+10  5.041000e+09   \n",
      "2                 0     Sonoma       097  7.492856e+09  1.070817e+09   \n",
      "3                 0      Kings       031  5.528568e+09  5.041000e+09   \n",
      "4                 0       Kern       029  3.184544e+10  5.041000e+09   \n",
      "\n",
      "   Y_bin_new_fire_month  Y_count_new_fires_month  \n",
      "0                   0.0                      NaN  \n",
      "1                   0.0                      NaN  \n",
      "2                   0.0                      NaN  \n",
      "3                   0.0                      NaN  \n",
      "4                   0.0                      NaN  \n",
      "\n",
      "[5 rows x 26 columns]\n"
     ]
    }
   ],
   "source": [
    "count_new_fires = target_full_month_fires_nodups[['month_id', 'Y_bin_new_fire_month']].groupby('month_id').count().reset_index()\n",
    "count_new_fires.rename(columns = {'Y_bin_new_fire_month':'Y_count_new_fires_month'}, inplace = True)\n",
    "print(count_new_fires.head())\n",
    "target_full = pd.merge(target_full, count_new_fires, on = 'month_id', how = 'outer')\n",
    "print(target_full.shape)\n",
    "target_full['Y_count_new_fires_month'] = target_full['Y_count_new_fires_month'].fillna(0)"
   ]
  },
  {
   "cell_type": "markdown",
   "metadata": {},
   "source": [
    "### Class size for new fires in the month"
   ]
  },
  {
   "cell_type": "code",
   "execution_count": 98,
   "metadata": {},
   "outputs": [
    {
     "name": "stdout",
     "output_type": "stream",
     "text": [
      "(1492566, 27)\n",
      "        date month_id month_start  month_end week_id week_start   week_end  \\\n",
      "0 1990-01-01   1990_1  1990-01-01 1990-01-31  1990_1 1990-01-01 1990-01-07   \n",
      "1 1990-01-01   1990_1  1990-01-01 1990-01-31  1990_1 1990-01-01 1990-01-07   \n",
      "2 1990-01-01   1990_1  1990-01-01 1990-01-31  1990_1 1990-01-01 1990-01-07   \n",
      "3 1990-01-01   1990_1  1990-01-01 1990-01-31  1990_1 1990-01-01 1990-01-07   \n",
      "4 1990-01-01   1990_1  1990-01-01 1990-01-31  1990_1 1990-01-01 1990-01-07   \n",
      "\n",
      "  GRID_ID FIRE_AREA FIRE_KEY  ... Y_fire_area_prop FIRE_ACRES  \\\n",
      "0       0       NaN      NaN  ...              NaN        0.0   \n",
      "1     120       NaN      NaN  ...              NaN        0.0   \n",
      "2      12       NaN      NaN  ...              NaN        0.0   \n",
      "3      72       NaN      NaN  ...              NaN        0.0   \n",
      "4     121       NaN      NaN  ...              NaN        0.0   \n",
      "\n",
      "  Y_fire_class_size       NAME  COUNTYFP   COUNTY_AREA     GRID_AREA  \\\n",
      "0                 0  Del Norte       015  5.725577e+09  2.665977e+09   \n",
      "1                 0       Kern       029  3.184544e+10  5.041000e+09   \n",
      "2                 0     Sonoma       097  7.492856e+09  1.070817e+09   \n",
      "3                 0      Kings       031  5.528568e+09  5.041000e+09   \n",
      "4                 0       Kern       029  3.184544e+10  5.041000e+09   \n",
      "\n",
      "   Y_bin_new_fire_month  Y_count_new_fires_month  Y_max_new_fire_size_month  \n",
      "0                   0.0                      0.0                        0.0  \n",
      "1                   0.0                      0.0                        0.0  \n",
      "2                   0.0                      0.0                        0.0  \n",
      "3                   0.0                      0.0                        0.0  \n",
      "4                   0.0                      0.0                        0.0  \n",
      "\n",
      "[5 rows x 27 columns]\n"
     ]
    }
   ],
   "source": [
    "new_fire_class_size = target_full[target_full['Y_bin_new_fire_month']==1][['Y_fire_class_size', 'month_id']]\n",
    "new_fire_class_size = new_fire_class_size.groupby('month_id').max().reset_index()\n",
    "new_fire_class_size.rename(columns = {'Y_fire_class_size':'Y_max_new_fire_size_month'}, inplace = True)\n",
    "target_full = pd.merge(target_full, new_fire_class_size, on = 'month_id', how = 'outer')\n",
    "print(target_full.shape)\n",
    "target_full['Y_max_new_fire_size_month'] = target_full['Y_max_new_fire_size_month'].fillna(0)\n",
    "print(target_full.head())"
   ]
  },
  {
   "cell_type": "code",
   "execution_count": 99,
   "metadata": {},
   "outputs": [],
   "source": [
    "### Output full target data (note that the geometry in this is for the fire area in each grid section)\n",
    "target_full_gpd = gpd.GeoDataFrame(target_full, geometry = target_full.geometry)"
   ]
  },
  {
   "cell_type": "code",
   "execution_count": 100,
   "metadata": {},
   "outputs": [],
   "source": [
    "target_full_gpd['GRID_ID'] = target_full_gpd['GRID_ID'].astype(int)\n",
    "target_full_gpd['YEAR'] = target_full_gpd['date'].apply(lambda x: x.year)\n",
    "target_full_gpd['FIRE_AREA'] = target_full_gpd['FIRE_AREA'].astype(float)\n",
    "target_full_gpd['COUNTYFP'] = target_full_gpd['COUNTYFP'].astype(int)\n",
    "target_full_gpd.rename(columns = {'COUNTY_ARE': 'COUNTY_AREA'}, inplace= True)"
   ]
  },
  {
   "cell_type": "markdown",
   "metadata": {},
   "source": [
    "#### Output target dataframe that does not have any aggregate columns (i.e. excluding no leakage targets)"
   ]
  },
  {
   "cell_type": "code",
   "execution_count": 103,
   "metadata": {},
   "outputs": [
    {
     "data": {
      "text/plain": [
       "(1492566, 24)"
      ]
     },
     "execution_count": 103,
     "metadata": {},
     "output_type": "execute_result"
    }
   ],
   "source": [
    "target_full_noagg = target_full_gpd.drop(['Y_bin_new_fire_month', 'Y_max_new_fire_size_month', 'Y_count_new_fires_month'],\n",
    "                                         axis = 1)\n",
    "target_full_noagg.shape"
   ]
  },
  {
   "cell_type": "code",
   "execution_count": 104,
   "metadata": {},
   "outputs": [],
   "source": [
    "n_rows = np.round(len(target_full_noagg)/4,0).astype(int)\n",
    "target_full_noagg.iloc[:n_rows].to_pickle(os.path.join(data_dir, 'clean_data/target_full_1.pkl'))\n",
    "target_full_noagg.iloc[n_rows:2*n_rows].to_pickle(os.path.join(data_dir, 'clean_data/target_full_2.pkl'))\n",
    "target_full_noagg.iloc[2*n_rows:3*n_rows].to_pickle(os.path.join(data_dir, 'clean_data/target_full_3.pkl'))\n",
    "target_full_noagg.iloc[3*n_rows:].to_pickle(os.path.join(data_dir, 'clean_data/target_full_4.pkl'))"
   ]
  },
  {
   "cell_type": "markdown",
   "metadata": {},
   "source": [
    "#### Output no leakage targets"
   ]
  },
  {
   "cell_type": "code",
   "execution_count": 108,
   "metadata": {},
   "outputs": [],
   "source": [
    "no_leak_targets = target_full_gpd[['month_id', 'GRID_ID', 'Y_bin_new_fire_month', 'Y_max_new_fire_size_month', \n",
    "                                   'Y_count_new_fires_month']]\n",
    "no_leak_targets.to_pickle(os.path.join(data_dir, 'clean_data/no_leakage_targets.pkl'))\n",
    "no_leak_targets.to_csv(os.path.join(data_dir, 'clean_data/no_leakage_targets.csv'), index = False)"
   ]
  },
  {
   "cell_type": "code",
   "execution_count": 99,
   "metadata": {},
   "outputs": [],
   "source": [
    "sub = target_full_gpd[['month_id', 'GRID_ID', 'Y_bin', 'Y_fire_count', 'FIRE_KEY']]"
   ]
  },
  {
   "cell_type": "code",
   "execution_count": 101,
   "metadata": {},
   "outputs": [],
   "source": [
    "sub.to_csv(os.path.join(data_dir, 'clean_data/target_sub_adj.csv'))"
   ]
  },
  {
   "cell_type": "code",
   "execution_count": 88,
   "metadata": {},
   "outputs": [
    {
     "data": {
      "text/plain": [
       "date                  datetime64[ns]\n",
       "month_id                      object\n",
       "month_start           datetime64[ns]\n",
       "month_end             datetime64[ns]\n",
       "week_id                       object\n",
       "week_start            datetime64[ns]\n",
       "week_end              datetime64[ns]\n",
       "GRID_ID                       object\n",
       "FIRE_AREA                     object\n",
       "FIRE_KEY                      object\n",
       "YEAR                          object\n",
       "start_date            datetime64[ns]\n",
       "end_date              datetime64[ns]\n",
       "geometry                    geometry\n",
       "FIRE_GRID_INT_AREA           float64\n",
       "Y_bin                          int64\n",
       "Y_fire_count                   int64\n",
       "Y_fire_area_prop             float64\n",
       "FIRE_ACRES                   float64\n",
       "Y_fire_class_size              int64\n",
       "NAME                          object\n",
       "COUNTYFP                      object\n",
       "COUNTY_ARE                   float64\n",
       "GRID_AREA                    float64\n",
       "dtype: object"
      ]
     },
     "execution_count": 88,
     "metadata": {},
     "output_type": "execute_result"
    }
   ],
   "source": [
    "target_full_gpd['Y_fire_class_size'].value_counts)"
   ]
  }
 ],
 "metadata": {
  "kernelspec": {
   "display_name": "Python 3",
   "language": "python",
   "name": "python3"
  },
  "language_info": {
   "codemirror_mode": {
    "name": "ipython",
    "version": 3
   },
   "file_extension": ".py",
   "mimetype": "text/x-python",
   "name": "python",
   "nbconvert_exporter": "python",
   "pygments_lexer": "ipython3",
   "version": "3.8.6"
  }
 },
 "nbformat": 4,
 "nbformat_minor": 4
}
