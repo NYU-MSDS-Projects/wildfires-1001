{
 "cells": [
  {
   "cell_type": "markdown",
   "metadata": {},
   "source": [
    "# First Random Forest Baseline"
   ]
  },
  {
   "cell_type": "markdown",
   "metadata": {},
   "source": [
    "Target variable: Is fire present --> Multiclass classifier\\\n",
    "Target variable: Fire class --> Multiclass classifier\\\n",
    "Target variable: Fire size --> Regressor\n",
    "\n",
    "Multi-class Classification Options:\n",
    "\n",
    "* Random forest\n",
    "* Multiclass logistic regression\n",
    "* SVM\n",
    "* K-NN\n",
    "* Gradient boosting\n",
    "\n",
    "\n",
    "Regression Options:\n",
    "\n",
    "* Random forecast regressor\n",
    "* Multivariate regression\n",
    "* Lasso regression\n",
    "* Ridge regression"
   ]
  },
  {
   "cell_type": "code",
   "execution_count": 82,
   "metadata": {},
   "outputs": [],
   "source": [
    "import pickle\n",
    "import pandas as pd\n",
    "import numpy as np\n",
    "import os\n",
    "from sklearn.model_selection import train_test_split\n",
    "import matplotlib.pyplot as plt\n",
    "\n",
    "%matplotlib inline\n",
    "\n",
    "pd.set_option('display.max_rows', 1000)\n",
    "pd.set_option('display.max_columns', 500)\n",
    "pd.set_option('display.width', 1000)"
   ]
  },
  {
   "cell_type": "code",
   "execution_count": 46,
   "metadata": {},
   "outputs": [],
   "source": [
    "from sklearn.ensemble import RandomForestClassifier \n",
    "# Parameters: (n_estimators=100)\n",
    "\n",
    "from sklearn.linear_model import LogisticRegression \n",
    "# Parameters: (penalty={‘l1’, ‘l2’, ‘elasticnet’, ‘none’}, C=1.0)\n",
    "\n",
    "from sklearn.svm import SVC \n",
    "# Parameters: (C=1.0, kernel={‘linear’, ‘poly’, ‘rbf’, ‘sigmoid’, ‘precomputed’})\n",
    "\n",
    "from sklearn.neighbors import KNeighborsClassifier \n",
    "# Parameters: (n_neighbors=5, weights='uniform', leaf_size=30, p=2)\n",
    "\n",
    "from sklearn.ensemble import GradientBoostingClassifier\n",
    "# Parameters: (learning_rate=0.1, n_estimators=100\n",
    "\n",
    "from sklearn.ensemble import RandomForestRegressor \n",
    "# Parameters: (n_estimators=100)\n",
    "\n",
    "from sklearn.linear_model import LinearRegression\n",
    "# No parameters\n",
    "\n",
    "from sklearn.linear_model import Lasso\n",
    "# Parameters: (alpha=1.0)\n",
    "\n",
    "from sklearn.linear_model import Ridge\n",
    "# Parameters: (alpha=1.0)"
   ]
  },
  {
   "cell_type": "code",
   "execution_count": 68,
   "metadata": {},
   "outputs": [],
   "source": [
    "# Import main df\n",
    "directory = 'C:/Users/jades/1001 Intro to Data Science Notebooks/Project/wildfires-1001/data/clean_data/'\n",
    "\n",
    "df = pd.read_csv(directory + 'target_df_final_geo.csv', index_col=0)\n",
    "\n",
    "# Import column renaming dictionary\n",
    "dic_file_path = 'C:/Users/jades/1001 Intro to Data Science Notebooks/Project/wildfires-1001/data/clean_data/ERA_weather-data/ERA_rename_dictionary.pkl'\n",
    "\n",
    "with open(dic_file_path, 'rb') as handle:\n",
    "    dic = pickle.load(handle)\n",
    "\n",
    "# Rename columns\n",
    "df = df.rename(columns=dic)"
   ]
  },
  {
   "cell_type": "code",
   "execution_count": 72,
   "metadata": {},
   "outputs": [],
   "source": [
    "# Create the dataframes for our features and for each of the target variables\n",
    "# Drop the unneccessary columns \n",
    "non_mod_cols = ['GRID_ID',\n",
    " 'month_id',\n",
    " 'MONTH',\n",
    " 'YEAR',\n",
    " 'COUNTYFP',\n",
    " 'NAME',\n",
    " 'GRID_AREA',\n",
    " 'COUNTY_ARE',\n",
    " 'month_id_old_x',\n",
    " 'month_id_old_y',\n",
    " 'geometry',\n",
    " 'Y_bin',\n",
    "# 'Y_fire_count',\n",
    "# 'Y_fire_area_prop',\n",
    " 'Y_fire_class_size']\n",
    "\n",
    "df_train = df[df['YEAR'] <= 2017]\n",
    "df_test = df[df['YEAR'] > 2017]\n",
    "\n",
    "train_X = df_train.drop(non_mod_cols, axis=1)\n",
    "\n",
    "test_X = df_test.drop(non_mod_cols, axis=1)\n",
    "\n",
    "train_Y_bin = df_train['Y_bin']\n",
    "#train_Y_area = df_train['Y_fire_area_prop']\n",
    "#train_Y_count = df_train['Y_fire_count']\n",
    "train_Y_class = df_train['Y_fire_class_size']\n",
    "\n",
    "test_Y_bin = df_test['Y_bin']\n",
    "#test_Y_count = df_test['Y_fire_count']\n",
    "#test_Y_area = df_test['Y_fire_area_prop']\n",
    "test_Y_class = df_test['Y_fire_class_size']"
   ]
  },
  {
   "cell_type": "code",
   "execution_count": 74,
   "metadata": {},
   "outputs": [
    {
     "data": {
      "text/plain": [
       "RandomForestClassifier()"
      ]
     },
     "execution_count": 74,
     "metadata": {},
     "output_type": "execute_result"
    }
   ],
   "source": [
    "rf = RandomForestClassifier(n_estimators=100)\n",
    "rf.fit(train_X, train_Y_bin)"
   ]
  },
  {
   "cell_type": "code",
   "execution_count": 83,
   "metadata": {},
   "outputs": [
    {
     "data": {
      "text/plain": [
       "elev_mean                 float64\n",
       "elev_std                  float64\n",
       "elev_media                float64\n",
       "elev_max                  float64\n",
       "elev_min                  float64\n",
       "elev_range                float64\n",
       "pl_count                  float64\n",
       "total_pl_length           float64\n",
       "road_count                float64\n",
       "total_road_length         float64\n",
       "MEDIAN_AGE_TOT            float64\n",
       "MEDIAN_AGE_MALE           float64\n",
       "MEDIAN_AGE_FEM            float64\n",
       "AGEUNDER13_TOT            float64\n",
       "AGE1424_TOT               float64\n",
       "AGE2544_TOT               float64\n",
       "AGE4564_TOT               float64\n",
       "AGE65PLUS_TOT             float64\n",
       "COUNTY_AREA               float64\n",
       "POPDENSITY                float64\n",
       "POPDENSITY_MALE           float64\n",
       "POPDENSITY_FEM            float64\n",
       "Structure Arsons            int64\n",
       "Mobile Arsons               int64\n",
       "Other Arsons                int64\n",
       "Total Arsons                int64\n",
       "Total Arsons Cleared        int64\n",
       "Unemployment              float64\n",
       "medianHHI2018               int64\n",
       "adj_fire_count            float64\n",
       "adj_fire_bcount           float64\n",
       "U_wind_10m_0hrs           float64\n",
       "V_wind_10m_0hrs           float64\n",
       "2m_dewpoint_tmp_0hrs      float64\n",
       "2m_tmp_0hrs               float64\n",
       "leaf_high_veg_0hrs        float64\n",
       "leaf_low_veg_0hrs         float64\n",
       "surface_pressure_0hrs     float64\n",
       "tot_prcp_0hrs             float64\n",
       "U_wind_10m_6hrs           float64\n",
       "V_wind_10m_6hrs           float64\n",
       "2m_dewpoint_tmp_6hrs      float64\n",
       "2m_tmp_6hrs               float64\n",
       "leaf_high_veg_6hrs        float64\n",
       "leaf_low_veg_6hrs         float64\n",
       "surface_pressure_6hrs     float64\n",
       "tot_prcp_6hrs             float64\n",
       "U_wind_10m_12hrs          float64\n",
       "V_wind_10m_12hrs          float64\n",
       "2m_dewpoint_tmp_12hrs     float64\n",
       "2m_tmp_12hrs              float64\n",
       "leaf_high_veg_12hrs       float64\n",
       "leaf_low_veg_12hrs        float64\n",
       "surface_pressure_12hrs    float64\n",
       "tot_prcp_12hrs            float64\n",
       "U_wind_10m_18hrs          float64\n",
       "V_wind_10m_18hrs          float64\n",
       "2m_dewpoint_tmp_18hrs     float64\n",
       "2m_tmp_18hrs              float64\n",
       "leaf_high_veg_18hrs       float64\n",
       "leaf_low_veg_18hrs        float64\n",
       "surface_pressure_18hrs    float64\n",
       "tot_prcp_18hrs            float64\n",
       "dtype: object"
      ]
     },
     "execution_count": 83,
     "metadata": {},
     "output_type": "execute_result"
    }
   ],
   "source": [
    "train_X.dtypes"
   ]
  },
  {
   "cell_type": "code",
   "execution_count": 85,
   "metadata": {},
   "outputs": [
    {
     "data": {
      "text/plain": [
       "(array([], dtype=int64), array([], dtype=int64))"
      ]
     },
     "execution_count": 85,
     "metadata": {},
     "output_type": "execute_result"
    }
   ],
   "source": [
    "np.where(train_X.values >= np.finfo(np.float32).max)"
   ]
  },
  {
   "cell_type": "code",
   "execution_count": null,
   "metadata": {},
   "outputs": [],
   "source": []
  }
 ],
 "metadata": {
  "kernelspec": {
   "display_name": "Python 3",
   "language": "python",
   "name": "python3"
  },
  "language_info": {
   "codemirror_mode": {
    "name": "ipython",
    "version": 3
   },
   "file_extension": ".py",
   "mimetype": "text/x-python",
   "name": "python",
   "nbconvert_exporter": "python",
   "pygments_lexer": "ipython3",
   "version": "3.8.3"
  }
 },
 "nbformat": 4,
 "nbformat_minor": 4
}
