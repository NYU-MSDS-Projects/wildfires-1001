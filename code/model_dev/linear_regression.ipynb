{
 "cells": [
  {
   "cell_type": "code",
   "execution_count": 62,
   "metadata": {},
   "outputs": [],
   "source": [
    "from sklearn.ensemble import RandomForestClassifier\n",
    "from sklearn.metrics import accuracy_score, confusion_matrix, classification_report, multilabel_confusion_matrix\n",
    "from sklearn.metrics import auc, roc_curve\n",
    "from sklearn.ensemble import RandomForestRegressor\n",
    "from sklearn.utils.class_weight import compute_class_weight\n",
    "from sklearn.linear_model import LogisticRegression, LinearRegression, Ridge\n",
    "from sklearn.svm import SVC, LinearSVC\n",
    "from sklearn.preprocessing import scale, label_binarize\n",
    "from scipy.stats import pearsonr"
   ]
  },
  {
   "cell_type": "code",
   "execution_count": 32,
   "metadata": {},
   "outputs": [],
   "source": [
    "import pandas as pd  # provides interface for interacting with tabular data\n",
    "import geopandas as gpd  # combines the capabilities of pandas and shapely for geospatial operations\n",
    "from shapely.geometry import Point, Polygon, MultiPolygon  # for manipulating text data into geospatial shapes\n",
    "from shapely import wkt  # stands for \"well known text,\" allows for interchange across GIS programs\n",
    "import rtree  # supports geospatial join\n",
    "import os\n",
    "import fnmatch\n",
    "import numpy as np\n",
    "import matplotlib.pyplot as plt\n",
    "import descartes\n",
    "import sys\n",
    "import sklearn\n",
    "from shapely.ops import nearest_points\n",
    "from datetime import datetime as dt, date\n",
    "sys.path.append('/Users/saraprice/Documents/NYU/Fall_2020/DS_GA_1001/final_project/wildfires-1001/code/functions/')\n",
    "from gis_processing import *\n",
    "from modeling_functions import *\n",
    "import pickle"
   ]
  },
  {
   "cell_type": "code",
   "execution_count": 3,
   "metadata": {},
   "outputs": [],
   "source": [
    "data_dir = '/Users/saraprice/Documents/NYU/Fall_2020/DS_GA_1001/final_project/wildfires-1001/data'\n",
    "model_dir = '/Users/saraprice/Documents/NYU/Fall_2020/DS_GA_1001/final_project/wildfires-1001/models'"
   ]
  },
  {
   "cell_type": "code",
   "execution_count": 4,
   "metadata": {},
   "outputs": [],
   "source": [
    "weather_rename_dict = pd.read_pickle(os.path.join(data_dir, 'clean_data/ERA_weather-data/ERA_rename_dictionary.pkl'))"
   ]
  },
  {
   "cell_type": "code",
   "execution_count": 5,
   "metadata": {},
   "outputs": [],
   "source": [
    "target_df1 = pd.read_pickle(os.path.join(data_dir, 'clean_data/target_df_final_1123_newtargets_1.pkl'))\n",
    "target_df2 = pd.read_pickle(os.path.join(data_dir, 'clean_data/target_df_final_1123_newtargets_2.pkl'))\n",
    "target_df = target_df1.append(target_df2)\n",
    "target_df.rename(columns = weather_rename_dict, inplace = True)"
   ]
  },
  {
   "cell_type": "code",
   "execution_count": 6,
   "metadata": {},
   "outputs": [],
   "source": [
    "non_mod_cols = ['GRID_ID','month_id','MONTH','COUNTYFP','COUNTY_AREA', 'NAME','GRID_AREA','COUNTY_ARE','month_id_old_x','month_id_old_y',\n",
    "                'geometry','Fire_area','total_fire_days','hist_p_time_1y','total_fire_days','hist_p_time_1y', \n",
    "                'hist_p_time_1m', 'month_id_old', 'YEAR']\n",
    "Y_cols = ['Y_bin', 'Y_fire_count', 'Y_fire_area_prop', 'Y_fire_class_size','Y_bin_new_fire_month',\n",
    "          'Y_max_new_fire_size_month','Y_count_new_fires_month']"
   ]
  },
  {
   "cell_type": "markdown",
   "metadata": {},
   "source": [
    "## Linear Regression on Area Prop"
   ]
  },
  {
   "cell_type": "code",
   "execution_count": 93,
   "metadata": {},
   "outputs": [],
   "source": [
    "train_data = target_df[(target_df['YEAR']>=1990) & (target_df['YEAR']<=2016)]\n",
    "X_train = train_data.drop('YEAR', axis = 1)\n",
    "for y in Y_cols + non_mod_cols:\n",
    "    try:\n",
    "        X_train.drop(y, inplace = True, axis =1)\n",
    "    except:\n",
    "        pass\n",
    "Y_train_cont = train_data['Y_fire_area_prop']"
   ]
  },
  {
   "cell_type": "code",
   "execution_count": 94,
   "metadata": {},
   "outputs": [],
   "source": [
    "test_data = target_df[target_df['YEAR']>2016]\n",
    "X_test = test_data.drop('YEAR', axis = 1)\n",
    "for y in Y_cols + non_mod_cols:\n",
    "    try:\n",
    "        X_test.drop(y, inplace = True, axis =1)\n",
    "    except:\n",
    "        pass\n",
    "Y_test_cont = test_data['Y_fire_area_prop'] "
   ]
  },
  {
   "cell_type": "code",
   "execution_count": 99,
   "metadata": {},
   "outputs": [],
   "source": [
    "X_train_scaled = pd.DataFrame(scale(X_train), columns = X_train.columns)\n",
    "X_test_scaled = scale(X_test)\n",
    "Y_train_cont = np.where(Y_train_cont == 0, 0, np.sqrt(Y_train_cont))\n",
    "Y_train_cont = Y_train_cont\n",
    "Y_test_cont = np.where(Y_test_cont == 0, 0, np.sqrt(Y_test_cont))\n",
    "Y_test_cont = Y_test_cont"
   ]
  },
  {
   "cell_type": "code",
   "execution_count": 100,
   "metadata": {},
   "outputs": [
    {
     "data": {
      "text/plain": [
       "array([0.        , 1.1204591 , 1.12623527, ..., 4.33138661, 4.41223389,\n",
       "       4.44492069])"
      ]
     },
     "execution_count": 100,
     "metadata": {},
     "output_type": "execute_result"
    }
   ],
   "source": [
    "np.unique(Y_train_cont)"
   ]
  },
  {
   "cell_type": "code",
   "execution_count": 101,
   "metadata": {},
   "outputs": [
    {
     "data": {
      "text/plain": [
       "(array([3.8283e+04, 0.0000e+00, 2.8000e+01, 1.4900e+02, 4.7400e+02,\n",
       "        9.1600e+02, 1.5560e+03, 1.0940e+03, 1.1900e+02, 1.7000e+01]),\n",
       " array([0.        , 0.44449207, 0.88898414, 1.33347621, 1.77796827,\n",
       "        2.22246034, 2.66695241, 3.11144448, 3.55593655, 4.00042862,\n",
       "        4.44492069]),\n",
       " <BarContainer object of 10 artists>)"
      ]
     },
     "execution_count": 101,
     "metadata": {},
     "output_type": "execute_result"
    },
    {
     "data": {
      "image/png": "[encoded data removed]",
      "text/plain": [
       "<Figure size 432x288 with 1 Axes>"
      ]
     },
     "metadata": {
      "needs_background": "light"
     },
     "output_type": "display_data"
    }
   ],
   "source": [
    "plt.hist(Y_train_cont)"
   ]
  },
  {
   "cell_type": "markdown",
   "metadata": {},
   "source": [
    "### Get correlation with target variable"
   ]
  },
  {
   "cell_type": "code",
   "execution_count": 102,
   "metadata": {},
   "outputs": [
    {
     "data": {
      "text/html": [
       "<div>\n",
       "<style scoped>\n",
       "    .dataframe tbody tr th:only-of-type {\n",
       "        vertical-align: middle;\n",
       "    }\n",
       "\n",
       "    .dataframe tbody tr th {\n",
       "        vertical-align: top;\n",
       "    }\n",
       "\n",
       "    .dataframe thead th {\n",
       "        text-align: right;\n",
       "    }\n",
       "</style>\n",
       "<table border=\"1\" class=\"dataframe\">\n",
       "  <thead>\n",
       "    <tr style=\"text-align: right;\">\n",
       "      <th></th>\n",
       "      <th>col</th>\n",
       "      <th>feature_importance</th>\n",
       "    </tr>\n",
       "  </thead>\n",
       "  <tbody>\n",
       "    <tr>\n",
       "      <th>29</th>\n",
       "      <td>adj_fire_bcount</td>\n",
       "      <td>0.299151</td>\n",
       "    </tr>\n",
       "    <tr>\n",
       "      <th>73</th>\n",
       "      <td>hist_bin_no_leak_1m</td>\n",
       "      <td>0.256197</td>\n",
       "    </tr>\n",
       "    <tr>\n",
       "      <th>28</th>\n",
       "      <td>adj_fire_count</td>\n",
       "      <td>0.224849</td>\n",
       "    </tr>\n",
       "    <tr>\n",
       "      <th>62</th>\n",
       "      <td>hist_bin_1y</td>\n",
       "      <td>0.214752</td>\n",
       "    </tr>\n",
       "    <tr>\n",
       "      <th>74</th>\n",
       "      <td>hist_cl_size_no_leak_1m</td>\n",
       "      <td>0.203259</td>\n",
       "    </tr>\n",
       "    <tr>\n",
       "      <th>...</th>\n",
       "      <td>...</td>\n",
       "      <td>...</td>\n",
       "    </tr>\n",
       "    <tr>\n",
       "      <th>138</th>\n",
       "      <td>tot_prcp_12hrs_5y</td>\n",
       "      <td>-0.137689</td>\n",
       "    </tr>\n",
       "    <tr>\n",
       "      <th>137</th>\n",
       "      <td>tot_prcp_6hrs_5y</td>\n",
       "      <td>-0.137764</td>\n",
       "    </tr>\n",
       "    <tr>\n",
       "      <th>169</th>\n",
       "      <td>tot_prcp_6hrs_10y</td>\n",
       "      <td>-0.142538</td>\n",
       "    </tr>\n",
       "    <tr>\n",
       "      <th>170</th>\n",
       "      <td>tot_prcp_12hrs_10y</td>\n",
       "      <td>-0.142634</td>\n",
       "    </tr>\n",
       "    <tr>\n",
       "      <th>171</th>\n",
       "      <td>tot_prcp_18hrs_10y</td>\n",
       "      <td>-0.143248</td>\n",
       "    </tr>\n",
       "  </tbody>\n",
       "</table>\n",
       "<p>172 rows × 2 columns</p>\n",
       "</div>"
      ],
      "text/plain": [
       "                         col feature_importance\n",
       "29           adj_fire_bcount           0.299151\n",
       "73       hist_bin_no_leak_1m           0.256197\n",
       "28            adj_fire_count           0.224849\n",
       "62               hist_bin_1y           0.214752\n",
       "74   hist_cl_size_no_leak_1m           0.203259\n",
       "..                       ...                ...\n",
       "138        tot_prcp_12hrs_5y          -0.137689\n",
       "137         tot_prcp_6hrs_5y          -0.137764\n",
       "169        tot_prcp_6hrs_10y          -0.142538\n",
       "170       tot_prcp_12hrs_10y          -0.142634\n",
       "171       tot_prcp_18hrs_10y          -0.143248\n",
       "\n",
       "[172 rows x 2 columns]"
      ]
     },
     "execution_count": 102,
     "metadata": {},
     "output_type": "execute_result"
    }
   ],
   "source": [
    "corr_w_target = []\n",
    "for i in X_train.columns:\n",
    "    rho, p = pearsonr(X_train[i], Y_train_cont)\n",
    "    corr_w_target.append(rho)\n",
    "\n",
    "corr_target_df = pd.DataFrame(np.column_stack([X_train.columns, corr_w_target]), columns = ['col', 'feature_importance'])\n",
    "corr_target_df.sort_values('feature_importance', ascending = False)"
   ]
  },
  {
   "cell_type": "code",
   "execution_count": 103,
   "metadata": {},
   "outputs": [
    {
     "name": "stdout",
     "output_type": "stream",
     "text": [
      "['adj_fire_bcount', 'hist_bin_no_leak_1m', 'adj_fire_count', 'hist_bin_1y', '2m_tmp_18hrs_5y', 'hist_cl_size_5y', 'hist_bin_10y', 'leaf_high_veg_0hrs', 'leaf_high_veg_6hrs', 'leaf_high_veg_18hrs', 'leaf_high_veg_12hrs', '2m_dewpoint_tmp_6hrs_10y', 'hist_fire_area_prop_10y', 'elev_range', 'V_wind_10m_18hrs_10y', 'leaf_low_veg_0hrs', 'leaf_low_veg_12hrs', 'leaf_low_veg_18hrs', 'leaf_low_veg_6hrs', 'hist_prop_area_fire_1m', 'U_wind_10m_0hrs']\n",
      "['adj_fire_bcount', 'hist_bin_no_leak_1m', 'adj_fire_count', 'hist_bin_1y', '2m_tmp_18hrs_5y', 'hist_cl_size_5y', 'hist_bin_10y', 'leaf_high_veg_12hrs', 'leaf_high_veg_18hrs', 'leaf_high_veg_6hrs', 'leaf_high_veg_0hrs', '2m_dewpoint_tmp_6hrs_10y', 'hist_fire_area_prop_10y', 'elev_range', 'V_wind_10m_18hrs_10y', 'leaf_low_veg_0hrs', 'leaf_low_veg_12hrs', 'leaf_low_veg_18hrs', 'leaf_low_veg_6hrs', 'hist_prop_area_fire_1m', 'U_wind_10m_0hrs', 'elev_media', 'total_road_length', 'tot_area_fire_prev_1yr', 'V_wind_10m_0hrs', 'total_pl_length']\n",
      "['adj_fire_bcount', 'hist_bin_no_leak_1m', 'adj_fire_count', 'hist_bin_1y', '2m_tmp_18hrs_5y', 'hist_cl_size_5y', 'hist_bin_10y', 'leaf_high_veg_0hrs', 'leaf_high_veg_6hrs', 'leaf_high_veg_18hrs', 'leaf_high_veg_12hrs', '2m_dewpoint_tmp_6hrs_10y', 'hist_fire_area_prop_10y', 'elev_range', 'V_wind_10m_18hrs_10y', 'leaf_low_veg_0hrs', 'leaf_low_veg_12hrs', 'leaf_low_veg_18hrs', 'leaf_low_veg_6hrs', 'hist_prop_area_fire_1m', 'U_wind_10m_0hrs', 'elev_media', 'total_road_length', 'tot_area_fire_prev_1yr', 'V_wind_10m_0hrs', 'total_pl_length', 'U_wind_10m_18hrs_1y', 'Unemployment', 'AGE1424_TOT', 'V_wind_10m_6hrs_1y', 'Other Arsons']\n",
      "['adj_fire_bcount', 'hist_bin_no_leak_1m', 'adj_fire_count', 'hist_bin_1y', '2m_tmp_18hrs_5y', 'hist_cl_size_5y', 'hist_bin_10y', 'leaf_high_veg_12hrs', 'leaf_high_veg_18hrs', 'leaf_high_veg_6hrs', 'leaf_high_veg_0hrs', '2m_dewpoint_tmp_6hrs_10y', 'hist_fire_area_prop_10y', 'elev_range', 'V_wind_10m_18hrs_10y', 'leaf_low_veg_0hrs', 'leaf_low_veg_12hrs', 'leaf_low_veg_18hrs', 'leaf_low_veg_6hrs', 'hist_prop_area_fire_1m', 'U_wind_10m_0hrs', 'elev_media', 'total_road_length', 'tot_area_fire_prev_1yr', 'V_wind_10m_0hrs', 'total_pl_length', 'U_wind_10m_18hrs_1y', 'Unemployment', 'AGE1424_TOT', 'V_wind_10m_6hrs_1y', 'Other Arsons', 'MEDIAN_AGE_FEM', 'elev_mean', 'medianHHI2018', 'U_wind_10m_6hrs', 'surface_pressure_0hrs_10y']\n"
     ]
    },
    {
     "ename": "IndexError",
     "evalue": "list index out of range",
     "output_type": "error",
     "traceback": [
      "\u001b[0;31m---------------------------------------------------------------------------\u001b[0m",
      "\u001b[0;31mIndexError\u001b[0m                                Traceback (most recent call last)",
      "\u001b[0;32m<ipython-input-103-7455c376880c>\u001b[0m in \u001b[0;36m<module>\u001b[0;34m\u001b[0m\n\u001b[1;32m      1\u001b[0m \u001b[0mtop_feats\u001b[0m \u001b[0;34m=\u001b[0m \u001b[0;34m{\u001b[0m\u001b[0;34m}\u001b[0m\u001b[0;34m\u001b[0m\u001b[0;34m\u001b[0m\u001b[0m\n\u001b[1;32m      2\u001b[0m \u001b[0;32mfor\u001b[0m \u001b[0mi\u001b[0m \u001b[0;32min\u001b[0m \u001b[0mnp\u001b[0m\u001b[0;34m.\u001b[0m\u001b[0marange\u001b[0m\u001b[0;34m(\u001b[0m\u001b[0;36m20\u001b[0m\u001b[0;34m,\u001b[0m \u001b[0;36m45\u001b[0m\u001b[0;34m,\u001b[0m \u001b[0;36m5\u001b[0m\u001b[0;34m)\u001b[0m\u001b[0;34m:\u001b[0m\u001b[0;34m\u001b[0m\u001b[0;34m\u001b[0m\u001b[0m\n\u001b[0;32m----> 3\u001b[0;31m     \u001b[0mtop_feats\u001b[0m\u001b[0;34m[\u001b[0m\u001b[0mi\u001b[0m\u001b[0;34m]\u001b[0m\u001b[0;34m,\u001b[0m \u001b[0mcorr_df\u001b[0m \u001b[0;34m=\u001b[0m \u001b[0mselect_features_corr_imp\u001b[0m\u001b[0;34m(\u001b[0m\u001b[0mX_train\u001b[0m\u001b[0;34m,\u001b[0m \u001b[0mcorr_target_df\u001b[0m\u001b[0;34m,\u001b[0m \u001b[0;36m0.75\u001b[0m\u001b[0;34m,\u001b[0m \u001b[0mi\u001b[0m\u001b[0;34m)\u001b[0m\u001b[0;34m\u001b[0m\u001b[0;34m\u001b[0m\u001b[0m\n\u001b[0m\u001b[1;32m      4\u001b[0m     \u001b[0mprint\u001b[0m\u001b[0;34m(\u001b[0m\u001b[0mtop_feats\u001b[0m\u001b[0;34m[\u001b[0m\u001b[0mi\u001b[0m\u001b[0;34m]\u001b[0m\u001b[0;34m)\u001b[0m\u001b[0;34m\u001b[0m\u001b[0;34m\u001b[0m\u001b[0m\n",
      "\u001b[0;32m~/Documents/NYU/Fall_2020/DS_GA_1001/final_project/wildfires-1001/code/functions/modeling_functions.py\u001b[0m in \u001b[0;36mselect_features_corr_imp\u001b[0;34m(df, feat_import, rho_cutoff, n_features)\u001b[0m\n\u001b[1;32m     26\u001b[0m     \u001b[0mi\u001b[0m \u001b[0;34m=\u001b[0m \u001b[0;36m1\u001b[0m\u001b[0;34m\u001b[0m\u001b[0;34m\u001b[0m\u001b[0m\n\u001b[1;32m     27\u001b[0m     \u001b[0;32mwhile\u001b[0m \u001b[0mlen\u001b[0m\u001b[0;34m(\u001b[0m\u001b[0mselected_features\u001b[0m\u001b[0;34m)\u001b[0m\u001b[0;34m<=\u001b[0m \u001b[0mn_features\u001b[0m\u001b[0;34m:\u001b[0m\u001b[0;34m\u001b[0m\u001b[0;34m\u001b[0m\u001b[0m\n\u001b[0;32m---> 28\u001b[0;31m         \u001b[0mf\u001b[0m \u001b[0;34m=\u001b[0m \u001b[0mfull_feature_list\u001b[0m\u001b[0;34m[\u001b[0m\u001b[0mi\u001b[0m\u001b[0;34m]\u001b[0m\u001b[0;34m\u001b[0m\u001b[0;34m\u001b[0m\u001b[0m\n\u001b[0m\u001b[1;32m     29\u001b[0m         \u001b[0;31m#print(f)\u001b[0m\u001b[0;34m\u001b[0m\u001b[0;34m\u001b[0m\u001b[0;34m\u001b[0m\u001b[0m\n\u001b[1;32m     30\u001b[0m         \u001b[0mtest_features\u001b[0m \u001b[0;34m=\u001b[0m \u001b[0mselected_features\u001b[0m \u001b[0;34m+\u001b[0m \u001b[0;34m[\u001b[0m\u001b[0mf\u001b[0m\u001b[0;34m]\u001b[0m\u001b[0;34m\u001b[0m\u001b[0;34m\u001b[0m\u001b[0m\n",
      "\u001b[0;31mIndexError\u001b[0m: list index out of range"
     ]
    }
   ],
   "source": [
    "top_feats = {}\n",
    "for i in np.arange(20, 45, 5):\n",
    "    top_feats[i], corr_df = select_features_corr_imp(X_train, corr_target_df, 0.75, i)\n",
    "    print(top_feats[i])"
   ]
  },
  {
   "cell_type": "code",
   "execution_count": 104,
   "metadata": {},
   "outputs": [],
   "source": [
    "X_train_scaled = pd.DataFrame(scale(X_train), columns = X_train.columns)\n",
    "X_test_scaled = pd.DataFrame(scale(X_test), columns = X_test.columns)"
   ]
  },
  {
   "cell_type": "markdown",
   "metadata": {},
   "source": [
    "#### Subset by out feature importance subset dictionary we created above"
   ]
  },
  {
   "cell_type": "code",
   "execution_count": 105,
   "metadata": {},
   "outputs": [
    {
     "name": "stdout",
     "output_type": "stream",
     "text": [
      "20\n",
      "25\n",
      "30\n",
      "35\n"
     ]
    }
   ],
   "source": [
    "X_train_linR = {}\n",
    "X_test_linR = {}\n",
    "for i in list(top_feats.keys()):\n",
    "    print(i)\n",
    "    X_train_linR[i] = X_train_scaled[top_feats[i]]\n",
    "    X_test_linR[i] = X_test_scaled[top_feats[i]]"
   ]
  },
  {
   "cell_type": "code",
   "execution_count": 106,
   "metadata": {},
   "outputs": [],
   "source": [
    "#regularization hyperparam options\n",
    "cs = [10**i for i in range(-4, 2)] "
   ]
  },
  {
   "cell_type": "markdown",
   "metadata": {},
   "source": [
    "### Linear Regression"
   ]
  },
  {
   "cell_type": "code",
   "execution_count": 107,
   "metadata": {},
   "outputs": [
    {
     "name": "stdout",
     "output_type": "stream",
     "text": [
      "0.21317125418753724\n",
      "0.21054562153075684\n",
      "0.21038955812311688\n",
      "0.2126613171887204\n"
     ]
    }
   ],
   "source": [
    "### Fitting LR using diff regularization, number of features & feature selection method\n",
    "linR = {}\n",
    "R2 = {}\n",
    "for i in list(top_feats.keys()):\n",
    "    linR[i] = LinearRegression().fit(X_train_linR[i], Y_train_cont)\n",
    "    R2[i] = linR[i].score(X_test_linR[i], Y_test_cont)\n",
    "    print(R2[i])"
   ]
  },
  {
   "cell_type": "markdown",
   "metadata": {},
   "source": [
    "### Ridge Regression"
   ]
  },
  {
   "cell_type": "code",
   "execution_count": 108,
   "metadata": {},
   "outputs": [],
   "source": [
    "#regularization hyperparam options\n",
    "alphas = [1/((2)*(10**i)) for i in range(-4, 2)] "
   ]
  },
  {
   "cell_type": "code",
   "execution_count": 109,
   "metadata": {
    "scrolled": true
   },
   "outputs": [
    {
     "name": "stdout",
     "output_type": "stream",
     "text": [
      "0.2068294214063663\n",
      "0.21254446178927477\n",
      "0.21310910572439656\n",
      "0.2131650457364187\n",
      "0.21317063340760234\n",
      "0.2131711921101963\n",
      "0.20564481635443366\n",
      "0.21011119358759733\n",
      "0.21050314477242615\n",
      "0.21054138419614388\n",
      "0.21054519790143889\n",
      "0.21054557916886685\n",
      "0.20577967916119388\n",
      "0.2100001423710669\n",
      "0.21035201778481027\n",
      "0.21038581951776503\n",
      "0.21038918441845056\n",
      "0.21038952075421047\n",
      "0.20764121590594053\n",
      "0.21274763275713615\n",
      "0.2127748934257654\n",
      "0.21270579800375033\n",
      "0.21269728439944213\n",
      "0.2126964150909425\n"
     ]
    }
   ],
   "source": [
    "### Fitting LR using diff regularization, number of features & feature selection method\n",
    "ridge_reg = {}\n",
    "ridge_R2 = {}\n",
    "for i in list(top_feats.keys()):\n",
    "    ridge_reg[i] = {}\n",
    "    ridge_R2[i] = {}\n",
    "    for a in alphas:\n",
    "        ridge_reg[i][a] = Ridge(alpha = a).fit(X_train_linR[i], Y_train_cont)\n",
    "        ridge_R2[i][a] = ridge_reg[i][a].score(X_test_linR[i], Y_test_cont)\n",
    "        print(ridge_R2[i][a])"
   ]
  }
 ],
 "metadata": {
  "kernelspec": {
   "display_name": "Python 3",
   "language": "python",
   "name": "python3"
  },
  "language_info": {
   "codemirror_mode": {
    "name": "ipython",
    "version": 3
   },
   "file_extension": ".py",
   "mimetype": "text/x-python",
   "name": "python",
   "nbconvert_exporter": "python",
   "pygments_lexer": "ipython3",
   "version": "3.8.6"
  }
 },
 "nbformat": 4,
 "nbformat_minor": 4
}
