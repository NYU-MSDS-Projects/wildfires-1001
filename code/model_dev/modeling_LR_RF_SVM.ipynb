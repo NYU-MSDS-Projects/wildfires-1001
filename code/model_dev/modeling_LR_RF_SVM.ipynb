{
 "cells": [
  {
   "cell_type": "code",
   "execution_count": 20,
   "metadata": {},
   "outputs": [],
   "source": [
    "from sklearn.ensemble import RandomForestClassifier\n",
    "from sklearn.metrics import accuracy_score, confusion_matrix, classification_report\n",
    "from sklearn.metrics import auc, roc_curve\n",
    "from sklearn.ensemble import RandomForestRegressor\n",
    "from sklearn.utils.class_weight import compute_class_weight\n",
    "from sklearn.linear_model import LogisticRegression\n",
    "from sklearn.svm import SVC\n",
    "from sklearn.preprocessing import scale"
   ]
  },
  {
   "cell_type": "code",
   "execution_count": 2,
   "metadata": {},
   "outputs": [],
   "source": [
    "import pandas as pd  # provides interface for interacting with tabular data\n",
    "import geopandas as gpd  # combines the capabilities of pandas and shapely for geospatial operations\n",
    "from shapely.geometry import Point, Polygon, MultiPolygon  # for manipulating text data into geospatial shapes\n",
    "from shapely import wkt  # stands for \"well known text,\" allows for interchange across GIS programs\n",
    "import rtree  # supports geospatial join\n",
    "import os\n",
    "import fnmatch\n",
    "import numpy as np\n",
    "import matplotlib.pyplot as plt\n",
    "import descartes\n",
    "import sys\n",
    "import sklearn\n",
    "from shapely.ops import nearest_points\n",
    "from datetime import datetime as dt, date\n",
    "sys.path.append('/Users/saraprice/Documents/NYU/Fall_2020/DS_GA_1001/final_project/wildfires-1001/code/functions/')\n",
    "from gis_processing import *\n",
    "import pickle"
   ]
  },
  {
   "cell_type": "code",
   "execution_count": 3,
   "metadata": {},
   "outputs": [],
   "source": [
    "data_dir = '/Users/saraprice/Documents/NYU/Fall_2020/DS_GA_1001/final_project/wildfires-1001/data'"
   ]
  },
  {
   "cell_type": "code",
   "execution_count": 4,
   "metadata": {},
   "outputs": [],
   "source": [
    "weather_rename_dict = pd.read_pickle(os.path.join(data_dir, 'clean_data/ERA_weather-data/ERA_rename_dictionary.pkl'))"
   ]
  },
  {
   "cell_type": "code",
   "execution_count": 5,
   "metadata": {},
   "outputs": [],
   "source": [
    "target_df1 = pd.read_pickle(os.path.join(data_dir, 'clean_data/target_df_final_1123_newtargets_1.pkl'))\n",
    "target_df2 = pd.read_pickle(os.path.join(data_dir, 'clean_data/target_df_final_1123_newtargets_2.pkl'))\n",
    "target_df = target_df1.append(target_df2)\n",
    "target_df.rename(columns = weather_rename_dict, inplace = True)"
   ]
  },
  {
   "cell_type": "code",
   "execution_count": 6,
   "metadata": {},
   "outputs": [],
   "source": [
    "non_mod_cols = ['GRID_ID','month_id','MONTH','COUNTYFP','COUNTY_AREA', 'NAME','GRID_AREA','COUNTY_ARE','month_id_old_x','month_id_old_y',\n",
    "                'geometry','Fire_area','total_fire_days','hist_p_time_1y','total_fire_days','hist_p_time_1y', \n",
    "                'hist_p_time_1m', 'month_id_old', 'YEAR', 'adj_fire_count', 'adj_fire_bcount']\n",
    "Y_cols = ['Y_bin', 'Y_fire_count', 'Y_fire_area_prop', 'Y_fire_class_size','Y_bin_new_fire_month',\n",
    "          'Y_max_new_fire_size_month','Y_count_new_fires_month']"
   ]
  },
  {
   "cell_type": "markdown",
   "metadata": {},
   "source": [
    "## Binary Target Variable"
   ]
  },
  {
   "cell_type": "code",
   "execution_count": 7,
   "metadata": {},
   "outputs": [],
   "source": [
    "train_data = target_df[(target_df['YEAR']>=1990) & (target_df['YEAR']<=2016)]\n",
    "X_train = train_data.drop('YEAR', axis = 1)\n",
    "for y in Y_cols + non_mod_cols:\n",
    "    try:\n",
    "        X_train.drop(y, inplace = True, axis =1)\n",
    "    except:\n",
    "        pass\n",
    "Y_train_bin = train_data['Y_bin_new_fire_month']"
   ]
  },
  {
   "cell_type": "code",
   "execution_count": 8,
   "metadata": {},
   "outputs": [],
   "source": [
    "test_data = target_df[target_df['YEAR']>2016]\n",
    "X_test = test_data.drop('YEAR', axis = 1)\n",
    "for y in Y_cols + non_mod_cols:\n",
    "    try:\n",
    "        X_test.drop(y, inplace = True, axis =1)\n",
    "    except:\n",
    "        pass\n",
    "Y_test_bin = test_data['Y_bin_new_fire_month'] "
   ]
  },
  {
   "cell_type": "markdown",
   "metadata": {},
   "source": [
    "### Random forest"
   ]
  },
  {
   "cell_type": "code",
   "execution_count": 215,
   "metadata": {},
   "outputs": [
    {
     "name": "stderr",
     "output_type": "stream",
     "text": [
      "/Applications/anaconda3/envs/geopandas_env/lib/python3.8/site-packages/sklearn/utils/validation.py:67: FutureWarning: Pass classes=[0, 1], y=119      0\n",
      "120      0\n",
      "121      0\n",
      "122      0\n",
      "123      0\n",
      "        ..\n",
      "47706    0\n",
      "47707    0\n",
      "47708    0\n",
      "47709    0\n",
      "47710    0\n",
      "Name: Y_bin_new_fire_month, Length: 27132, dtype: int64 as keyword args. From version 0.25 passing these as positional arguments will result in an error\n",
      "  warnings.warn(\"Pass {} as keyword args. From version 0.25 \"\n"
     ]
    }
   ],
   "source": [
    "cw = compute_class_weight('balanced', [0,1], Y_train_bin)"
   ]
  },
  {
   "cell_type": "code",
   "execution_count": 89,
   "metadata": {},
   "outputs": [],
   "source": [
    "rf_clf_bin_bal = RandomForestClassifier(n_estimators = 100, class_weight= 'balanced_subsample').fit(X_train, Y_train_bin)"
   ]
  },
  {
   "cell_type": "code",
   "execution_count": 90,
   "metadata": {},
   "outputs": [],
   "source": [
    "y_preds_rf_bin = rf_clf_bin_bal.predict(X_test)\n",
    "y_proba_rf_bin = rf_clf_bin_bal.predict_proba(X_test)[:,1]"
   ]
  },
  {
   "cell_type": "code",
   "execution_count": 91,
   "metadata": {},
   "outputs": [
    {
     "data": {
      "text/html": [
       "<div>\n",
       "<style scoped>\n",
       "    .dataframe tbody tr th:only-of-type {\n",
       "        vertical-align: middle;\n",
       "    }\n",
       "\n",
       "    .dataframe tbody tr th {\n",
       "        vertical-align: top;\n",
       "    }\n",
       "\n",
       "    .dataframe thead th {\n",
       "        text-align: right;\n",
       "    }\n",
       "</style>\n",
       "<table border=\"1\" class=\"dataframe\">\n",
       "  <thead>\n",
       "    <tr style=\"text-align: right;\">\n",
       "      <th></th>\n",
       "      <th>col</th>\n",
       "      <th>feature_importance</th>\n",
       "    </tr>\n",
       "  </thead>\n",
       "  <tbody>\n",
       "    <tr>\n",
       "      <th>55</th>\n",
       "      <td>2m_tmp_18hrs</td>\n",
       "      <td>0.023206</td>\n",
       "    </tr>\n",
       "    <tr>\n",
       "      <th>121</th>\n",
       "      <td>2m_tmp_18hrs_5y</td>\n",
       "      <td>0.022276</td>\n",
       "    </tr>\n",
       "    <tr>\n",
       "      <th>118</th>\n",
       "      <td>2m_tmp_0hrs_5y</td>\n",
       "      <td>0.021733</td>\n",
       "    </tr>\n",
       "    <tr>\n",
       "      <th>153</th>\n",
       "      <td>2m_tmp_18hrs_10y</td>\n",
       "      <td>0.020505</td>\n",
       "    </tr>\n",
       "    <tr>\n",
       "      <th>68</th>\n",
       "      <td>hist_fire_area_prop_5y</td>\n",
       "      <td>0.019989</td>\n",
       "    </tr>\n",
       "    <tr>\n",
       "      <th>169</th>\n",
       "      <td>tot_prcp_18hrs_10y</td>\n",
       "      <td>0.019874</td>\n",
       "    </tr>\n",
       "    <tr>\n",
       "      <th>69</th>\n",
       "      <td>hist_fire_area_prop_10y</td>\n",
       "      <td>0.019488</td>\n",
       "    </tr>\n",
       "    <tr>\n",
       "      <th>70</th>\n",
       "      <td>tot_area_fire_prev_1yr</td>\n",
       "      <td>0.016577</td>\n",
       "    </tr>\n",
       "    <tr>\n",
       "      <th>31</th>\n",
       "      <td>2m_tmp_0hrs</td>\n",
       "      <td>0.015002</td>\n",
       "    </tr>\n",
       "    <tr>\n",
       "      <th>150</th>\n",
       "      <td>2m_tmp_0hrs_10y</td>\n",
       "      <td>0.014816</td>\n",
       "    </tr>\n",
       "    <tr>\n",
       "      <th>89</th>\n",
       "      <td>2m_tmp_18hrs_1y</td>\n",
       "      <td>0.014793</td>\n",
       "    </tr>\n",
       "    <tr>\n",
       "      <th>63</th>\n",
       "      <td>hist_cl_size_1y</td>\n",
       "      <td>0.014464</td>\n",
       "    </tr>\n",
       "    <tr>\n",
       "      <th>137</th>\n",
       "      <td>tot_prcp_18hrs_5y</td>\n",
       "      <td>0.014344</td>\n",
       "    </tr>\n",
       "    <tr>\n",
       "      <th>151</th>\n",
       "      <td>2m_tmp_6hrs_10y</td>\n",
       "      <td>0.013935</td>\n",
       "    </tr>\n",
       "    <tr>\n",
       "      <th>168</th>\n",
       "      <td>tot_prcp_12hrs_10y</td>\n",
       "      <td>0.013104</td>\n",
       "    </tr>\n",
       "    <tr>\n",
       "      <th>64</th>\n",
       "      <td>hist_cl_size_5y</td>\n",
       "      <td>0.012891</td>\n",
       "    </tr>\n",
       "    <tr>\n",
       "      <th>59</th>\n",
       "      <td>tot_prcp_18hrs</td>\n",
       "      <td>0.012637</td>\n",
       "    </tr>\n",
       "    <tr>\n",
       "      <th>67</th>\n",
       "      <td>hist_fire_area_prop_1y</td>\n",
       "      <td>0.012357</td>\n",
       "    </tr>\n",
       "    <tr>\n",
       "      <th>86</th>\n",
       "      <td>2m_tmp_0hrs_1y</td>\n",
       "      <td>0.011242</td>\n",
       "    </tr>\n",
       "    <tr>\n",
       "      <th>35</th>\n",
       "      <td>tot_prcp_0hrs</td>\n",
       "      <td>0.011208</td>\n",
       "    </tr>\n",
       "  </tbody>\n",
       "</table>\n",
       "</div>"
      ],
      "text/plain": [
       "                         col  feature_importance\n",
       "55              2m_tmp_18hrs            0.023206\n",
       "121          2m_tmp_18hrs_5y            0.022276\n",
       "118           2m_tmp_0hrs_5y            0.021733\n",
       "153         2m_tmp_18hrs_10y            0.020505\n",
       "68    hist_fire_area_prop_5y            0.019989\n",
       "169       tot_prcp_18hrs_10y            0.019874\n",
       "69   hist_fire_area_prop_10y            0.019488\n",
       "70    tot_area_fire_prev_1yr            0.016577\n",
       "31               2m_tmp_0hrs            0.015002\n",
       "150          2m_tmp_0hrs_10y            0.014816\n",
       "89           2m_tmp_18hrs_1y            0.014793\n",
       "63           hist_cl_size_1y            0.014464\n",
       "137        tot_prcp_18hrs_5y            0.014344\n",
       "151          2m_tmp_6hrs_10y            0.013935\n",
       "168       tot_prcp_12hrs_10y            0.013104\n",
       "64           hist_cl_size_5y            0.012891\n",
       "59            tot_prcp_18hrs            0.012637\n",
       "67    hist_fire_area_prop_1y            0.012357\n",
       "86            2m_tmp_0hrs_1y            0.011242\n",
       "35             tot_prcp_0hrs            0.011208"
      ]
     },
     "execution_count": 91,
     "metadata": {},
     "output_type": "execute_result"
    }
   ],
   "source": [
    "feat_import = pd.DataFrame()\n",
    "feat_import['col'] = X_train.columns\n",
    "feat_import['feature_importance'] = rf_clf_bin_bal.feature_importances_\n",
    "feat_import.sort_values(['feature_importance'], ascending = False, inplace = True)\n",
    "feat_import.head(20)"
   ]
  },
  {
   "cell_type": "code",
   "execution_count": 92,
   "metadata": {},
   "outputs": [
    {
     "data": {
      "image/png": "[encoded data removed]",
      "text/plain": [
       "<Figure size 1152x576 with 1 Axes>"
      ]
     },
     "metadata": {
      "needs_background": "light"
     },
     "output_type": "display_data"
    }
   ],
   "source": [
    "# Run this so your plots show properly\n",
    "import matplotlib.pyplot as plt\n",
    "%matplotlib inline\n",
    "plt.rcParams['figure.figsize'] = 12, 12\n",
    "plt.figure(figsize=(16,8))\n",
    "fpr_bal, tpr_bal, threshold = roc_curve(Y_test_bin, y_proba_rf_bin)\n",
    "c = (np.random.rand(), np.random.rand(), np.random.rand())\n",
    "roc_auc = auc(fpr_bal, tpr_bal)\n",
    "plt.plot(fpr_bal, tpr_bal, color = c, label = '(AUC = %0.3f)' % roc_auc) \n",
    "plt.plot([0, 1], [0, 1], 'k--')\n",
    "plt.xlabel(\"FPR\")\n",
    "plt.ylabel(\"TPR\")\n",
    "plt.xlim([0, 1])\n",
    "plt.ylim([0, 1])\n",
    "plt.legend(loc=\"lower right\")\n",
    "plt.show()"
   ]
  },
  {
   "cell_type": "code",
   "execution_count": 93,
   "metadata": {},
   "outputs": [
    {
     "name": "stdout",
     "output_type": "stream",
     "text": [
      "          0         1\n",
      "0  0.997605  0.002395\n",
      "1  0.979167  0.020833\n"
     ]
    }
   ],
   "source": [
    "print(pd.DataFrame(confusion_matrix(Y_test_bin, y_preds_rf_bin, normalize = 'true', labels = [0,1]), \\\n",
    "                   columns = ['0', '1'], index = ['0','1']))"
   ]
  },
  {
   "cell_type": "code",
   "execution_count": 14,
   "metadata": {},
   "outputs": [],
   "source": [
    "corr_cols = list(X_train.columns)\n",
    "corr_cols.append('Y_fire_class_size')\n",
    "corr_cols.append('Y_bin')\n",
    "X_train_corr = np.corrcoef(target_df[corr_cols].transpose())"
   ]
  },
  {
   "cell_type": "code",
   "execution_count": 15,
   "metadata": {},
   "outputs": [
    {
     "name": "stdout",
     "output_type": "stream",
     "text": [
      "(172, 172)\n"
     ]
    }
   ],
   "source": [
    "print(X_train_corr.shape)\n",
    "X_train_corr_df = pd.DataFrame(X_train_corr, columns = corr_cols, index = corr_cols)\n",
    "X_train_corr_df.to_csv(os.path.join(data_dir, 'model_outputs/X_train_correlation_matrix.csv'))"
   ]
  },
  {
   "cell_type": "markdown",
   "metadata": {},
   "source": [
    "### Logistic Regression on the top X features from feature importances in random forest"
   ]
  },
  {
   "cell_type": "code",
   "execution_count": 52,
   "metadata": {},
   "outputs": [],
   "source": [
    "def select_features_corr_imp(df, feat_import, rho_cutoff, n_features):\n",
    "    feat_import.sort_values(['feature_importance'], inplace = True, ascending = False)\n",
    "    full_feature_list = feat_import['col'].tolist()\n",
    "    selected_features = [feat_import['col'].iloc[0]]\n",
    "    i = 1\n",
    "    while len(selected_features)<= n_features:\n",
    "        f = full_feature_list[i]\n",
    "        #print(f)\n",
    "        test_features = selected_features + [f]\n",
    "        corr_df = df[test_features].corr()\n",
    "        #print(corr_df)\n",
    "        #print(corr_df[corr_df[f]!=1][f].max())\n",
    "        if corr_df[corr_df[f]!=1][f].max()< rho_cutoff:\n",
    "            selected_features.append(f)\n",
    "            i+= 1\n",
    "        else:\n",
    "            i+= 1\n",
    "        \n",
    "            \n",
    "    #final full correlation dataframe for sanity check\n",
    "    output_corr_df = df[selected_features].corr()\n",
    "    return selected_features, output_corr_df"
   ]
  },
  {
   "cell_type": "code",
   "execution_count": 61,
   "metadata": {},
   "outputs": [
    {
     "name": "stdout",
     "output_type": "stream",
     "text": [
      "['2m_tmp_18hrs_5y', 'hist_fire_area_prop_10y', 'tot_area_fire_prev_1yr', 'hist_cl_size_5y', 'tot_prcp_6hrs_10y', 'hist_cl_size_1y', 'tot_prcp_18hrs', 'hist_bin_10y', 'tot_prcp_18hrs_1y', 'U_wind_10m_0hrs', 'hist_prop_area_fire_1m', 'V_wind_10m_12hrs', 'U_wind_10m_12hrs', '2m_dewpoint_tmp_18hrs', 'leaf_high_veg_0hrs_5y', 'V_wind_10m_18hrs_1y', 'U_wind_10m_18hrs_1y', 'V_wind_10m_18hrs', 'V_wind_10m_0hrs_5y', 'leaf_high_veg_18hrs_5y', 'leaf_high_veg_12hrs_5y']\n",
      "['2m_tmp_18hrs_5y', 'hist_fire_area_prop_10y', 'tot_area_fire_prev_1yr', 'hist_cl_size_5y', 'tot_prcp_6hrs_10y', 'hist_cl_size_1y', 'tot_prcp_18hrs', 'hist_bin_10y', 'tot_prcp_18hrs_1y', 'U_wind_10m_0hrs', 'hist_prop_area_fire_1m', 'V_wind_10m_12hrs', 'U_wind_10m_12hrs', '2m_dewpoint_tmp_18hrs', 'leaf_high_veg_0hrs_5y', 'V_wind_10m_18hrs_1y', 'U_wind_10m_18hrs_1y', 'V_wind_10m_18hrs', 'V_wind_10m_0hrs_5y', 'leaf_high_veg_18hrs_5y', 'leaf_high_veg_12hrs_5y', 'Total Arsons Cleared', 'leaf_high_veg_6hrs_5y', 'elev_range', 'hist_cl_size_no_leak_1m', 'Unemployment']\n",
      "['2m_tmp_18hrs_5y', 'hist_fire_area_prop_10y', 'tot_area_fire_prev_1yr', 'hist_cl_size_5y', 'tot_prcp_6hrs_10y', 'hist_cl_size_1y', 'tot_prcp_18hrs', 'hist_bin_10y', 'tot_prcp_18hrs_1y', 'U_wind_10m_0hrs', 'hist_prop_area_fire_1m', 'V_wind_10m_12hrs', 'U_wind_10m_12hrs', '2m_dewpoint_tmp_18hrs', 'leaf_high_veg_0hrs_5y', 'V_wind_10m_18hrs_1y', 'U_wind_10m_18hrs_1y', 'V_wind_10m_18hrs', 'V_wind_10m_0hrs_5y', 'leaf_high_veg_18hrs_5y', 'leaf_high_veg_12hrs_5y', 'Total Arsons Cleared', 'leaf_high_veg_6hrs_5y', 'elev_range', 'hist_cl_size_no_leak_1m', 'Unemployment', 'leaf_low_veg_0hrs', 'leaf_low_veg_12hrs', 'MEDIAN_AGE_MALE', 'AGEUNDER13_TOT', 'total_pl_length']\n",
      "['2m_tmp_18hrs_5y', 'hist_fire_area_prop_10y', 'tot_area_fire_prev_1yr', 'hist_cl_size_5y', 'tot_prcp_6hrs_10y', 'hist_cl_size_1y', 'tot_prcp_18hrs', 'hist_bin_10y', 'tot_prcp_18hrs_1y', 'U_wind_10m_0hrs', 'hist_prop_area_fire_1m', 'V_wind_10m_12hrs', 'U_wind_10m_12hrs', '2m_dewpoint_tmp_18hrs', 'leaf_high_veg_0hrs_5y', 'V_wind_10m_18hrs_1y', 'U_wind_10m_18hrs_1y', 'V_wind_10m_18hrs', 'V_wind_10m_0hrs_5y', 'leaf_high_veg_18hrs_5y', 'leaf_high_veg_12hrs_5y', 'Total Arsons Cleared', 'leaf_high_veg_6hrs_5y', 'elev_range', 'hist_cl_size_no_leak_1m', 'Unemployment', 'leaf_low_veg_0hrs', 'leaf_low_veg_12hrs', 'MEDIAN_AGE_MALE', 'AGEUNDER13_TOT', 'total_pl_length', 'pl_count', 'leaf_low_veg_18hrs', 'elev_mean', 'medianHHI2018', 'leaf_low_veg_6hrs']\n"
     ]
    }
   ],
   "source": [
    "top_feats = {}\n",
    "corr_df = {}\n",
    "for i in np.arange(20, 40, 5):\n",
    "    top_feats[i], corr_df[i] = select_features_corr_imp(X_train, feat_import, 0.75, i)\n",
    "    print(top_feats[i])"
   ]
  },
  {
   "cell_type": "markdown",
   "metadata": {},
   "source": [
    "#### Scale features"
   ]
  },
  {
   "cell_type": "code",
   "execution_count": 63,
   "metadata": {},
   "outputs": [],
   "source": [
    "X_train_scaled = pd.DataFrame(scale(X_train), columns = X_train.columns)\n",
    "X_test_scaled = pd.DataFrame(scale(X_test), columns = X_test.columns)"
   ]
  },
  {
   "cell_type": "markdown",
   "metadata": {},
   "source": [
    "#### Subset by out feature importance subset dictionary we created above"
   ]
  },
  {
   "cell_type": "code",
   "execution_count": 64,
   "metadata": {},
   "outputs": [],
   "source": [
    "X_train_LR = {}\n",
    "X_test_LR = {}\n",
    "for i in list(top_feats.keys()):\n",
    "    X_train_LR[i] = X_train_scaled[top_feats[i]]\n",
    "    X_test_LR[i] = X_test_scaled[top_feats[i]]"
   ]
  },
  {
   "cell_type": "code",
   "execution_count": 72,
   "metadata": {},
   "outputs": [],
   "source": [
    "#regularization hyperparam options\n",
    "cs = [10**i for i in range(-8, 2)] "
   ]
  },
  {
   "cell_type": "markdown",
   "metadata": {},
   "source": [
    "#### Train and score modeling \n",
    "We also will identify the best regularization hyperparameter for each # of top features"
   ]
  },
  {
   "cell_type": "code",
   "execution_count": 84,
   "metadata": {},
   "outputs": [
    {
     "name": "stdout",
     "output_type": "stream",
     "text": [
      "{20: 6, 25: 5, 30: 6, 35: 5}\n"
     ]
    }
   ],
   "source": [
    "LR_bin = {}\n",
    "LR_score = {}\n",
    "LR_preds = {}\n",
    "LR_auc = {}\n",
    "LR_max_auc_ind = {}\n",
    "for i in list(top_feats.keys()):\n",
    "    LR_bin[i] = {}\n",
    "    LR_score[i] = {}\n",
    "    LR_preds[i] = {}\n",
    "    LR_auc[i] = []\n",
    "    for c in cs:\n",
    "        LR_bin[i][c] = LogisticRegression(C = c, class_weight = 'balanced').fit(X_train_LR[i], Y_train_bin)\n",
    "        LR_score[i][c] = LR_bin[i][c].predict_proba(X_test_LR[i])[:,1]\n",
    "        LR_preds[i][c] = LR_bin[i][c].predict(X_test_LR[i])\n",
    "        ##Find best feature # + regularization combo\n",
    "        fpr, tpr, thresholds = roc_curve(Y_test_bin, LR_score[i][c])\n",
    "        LR_auc[i].append(auc(fpr, tpr))\n",
    "    LR_max_auc_ind[i] = LR_auc[i].index(np.max(LR_auc[i]))\n",
    "print(LR_max_auc_ind)"
   ]
  },
  {
   "cell_type": "code",
   "execution_count": 87,
   "metadata": {},
   "outputs": [
    {
     "data": {
      "image/png": "[encoded data removed]",
      "text/plain": [
       "<Figure size 864x432 with 1 Axes>"
      ]
     },
     "metadata": {
      "needs_background": "light"
     },
     "output_type": "display_data"
    }
   ],
   "source": [
    "from sklearn.metrics import roc_curve, auc\n",
    "plt.figure(figsize = (12,6))\n",
    "for i in top_feats.keys():\n",
    "    c = cs[LR_max_auc_ind[i]]\n",
    "    fpr, tpr, thresholds = roc_curve(Y_test_bin, LR_score[i][c])\n",
    "    roc_auc = auc(fpr, tpr)\n",
    "\n",
    "    #chooses a random color for plotting\n",
    "    col = (np.random.rand(), np.random.rand(), np.random.rand())\n",
    "\n",
    "    #plot current model ROC curve\n",
    "    plt.plot(fpr, tpr, color = col, label = f\"C = {c}; \" + f'#feats {i}' + ' (AUC = %0.3f)' % roc_auc) \n",
    "    plt.plot([0, 1], [0, 1], 'k--')\n",
    "    plt.xlim([0.0, 1.0])\n",
    "    plt.ylim([0.0, 1.0])\n",
    "    plt.xlabel('FPR')\n",
    "    plt.ylabel('TPR')\n",
    "    plt.title('Logistic Regression ROC Curve of Best Regularization for # Subset Top Features')\n",
    "    plt.legend(loc=\"lower right\")\n",
    "plt.show()"
   ]
  },
  {
   "cell_type": "markdown",
   "metadata": {},
   "source": [
    "### SVM"
   ]
  },
  {
   "cell_type": "code",
   "execution_count": null,
   "metadata": {},
   "outputs": [],
   "source": [
    "from sklearn.metrics import roc_curve, auc\n",
    "plt.figure(figsize = (12,6))\n",
    "for i in top_feats.keys():\n",
    "    c = cs[LR_max_auc_ind[i]]\n",
    "    fpr, tpr, thresholds = roc_curve(Y_test_bin, LR_score[i][c])\n",
    "    roc_auc = auc(fpr, tpr)\n",
    "\n",
    "    #chooses a random color for plotting\n",
    "    col = (np.random.rand(), np.random.rand(), np.random.rand())\n",
    "\n",
    "    #plot current model ROC curve\n",
    "    plt.plot(fpr, tpr, color = col, label = f\"C = {c}; \" + f'#feats {i}' + ' (AUC = %0.3f)' % roc_auc) \n",
    "    plt.plot([0, 1], [0, 1], 'k--')\n",
    "    plt.xlim([0.0, 1.0])\n",
    "    plt.ylim([0.0, 1.0])\n",
    "    plt.xlabel('FPR')\n",
    "    plt.ylabel('TPR')\n",
    "    plt.title('Logistic Regression ROC Curve of Best Regularization for # Subset Top Features')\n",
    "    plt.legend(loc=\"lower right\")\n",
    "plt.show()"
   ]
  }
 ],
 "metadata": {
  "kernelspec": {
   "display_name": "Python 3",
   "language": "python",
   "name": "python3"
  },
  "language_info": {
   "codemirror_mode": {
    "name": "ipython",
    "version": 3
   },
   "file_extension": ".py",
   "mimetype": "text/x-python",
   "name": "python",
   "nbconvert_exporter": "python",
   "pygments_lexer": "ipython3",
   "version": "3.8.6"
  }
 },
 "nbformat": 4,
 "nbformat_minor": 4
}
