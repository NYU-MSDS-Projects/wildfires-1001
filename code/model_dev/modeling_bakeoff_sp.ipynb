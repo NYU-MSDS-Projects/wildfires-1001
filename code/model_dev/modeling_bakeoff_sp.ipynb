{
 "cells": [
  {
   "cell_type": "code",
   "execution_count": 169,
   "metadata": {},
   "outputs": [],
   "source": [
    "from sklearn.ensemble import RandomForestClassifier\n",
    "from sklearn.metrics import accuracy_score, confusion_matrix, classification_report\n",
    "from sklearn.metrics import auc, roc_curve\n",
    "from sklearn.ensemble import RandomForestRegressor\n",
    "from sklearn.utils.class_weight import compute_class_weight\n",
    "from sklearn.linear_model import LogisticRegression"
   ]
  },
  {
   "cell_type": "code",
   "execution_count": 2,
   "metadata": {},
   "outputs": [],
   "source": [
    "import pandas as pd  # provides interface for interacting with tabular data\n",
    "import geopandas as gpd  # combines the capabilities of pandas and shapely for geospatial operations\n",
    "from shapely.geometry import Point, Polygon, MultiPolygon  # for manipulating text data into geospatial shapes\n",
    "from shapely import wkt  # stands for \"well known text,\" allows for interchange across GIS programs\n",
    "import rtree  # supports geospatial join\n",
    "import os\n",
    "import fnmatch\n",
    "import numpy as np\n",
    "import matplotlib.pyplot as plt\n",
    "import descartes\n",
    "import sys\n",
    "import sklearn\n",
    "from shapely.ops import nearest_points\n",
    "from datetime import datetime as dt, date\n",
    "sys.path.append('/Users/saraprice/Documents/NYU/Fall_2020/DS_GA_1001/final_project/wildfires-1001/code/functions/')\n",
    "from gis_processing import *\n",
    "import pickle"
   ]
  },
  {
   "cell_type": "code",
   "execution_count": 5,
   "metadata": {},
   "outputs": [],
   "source": [
    "data_dir = '/Users/saraprice/Documents/NYU/Fall_2020/DS_GA_1001/final_project/wildfires-1001/data'"
   ]
  },
  {
   "cell_type": "code",
   "execution_count": 14,
   "metadata": {},
   "outputs": [],
   "source": [
    "eng_feats = pd.read_pickle(os.path.join(data_dir, 'clean_data/engineered_features/fire_hist_features.pkl'))\n",
    "eng_feats.rename(columns = {'total_fire_days_x': 'total_fire_days', 'hist_p_time_1y_x':'hist_p_time_1y'}, inplace = True)\n",
    "eng_feats.to_pickle(os.path.join(data_dir, 'clean_data/engineered_features/fire_hist_features.pkl'))"
   ]
  },
  {
   "cell_type": "code",
   "execution_count": 115,
   "metadata": {},
   "outputs": [],
   "source": [
    "weather_rename_dict = pd.read_pickle(os.path.join(data_dir, 'clean_data/ERA_weather-data/ERA_rename_dictionary.pkl'))"
   ]
  },
  {
   "cell_type": "code",
   "execution_count": 116,
   "metadata": {},
   "outputs": [],
   "source": [
    "target_df = pd.read_pickle(os.path.join(data_dir, 'clean_data/target_df_final_geo.pkl'))"
   ]
  },
  {
   "cell_type": "code",
   "execution_count": 117,
   "metadata": {},
   "outputs": [],
   "source": [
    "target_df1 = pd.read_pickle(os.path.join(data_dir, 'clean_data/target_df_final_geo_1121_weathereng_1.pkl'))\n",
    "target_df2 = pd.read_pickle(os.path.join(data_dir, 'clean_data/target_df_final_geo_1121_weathereng_2.pkl'))\n",
    "target_df = target_df1.append(target_df2)\n",
    "target_df.rename(columns = weather_rename_dict, inplace = True)"
   ]
  },
  {
   "cell_type": "code",
   "execution_count": 75,
   "metadata": {},
   "outputs": [
    {
     "data": {
      "text/html": [
       "<div>\n",
       "<style scoped>\n",
       "    .dataframe tbody tr th:only-of-type {\n",
       "        vertical-align: middle;\n",
       "    }\n",
       "\n",
       "    .dataframe tbody tr th {\n",
       "        vertical-align: top;\n",
       "    }\n",
       "\n",
       "    .dataframe thead th {\n",
       "        text-align: right;\n",
       "    }\n",
       "</style>\n",
       "<table border=\"1\" class=\"dataframe\">\n",
       "  <thead>\n",
       "    <tr style=\"text-align: right;\">\n",
       "      <th></th>\n",
       "      <th>GRID_ID</th>\n",
       "      <th>YEAR</th>\n",
       "      <th>MONTH</th>\n",
       "      <th>COUNTYFP</th>\n",
       "      <th>GRID_AREA</th>\n",
       "      <th>COUNTY_ARE</th>\n",
       "      <th>Y_bin</th>\n",
       "      <th>Y_fire_class_size</th>\n",
       "      <th>Y_fire_count</th>\n",
       "      <th>Fire_area</th>\n",
       "      <th>...</th>\n",
       "      <th>Surface pressure hrs:12</th>\n",
       "      <th>Total precipitation hrs:12</th>\n",
       "      <th>10 metre U wind component hrs:18</th>\n",
       "      <th>10 metre V wind component hrs:18</th>\n",
       "      <th>2 metre dewpoint temperature hrs:18</th>\n",
       "      <th>2 metre temperature hrs:18</th>\n",
       "      <th>Leaf area index, high vegetation hrs:18</th>\n",
       "      <th>Leaf area index, low vegetation hrs:18</th>\n",
       "      <th>Surface pressure hrs:18</th>\n",
       "      <th>Total precipitation hrs:18</th>\n",
       "    </tr>\n",
       "  </thead>\n",
       "  <tbody>\n",
       "    <tr>\n",
       "      <th>count</th>\n",
       "      <td>8.000000</td>\n",
       "      <td>8.000000</td>\n",
       "      <td>8.000000</td>\n",
       "      <td>8.000000</td>\n",
       "      <td>8.000000e+00</td>\n",
       "      <td>8.000000e+00</td>\n",
       "      <td>8.000000</td>\n",
       "      <td>8.000000</td>\n",
       "      <td>8.000000</td>\n",
       "      <td>8.000000e+00</td>\n",
       "      <td>...</td>\n",
       "      <td>8.000000</td>\n",
       "      <td>8.000000e+00</td>\n",
       "      <td>8.000000</td>\n",
       "      <td>8.000000</td>\n",
       "      <td>8.000000</td>\n",
       "      <td>8.000000</td>\n",
       "      <td>8.000000</td>\n",
       "      <td>8.000000</td>\n",
       "      <td>8.000000</td>\n",
       "      <td>8.000000e+00</td>\n",
       "    </tr>\n",
       "    <tr>\n",
       "      <th>mean</th>\n",
       "      <td>4528.187433</td>\n",
       "      <td>5971.016887</td>\n",
       "      <td>4472.119993</td>\n",
       "      <td>4511.666396</td>\n",
       "      <td>3.338831e+09</td>\n",
       "      <td>2.202498e+10</td>\n",
       "      <td>4466.802431</td>\n",
       "      <td>4467.247805</td>\n",
       "      <td>4470.619196</td>\n",
       "      <td>2.125170e+08</td>\n",
       "      <td>...</td>\n",
       "      <td>73240.191249</td>\n",
       "      <td>4.466627e+03</td>\n",
       "      <td>4467.328287</td>\n",
       "      <td>4466.763679</td>\n",
       "      <td>4673.595923</td>\n",
       "      <td>4684.160761</td>\n",
       "      <td>4468.682073</td>\n",
       "      <td>4467.627463</td>\n",
       "      <td>73331.341374</td>\n",
       "      <td>4.466628e+03</td>\n",
       "    </tr>\n",
       "    <tr>\n",
       "      <th>std</th>\n",
       "      <td>12608.733391</td>\n",
       "      <td>12045.922158</td>\n",
       "      <td>12631.303493</td>\n",
       "      <td>12615.367988</td>\n",
       "      <td>2.228530e+09</td>\n",
       "      <td>2.459267e+10</td>\n",
       "      <td>12633.451618</td>\n",
       "      <td>12633.271729</td>\n",
       "      <td>12631.914020</td>\n",
       "      <td>5.818074e+08</td>\n",
       "      <td>...</td>\n",
       "      <td>34202.026564</td>\n",
       "      <td>1.263352e+04</td>\n",
       "      <td>12633.239288</td>\n",
       "      <td>12633.467420</td>\n",
       "      <td>12550.252292</td>\n",
       "      <td>12546.015296</td>\n",
       "      <td>12632.692213</td>\n",
       "      <td>12633.118277</td>\n",
       "      <td>34255.417475</td>\n",
       "      <td>1.263352e+04</td>\n",
       "    </tr>\n",
       "    <tr>\n",
       "      <th>min</th>\n",
       "      <td>0.000000</td>\n",
       "      <td>8.632085</td>\n",
       "      <td>1.000000</td>\n",
       "      <td>1.000000</td>\n",
       "      <td>3.573300e+04</td>\n",
       "      <td>3.573300e+04</td>\n",
       "      <td>0.000000</td>\n",
       "      <td>0.000000</td>\n",
       "      <td>0.000000</td>\n",
       "      <td>0.000000e+00</td>\n",
       "      <td>...</td>\n",
       "      <td>6262.900418</td>\n",
       "      <td>1.714898e-07</td>\n",
       "      <td>-2.016808</td>\n",
       "      <td>-3.829790</td>\n",
       "      <td>5.599808</td>\n",
       "      <td>8.440839</td>\n",
       "      <td>0.000000</td>\n",
       "      <td>0.024249</td>\n",
       "      <td>6274.745857</td>\n",
       "      <td>3.320812e-07</td>\n",
       "    </tr>\n",
       "    <tr>\n",
       "      <th>25%</th>\n",
       "      <td>44.198017</td>\n",
       "      <td>1995.250000</td>\n",
       "      <td>3.861176</td>\n",
       "      <td>30.506900</td>\n",
       "      <td>1.070946e+09</td>\n",
       "      <td>6.260274e+09</td>\n",
       "      <td>0.000000</td>\n",
       "      <td>0.000000</td>\n",
       "      <td>0.000000</td>\n",
       "      <td>0.000000e+00</td>\n",
       "      <td>...</td>\n",
       "      <td>64086.421875</td>\n",
       "      <td>1.937105e-04</td>\n",
       "      <td>0.267780</td>\n",
       "      <td>0.092106</td>\n",
       "      <td>267.718066</td>\n",
       "      <td>278.369876</td>\n",
       "      <td>1.619945</td>\n",
       "      <td>0.654873</td>\n",
       "      <td>64150.284375</td>\n",
       "      <td>3.040319e-04</td>\n",
       "    </tr>\n",
       "    <tr>\n",
       "      <th>50%</th>\n",
       "      <td>70.951054</td>\n",
       "      <td>2004.251504</td>\n",
       "      <td>6.757619</td>\n",
       "      <td>54.660986</td>\n",
       "      <td>4.769006e+09</td>\n",
       "      <td>1.852051e+10</td>\n",
       "      <td>0.054236</td>\n",
       "      <td>0.114110</td>\n",
       "      <td>0.093933</td>\n",
       "      <td>1.786650e+04</td>\n",
       "      <td>...</td>\n",
       "      <td>89680.329371</td>\n",
       "      <td>9.090807e-04</td>\n",
       "      <td>0.656698</td>\n",
       "      <td>0.472188</td>\n",
       "      <td>275.700384</td>\n",
       "      <td>289.406101</td>\n",
       "      <td>2.433102</td>\n",
       "      <td>1.141188</td>\n",
       "      <td>89793.327985</td>\n",
       "      <td>1.360682e-03</td>\n",
       "    </tr>\n",
       "    <tr>\n",
       "      <th>75%</th>\n",
       "      <td>126.750000</td>\n",
       "      <td>2013.750000</td>\n",
       "      <td>10.500000</td>\n",
       "      <td>87.000000</td>\n",
       "      <td>5.041000e+09</td>\n",
       "      <td>2.399830e+10</td>\n",
       "      <td>0.483234</td>\n",
       "      <td>1.565662</td>\n",
       "      <td>8.324279</td>\n",
       "      <td>1.404768e+07</td>\n",
       "      <td>...</td>\n",
       "      <td>93141.823661</td>\n",
       "      <td>4.342144e-03</td>\n",
       "      <td>1.997614</td>\n",
       "      <td>1.413266</td>\n",
       "      <td>282.604810</td>\n",
       "      <td>299.576917</td>\n",
       "      <td>3.809911</td>\n",
       "      <td>1.981244</td>\n",
       "      <td>93267.334375</td>\n",
       "      <td>6.661181e-03</td>\n",
       "    </tr>\n",
       "    <tr>\n",
       "      <th>max</th>\n",
       "      <td>35733.000000</td>\n",
       "      <td>35733.000000</td>\n",
       "      <td>35733.000000</td>\n",
       "      <td>35733.000000</td>\n",
       "      <td>5.041000e+09</td>\n",
       "      <td>7.749300e+10</td>\n",
       "      <td>35733.000000</td>\n",
       "      <td>35733.000000</td>\n",
       "      <td>35733.000000</td>\n",
       "      <td>1.651920e+09</td>\n",
       "      <td>...</td>\n",
       "      <td>101988.095833</td>\n",
       "      <td>3.573300e+04</td>\n",
       "      <td>35733.000000</td>\n",
       "      <td>35733.000000</td>\n",
       "      <td>35733.000000</td>\n",
       "      <td>35733.000000</td>\n",
       "      <td>35733.000000</td>\n",
       "      <td>35733.000000</td>\n",
       "      <td>102153.995833</td>\n",
       "      <td>3.573300e+04</td>\n",
       "    </tr>\n",
       "  </tbody>\n",
       "</table>\n",
       "<p>8 rows × 74 columns</p>\n",
       "</div>"
      ],
      "text/plain": [
       "            GRID_ID          YEAR         MONTH      COUNTYFP     GRID_AREA  \\\n",
       "count      8.000000      8.000000      8.000000      8.000000  8.000000e+00   \n",
       "mean    4528.187433   5971.016887   4472.119993   4511.666396  3.338831e+09   \n",
       "std    12608.733391  12045.922158  12631.303493  12615.367988  2.228530e+09   \n",
       "min        0.000000      8.632085      1.000000      1.000000  3.573300e+04   \n",
       "25%       44.198017   1995.250000      3.861176     30.506900  1.070946e+09   \n",
       "50%       70.951054   2004.251504      6.757619     54.660986  4.769006e+09   \n",
       "75%      126.750000   2013.750000     10.500000     87.000000  5.041000e+09   \n",
       "max    35733.000000  35733.000000  35733.000000  35733.000000  5.041000e+09   \n",
       "\n",
       "         COUNTY_ARE         Y_bin  Y_fire_class_size  Y_fire_count  \\\n",
       "count  8.000000e+00      8.000000           8.000000      8.000000   \n",
       "mean   2.202498e+10   4466.802431        4467.247805   4470.619196   \n",
       "std    2.459267e+10  12633.451618       12633.271729  12631.914020   \n",
       "min    3.573300e+04      0.000000           0.000000      0.000000   \n",
       "25%    6.260274e+09      0.000000           0.000000      0.000000   \n",
       "50%    1.852051e+10      0.054236           0.114110      0.093933   \n",
       "75%    2.399830e+10      0.483234           1.565662      8.324279   \n",
       "max    7.749300e+10  35733.000000       35733.000000  35733.000000   \n",
       "\n",
       "          Fire_area  ...  Surface pressure hrs:12  Total precipitation hrs:12  \\\n",
       "count  8.000000e+00  ...                 8.000000                8.000000e+00   \n",
       "mean   2.125170e+08  ...             73240.191249                4.466627e+03   \n",
       "std    5.818074e+08  ...             34202.026564                1.263352e+04   \n",
       "min    0.000000e+00  ...              6262.900418                1.714898e-07   \n",
       "25%    0.000000e+00  ...             64086.421875                1.937105e-04   \n",
       "50%    1.786650e+04  ...             89680.329371                9.090807e-04   \n",
       "75%    1.404768e+07  ...             93141.823661                4.342144e-03   \n",
       "max    1.651920e+09  ...            101988.095833                3.573300e+04   \n",
       "\n",
       "       10 metre U wind component hrs:18  10 metre V wind component hrs:18  \\\n",
       "count                          8.000000                          8.000000   \n",
       "mean                        4467.328287                       4466.763679   \n",
       "std                        12633.239288                      12633.467420   \n",
       "min                           -2.016808                         -3.829790   \n",
       "25%                            0.267780                          0.092106   \n",
       "50%                            0.656698                          0.472188   \n",
       "75%                            1.997614                          1.413266   \n",
       "max                        35733.000000                      35733.000000   \n",
       "\n",
       "       2 metre dewpoint temperature hrs:18  2 metre temperature hrs:18  \\\n",
       "count                             8.000000                    8.000000   \n",
       "mean                           4673.595923                 4684.160761   \n",
       "std                           12550.252292                12546.015296   \n",
       "min                               5.599808                    8.440839   \n",
       "25%                             267.718066                  278.369876   \n",
       "50%                             275.700384                  289.406101   \n",
       "75%                             282.604810                  299.576917   \n",
       "max                           35733.000000                35733.000000   \n",
       "\n",
       "       Leaf area index, high vegetation hrs:18  \\\n",
       "count                                 8.000000   \n",
       "mean                               4468.682073   \n",
       "std                               12632.692213   \n",
       "min                                   0.000000   \n",
       "25%                                   1.619945   \n",
       "50%                                   2.433102   \n",
       "75%                                   3.809911   \n",
       "max                               35733.000000   \n",
       "\n",
       "       Leaf area index, low vegetation hrs:18  Surface pressure hrs:18  \\\n",
       "count                                8.000000                 8.000000   \n",
       "mean                              4467.627463             73331.341374   \n",
       "std                              12633.118277             34255.417475   \n",
       "min                                  0.024249              6274.745857   \n",
       "25%                                  0.654873             64150.284375   \n",
       "50%                                  1.141188             89793.327985   \n",
       "75%                                  1.981244             93267.334375   \n",
       "max                              35733.000000            102153.995833   \n",
       "\n",
       "       Total precipitation hrs:18  \n",
       "count                8.000000e+00  \n",
       "mean                 4.466628e+03  \n",
       "std                  1.263352e+04  \n",
       "min                  3.320812e-07  \n",
       "25%                  3.040319e-04  \n",
       "50%                  1.360682e-03  \n",
       "75%                  6.661181e-03  \n",
       "max                  3.573300e+04  \n",
       "\n",
       "[8 rows x 74 columns]"
      ]
     },
     "execution_count": 75,
     "metadata": {},
     "output_type": "execute_result"
    }
   ],
   "source": [
    "feat_dist.describe()"
   ]
  },
  {
   "cell_type": "code",
   "execution_count": 118,
   "metadata": {},
   "outputs": [],
   "source": [
    "non_mod_cols = ['GRID_ID','month_id','MONTH','COUNTYFP','COUNTY_AREA', 'NAME','GRID_AREA','COUNTY_ARE','month_id_old_x','month_id_old_y',\n",
    "                'geometry','Fire_area','total_fire_days','hist_p_time_1y','total_fire_days','hist_p_time_1y', \n",
    "                'hist_p_time_1m']\n",
    "Y_cols = ['Y_bin', 'Y_fire_count', 'Y_fire_area_prop', 'Y_fire_class_size']"
   ]
  },
  {
   "cell_type": "markdown",
   "metadata": {},
   "source": [
    "## Binary Target Variable"
   ]
  },
  {
   "cell_type": "code",
   "execution_count": 171,
   "metadata": {},
   "outputs": [
    {
     "name": "stderr",
     "output_type": "stream",
     "text": [
      "/Applications/anaconda3/envs/geopandas_env/lib/python3.8/site-packages/pandas/core/frame.py:4167: SettingWithCopyWarning: \n",
      "A value is trying to be set on a copy of a slice from a DataFrame\n",
      "\n",
      "See the caveats in the documentation: https://pandas.pydata.org/pandas-docs/stable/user_guide/indexing.html#returning-a-view-versus-a-copy\n",
      "  return super().drop(\n"
     ]
    }
   ],
   "source": [
    "train_data = target_df[(target_df['YEAR']>=2000) & (target_df['YEAR']<=2016)]\n",
    "X_train = train_data.drop('YEAR', axis = 1)\n",
    "for y in Y_cols + non_mod_cols:\n",
    "    try:\n",
    "        X_train.drop(y, inplace = True, axis =1)\n",
    "    except:\n",
    "        pass\n",
    "Y_train_bin = train_data['Y_bin']"
   ]
  },
  {
   "cell_type": "code",
   "execution_count": 120,
   "metadata": {},
   "outputs": [
    {
     "name": "stderr",
     "output_type": "stream",
     "text": [
      "/Applications/anaconda3/envs/geopandas_env/lib/python3.8/site-packages/pandas/core/frame.py:4167: SettingWithCopyWarning: \n",
      "A value is trying to be set on a copy of a slice from a DataFrame\n",
      "\n",
      "See the caveats in the documentation: https://pandas.pydata.org/pandas-docs/stable/user_guide/indexing.html#returning-a-view-versus-a-copy\n",
      "  return super().drop(\n"
     ]
    }
   ],
   "source": [
    "test_data = target_df[target_df['YEAR']>2016]\n",
    "X_test = test_data.drop('YEAR', axis = 1)\n",
    "for y in Y_cols + non_mod_cols:\n",
    "    try:\n",
    "        X_test.drop(y, inplace = True, axis =1)\n",
    "    except:\n",
    "        pass\n",
    "Y_test_bin = test_data['Y_bin'] "
   ]
  },
  {
   "cell_type": "markdown",
   "metadata": {},
   "source": [
    "### Random forest"
   ]
  },
  {
   "cell_type": "code",
   "execution_count": 121,
   "metadata": {},
   "outputs": [
    {
     "name": "stderr",
     "output_type": "stream",
     "text": [
      "/Applications/anaconda3/envs/geopandas_env/lib/python3.8/site-packages/sklearn/utils/validation.py:67: FutureWarning: Pass classes=[0, 1], y=119      0\n",
      "120      0\n",
      "121      0\n",
      "122      0\n",
      "123      0\n",
      "        ..\n",
      "35692    0\n",
      "35693    0\n",
      "35694    0\n",
      "35695    0\n",
      "35696    0\n",
      "Name: Y_bin, Length: 20269, dtype: int64 as keyword args. From version 0.25 passing these as positional arguments will result in an error\n",
      "  warnings.warn(\"Pass {} as keyword args. From version 0.25 \"\n"
     ]
    }
   ],
   "source": [
    "cw = compute_class_weight('balanced', [0,1], Y_train_bin)\n",
    "bin_weights = {0: 0.55757964, 1:100}"
   ]
  },
  {
   "cell_type": "code",
   "execution_count": 122,
   "metadata": {},
   "outputs": [],
   "source": [
    "rf_clf_bin_bal = RandomForestClassifier(n_estimators = 100, class_weight= 'balanced_subsample').fit(X_train, Y_train_bin)"
   ]
  },
  {
   "cell_type": "code",
   "execution_count": 123,
   "metadata": {},
   "outputs": [],
   "source": [
    "y_preds_rf_bin = rf_clf_bin_bal.predict(X_test)\n",
    "y_proba_rf_bin = rf_clf_bin_bal.predict_proba(X_test)[:,1]"
   ]
  },
  {
   "cell_type": "code",
   "execution_count": 124,
   "metadata": {},
   "outputs": [
    {
     "data": {
      "text/html": [
       "<div>\n",
       "<style scoped>\n",
       "    .dataframe tbody tr th:only-of-type {\n",
       "        vertical-align: middle;\n",
       "    }\n",
       "\n",
       "    .dataframe tbody tr th {\n",
       "        vertical-align: top;\n",
       "    }\n",
       "\n",
       "    .dataframe thead th {\n",
       "        text-align: right;\n",
       "    }\n",
       "</style>\n",
       "<table border=\"1\" class=\"dataframe\">\n",
       "  <thead>\n",
       "    <tr style=\"text-align: right;\">\n",
       "      <th></th>\n",
       "      <th>col</th>\n",
       "      <th>feature_importance</th>\n",
       "    </tr>\n",
       "  </thead>\n",
       "  <tbody>\n",
       "    <tr>\n",
       "      <th>66</th>\n",
       "      <td>Y_fire_class_size_prev_month</td>\n",
       "      <td>0.039162</td>\n",
       "    </tr>\n",
       "    <tr>\n",
       "      <th>62</th>\n",
       "      <td>hist_bin_1m</td>\n",
       "      <td>0.035911</td>\n",
       "    </tr>\n",
       "    <tr>\n",
       "      <th>70</th>\n",
       "      <td>Y_fire_area_prop_prev_month</td>\n",
       "      <td>0.029875</td>\n",
       "    </tr>\n",
       "    <tr>\n",
       "      <th>154</th>\n",
       "      <td>2m_tmp_18hrs_10y</td>\n",
       "      <td>0.023668</td>\n",
       "    </tr>\n",
       "    <tr>\n",
       "      <th>28</th>\n",
       "      <td>adj_fire_count</td>\n",
       "      <td>0.022293</td>\n",
       "    </tr>\n",
       "    <tr>\n",
       "      <th>57</th>\n",
       "      <td>2m_tmp_18hrs</td>\n",
       "      <td>0.021503</td>\n",
       "    </tr>\n",
       "    <tr>\n",
       "      <th>122</th>\n",
       "      <td>2m_tmp_18hrs_5y</td>\n",
       "      <td>0.020659</td>\n",
       "    </tr>\n",
       "    <tr>\n",
       "      <th>29</th>\n",
       "      <td>adj_fire_bcount</td>\n",
       "      <td>0.018280</td>\n",
       "    </tr>\n",
       "    <tr>\n",
       "      <th>87</th>\n",
       "      <td>2m_tmp_0hrs_1y</td>\n",
       "      <td>0.016178</td>\n",
       "    </tr>\n",
       "    <tr>\n",
       "      <th>119</th>\n",
       "      <td>2m_tmp_0hrs_5y</td>\n",
       "      <td>0.014344</td>\n",
       "    </tr>\n",
       "    <tr>\n",
       "      <th>90</th>\n",
       "      <td>2m_tmp_18hrs_1y</td>\n",
       "      <td>0.013957</td>\n",
       "    </tr>\n",
       "    <tr>\n",
       "      <th>50</th>\n",
       "      <td>leaf_high_veg_12hrs</td>\n",
       "      <td>0.013197</td>\n",
       "    </tr>\n",
       "    <tr>\n",
       "      <th>33</th>\n",
       "      <td>2m_tmp_0hrs</td>\n",
       "      <td>0.012919</td>\n",
       "    </tr>\n",
       "    <tr>\n",
       "      <th>34</th>\n",
       "      <td>leaf_high_veg_0hrs</td>\n",
       "      <td>0.011214</td>\n",
       "    </tr>\n",
       "    <tr>\n",
       "      <th>153</th>\n",
       "      <td>2m_tmp_12hrs_10y</td>\n",
       "      <td>0.010058</td>\n",
       "    </tr>\n",
       "    <tr>\n",
       "      <th>169</th>\n",
       "      <td>tot_prcp_12hrs_10y</td>\n",
       "      <td>0.009838</td>\n",
       "    </tr>\n",
       "    <tr>\n",
       "      <th>89</th>\n",
       "      <td>2m_tmp_12hrs_1y</td>\n",
       "      <td>0.009677</td>\n",
       "    </tr>\n",
       "    <tr>\n",
       "      <th>121</th>\n",
       "      <td>2m_tmp_12hrs_5y</td>\n",
       "      <td>0.009286</td>\n",
       "    </tr>\n",
       "    <tr>\n",
       "      <th>170</th>\n",
       "      <td>tot_prcp_18hrs_10y</td>\n",
       "      <td>0.009207</td>\n",
       "    </tr>\n",
       "    <tr>\n",
       "      <th>92</th>\n",
       "      <td>leaf_high_veg_6hrs_1y</td>\n",
       "      <td>0.009160</td>\n",
       "    </tr>\n",
       "  </tbody>\n",
       "</table>\n",
       "</div>"
      ],
      "text/plain": [
       "                              col  feature_importance\n",
       "66   Y_fire_class_size_prev_month            0.039162\n",
       "62                    hist_bin_1m            0.035911\n",
       "70    Y_fire_area_prop_prev_month            0.029875\n",
       "154              2m_tmp_18hrs_10y            0.023668\n",
       "28                 adj_fire_count            0.022293\n",
       "57                   2m_tmp_18hrs            0.021503\n",
       "122               2m_tmp_18hrs_5y            0.020659\n",
       "29                adj_fire_bcount            0.018280\n",
       "87                 2m_tmp_0hrs_1y            0.016178\n",
       "119                2m_tmp_0hrs_5y            0.014344\n",
       "90                2m_tmp_18hrs_1y            0.013957\n",
       "50            leaf_high_veg_12hrs            0.013197\n",
       "33                    2m_tmp_0hrs            0.012919\n",
       "34             leaf_high_veg_0hrs            0.011214\n",
       "153              2m_tmp_12hrs_10y            0.010058\n",
       "169            tot_prcp_12hrs_10y            0.009838\n",
       "89                2m_tmp_12hrs_1y            0.009677\n",
       "121               2m_tmp_12hrs_5y            0.009286\n",
       "170            tot_prcp_18hrs_10y            0.009207\n",
       "92          leaf_high_veg_6hrs_1y            0.009160"
      ]
     },
     "execution_count": 124,
     "metadata": {},
     "output_type": "execute_result"
    }
   ],
   "source": [
    "feat_import = pd.DataFrame()\n",
    "feat_import['col'] = X_train.columns\n",
    "feat_import['feature_importance'] = rf_clf_bin_bal.feature_importances_\n",
    "feat_import.sort_values(['feature_importance'], ascending = False, inplace = True)\n",
    "feat_import.head(20)"
   ]
  },
  {
   "cell_type": "code",
   "execution_count": 125,
   "metadata": {},
   "outputs": [
    {
     "data": {
      "image/png": "[encoded data removed]",
      "text/plain": [
       "<Figure size 1152x576 with 1 Axes>"
      ]
     },
     "metadata": {
      "needs_background": "light"
     },
     "output_type": "display_data"
    }
   ],
   "source": [
    "# Run this so your plots show properly\n",
    "import matplotlib.pyplot as plt\n",
    "%matplotlib inline\n",
    "plt.rcParams['figure.figsize'] = 12, 12\n",
    "plt.figure(figsize=(16,8))\n",
    "fpr_bal, tpr_bal, threshold = roc_curve(Y_test_bin, y_proba_rf_bin)\n",
    "c = (np.random.rand(), np.random.rand(), np.random.rand())\n",
    "roc_auc = auc(fpr_bal, tpr_bal)\n",
    "plt.plot(fpr_bal, tpr_bal, color = c, label = '(AUC = %0.3f)' % roc_auc) \n",
    "plt.plot([0, 1], [0, 1], 'k--')\n",
    "plt.xlabel(\"FPR\")\n",
    "plt.ylabel(\"TPR\")\n",
    "plt.xlim([0, 1])\n",
    "plt.ylim([0, 1])\n",
    "plt.legend(loc=\"lower right\")\n",
    "plt.show()"
   ]
  },
  {
   "cell_type": "code",
   "execution_count": 126,
   "metadata": {},
   "outputs": [
    {
     "name": "stdout",
     "output_type": "stream",
     "text": [
      "          0         1\n",
      "0  0.986379  0.013621\n",
      "1  0.725632  0.274368\n"
     ]
    }
   ],
   "source": [
    "print(pd.DataFrame(confusion_matrix(Y_test_bin, y_preds_rf_bin, normalize = 'true', labels = [0,1]), \\\n",
    "                   columns = ['0', '1'], index = ['0','1']))"
   ]
  },
  {
   "cell_type": "code",
   "execution_count": 127,
   "metadata": {},
   "outputs": [],
   "source": [
    "corr_cols = list(X_train.columns)\n",
    "corr_cols.append('Y_fire_class_size')\n",
    "corr_cols.append('Y_bin')\n",
    "X_train_corr = np.corrcoef(target_df[corr_cols].transpose())"
   ]
  },
  {
   "cell_type": "code",
   "execution_count": 128,
   "metadata": {},
   "outputs": [
    {
     "name": "stdout",
     "output_type": "stream",
     "text": [
      "(173, 173)\n"
     ]
    }
   ],
   "source": [
    "print(X_train_corr.shape)\n",
    "X_train_corr_df = pd.DataFrame(X_train_corr, columns = corr_cols, index = corr_cols)\n",
    "X_train_corr_df.to_csv(os.path.join(data_dir, 'model_outputs/X_train_correlation_matrix.csv'))"
   ]
  },
  {
   "cell_type": "markdown",
   "metadata": {},
   "source": [
    "### Logistic Regression on the top X features from feature importances in random forest"
   ]
  },
  {
   "cell_type": "code",
   "execution_count": 159,
   "metadata": {},
   "outputs": [],
   "source": [
    "def select_features_corr_imp(df, feat_import, rho_cutoff, n_features):\n",
    "    feat_import.sort_values(['feature_importance'], inplace = True, ascending = False)\n",
    "    full_feature_list = feat_import['col'].tolist()\n",
    "    selected_features = [feat_import['col'].iloc[0]]\n",
    "    while len(selected_features)<= n_features:\n",
    "        print(len(selected_features))\n",
    "        for f in full_feature_list[1:]:\n",
    "            test_features = selected_features + [f] \n",
    "            corr_df = df[test_features].corr()\n",
    "            if corr_df[corr_df[f]!=1][f].max()< rho_cutoff:\n",
    "                selected_features.append(f)\n",
    "            else:\n",
    "                continue\n",
    "            \n",
    "    #final full correlation dataframe for sanity check\n",
    "    output_corr_df = df[selected_features].corr()\n",
    "    return selected_features, output_corr_df"
   ]
  },
  {
   "cell_type": "code",
   "execution_count": null,
   "metadata": {},
   "outputs": [],
   "source": [
    "top_feats = {}\n",
    "corr_df = {}\n",
    "for i in np.arange(20, 70, 10):\n",
    "    top_feats[i], corr_df[i] = select_features_corr_imp(X_train, feat_import, 0.75, i)"
   ]
  },
  {
   "cell_type": "code",
   "execution_count": 191,
   "metadata": {},
   "outputs": [],
   "source": [
    "X_train_LR = {}\n",
    "X_test_LR = {}\n",
    "for i in list(top_feats.keys()):\n",
    "    X_train_LR[i] = X_train[top_feats[20]]\n",
    "    X_test_LR[i] = X_test[top_feats[20]]\n"
   ]
  },
  {
   "cell_type": "code",
   "execution_count": 167,
   "metadata": {},
   "outputs": [],
   "source": [
    "#regularization hyperparam options\n",
    "cs = [10**i for i in range(-8, 2)]"
   ]
  },
  {
   "cell_type": "code",
   "execution_count": 194,
   "metadata": {},
   "outputs": [
    {
     "name": "stderr",
     "output_type": "stream",
     "text": [
      "/Applications/anaconda3/envs/geopandas_env/lib/python3.8/site-packages/sklearn/linear_model/_logistic.py:762: ConvergenceWarning: lbfgs failed to converge (status=1):\n",
      "STOP: TOTAL NO. of ITERATIONS REACHED LIMIT.\n",
      "\n",
      "Increase the number of iterations (max_iter) or scale the data as shown in:\n",
      "    https://scikit-learn.org/stable/modules/preprocessing.html\n",
      "Please also refer to the documentation for alternative solver options:\n",
      "    https://scikit-learn.org/stable/modules/linear_model.html#logistic-regression\n",
      "  n_iter_i = _check_optimize_result(\n",
      "/Applications/anaconda3/envs/geopandas_env/lib/python3.8/site-packages/sklearn/linear_model/_logistic.py:762: ConvergenceWarning: lbfgs failed to converge (status=1):\n",
      "STOP: TOTAL NO. of ITERATIONS REACHED LIMIT.\n",
      "\n",
      "Increase the number of iterations (max_iter) or scale the data as shown in:\n",
      "    https://scikit-learn.org/stable/modules/preprocessing.html\n",
      "Please also refer to the documentation for alternative solver options:\n",
      "    https://scikit-learn.org/stable/modules/linear_model.html#logistic-regression\n",
      "  n_iter_i = _check_optimize_result(\n"
     ]
    }
   ],
   "source": [
    "LR_bin = {}\n",
    "LR_score = {}\n",
    "LR_preds = {}\n",
    "for c in cs:\n",
    "    LR_bin[c] = {}\n",
    "    LR_score[c] = {}\n",
    "    LR_preds[c] = {}\n",
    "    for i in list(top_feats.keys()):\n",
    "        LR_bin[c][i] = LogisticRegression(C = c, class_weight = 'balanced').fit(X_train_LR[i], Y_train_bin)\n",
    "        LR_score[c][i] = LR_bin[c][i].predict_proba(X_test_LR[i])[:,1]\n",
    "        LR_preds[c][i] = LR_bin[c][i].predict(X_test_LR[i])"
   ]
  },
  {
   "cell_type": "code",
   "execution_count": 196,
   "metadata": {},
   "outputs": [
    {
     "data": {
      "image/png": "[encoded data removed]",
      "text/plain": [
       "<Figure size 864x432 with 1 Axes>"
      ]
     },
     "metadata": {
      "needs_background": "light"
     },
     "output_type": "display_data"
    }
   ],
   "source": [
    "from sklearn.metrics import roc_curve, auc\n",
    "models = ['Logistic Regression', 'SVM']\n",
    "plt.figure(figsize = (12,6))\n",
    "for c in cs:\n",
    "    for i in list(top_feats.keys()):\n",
    "        fpr, tpr, thresholds = roc_curve(Y_test_bin, LR_score[c][i])\n",
    "        roc_auc = auc(fpr, tpr)\n",
    "\n",
    "        #chooses a random color for plotting\n",
    "        col = (np.random.rand(), np.random.rand(), np.random.rand())\n",
    "\n",
    "        #plot current model ROC curve\n",
    "        plt.plot(fpr, tpr, color = col, label = f\"C = {c}; \" + f'#feats {i}' + ' (AUC = %0.3f)' % roc_auc) \n",
    "        plt.plot([0, 1], [0, 1], 'k--')\n",
    "        plt.xlim([0.0, 1.0])\n",
    "        plt.ylim([0.0, 1.0])\n",
    "        plt.xlabel('FPR')\n",
    "        plt.ylabel('TPR')\n",
    "        plt.title('ROC')\n",
    "        plt.legend(loc=\"lower right\")\n",
    "plt.show()"
   ]
  },
  {
   "cell_type": "code",
   "execution_count": 190,
   "metadata": {},
   "outputs": [
    {
     "name": "stdout",
     "output_type": "stream",
     "text": [
      "          0         1\n",
      "0  0.558472  0.441528\n",
      "1  0.375451  0.624549\n"
     ]
    }
   ],
   "source": [
    "print(pd.DataFrame(confusion_matrix(Y_test_bin, LR_preds[1e-05], normalize = 'true', labels = [0,1]), \\\n",
    "                   columns = ['0', '1'], index = ['0','1']))"
   ]
  },
  {
   "cell_type": "code",
   "execution_count": null,
   "metadata": {},
   "outputs": [],
   "source": []
  },
  {
   "cell_type": "code",
   "execution_count": 170,
   "metadata": {},
   "outputs": [
    {
     "data": {
      "text/html": [
       "<div>\n",
       "<style scoped>\n",
       "    .dataframe tbody tr th:only-of-type {\n",
       "        vertical-align: middle;\n",
       "    }\n",
       "\n",
       "    .dataframe tbody tr th {\n",
       "        vertical-align: top;\n",
       "    }\n",
       "\n",
       "    .dataframe thead th {\n",
       "        text-align: right;\n",
       "    }\n",
       "</style>\n",
       "<table border=\"1\" class=\"dataframe\">\n",
       "  <thead>\n",
       "    <tr style=\"text-align: right;\">\n",
       "      <th></th>\n",
       "      <th>col</th>\n",
       "      <th>feature_importance</th>\n",
       "    </tr>\n",
       "  </thead>\n",
       "  <tbody>\n",
       "    <tr>\n",
       "      <th>66</th>\n",
       "      <td>Y_fire_class_size_prev_month</td>\n",
       "      <td>0.049443</td>\n",
       "    </tr>\n",
       "    <tr>\n",
       "      <th>70</th>\n",
       "      <td>Y_fire_area_prop_prev_month</td>\n",
       "      <td>0.043419</td>\n",
       "    </tr>\n",
       "    <tr>\n",
       "      <th>28</th>\n",
       "      <td>adj_fire_count</td>\n",
       "      <td>0.042859</td>\n",
       "    </tr>\n",
       "    <tr>\n",
       "      <th>62</th>\n",
       "      <td>hist_bin_1m</td>\n",
       "      <td>0.041139</td>\n",
       "    </tr>\n",
       "    <tr>\n",
       "      <th>57</th>\n",
       "      <td>2 metre temperature hrs:18</td>\n",
       "      <td>0.035145</td>\n",
       "    </tr>\n",
       "    <tr>\n",
       "      <th>...</th>\n",
       "      <td>...</td>\n",
       "      <td>...</td>\n",
       "    </tr>\n",
       "    <tr>\n",
       "      <th>6</th>\n",
       "      <td>pl_count</td>\n",
       "      <td>0.003963</td>\n",
       "    </tr>\n",
       "    <tr>\n",
       "      <th>2</th>\n",
       "      <td>elev_media</td>\n",
       "      <td>0.003817</td>\n",
       "    </tr>\n",
       "    <tr>\n",
       "      <th>8</th>\n",
       "      <td>road_count</td>\n",
       "      <td>0.003573</td>\n",
       "    </tr>\n",
       "    <tr>\n",
       "      <th>9</th>\n",
       "      <td>total_road_length</td>\n",
       "      <td>0.003375</td>\n",
       "    </tr>\n",
       "    <tr>\n",
       "      <th>27</th>\n",
       "      <td>medianHHI2018</td>\n",
       "      <td>0.002485</td>\n",
       "    </tr>\n",
       "  </tbody>\n",
       "</table>\n",
       "<p>75 rows × 2 columns</p>\n",
       "</div>"
      ],
      "text/plain": [
       "                             col  feature_importance\n",
       "66  Y_fire_class_size_prev_month            0.049443\n",
       "70   Y_fire_area_prop_prev_month            0.043419\n",
       "28                adj_fire_count            0.042859\n",
       "62                   hist_bin_1m            0.041139\n",
       "57    2 metre temperature hrs:18            0.035145\n",
       "..                           ...                 ...\n",
       "6                       pl_count            0.003963\n",
       "2                     elev_media            0.003817\n",
       "8                     road_count            0.003573\n",
       "9              total_road_length            0.003375\n",
       "27                 medianHHI2018            0.002485\n",
       "\n",
       "[75 rows x 2 columns]"
      ]
     },
     "execution_count": 170,
     "metadata": {},
     "output_type": "execute_result"
    }
   ],
   "source": [
    "feat_import = pd.DataFrame()\n",
    "feat_import['col'] = X_train.columns\n",
    "feat_import['feature_importance'] = rf_clf_bin_bal.feature_importances_\n",
    "feat_import.sort_values(['feature_importance'], ascending = False)"
   ]
  },
  {
   "cell_type": "markdown",
   "metadata": {},
   "source": [
    "#### Investigate data"
   ]
  },
  {
   "cell_type": "code",
   "execution_count": 64,
   "metadata": {},
   "outputs": [],
   "source": [
    "feat_dist = X_train.describe()\n",
    "feat_dist.columns = sorted(feat_dist.columns) \n",
    "feat_dist.to_csv(os.path.join(data_dir, 'clean_data/feature_distributions.csv'))"
   ]
  },
  {
   "cell_type": "code",
   "execution_count": 173,
   "metadata": {},
   "outputs": [
    {
     "data": {
      "text/plain": [
       "43"
      ]
     },
     "execution_count": 173,
     "metadata": {},
     "output_type": "execute_result"
    }
   ],
   "source": [
    "compare_df = Y_test.copy()\n",
    "compare_df['Y_class_size_pred'] = y_preds_class_size\n",
    "len(compare_df[(compare_df['Y_class_size_pred']==compare_df['Y_fire_class_size']) & (compare_df['Y_fire_class_size']>0)])"
   ]
  },
  {
   "cell_type": "code",
   "execution_count": 178,
   "metadata": {},
   "outputs": [
    {
     "data": {
      "text/plain": [
       "0.18050541516245489"
      ]
     },
     "execution_count": 178,
     "metadata": {},
     "output_type": "execute_result"
    }
   ],
   "source": [
    "len(compare_df[(compare_df['Y_class_size_pred']>0) & (compare_df['Y_fire_class_size']==0)])/554"
   ]
  },
  {
   "cell_type": "code",
   "execution_count": 182,
   "metadata": {},
   "outputs": [
    {
     "name": "stderr",
     "output_type": "stream",
     "text": [
      "<ipython-input-182-d718253a84e7>:1: DataConversionWarning: A column-vector y was passed when a 1d array was expected. Please change the shape of y to (n_samples,), for example using ravel().\n",
      "  rf_clf_bin = RandomForestClassifier().fit(X_train, Y_train)\n"
     ]
    }
   ],
   "source": [
    "rf_clf_bin = RandomForestClassifier().fit(X_train, Y_train)"
   ]
  },
  {
   "cell_type": "code",
   "execution_count": 183,
   "metadata": {},
   "outputs": [],
   "source": [
    "y_preds_bin = rf_clf.predict(X_test)"
   ]
  },
  {
   "cell_type": "code",
   "execution_count": 187,
   "metadata": {},
   "outputs": [],
   "source": [
    "y_bin_probs = rf_clf.predict_proba(X_test)[:,1]"
   ]
  },
  {
   "cell_type": "code",
   "execution_count": 186,
   "metadata": {},
   "outputs": [
    {
     "name": "stdout",
     "output_type": "stream",
     "text": [
      "Predicted Classes     0    1\n",
      "Actual Classes              \n",
      "0                  2837  173\n",
      "1                   380  174\n"
     ]
    }
   ],
   "source": [
    "tab = dict(zip([0,1,2,3,4],[0,1,2,3,4]))\n",
    "y_eval = np.vectorize(tab.get)(Y_test)\n",
    "y_eval = y_eval.reshape(3564)\n",
    "y_pred = np.vectorize(tab.get)(y_preds_bin)\n",
    "# Making the Confusion Matrix\n",
    "print(pd.crosstab(y_eval, y_pred, rownames=['Actual Classes'], colnames=['Predicted Classes']))"
   ]
  },
  {
   "cell_type": "code",
   "execution_count": 119,
   "metadata": {},
   "outputs": [
    {
     "data": {
      "text/plain": [
       "['elev_mean',\n",
       " 'elev_std',\n",
       " 'elev_media',\n",
       " 'elev_max',\n",
       " 'elev_min',\n",
       " 'elev_range',\n",
       " 'pl_count',\n",
       " 'total_pl_length',\n",
       " 'road_count',\n",
       " 'total_road_length',\n",
       " 'MEDIAN_AGE_TOT',\n",
       " 'MEDIAN_AGE_MALE',\n",
       " 'MEDIAN_AGE_FEM',\n",
       " 'AGEUNDER13_TOT',\n",
       " 'AGE1424_TOT',\n",
       " 'AGE2544_TOT',\n",
       " 'AGE4564_TOT',\n",
       " 'AGE65PLUS_TOT',\n",
       " 'POPDENSITY',\n",
       " 'POPDENSITY_MALE',\n",
       " 'POPDENSITY_FEM',\n",
       " 'Structure Arsons',\n",
       " 'Mobile Arsons',\n",
       " 'Other Arsons',\n",
       " 'Total Arsons',\n",
       " 'Total Arsons Cleared',\n",
       " 'Unemployment',\n",
       " 'medianHHI2018',\n",
       " '10 metre U wind component hrs:0',\n",
       " '10 metre V wind component hrs:0',\n",
       " '2 metre dewpoint temperature hrs:0',\n",
       " '2 metre temperature hrs:0',\n",
       " 'Leaf area index, high vegetation hrs:0',\n",
       " 'Leaf area index, low vegetation hrs:0',\n",
       " 'Surface pressure hrs:0',\n",
       " 'Total precipitation hrs:0',\n",
       " '10 metre U wind component hrs:6',\n",
       " '10 metre V wind component hrs:6',\n",
       " '2 metre dewpoint temperature hrs:6',\n",
       " '2 metre temperature hrs:6',\n",
       " 'Leaf area index, high vegetation hrs:6',\n",
       " 'Leaf area index, low vegetation hrs:6',\n",
       " 'Surface pressure hrs:6',\n",
       " 'Total precipitation hrs:6',\n",
       " '10 metre U wind component hrs:12',\n",
       " '10 metre V wind component hrs:12',\n",
       " '2 metre dewpoint temperature hrs:12',\n",
       " '2 metre temperature hrs:12',\n",
       " 'Leaf area index, high vegetation hrs:12',\n",
       " 'Leaf area index, low vegetation hrs:12',\n",
       " 'Surface pressure hrs:12',\n",
       " 'Total precipitation hrs:12',\n",
       " '10 metre U wind component hrs:18',\n",
       " '10 metre V wind component hrs:18',\n",
       " '2 metre dewpoint temperature hrs:18',\n",
       " '2 metre temperature hrs:18',\n",
       " 'Leaf area index, high vegetation hrs:18',\n",
       " 'Leaf area index, low vegetation hrs:18',\n",
       " 'Surface pressure hrs:18',\n",
       " 'Total precipitation hrs:18',\n",
       " 'hist_bin_1m',\n",
       " 'hist_bin_1y',\n",
       " 'hist_bin_5y',\n",
       " 'hist_bin_10y',\n",
       " 'Y_fire_class_size_prev_month',\n",
       " 'Y_fire_class_size_prev_1yr',\n",
       " 'Y_fire_class_size_prev_5yr',\n",
       " 'Y_fire_class_size_prev_10yr',\n",
       " 'Y_fire_area_prop_prev_month',\n",
       " 'Y_fire_area_prop_prev_1yr',\n",
       " 'Y_fire_area_prop_prev_5yr',\n",
       " 'Y_fire_area_prop_prev_10yr',\n",
       " 'hist_p_time_1m',\n",
       " 'tot_area_fire_prev_1yr']"
      ]
     },
     "execution_count": 119,
     "metadata": {},
     "output_type": "execute_result"
    }
   ],
   "source": [
    "X_train_samp[i].columns.tolist()"
   ]
  },
  {
   "cell_type": "code",
   "execution_count": 121,
   "metadata": {},
   "outputs": [
    {
     "name": "stdout",
     "output_type": "stream",
     "text": [
      "0.4647978089254068\n",
      "(6207, 73)\n",
      "0.6345836541634584\n",
      "(9091, 73)\n"
     ]
    },
    {
     "name": "stderr",
     "output_type": "stream",
     "text": [
      "/Applications/anaconda3/envs/geopandas_env/lib/python3.8/site-packages/pandas/core/frame.py:4167: SettingWithCopyWarning: \n",
      "A value is trying to be set on a copy of a slice from a DataFrame\n",
      "\n",
      "See the caveats in the documentation: https://pandas.pydata.org/pandas-docs/stable/user_guide/indexing.html#returning-a-view-versus-a-copy\n",
      "  return super().drop(\n",
      "/Applications/anaconda3/envs/geopandas_env/lib/python3.8/site-packages/pandas/core/frame.py:4167: SettingWithCopyWarning: \n",
      "A value is trying to be set on a copy of a slice from a DataFrame\n",
      "\n",
      "See the caveats in the documentation: https://pandas.pydata.org/pandas-docs/stable/user_guide/indexing.html#returning-a-view-versus-a-copy\n",
      "  return super().drop(\n"
     ]
    },
    {
     "name": "stdout",
     "output_type": "stream",
     "text": [
      "0.7226118904475618\n",
      "(11976, 73)\n",
      "0.7764618800888231\n"
     ]
    },
    {
     "name": "stderr",
     "output_type": "stream",
     "text": [
      "/Applications/anaconda3/envs/geopandas_env/lib/python3.8/site-packages/pandas/core/frame.py:4167: SettingWithCopyWarning: \n",
      "A value is trying to be set on a copy of a slice from a DataFrame\n",
      "\n",
      "See the caveats in the documentation: https://pandas.pydata.org/pandas-docs/stable/user_guide/indexing.html#returning-a-view-versus-a-copy\n",
      "  return super().drop(\n",
      "/Applications/anaconda3/envs/geopandas_env/lib/python3.8/site-packages/pandas/core/frame.py:4167: SettingWithCopyWarning: \n",
      "A value is trying to be set on a copy of a slice from a DataFrame\n",
      "\n",
      "See the caveats in the documentation: https://pandas.pydata.org/pandas-docs/stable/user_guide/indexing.html#returning-a-view-versus-a-copy\n",
      "  return super().drop(\n"
     ]
    },
    {
     "name": "stdout",
     "output_type": "stream",
     "text": [
      "(14861, 73)\n",
      "0.8128028851572185\n",
      "(17746, 73)\n"
     ]
    },
    {
     "name": "stderr",
     "output_type": "stream",
     "text": [
      "/Applications/anaconda3/envs/geopandas_env/lib/python3.8/site-packages/pandas/core/frame.py:4167: SettingWithCopyWarning: \n",
      "A value is trying to be set on a copy of a slice from a DataFrame\n",
      "\n",
      "See the caveats in the documentation: https://pandas.pydata.org/pandas-docs/stable/user_guide/indexing.html#returning-a-view-versus-a-copy\n",
      "  return super().drop(\n",
      "/Applications/anaconda3/envs/geopandas_env/lib/python3.8/site-packages/pandas/core/frame.py:4167: SettingWithCopyWarning: \n",
      "A value is trying to be set on a copy of a slice from a DataFrame\n",
      "\n",
      "See the caveats in the documentation: https://pandas.pydata.org/pandas-docs/stable/user_guide/indexing.html#returning-a-view-versus-a-copy\n",
      "  return super().drop(\n"
     ]
    },
    {
     "name": "stdout",
     "output_type": "stream",
     "text": [
      "0.8389723703344644\n",
      "(20630, 73)\n",
      "0.8587284711886031\n",
      "(23515, 73)\n"
     ]
    },
    {
     "name": "stderr",
     "output_type": "stream",
     "text": [
      "/Applications/anaconda3/envs/geopandas_env/lib/python3.8/site-packages/pandas/core/frame.py:4167: SettingWithCopyWarning: \n",
      "A value is trying to be set on a copy of a slice from a DataFrame\n",
      "\n",
      "See the caveats in the documentation: https://pandas.pydata.org/pandas-docs/stable/user_guide/indexing.html#returning-a-view-versus-a-copy\n",
      "  return super().drop(\n"
     ]
    },
    {
     "name": "stdout",
     "output_type": "stream",
     "text": [
      "0.8741666666666666\n",
      "(26400, 73)\n"
     ]
    },
    {
     "name": "stderr",
     "output_type": "stream",
     "text": [
      "/Applications/anaconda3/envs/geopandas_env/lib/python3.8/site-packages/pandas/core/frame.py:4167: SettingWithCopyWarning: \n",
      "A value is trying to be set on a copy of a slice from a DataFrame\n",
      "\n",
      "See the caveats in the documentation: https://pandas.pydata.org/pandas-docs/stable/user_guide/indexing.html#returning-a-view-versus-a-copy\n",
      "  return super().drop(\n"
     ]
    },
    {
     "name": "stdout",
     "output_type": "stream",
     "text": [
      "0.8865592132222374\n",
      "(29284, 73)\n"
     ]
    },
    {
     "name": "stderr",
     "output_type": "stream",
     "text": [
      "/Applications/anaconda3/envs/geopandas_env/lib/python3.8/site-packages/pandas/core/frame.py:4167: SettingWithCopyWarning: \n",
      "A value is trying to be set on a copy of a slice from a DataFrame\n",
      "\n",
      "See the caveats in the documentation: https://pandas.pydata.org/pandas-docs/stable/user_guide/indexing.html#returning-a-view-versus-a-copy\n",
      "  return super().drop(\n"
     ]
    }
   ],
   "source": [
    "train_data = target_df[target_df['YEAR']<=2016]\n",
    "train_samp = {}\n",
    "X_train_samp = {}\n",
    "Y_train_samp = {}\n",
    "for i in np.arange(0.1, 1, 0.1):\n",
    "    train_samp[i] = train_data[train_data['Y_bin']==1].append(train_data[train_data['Y_bin']==0].sample(frac=i))\n",
    "    X_train_samp[i] = train_samp[i].drop('YEAR', axis = 1)\n",
    "    print(len(X_train_samp[i][X_train_samp[i]['Y_bin']==0])/len(X_train_samp[i]))\n",
    "    for y in Y_cols + non_mod_cols:\n",
    "        try:\n",
    "            X_train_samp[i].drop(y, inplace = True, axis =1)\n",
    "        except:\n",
    "            pass\n",
    "    Y_train_samp[i] = train_samp[i][['Y_bin']]\n",
    "    print(X_train_samp[i].shape)"
   ]
  },
  {
   "cell_type": "code",
   "execution_count": 122,
   "metadata": {},
   "outputs": [
    {
     "name": "stderr",
     "output_type": "stream",
     "text": [
      "/Applications/anaconda3/envs/geopandas_env/lib/python3.8/site-packages/pandas/core/frame.py:4167: SettingWithCopyWarning: \n",
      "A value is trying to be set on a copy of a slice from a DataFrame\n",
      "\n",
      "See the caveats in the documentation: https://pandas.pydata.org/pandas-docs/stable/user_guide/indexing.html#returning-a-view-versus-a-copy\n",
      "  return super().drop(\n"
     ]
    }
   ],
   "source": [
    "test_data = target_df[target_df['YEAR']>2016]\n",
    "X_test = test_data.drop('YEAR', axis = 1)\n",
    "for y in Y_cols + non_mod_cols:\n",
    "    try:\n",
    "        X_test.drop(y, inplace = True, axis =1)\n",
    "    except:\n",
    "        pass\n",
    "Y_test = test_data['Y_fire_area_prop']"
   ]
  },
  {
   "cell_type": "code",
   "execution_count": 123,
   "metadata": {},
   "outputs": [
    {
     "name": "stdout",
     "output_type": "stream",
     "text": [
      "0.1\n"
     ]
    },
    {
     "name": "stderr",
     "output_type": "stream",
     "text": [
      "<ipython-input-123-d46d01370da5>:4: DataConversionWarning: A column-vector y was passed when a 1d array was expected. Please change the shape of y to (n_samples,), for example using ravel().\n",
      "  rf_reg[i] = RandomForestRegressor().fit(X_train_samp[i], Y_train_samp[i])\n"
     ]
    },
    {
     "name": "stdout",
     "output_type": "stream",
     "text": [
      "0.2\n"
     ]
    },
    {
     "name": "stderr",
     "output_type": "stream",
     "text": [
      "<ipython-input-123-d46d01370da5>:4: DataConversionWarning: A column-vector y was passed when a 1d array was expected. Please change the shape of y to (n_samples,), for example using ravel().\n",
      "  rf_reg[i] = RandomForestRegressor().fit(X_train_samp[i], Y_train_samp[i])\n"
     ]
    },
    {
     "name": "stdout",
     "output_type": "stream",
     "text": [
      "0.30000000000000004\n"
     ]
    },
    {
     "name": "stderr",
     "output_type": "stream",
     "text": [
      "<ipython-input-123-d46d01370da5>:4: DataConversionWarning: A column-vector y was passed when a 1d array was expected. Please change the shape of y to (n_samples,), for example using ravel().\n",
      "  rf_reg[i] = RandomForestRegressor().fit(X_train_samp[i], Y_train_samp[i])\n"
     ]
    },
    {
     "name": "stdout",
     "output_type": "stream",
     "text": [
      "0.4\n"
     ]
    },
    {
     "name": "stderr",
     "output_type": "stream",
     "text": [
      "<ipython-input-123-d46d01370da5>:4: DataConversionWarning: A column-vector y was passed when a 1d array was expected. Please change the shape of y to (n_samples,), for example using ravel().\n",
      "  rf_reg[i] = RandomForestRegressor().fit(X_train_samp[i], Y_train_samp[i])\n"
     ]
    },
    {
     "name": "stdout",
     "output_type": "stream",
     "text": [
      "0.5\n"
     ]
    },
    {
     "name": "stderr",
     "output_type": "stream",
     "text": [
      "<ipython-input-123-d46d01370da5>:4: DataConversionWarning: A column-vector y was passed when a 1d array was expected. Please change the shape of y to (n_samples,), for example using ravel().\n",
      "  rf_reg[i] = RandomForestRegressor().fit(X_train_samp[i], Y_train_samp[i])\n"
     ]
    },
    {
     "name": "stdout",
     "output_type": "stream",
     "text": [
      "0.6\n"
     ]
    },
    {
     "name": "stderr",
     "output_type": "stream",
     "text": [
      "<ipython-input-123-d46d01370da5>:4: DataConversionWarning: A column-vector y was passed when a 1d array was expected. Please change the shape of y to (n_samples,), for example using ravel().\n",
      "  rf_reg[i] = RandomForestRegressor().fit(X_train_samp[i], Y_train_samp[i])\n"
     ]
    },
    {
     "name": "stdout",
     "output_type": "stream",
     "text": [
      "0.7000000000000001\n"
     ]
    },
    {
     "name": "stderr",
     "output_type": "stream",
     "text": [
      "<ipython-input-123-d46d01370da5>:4: DataConversionWarning: A column-vector y was passed when a 1d array was expected. Please change the shape of y to (n_samples,), for example using ravel().\n",
      "  rf_reg[i] = RandomForestRegressor().fit(X_train_samp[i], Y_train_samp[i])\n"
     ]
    },
    {
     "name": "stdout",
     "output_type": "stream",
     "text": [
      "0.8\n"
     ]
    },
    {
     "name": "stderr",
     "output_type": "stream",
     "text": [
      "<ipython-input-123-d46d01370da5>:4: DataConversionWarning: A column-vector y was passed when a 1d array was expected. Please change the shape of y to (n_samples,), for example using ravel().\n",
      "  rf_reg[i] = RandomForestRegressor().fit(X_train_samp[i], Y_train_samp[i])\n"
     ]
    },
    {
     "name": "stdout",
     "output_type": "stream",
     "text": [
      "0.9\n"
     ]
    },
    {
     "name": "stderr",
     "output_type": "stream",
     "text": [
      "<ipython-input-123-d46d01370da5>:4: DataConversionWarning: A column-vector y was passed when a 1d array was expected. Please change the shape of y to (n_samples,), for example using ravel().\n",
      "  rf_reg[i] = RandomForestRegressor().fit(X_train_samp[i], Y_train_samp[i])\n"
     ]
    }
   ],
   "source": [
    "rf_reg = {}\n",
    "for i in X_train_samp.keys():\n",
    "    print(i)\n",
    "    rf_reg[i] = RandomForestRegressor().fit(X_train_samp[i], Y_train_samp[i])"
   ]
  },
  {
   "cell_type": "code",
   "execution_count": 124,
   "metadata": {},
   "outputs": [],
   "source": [
    "y_preds_reg = {}\n",
    "y_proba_reg = {}\n",
    "for i in rf_reg.keys():\n",
    "    y_preds_reg[i] = rf_reg[i].predict(X_test)"
   ]
  },
  {
   "cell_type": "code",
   "execution_count": 125,
   "metadata": {
    "scrolled": false
   },
   "outputs": [
    {
     "name": "stdout",
     "output_type": "stream",
     "text": [
      "R^2 value: -1261.3173678764656\n"
     ]
    },
    {
     "data": {
      "image/png": "[encoded data removed]",
      "text/plain": [
       "<Figure size 576x432 with 1 Axes>"
      ]
     },
     "metadata": {
      "needs_background": "light"
     },
     "output_type": "display_data"
    },
    {
     "name": "stdout",
     "output_type": "stream",
     "text": [
      "R^2 value: -882.0007155902003\n"
     ]
    },
    {
     "data": {
      "image/png": "[encoded data removed]",
      "text/plain": [
       "<Figure size 576x432 with 1 Axes>"
      ]
     },
     "metadata": {
      "needs_background": "light"
     },
     "output_type": "display_data"
    },
    {
     "name": "stdout",
     "output_type": "stream",
     "text": [
      "R^2 value: -699.5287401336565\n"
     ]
    },
    {
     "data": {
      "image/png": "[encoded data removed]",
      "text/plain": [
       "<Figure size 576x432 with 1 Axes>"
      ]
     },
     "metadata": {
      "needs_background": "light"
     },
     "output_type": "display_data"
    },
    {
     "name": "stdout",
     "output_type": "stream",
     "text": [
      "R^2 value: -594.2180945821456\n"
     ]
    },
    {
     "data": {
      "image/png": "[encoded data removed]",
      "text/plain": [
       "<Figure size 576x432 with 1 Axes>"
      ]
     },
     "metadata": {
      "needs_background": "light"
     },
     "output_type": "display_data"
    },
    {
     "name": "stdout",
     "output_type": "stream",
     "text": [
      "R^2 value: -516.3105764271176\n"
     ]
    },
    {
     "data": {
      "image/png": "[encoded data removed]",
      "text/plain": [
       "<Figure size 576x432 with 1 Axes>"
      ]
     },
     "metadata": {
      "needs_background": "light"
     },
     "output_type": "display_data"
    },
    {
     "name": "stdout",
     "output_type": "stream",
     "text": [
      "R^2 value: -474.9539346155356\n"
     ]
    },
    {
     "data": {
      "image/png": "[encoded data removed]",
      "text/plain": [
       "<Figure size 576x432 with 1 Axes>"
      ]
     },
     "metadata": {
      "needs_background": "light"
     },
     "output_type": "display_data"
    },
    {
     "name": "stdout",
     "output_type": "stream",
     "text": [
      "R^2 value: -434.2683954525909\n"
     ]
    },
    {
     "data": {
      "image/png": "[encoded data removed]",
      "text/plain": [
       "<Figure size 576x432 with 1 Axes>"
      ]
     },
     "metadata": {
      "needs_background": "light"
     },
     "output_type": "display_data"
    },
    {
     "name": "stdout",
     "output_type": "stream",
     "text": [
      "R^2 value: -384.85036742364497\n"
     ]
    },
    {
     "data": {
      "image/png": "[encoded data removed]",
      "text/plain": [
       "<Figure size 576x432 with 1 Axes>"
      ]
     },
     "metadata": {
      "needs_background": "light"
     },
     "output_type": "display_data"
    },
    {
     "name": "stdout",
     "output_type": "stream",
     "text": [
      "R^2 value: -353.2764510016237\n"
     ]
    },
    {
     "data": {
      "image/png": "[encoded data removed]",
      "text/plain": [
       "<Figure size 576x432 with 1 Axes>"
      ]
     },
     "metadata": {
      "needs_background": "light"
     },
     "output_type": "display_data"
    }
   ],
   "source": [
    "#plot predictions vs actuals\n",
    "for i in X_train_samp.keys():\n",
    "    plt.figure(figsize=(8,6))\n",
    "    plt.scatter(y_preds_reg[i], Y_test)\n",
    "    plt.title('Scatter of predictions')\n",
    "    plt.xlabel('Predicted Area %')\n",
    "    plt.ylabel('Actual Area %')\n",
    "    #check R^2 value\n",
    "    print(\"R^2 value:\",rf_reg[i].score(X_test, Y_test))\n",
    "    #print(\"MSE:\",round(mean_squared_error(y_test_arr, preds_arrays),3))\n",
    "    plt.show()"
   ]
  },
  {
   "cell_type": "code",
   "execution_count": 200,
   "metadata": {},
   "outputs": [
    {
     "data": {
      "text/plain": [
       "['elev_mean',\n",
       " 'elev_std',\n",
       " 'elev_media',\n",
       " 'elev_max',\n",
       " 'elev_min',\n",
       " 'elev_range',\n",
       " 'pl_count',\n",
       " 'total_pl_length',\n",
       " 'road_count',\n",
       " 'total_road_length',\n",
       " 'MEDIAN_AGE_TOT',\n",
       " 'MEDIAN_AGE_MALE',\n",
       " 'MEDIAN_AGE_FEM',\n",
       " 'AGEUNDER13_TOT',\n",
       " 'AGE1424_TOT',\n",
       " 'AGE2544_TOT',\n",
       " 'AGE4564_TOT',\n",
       " 'AGE65PLUS_TOT',\n",
       " 'POPDENSITY',\n",
       " 'POPDENSITY_MALE',\n",
       " 'POPDENSITY_FEM',\n",
       " 'Structure Arsons',\n",
       " 'Mobile Arsons',\n",
       " 'Other Arsons',\n",
       " 'Total Arsons',\n",
       " 'Total Arsons Cleared',\n",
       " 'Unemployment',\n",
       " 'medianHHI2018',\n",
       " 'adj_fire_count',\n",
       " 'adj_fire_bcount',\n",
       " '10 metre U wind component hrs:0',\n",
       " '10 metre V wind component hrs:0',\n",
       " '2 metre dewpoint temperature hrs:0',\n",
       " '2 metre temperature hrs:0',\n",
       " 'Leaf area index, high vegetation hrs:0',\n",
       " 'Leaf area index, low vegetation hrs:0',\n",
       " 'Surface pressure hrs:0',\n",
       " 'Total precipitation hrs:0',\n",
       " '10 metre U wind component hrs:6',\n",
       " '10 metre V wind component hrs:6',\n",
       " '2 metre dewpoint temperature hrs:6',\n",
       " '2 metre temperature hrs:6',\n",
       " 'Leaf area index, high vegetation hrs:6',\n",
       " 'Leaf area index, low vegetation hrs:6',\n",
       " 'Surface pressure hrs:6',\n",
       " 'Total precipitation hrs:6',\n",
       " '10 metre U wind component hrs:12',\n",
       " '10 metre V wind component hrs:12',\n",
       " '2 metre dewpoint temperature hrs:12',\n",
       " '2 metre temperature hrs:12',\n",
       " 'Leaf area index, high vegetation hrs:12',\n",
       " 'Leaf area index, low vegetation hrs:12',\n",
       " 'Surface pressure hrs:12',\n",
       " 'Total precipitation hrs:12',\n",
       " '10 metre U wind component hrs:18',\n",
       " '10 metre V wind component hrs:18',\n",
       " '2 metre dewpoint temperature hrs:18',\n",
       " '2 metre temperature hrs:18',\n",
       " 'Leaf area index, high vegetation hrs:18',\n",
       " 'Leaf area index, low vegetation hrs:18',\n",
       " 'Surface pressure hrs:18',\n",
       " 'Total precipitation hrs:18',\n",
       " 'hist_bin_1m',\n",
       " 'hist_bin_1y',\n",
       " 'hist_bin_5y',\n",
       " 'hist_bin_10y',\n",
       " 'Y_fire_class_size_prev_month',\n",
       " 'Y_fire_class_size_prev_1yr',\n",
       " 'Y_fire_class_size_prev_5yr',\n",
       " 'Y_fire_class_size_prev_10yr',\n",
       " 'Y_fire_area_prop_prev_month',\n",
       " 'Y_fire_area_prop_prev_1yr',\n",
       " 'Y_fire_area_prop_prev_5yr',\n",
       " 'Y_fire_area_prop_prev_10yr',\n",
       " 'tot_area_fire_prev_1yr',\n",
       " 'Y_fire_class_size_3']"
      ]
     },
     "execution_count": 200,
     "metadata": {},
     "output_type": "execute_result"
    }
   ],
   "source": [
    "X_train.columns.tolist()"
   ]
  },
  {
   "cell_type": "code",
   "execution_count": null,
   "metadata": {},
   "outputs": [],
   "source": [
    "corr = np.corrcoef(train_data[[i for i in train_data.columns if i not in non_mod_cols] + ['YEAR']])"
   ]
  },
  {
   "cell_type": "code",
   "execution_count": 192,
   "metadata": {},
   "outputs": [],
   "source": [
    "target_df['Y_fire_class_size_3']  = np.where(target_df['Y_fire_class_size']>1, 2, target_df['Y_fire_class_size'])"
   ]
  },
  {
   "cell_type": "code",
   "execution_count": 201,
   "metadata": {},
   "outputs": [
    {
     "name": "stderr",
     "output_type": "stream",
     "text": [
      "/Applications/anaconda3/envs/geopandas_env/lib/python3.8/site-packages/pandas/core/frame.py:4167: SettingWithCopyWarning: \n",
      "A value is trying to be set on a copy of a slice from a DataFrame\n",
      "\n",
      "See the caveats in the documentation: https://pandas.pydata.org/pandas-docs/stable/user_guide/indexing.html#returning-a-view-versus-a-copy\n",
      "  return super().drop(\n"
     ]
    }
   ],
   "source": [
    "train_data = target_df[target_df['YEAR']<=2016]\n",
    "X_train = train_data.drop('YEAR', axis = 1)\n",
    "for y in Y_cols + non_mod_cols + ['Y_fire_class_size_3']:\n",
    "    try:\n",
    "        X_train.drop(y, inplace = True, axis =1)\n",
    "    except:\n",
    "        pass\n",
    "Y_train = train_data['Y_fire_class_size_3']"
   ]
  },
  {
   "cell_type": "code",
   "execution_count": 202,
   "metadata": {},
   "outputs": [
    {
     "name": "stderr",
     "output_type": "stream",
     "text": [
      "/Applications/anaconda3/envs/geopandas_env/lib/python3.8/site-packages/pandas/core/frame.py:4167: SettingWithCopyWarning: \n",
      "A value is trying to be set on a copy of a slice from a DataFrame\n",
      "\n",
      "See the caveats in the documentation: https://pandas.pydata.org/pandas-docs/stable/user_guide/indexing.html#returning-a-view-versus-a-copy\n",
      "  return super().drop(\n"
     ]
    }
   ],
   "source": [
    "test_data = target_df[target_df['YEAR']>2016]\n",
    "X_test = test_data.drop('YEAR', axis = 1)\n",
    "for y in Y_cols + non_mod_cols + ['Y_fire_class_size_3']:\n",
    "    try:\n",
    "        X_test.drop(y, inplace = True, axis =1)\n",
    "    except:\n",
    "        pass\n",
    "Y_test = test_data[['Y_fire_class_size_3']] "
   ]
  },
  {
   "cell_type": "code",
   "execution_count": 181,
   "metadata": {},
   "outputs": [
    {
     "data": {
      "text/plain": [
       "Y_fire_class_size    0\n",
       "dtype: int64"
      ]
     },
     "execution_count": 181,
     "metadata": {},
     "output_type": "execute_result"
    }
   ],
   "source": [
    "np.sum(Y_test.isna())"
   ]
  },
  {
   "cell_type": "code",
   "execution_count": 203,
   "metadata": {},
   "outputs": [],
   "source": [
    "rf_clf_class_bal = RandomForestClassifier(n_estimators = 100, class_weight= 'balanced').fit(X_train, Y_train)"
   ]
  },
  {
   "cell_type": "code",
   "execution_count": 204,
   "metadata": {},
   "outputs": [],
   "source": [
    "y_preds_class_bal = rf_clf_class_bal.predict(X_test)\n",
    "y_proba_class_bal = rf_clf_class_bal.predict_proba(X_test)[:,1]"
   ]
  },
  {
   "cell_type": "code",
   "execution_count": 205,
   "metadata": {},
   "outputs": [
    {
     "ename": "ValueError",
     "evalue": "multiclass format is not supported",
     "output_type": "error",
     "traceback": [
      "\u001b[0;31m---------------------------------------------------------------------------\u001b[0m",
      "\u001b[0;31mValueError\u001b[0m                                Traceback (most recent call last)",
      "\u001b[0;32m<ipython-input-205-b663fa38c8f0>\u001b[0m in \u001b[0;36m<module>\u001b[0;34m\u001b[0m\n\u001b[1;32m      4\u001b[0m \u001b[0mplt\u001b[0m\u001b[0;34m.\u001b[0m\u001b[0mrcParams\u001b[0m\u001b[0;34m[\u001b[0m\u001b[0;34m'figure.figsize'\u001b[0m\u001b[0;34m]\u001b[0m \u001b[0;34m=\u001b[0m \u001b[0;36m12\u001b[0m\u001b[0;34m,\u001b[0m \u001b[0;36m12\u001b[0m\u001b[0;34m\u001b[0m\u001b[0;34m\u001b[0m\u001b[0m\n\u001b[1;32m      5\u001b[0m \u001b[0mplt\u001b[0m\u001b[0;34m.\u001b[0m\u001b[0mfigure\u001b[0m\u001b[0;34m(\u001b[0m\u001b[0mfigsize\u001b[0m\u001b[0;34m=\u001b[0m\u001b[0;34m(\u001b[0m\u001b[0;36m16\u001b[0m\u001b[0;34m,\u001b[0m\u001b[0;36m8\u001b[0m\u001b[0;34m)\u001b[0m\u001b[0;34m)\u001b[0m\u001b[0;34m\u001b[0m\u001b[0;34m\u001b[0m\u001b[0m\n\u001b[0;32m----> 6\u001b[0;31m \u001b[0mfpr_bal\u001b[0m\u001b[0;34m,\u001b[0m \u001b[0mtpr_bal\u001b[0m\u001b[0;34m,\u001b[0m \u001b[0mthreshold\u001b[0m \u001b[0;34m=\u001b[0m \u001b[0mroc_curve\u001b[0m\u001b[0;34m(\u001b[0m\u001b[0mY_test\u001b[0m\u001b[0;34m,\u001b[0m \u001b[0my_proba_bin_bal\u001b[0m\u001b[0;34m)\u001b[0m\u001b[0;34m\u001b[0m\u001b[0;34m\u001b[0m\u001b[0m\n\u001b[0m\u001b[1;32m      7\u001b[0m \u001b[0mc\u001b[0m \u001b[0;34m=\u001b[0m \u001b[0;34m(\u001b[0m\u001b[0mnp\u001b[0m\u001b[0;34m.\u001b[0m\u001b[0mrandom\u001b[0m\u001b[0;34m.\u001b[0m\u001b[0mrand\u001b[0m\u001b[0;34m(\u001b[0m\u001b[0;34m)\u001b[0m\u001b[0;34m,\u001b[0m \u001b[0mnp\u001b[0m\u001b[0;34m.\u001b[0m\u001b[0mrandom\u001b[0m\u001b[0;34m.\u001b[0m\u001b[0mrand\u001b[0m\u001b[0;34m(\u001b[0m\u001b[0;34m)\u001b[0m\u001b[0;34m,\u001b[0m \u001b[0mnp\u001b[0m\u001b[0;34m.\u001b[0m\u001b[0mrandom\u001b[0m\u001b[0;34m.\u001b[0m\u001b[0mrand\u001b[0m\u001b[0;34m(\u001b[0m\u001b[0;34m)\u001b[0m\u001b[0;34m)\u001b[0m\u001b[0;34m\u001b[0m\u001b[0;34m\u001b[0m\u001b[0m\n\u001b[1;32m      8\u001b[0m \u001b[0mroc_auc\u001b[0m \u001b[0;34m=\u001b[0m \u001b[0mauc\u001b[0m\u001b[0;34m(\u001b[0m\u001b[0mfpr_bal\u001b[0m\u001b[0;34m,\u001b[0m \u001b[0mtpr_bal\u001b[0m\u001b[0;34m)\u001b[0m\u001b[0;34m\u001b[0m\u001b[0;34m\u001b[0m\u001b[0m\n",
      "\u001b[0;32m/Applications/anaconda3/envs/geopandas_env/lib/python3.8/site-packages/sklearn/utils/validation.py\u001b[0m in \u001b[0;36minner_f\u001b[0;34m(*args, **kwargs)\u001b[0m\n\u001b[1;32m     70\u001b[0m                           FutureWarning)\n\u001b[1;32m     71\u001b[0m         \u001b[0mkwargs\u001b[0m\u001b[0;34m.\u001b[0m\u001b[0mupdate\u001b[0m\u001b[0;34m(\u001b[0m\u001b[0;34m{\u001b[0m\u001b[0mk\u001b[0m\u001b[0;34m:\u001b[0m \u001b[0marg\u001b[0m \u001b[0;32mfor\u001b[0m \u001b[0mk\u001b[0m\u001b[0;34m,\u001b[0m \u001b[0marg\u001b[0m \u001b[0;32min\u001b[0m \u001b[0mzip\u001b[0m\u001b[0;34m(\u001b[0m\u001b[0msig\u001b[0m\u001b[0;34m.\u001b[0m\u001b[0mparameters\u001b[0m\u001b[0;34m,\u001b[0m \u001b[0margs\u001b[0m\u001b[0;34m)\u001b[0m\u001b[0;34m}\u001b[0m\u001b[0;34m)\u001b[0m\u001b[0;34m\u001b[0m\u001b[0;34m\u001b[0m\u001b[0m\n\u001b[0;32m---> 72\u001b[0;31m         \u001b[0;32mreturn\u001b[0m \u001b[0mf\u001b[0m\u001b[0;34m(\u001b[0m\u001b[0;34m**\u001b[0m\u001b[0mkwargs\u001b[0m\u001b[0;34m)\u001b[0m\u001b[0;34m\u001b[0m\u001b[0;34m\u001b[0m\u001b[0m\n\u001b[0m\u001b[1;32m     73\u001b[0m     \u001b[0;32mreturn\u001b[0m \u001b[0minner_f\u001b[0m\u001b[0;34m\u001b[0m\u001b[0;34m\u001b[0m\u001b[0m\n\u001b[1;32m     74\u001b[0m \u001b[0;34m\u001b[0m\u001b[0m\n",
      "\u001b[0;32m/Applications/anaconda3/envs/geopandas_env/lib/python3.8/site-packages/sklearn/metrics/_ranking.py\u001b[0m in \u001b[0;36mroc_curve\u001b[0;34m(y_true, y_score, pos_label, sample_weight, drop_intermediate)\u001b[0m\n\u001b[1;32m    773\u001b[0m \u001b[0;34m\u001b[0m\u001b[0m\n\u001b[1;32m    774\u001b[0m     \"\"\"\n\u001b[0;32m--> 775\u001b[0;31m     fps, tps, thresholds = _binary_clf_curve(\n\u001b[0m\u001b[1;32m    776\u001b[0m         y_true, y_score, pos_label=pos_label, sample_weight=sample_weight)\n\u001b[1;32m    777\u001b[0m \u001b[0;34m\u001b[0m\u001b[0m\n",
      "\u001b[0;32m/Applications/anaconda3/envs/geopandas_env/lib/python3.8/site-packages/sklearn/metrics/_ranking.py\u001b[0m in \u001b[0;36m_binary_clf_curve\u001b[0;34m(y_true, y_score, pos_label, sample_weight)\u001b[0m\n\u001b[1;32m    537\u001b[0m     if not (y_type == \"binary\" or\n\u001b[1;32m    538\u001b[0m             (y_type == \"multiclass\" and pos_label is not None)):\n\u001b[0;32m--> 539\u001b[0;31m         \u001b[0;32mraise\u001b[0m \u001b[0mValueError\u001b[0m\u001b[0;34m(\u001b[0m\u001b[0;34m\"{0} format is not supported\"\u001b[0m\u001b[0;34m.\u001b[0m\u001b[0mformat\u001b[0m\u001b[0;34m(\u001b[0m\u001b[0my_type\u001b[0m\u001b[0;34m)\u001b[0m\u001b[0;34m)\u001b[0m\u001b[0;34m\u001b[0m\u001b[0;34m\u001b[0m\u001b[0m\n\u001b[0m\u001b[1;32m    540\u001b[0m \u001b[0;34m\u001b[0m\u001b[0m\n\u001b[1;32m    541\u001b[0m     \u001b[0mcheck_consistent_length\u001b[0m\u001b[0;34m(\u001b[0m\u001b[0my_true\u001b[0m\u001b[0;34m,\u001b[0m \u001b[0my_score\u001b[0m\u001b[0;34m,\u001b[0m \u001b[0msample_weight\u001b[0m\u001b[0;34m)\u001b[0m\u001b[0;34m\u001b[0m\u001b[0;34m\u001b[0m\u001b[0m\n",
      "\u001b[0;31mValueError\u001b[0m: multiclass format is not supported"
     ]
    },
    {
     "data": {
      "text/plain": [
       "<Figure size 1152x576 with 0 Axes>"
      ]
     },
     "metadata": {},
     "output_type": "display_data"
    }
   ],
   "source": [
    "# Run this so your plots show properly\n",
    "import matplotlib.pyplot as plt\n",
    "%matplotlib inline\n",
    "plt.rcParams['figure.figsize'] = 12, 12\n",
    "plt.figure(figsize=(16,8))\n",
    "fpr_bal, tpr_bal, threshold = roc_curve(Y_test, y_proba_bin_bal)\n",
    "c = (np.random.rand(), np.random.rand(), np.random.rand())\n",
    "roc_auc = auc(fpr_bal, tpr_bal)\n",
    "plt.plot(fpr_bal, tpr_bal, color = c, label = '(AUC = %0.3f)' % roc_auc) \n",
    "plt.plot([0, 1], [0, 1], 'k--')\n",
    "plt.xlabel(\"FPR\")\n",
    "plt.ylabel(\"TPR\")\n",
    "plt.xlim([0, 1])\n",
    "plt.ylim([0, 1])\n",
    "plt.legend(loc=\"lower right\")\n",
    "plt.show()"
   ]
  },
  {
   "cell_type": "code",
   "execution_count": 206,
   "metadata": {},
   "outputs": [],
   "source": [
    "compare_multiclass = pd.DataFrame()\n",
    "Y_test = Y_test.to_numpy().reshape(Y_test.shape[0])\n",
    "compare_multiclass['class_pred'] = y_preds_class_bal\n",
    "compare_multiclass['class_actual'] = Y_test\n",
    "compare_multiclass['counter'] = 1"
   ]
  },
  {
   "cell_type": "code",
   "execution_count": 207,
   "metadata": {},
   "outputs": [
    {
     "data": {
      "text/html": [
       "<div>\n",
       "<style scoped>\n",
       "    .dataframe tbody tr th:only-of-type {\n",
       "        vertical-align: middle;\n",
       "    }\n",
       "\n",
       "    .dataframe tbody tr th {\n",
       "        vertical-align: top;\n",
       "    }\n",
       "\n",
       "    .dataframe thead th {\n",
       "        text-align: right;\n",
       "    }\n",
       "</style>\n",
       "<table border=\"1\" class=\"dataframe\">\n",
       "  <thead>\n",
       "    <tr style=\"text-align: right;\">\n",
       "      <th></th>\n",
       "      <th></th>\n",
       "      <th>counter</th>\n",
       "    </tr>\n",
       "    <tr>\n",
       "      <th>class_pred</th>\n",
       "      <th>class_actual</th>\n",
       "      <th></th>\n",
       "    </tr>\n",
       "  </thead>\n",
       "  <tbody>\n",
       "    <tr>\n",
       "      <th>0</th>\n",
       "      <th>0</th>\n",
       "      <td>2997</td>\n",
       "    </tr>\n",
       "    <tr>\n",
       "      <th>1</th>\n",
       "      <th>0</th>\n",
       "      <td>2</td>\n",
       "    </tr>\n",
       "    <tr>\n",
       "      <th>2</th>\n",
       "      <th>0</th>\n",
       "      <td>11</td>\n",
       "    </tr>\n",
       "    <tr>\n",
       "      <th>0</th>\n",
       "      <th>1</th>\n",
       "      <td>254</td>\n",
       "    </tr>\n",
       "    <tr>\n",
       "      <th>1</th>\n",
       "      <th>1</th>\n",
       "      <td>11</td>\n",
       "    </tr>\n",
       "    <tr>\n",
       "      <th>2</th>\n",
       "      <th>1</th>\n",
       "      <td>13</td>\n",
       "    </tr>\n",
       "    <tr>\n",
       "      <th>0</th>\n",
       "      <th>2</th>\n",
       "      <td>214</td>\n",
       "    </tr>\n",
       "    <tr>\n",
       "      <th>1</th>\n",
       "      <th>2</th>\n",
       "      <td>5</td>\n",
       "    </tr>\n",
       "    <tr>\n",
       "      <th>2</th>\n",
       "      <th>2</th>\n",
       "      <td>57</td>\n",
       "    </tr>\n",
       "  </tbody>\n",
       "</table>\n",
       "</div>"
      ],
      "text/plain": [
       "                         counter\n",
       "class_pred class_actual         \n",
       "0          0                2997\n",
       "1          0                   2\n",
       "2          0                  11\n",
       "0          1                 254\n",
       "1          1                  11\n",
       "2          1                  13\n",
       "0          2                 214\n",
       "1          2                   5\n",
       "2          2                  57"
      ]
     },
     "execution_count": 207,
     "metadata": {},
     "output_type": "execute_result"
    }
   ],
   "source": [
    "compare_multiclass.groupby(['class_pred', 'class_actual']).sum().sort_values(['class_actual', 'class_pred'])"
   ]
  }
 ],
 "metadata": {
  "kernelspec": {
   "display_name": "Python 3",
   "language": "python",
   "name": "python3"
  },
  "language_info": {
   "codemirror_mode": {
    "name": "ipython",
    "version": 3
   },
   "file_extension": ".py",
   "mimetype": "text/x-python",
   "name": "python",
   "nbconvert_exporter": "python",
   "pygments_lexer": "ipython3",
   "version": "3.8.6"
  }
 },
 "nbformat": 4,
 "nbformat_minor": 4
}
