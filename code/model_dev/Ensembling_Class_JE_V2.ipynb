{
 "cells": [
  {
   "cell_type": "code",
   "execution_count": 1,
   "metadata": {},
   "outputs": [],
   "source": [
    "#import packages\n",
    "import pandas as pd  # provides interface for interacting with tabular data\n",
    "import geopandas as gpd  # combines the capabilities of pandas and shapely for geospatial operations\n",
    "import rtree  # supports geospatial join\n",
    "import os\n",
    "import fnmatch\n",
    "import numpy as np\n",
    "import matplotlib.pyplot as plt\n",
    "import sys\n",
    "import pickle\n",
    "from shapely.ops import nearest_points\n",
    "from datetime import datetime as dt, date\n",
    "sys.path.append('/Users/jackepstein/Documents/GitHub/wildfires-1001/code/functions/')\n",
    "from modeling_functions import *\n",
    "data_dir = '/Users/jackepstein/Documents/GitHub/wildfires-1001/data'\n",
    "code_dir = '/Users/jackepstein/Documents/GitHub/wildfires-1001/code'\n",
    "model_dir = '/Users/jackepstein/Documents/GitHub/wildfires-1001/models'"
   ]
  },
  {
   "cell_type": "code",
   "execution_count": 2,
   "metadata": {},
   "outputs": [],
   "source": [
    "from sklearn.metrics import accuracy_score, confusion_matrix, classification_report, multilabel_confusion_matrix\n",
    "from sklearn.metrics import auc, roc_curve, roc_auc_score\n",
    "from sklearn.utils.class_weight import compute_class_weight\n",
    "from sklearn.linear_model import LogisticRegression\n",
    "from sklearn.svm import SVC, LinearSVC\n",
    "from sklearn.preprocessing import scale, label_binarize\n",
    "from sklearn.multiclass import OneVsRestClassifier\n",
    "from sklearn.decomposition import PCA"
   ]
  },
  {
   "cell_type": "markdown",
   "metadata": {},
   "source": [
    "# Pull in main data frame"
   ]
  },
  {
   "cell_type": "code",
   "execution_count": 3,
   "metadata": {},
   "outputs": [],
   "source": [
    "#pull in the target data frame and weather dictionary \n",
    "#make sure to change the pkl file name if needed\n",
    "target_dict = {}\n",
    "target_df = gpd.GeoDataFrame()\n",
    "for i in np.arange(1, 3):\n",
    "    target_dict[i] = pd.read_pickle(os.path.join(data_dir, f'clean_data/target_df_final_1123_newtargets_{i}.pkl')) \n",
    "    target_df = target_df.append(target_dict[i])\n",
    "\n",
    "\n",
    "weather_dict_path = os.path.join(data_dir, 'clean_data/ERA_weather-data/ERA_rename_dictionary.pkl')"
   ]
  },
  {
   "cell_type": "code",
   "execution_count": 4,
   "metadata": {},
   "outputs": [],
   "source": [
    "#load the naming dictionary\n",
    "with open(weather_dict_path, 'rb') as handle:\n",
    "    rename_dict = pickle.load(handle)"
   ]
  },
  {
   "cell_type": "code",
   "execution_count": 5,
   "metadata": {},
   "outputs": [],
   "source": [
    "#rename the columns based on this dictionary\n",
    "target_df.rename(columns = rename_dict, inplace = True)"
   ]
  },
  {
   "cell_type": "code",
   "execution_count": 6,
   "metadata": {},
   "outputs": [],
   "source": [
    "#create lists of columns to drop and what our targets are\n",
    "non_mod_cols = ['GRID_ID','month_id','MONTH','COUNTYFP','COUNTY_AREA', 'NAME','GRID_AREA','COUNTY_ARE','month_id_old_x','month_id_old_y',\n",
    "                'geometry','Fire_area','total_fire_days','hist_p_time_1y','total_fire_days','hist_p_time_1y', \n",
    "                'hist_p_time_1m', 'month_id_old', 'YEAR','Index','index']\n",
    "bad_features = ['hist_p_time_1m', 'total_fire_days', 'hist_p_time_1y','month_id_old']\n",
    "Y_cols = ['Y_bin', 'Y_fire_count', 'Y_fire_area_prop', 'Y_fire_class_size','Y_bin_new_fire_month',\n",
    "          'Y_max_new_fire_size_month','Y_count_new_fires_month']"
   ]
  },
  {
   "cell_type": "code",
   "execution_count": 7,
   "metadata": {},
   "outputs": [],
   "source": [
    "#convert floats from 64 to 32 for model\n",
    "for col in target_df.columns:\n",
    "    if target_df[col].dtypes == 'float64':\n",
    "        target_df[col] = target_df[col].astype(np.float32)"
   ]
  },
  {
   "cell_type": "markdown",
   "metadata": {},
   "source": [
    "# Pull in Models and Feature Lists"
   ]
  },
  {
   "cell_type": "code",
   "execution_count": 8,
   "metadata": {},
   "outputs": [],
   "source": [
    "#pull in models\n",
    "\n",
    "#list of models\n",
    "model_list = ['LR_15PCA_1990_2015.pkl', 'LR_30entropy_1990_2015.pkl', 'linSVC_25PCA_1990_2015.pkl', \n",
    "              'LR_15PCA_1990_2005.pkl', 'LR_20gini_1990_2005.pkl', 'linSVC_15PCA_1990_2005.pkl', \n",
    "              'linSVC_30gini_1990_2005.pkl', 'linSVC_35entropy_1990_2015.pkl']\n",
    "\n",
    "\n",
    "#get all paths for loading\n",
    "model_path_list = []\n",
    "for m in model_list:\n",
    "    mod_path = os.path.join(model_dir, m)\n",
    "    model_path_list.append(mod_path)\n",
    "\n",
    "#load the models into a dictionary with the file as the key and the model as the value\n",
    "models = {}\n",
    "for m in range(len(model_list)):\n",
    "    with open(model_path_list[m], 'rb') as handle:\n",
    "        models[model_list[m]] = pickle.load(handle)"
   ]
  },
  {
   "cell_type": "code",
   "execution_count": 9,
   "metadata": {},
   "outputs": [],
   "source": [
    "#pull in feature lists\n",
    "\n",
    "#w ill need 30e\n",
    "feat_list = ['RF_entropy_top30_features.pkl', 'RF_gini_top20_features_1990_2005.pkl', \n",
    "             'RF_gini_top30_features_1990_2005.pkl', 'RF_entropy_top35_features.pkl']\n",
    "\n",
    "#get paths for loading\n",
    "feat_path_list = []\n",
    "for f in feat_list:\n",
    "    feat_path = os.path.join(model_dir,'feature_lists',f)\n",
    "    feat_path_list.append(feat_path)\n",
    "\n",
    "features = {}\n",
    "for f in range(len(feat_list)):\n",
    "    with open(feat_path_list[f], 'rb') as handle:\n",
    "        features[feat_list[f]] = pickle.load(handle)"
   ]
  },
  {
   "cell_type": "markdown",
   "metadata": {},
   "source": [
    "# Split training and testing data"
   ]
  },
  {
   "cell_type": "markdown",
   "metadata": {},
   "source": [
    "### This is the split where using the 1990-2005 on initial test, 2006-2015 on 2nd stage and 2016-2019 on final testing"
   ]
  },
  {
   "cell_type": "code",
   "execution_count": 10,
   "metadata": {},
   "outputs": [],
   "source": [
    "#generate phase1 data set\n",
    "#pre 2006\n",
    "phase1_data = target_df[target_df['YEAR']<2006]\n",
    "X_phase1 = phase1_data.drop('YEAR', axis = 1)\n",
    "#drop columns not used for modeling - dont drop Ys here\n",
    "for y in Y_cols + non_mod_cols + bad_features:\n",
    "    try:\n",
    "        X_phase1.drop(y, inplace = True, axis =1)\n",
    "    except:\n",
    "        pass\n",
    "#set up target variable\n",
    "Y_ph1_cl = phase1_data[['Y_bin_new_fire_month']]\n",
    "Y_ph1_cl_size = phase1_data[['Y_max_new_fire_size_month']]\n",
    "Y_ph1_cl_arr = Y_ph1_cl.to_numpy().ravel()\n",
    "Y_ph1_cl_size_arr = Y_ph1_cl_size.to_numpy().ravel()\n",
    "\n",
    "#generate phase2 data set - same logic as above\n",
    "phase2_data = target_df[(target_df['YEAR']>=2006)&(target_df['YEAR']<2016)]\n",
    "X_phase2 = phase2_data.drop('YEAR', axis = 1)\n",
    "for y in Y_cols + non_mod_cols + bad_features:\n",
    "    try:\n",
    "        X_phase2.drop(y, inplace = True, axis =1)\n",
    "    except:\n",
    "        pass\n",
    "Y_ph2_cl = phase2_data[['Y_bin_new_fire_month']]\n",
    "Y_ph2_cl_size = phase2_data[['Y_max_new_fire_size_month']]\n",
    "Y_ph2_cl_arr = Y_ph2_cl.to_numpy().ravel()\n",
    "Y_ph2_cl_size_arr = Y_ph2_cl_size.to_numpy().ravel()\n",
    "\n",
    "#generate phase3 (test) data set\n",
    "phase3_data = target_df[target_df['YEAR']>=2016]\n",
    "X_phase3 = phase3_data.drop('YEAR', axis = 1)\n",
    "for y in Y_cols + non_mod_cols + bad_features:\n",
    "    try:\n",
    "        X_phase3.drop(y, inplace = True, axis =1)\n",
    "    except:\n",
    "        pass\n",
    "Y_ph3_cl = phase3_data[['Y_bin_new_fire_month']]\n",
    "Y_ph3_cl_size = phase3_data[['Y_max_new_fire_size_month']]\n",
    "Y_ph3_cl_arr = Y_ph3_cl.to_numpy().ravel()\n",
    "Y_ph3_cl_size_arr = Y_ph3_cl_size.to_numpy().ravel()"
   ]
  },
  {
   "cell_type": "code",
   "execution_count": 11,
   "metadata": {},
   "outputs": [],
   "source": [
    "#scale all data sets\n",
    "X_phase1_scaled = pd.DataFrame(scale(X_phase1), columns = X_phase1.columns, index=X_phase1.index)\n",
    "X_phase2_scaled = pd.DataFrame(scale(X_phase2), columns = X_phase2.columns, index=X_phase2.index)\n",
    "X_phase3_scaled = pd.DataFrame(scale(X_phase3), columns = X_phase3.columns, index=X_phase3.index)"
   ]
  },
  {
   "cell_type": "markdown",
   "metadata": {},
   "source": [
    "# Perform PCA"
   ]
  },
  {
   "cell_type": "code",
   "execution_count": 12,
   "metadata": {},
   "outputs": [],
   "source": [
    "#copy base df and re-drop non modeling columns\n",
    "X_features = target_df.copy()\n",
    "for y in Y_cols + non_mod_cols + bad_features:\n",
    "    try:\n",
    "        X_features.drop(y, inplace = True, axis =1)\n",
    "    except:\n",
    "        pass\n",
    "    \n",
    "#scale features    \n",
    "X_features_scaled = scale(X_features)    "
   ]
  },
  {
   "cell_type": "code",
   "execution_count": 13,
   "metadata": {},
   "outputs": [
    {
     "data": {
      "text/plain": [
       "[<matplotlib.lines.Line2D at 0x7fa4c1c71bb0>]"
      ]
     },
     "execution_count": 13,
     "metadata": {},
     "output_type": "execute_result"
    },
    {
     "data": {
      "image/png": "[encoded data removed]",
      "text/plain": [
       "<Figure size 432x288 with 1 Axes>"
      ]
     },
     "metadata": {
      "needs_background": "light"
     },
     "output_type": "display_data"
    }
   ],
   "source": [
    "#fit the scaled dataset\n",
    "pca_x = PCA().fit(X_features_scaled)\n",
    "\n",
    "#plot explained variance ratio\n",
    "plt.plot(pca_x.explained_variance_ratio_[0:20])"
   ]
  },
  {
   "cell_type": "code",
   "execution_count": 14,
   "metadata": {},
   "outputs": [],
   "source": [
    "pca_df = pd.DataFrame(pca_x.components_[0:20,].transpose(), columns = [\"PC{}\".format(i+1) for i in range(20)], \\\n",
    "                      index = X_features.columns)"
   ]
  },
  {
   "cell_type": "code",
   "execution_count": 15,
   "metadata": {},
   "outputs": [],
   "source": [
    "#write for loop to make list \"nth_principle_component\"\n",
    "princ_comp_list = []\n",
    "for name in range(1,173):\n",
    "    pr = str(name)+'th_pc'\n",
    "    princ_comp_list.append(pr)    "
   ]
  },
  {
   "cell_type": "code",
   "execution_count": 16,
   "metadata": {},
   "outputs": [],
   "source": [
    "#do split on 3 phases -- still need to do 3 phase split as well\n",
    "X_features_pca = pd.DataFrame(pca_x.transform(X_features_scaled), columns = princ_comp_list)\n",
    "X_features_pca['YEAR'] = target_df['YEAR']\n",
    "\n",
    "#split phases on year\n",
    "X_ph1_pca = X_features_pca[X_features_pca['YEAR']< 2006]\n",
    "X_ph2_pca = X_features_pca[(X_features_pca['YEAR']>=2006)&(X_features_pca['YEAR']<2016)]\n",
    "X_ph3_pca = X_features_pca[X_features_pca['YEAR']>=2016]\n",
    "\n",
    "\n",
    "Y_ph1_pca = target_df[target_df['YEAR']<2006]['Y_bin_new_fire_month']\n",
    "Y_ph1_size_pca = target_df[target_df['YEAR']<2006]['Y_max_new_fire_size_month']\n",
    "\n",
    "Y_ph2_pca = target_df[(target_df['YEAR']>=2006)&(target_df['YEAR']<2016)]['Y_bin_new_fire_month']\n",
    "Y_ph2_size_pca = target_df[(target_df['YEAR']>=2006)&(target_df['YEAR']<2016)]['Y_max_new_fire_size_month']\n",
    "\n",
    "Y_ph3_pca = target_df[target_df['YEAR']>=2016]['Y_bin_new_fire_month']\n",
    "Y_ph3_size_pca = target_df[target_df['YEAR']>=2016]['Y_max_new_fire_size_month']"
   ]
  },
  {
   "cell_type": "markdown",
   "metadata": {},
   "source": [
    "## Pick model and Get Trained Predictions"
   ]
  },
  {
   "cell_type": "markdown",
   "metadata": {},
   "source": [
    "ASPECTS TO TEST\n",
    "- LR vs SVM\n",
    "- REGULARIZATION PARAMETERS\n",
    "- PCA vs DATA\n",
    "- Number of Features/Principle Components\n",
    "- Try one test with Predictions as a feature rather than a filtering device"
   ]
  },
  {
   "cell_type": "code",
   "execution_count": 17,
   "metadata": {},
   "outputs": [
    {
     "data": {
      "text/plain": [
       "LinearSVC(C=0.0001, class_weight='balanced', dual=False)"
      ]
     },
     "execution_count": 17,
     "metadata": {},
     "output_type": "execute_result"
    }
   ],
   "source": [
    "#pick model\n",
    "#picking SVM 'linSVC_15PCA_1990_2005.pkl'\n",
    "#same AUC as LR model, higher recall\n",
    "model = models['linSVC_15PCA_1990_2005.pkl']\n",
    "model"
   ]
  },
  {
   "cell_type": "code",
   "execution_count": 18,
   "metadata": {},
   "outputs": [],
   "source": [
    "#slim down features\n",
    "X_ph1_15 = X_ph1_pca[X_ph1_pca.columns[0:15]]\n",
    "X_ph2_15 = X_ph2_pca[X_ph2_pca.columns[0:15]]\n",
    "X_ph3_15 = X_ph3_pca[X_ph3_pca.columns[0:15]]"
   ]
  },
  {
   "cell_type": "code",
   "execution_count": 19,
   "metadata": {},
   "outputs": [],
   "source": [
    "#run model on train and test sets to get predictions\n",
    "y_preds_ph2 = model.predict(X_ph2_15)\n",
    "y_preds_ph3 = model.predict(X_ph3_15)"
   ]
  },
  {
   "cell_type": "code",
   "execution_count": 20,
   "metadata": {},
   "outputs": [],
   "source": [
    "#want to append predictions and class size Y to\n",
    "#FULL PCA set (then test the number of features we want)\n",
    "#REGULAR features list"
   ]
  },
  {
   "cell_type": "code",
   "execution_count": 21,
   "metadata": {},
   "outputs": [],
   "source": [
    "#store predictions and filter -- phase 2\n",
    "\n",
    "#append the these predictions to the dataframe\n",
    "preds2_df = pd.DataFrame(y_preds_ph2, columns=['preds'], index=X_ph2_pca.index)\n",
    "X_ph2_pca_preds = X_ph2_pca.merge(preds2_df, how='outer', left_index=True, right_index=True)\n",
    "\n",
    "#rejoin with the y-size column\n",
    "X_ph2_pca_ysize = X_ph2_pca_preds.merge(Y_ph2_size_pca, how='outer', left_index=True, right_index=True)\n",
    "\n",
    "\n",
    "\n",
    "#store predictions and filter -- phase 3\n",
    "\n",
    "#append the these predictions to the dataframe\n",
    "preds3_df = pd.DataFrame(y_preds_ph3, columns=['preds'], index=X_ph3_pca.index)\n",
    "X_ph3_pca_preds = X_ph3_pca.merge(preds3_df, how='outer', left_index=True, right_index=True)\n",
    "\n",
    "#rejoin with the y-size column\n",
    "X_ph3_pca_ysize = X_ph3_pca_preds.merge(Y_ph3_size_pca, how='outer', left_index=True, right_index=True)"
   ]
  },
  {
   "cell_type": "code",
   "execution_count": 22,
   "metadata": {},
   "outputs": [],
   "source": [
    "#repeat this process for the standard scaled data set\n",
    "\n",
    "#append the these predictions to the dataframe\n",
    "preds2_df2 = pd.DataFrame(y_preds_ph2, columns=['preds'], index=X_phase2_scaled.index)\n",
    "X_ph2_scaled_preds = X_phase2_scaled.merge(preds2_df2, how='outer', left_index=True, right_index=True)\n",
    "\n",
    "#rejoin with the y-size column\n",
    "X_ph2_scaled_ysize = X_ph2_scaled_preds.merge(Y_ph2_cl_size, how='outer', left_index=True, right_index=True)\n",
    "\n",
    "\n",
    "\n",
    "#store predictions and filter -- phase 3\n",
    "\n",
    "#append the these predictions to the dataframe\n",
    "preds3_df2 = pd.DataFrame(y_preds_ph3, columns=['preds'], index=X_phase3_scaled.index)\n",
    "X_ph3_scaled_preds = X_phase3_scaled.merge(preds3_df2, how='outer', left_index=True, right_index=True)\n",
    "\n",
    "#rejoin with the y-size column\n",
    "X_ph3_scaled_ysize = X_ph3_scaled_preds.merge(Y_ph3_cl_size, how='outer', left_index=True, right_index=True)"
   ]
  },
  {
   "cell_type": "markdown",
   "metadata": {},
   "source": [
    "# Using positive predictions as a filter (rather than a feature)"
   ]
  },
  {
   "cell_type": "markdown",
   "metadata": {},
   "source": [
    "#### Get test and training sets and targets ready"
   ]
  },
  {
   "cell_type": "code",
   "execution_count": 23,
   "metadata": {},
   "outputs": [],
   "source": [
    "#filter for the positive predicted instances\n",
    "X_ph2_pca_cut = X_ph2_pca_ysize.loc[X_ph2_pca_ysize['preds']==1]\n",
    "X_ph3_pca_cut = X_ph3_pca_ysize.loc[X_ph3_pca_ysize['preds']==1]\n",
    "X_ph2_scaled_cut = X_ph2_scaled_ysize.loc[X_ph2_scaled_ysize['preds']==1]\n",
    "X_ph3_scaled_cut = X_ph3_scaled_ysize.loc[X_ph3_scaled_ysize['preds']==1]\n",
    "\n",
    "\n",
    "#drop preds and class_size columns, while saving class size as a new training y\n",
    "Y_ph2_size_pca_cut = X_ph2_pca_cut['Y_max_new_fire_size_month']\n",
    "Y_ph3_size_pca_cut = X_ph3_pca_cut['Y_max_new_fire_size_month']\n",
    "Y_ph2_scaled_cut = X_ph2_scaled_cut['Y_max_new_fire_size_month']\n",
    "Y_ph3_scaled_cut = X_ph3_scaled_cut['Y_max_new_fire_size_month']\n",
    "\n",
    "X_ph2_pca_ready = X_ph2_pca_cut.drop(columns=['preds','Y_max_new_fire_size_month','YEAR'])\n",
    "X_ph3_pca_ready = X_ph3_pca_cut.drop(columns=['preds','Y_max_new_fire_size_month','YEAR'])\n",
    "X_ph2_scaled_ready = X_ph2_scaled_cut.drop(columns=['preds','Y_max_new_fire_size_month'])\n",
    "X_ph3_scaled_ready = X_ph3_scaled_cut.drop(columns=['preds','Y_max_new_fire_size_month'])"
   ]
  },
  {
   "cell_type": "code",
   "execution_count": 24,
   "metadata": {},
   "outputs": [],
   "source": [
    "#regularization hyperparam options\n",
    "cs = [10**i for i in range(-4, 2)] \n",
    "pc_nums = [15, 20, 25, 30]\n",
    "classes = np.array([0,1,2,3])\n",
    "costs = np.array([0, -1, -10 , -50])"
   ]
  },
  {
   "cell_type": "code",
   "execution_count": 25,
   "metadata": {},
   "outputs": [
    {
     "data": {
      "text/plain": [
       "array([[  0.   ,  -0.25 ,  -2.5  , -12.5  ],\n",
       "       [ -1.   ,   0.   ,  -0.225,  -0.245],\n",
       "       [-10.   ,  -0.9  ,   0.   ,  -0.2  ],\n",
       "       [-50.   ,  -0.98 ,  -0.8  ,   0.   ]])"
      ]
     },
     "execution_count": 25,
     "metadata": {},
     "output_type": "execute_result"
    }
   ],
   "source": [
    "#get the cost matrix\n",
    "cost_mat = multi_cost_matrix(classes, costs)\n",
    "cost_mat"
   ]
  },
  {
   "cell_type": "markdown",
   "metadata": {},
   "source": [
    "# Test 1: Logistic Regression - PCA\n",
    "- Regularization params\n",
    "- Number of Principle Components"
   ]
  },
  {
   "cell_type": "code",
   "execution_count": 26,
   "metadata": {},
   "outputs": [],
   "source": [
    "#run LR on all Cs and number of PCs\n",
    "#store all confusion matrices, AUCs, scores and expected values\n",
    "aucs_t1 = {}\n",
    "conf_mats_t1 = {}\n",
    "evs_t1 = {}\n",
    "\n",
    "for i in pc_nums:\n",
    "    #slim down data set to first i PCs\n",
    "    X_ph2_pca_fit = X_ph2_pca_ready[X_ph2_pca_ready.columns[0:i]]\n",
    "    X_ph3_pca_score = X_ph3_pca_ready[X_ph3_pca_ready.columns[0:i]]\n",
    "    \n",
    "    #create nested dictionary \n",
    "    aucs_t1[i] = {}\n",
    "    conf_mats_t1[i] = {}\n",
    "    evs_t1[i] = {}\n",
    "    \n",
    "    for c in cs:\n",
    "        lr = LogisticRegression(C=c, max_iter=1500, class_weight = 'balanced').fit(X_ph2_pca_fit, \n",
    "                                                                                   Y_ph2_size_pca_cut.to_numpy().ravel())\n",
    "\n",
    "        cm = confusion_matrix(Y_ph3_size_pca_cut, lr.predict(X_ph3_pca_score), normalize='true')\n",
    "        conf_mats_t1[i][c] = cm\n",
    "        ev = EV_multi(Y_ph3_size_pca_cut, lr.predict(X_ph3_pca_score), classes, cost_mat)\n",
    "        evs_t1[i][c] = ev\n",
    "        \n",
    "        #store aucs -- will aggregate after taking an auc for each class -- simple mean\n",
    "        y = label_binarize(Y_ph3_size_pca_cut, classes=[0,1,2,3])\n",
    "        n_classes = y.shape[1]\n",
    "        aucs_sub = np.zeros(n_classes)\n",
    "        for n in range(n_classes):\n",
    "            fpr, tpr, thresholds = roc_curve(y[:,n], lr.predict_proba(X_ph3_pca_score)[:,n])\n",
    "            aucs_sub = auc(fpr,tpr)\n",
    "    \n",
    "        aucs_t1[i][c] = np.mean(aucs_sub)"
   ]
  },
  {
   "cell_type": "code",
   "execution_count": 27,
   "metadata": {},
   "outputs": [
    {
     "data": {
      "text/plain": [
       "-2.785930161214157"
      ]
     },
     "execution_count": 27,
     "metadata": {},
     "output_type": "execute_result"
    }
   ],
   "source": [
    "#get the best expected value from the test\n",
    "#need logic to get parameters for this test\n",
    "max_evs_t1 = []\n",
    "for d in pc_nums:\n",
    "    max_ev = max(evs_t1[d].values())\n",
    "    max_evs_t1.append(max_ev)\n",
    "\n",
    "max(max_evs_t1)"
   ]
  },
  {
   "cell_type": "markdown",
   "metadata": {},
   "source": [
    "# Test 2: SVM - PCA\n",
    "- Regularization params\n",
    "- Number of Principle Components"
   ]
  },
  {
   "cell_type": "code",
   "execution_count": 28,
   "metadata": {},
   "outputs": [],
   "source": [
    "#run SVM on all Cs and number of PCs\n",
    "#store all confusion matrices, AUCs, scores and expected values\n",
    "aucs_t2 = {}\n",
    "conf_mats_t2 = {}\n",
    "evs_t2 = {}\n",
    "\n",
    "for i in pc_nums:\n",
    "    #slim down data set to first i PCs\n",
    "    X_ph2_pca_fit = X_ph2_pca_ready[X_ph2_pca_ready.columns[0:i]]\n",
    "    X_ph3_pca_score = X_ph3_pca_ready[X_ph3_pca_ready.columns[0:i]]\n",
    "    \n",
    "    #create nested dictionary \n",
    "    aucs_t2[i] = {}\n",
    "    conf_mats_t2[i] = {}\n",
    "    evs_t2[i] = {}\n",
    "    \n",
    "    for c in cs:\n",
    "        svm = LinearSVC(C=c, class_weight = 'balanced', dual=False).fit(X_ph2_pca_fit, \n",
    "                                                                                   Y_ph2_size_pca_cut.to_numpy().ravel())\n",
    "\n",
    "        cm = confusion_matrix(Y_ph3_size_pca_cut, svm.predict(X_ph3_pca_score), normalize='true')\n",
    "        conf_mats_t2[i][c] = cm\n",
    "        ev = EV_multi(Y_ph3_size_pca_cut, svm.predict(X_ph3_pca_score), classes, cost_mat)\n",
    "        evs_t2[i][c] = ev\n",
    "        \n",
    "        #store aucs -- will aggregate after taking an auc for each class -- simple mean\n",
    "        y = label_binarize(Y_ph3_size_pca_cut, classes=[0,1,2,3])\n",
    "        n_classes = y.shape[1]\n",
    "        aucs_sub = np.zeros(n_classes)\n",
    "        for n in range(n_classes):\n",
    "            fpr, tpr, thresholds = roc_curve(y[:,n], svm.decision_function(X_ph3_pca_score)[:,n])\n",
    "            aucs_sub = auc(fpr,tpr)\n",
    "    \n",
    "        aucs_t2[i][c] = np.mean(aucs_sub)"
   ]
  },
  {
   "cell_type": "code",
   "execution_count": 29,
   "metadata": {},
   "outputs": [
    {
     "data": {
      "text/plain": [
       "-6.933039702643486"
      ]
     },
     "execution_count": 29,
     "metadata": {},
     "output_type": "execute_result"
    }
   ],
   "source": [
    "#get the best expected value from the test\n",
    "#need logic to get parameters for this test\n",
    "max_evs_t2 = []\n",
    "for d in pc_nums:\n",
    "    max_ev = max(evs_t2[d].values())\n",
    "    max_evs_t2.append(max_ev)\n",
    "\n",
    "max(max_evs_t2)"
   ]
  },
  {
   "cell_type": "markdown",
   "metadata": {},
   "source": [
    "# Test 3: Logistic Regression - Feature Selection"
   ]
  },
  {
   "cell_type": "markdown",
   "metadata": {},
   "source": [
    "- Regularization params\n",
    "- Features (can pick from list)"
   ]
  },
  {
   "cell_type": "code",
   "execution_count": 30,
   "metadata": {},
   "outputs": [],
   "source": [
    "feat_list_keys = list(features.keys())"
   ]
  },
  {
   "cell_type": "code",
   "execution_count": 31,
   "metadata": {},
   "outputs": [],
   "source": [
    "#run LR on all Cs and features\n",
    "#store all confusion matrices, AUCs, scores and expected values\n",
    "aucs_t3 = {}\n",
    "conf_mats_t3 = {}\n",
    "evs_t3 = {}\n",
    "\n",
    "for i in feat_list_keys:\n",
    "    #slim down data set our top features\n",
    "    X_ph2_feat_fit = X_ph2_scaled_ready[features[i]]\n",
    "    X_ph3_feat_score = X_ph3_scaled_ready[features[i]]\n",
    "    \n",
    "    #create nested dictionary \n",
    "    aucs_t3[i] = {}\n",
    "    conf_mats_t3[i] = {}\n",
    "    evs_t3[i] = {}\n",
    "    \n",
    "    for c in cs:\n",
    "        lr = LogisticRegression(C=c, max_iter=1500, class_weight = 'balanced').fit(X_ph2_feat_fit, \n",
    "                                                                                   Y_ph2_scaled_cut.to_numpy().ravel())\n",
    "\n",
    "        cm = confusion_matrix(Y_ph3_scaled_cut, lr.predict(X_ph3_feat_score), normalize='true')\n",
    "        conf_mats_t3[i][c] = cm\n",
    "        ev = EV_multi(Y_ph3_scaled_cut, lr.predict(X_ph3_feat_score), classes, cost_mat)\n",
    "        evs_t3[i][c] = ev\n",
    "        \n",
    "        #store aucs -- will aggregate after taking an auc for each class -- simple mean\n",
    "        y = label_binarize(Y_ph3_scaled_cut, classes=[0,1,2,3])\n",
    "        n_classes = y.shape[1]\n",
    "        aucs_sub = np.zeros(n_classes)\n",
    "        for n in range(n_classes):\n",
    "            fpr, tpr, thresholds = roc_curve(y[:,n], lr.predict_proba(X_ph3_feat_score)[:,n])\n",
    "            aucs_sub = auc(fpr,tpr)\n",
    "    \n",
    "        aucs_t3[i][c] = np.mean(aucs_sub)"
   ]
  },
  {
   "cell_type": "code",
   "execution_count": 32,
   "metadata": {},
   "outputs": [
    {
     "data": {
      "text/plain": [
       "-2.5454706434438066"
      ]
     },
     "execution_count": 32,
     "metadata": {},
     "output_type": "execute_result"
    }
   ],
   "source": [
    "#get the best expected value from the test\n",
    "#need logic to get parameters for this test\n",
    "max_evs_t3 = []\n",
    "for f in feat_list_keys:\n",
    "    max_ev = max(evs_t3[f].values())\n",
    "    max_evs_t3.append(max_ev)\n",
    "\n",
    "max(max_evs_t3)"
   ]
  },
  {
   "cell_type": "markdown",
   "metadata": {},
   "source": [
    "# Test 4: SVM- Feature Selection"
   ]
  },
  {
   "cell_type": "markdown",
   "metadata": {},
   "source": [
    "- Regularization params\n",
    "- Features (can pick from list)"
   ]
  },
  {
   "cell_type": "code",
   "execution_count": 33,
   "metadata": {},
   "outputs": [],
   "source": [
    "#run LR on all Cs and features\n",
    "#store all confusion matrices, AUCs, scores and expected values\n",
    "aucs_t4 = {}\n",
    "conf_mats_t4 = {}\n",
    "evs_t4 = {}\n",
    "\n",
    "for i in feat_list_keys:\n",
    "    #slim down data set our top features\n",
    "    X_ph2_feat_fit = X_ph2_scaled_ready[features[i]]\n",
    "    X_ph3_feat_score = X_ph3_scaled_ready[features[i]]\n",
    "    \n",
    "    #create nested dictionary \n",
    "    aucs_t4[i] = {}\n",
    "    conf_mats_t4[i] = {}\n",
    "    evs_t4[i] = {}\n",
    "    \n",
    "    for c in cs:\n",
    "        svm = LinearSVC(C=c, class_weight = 'balanced', dual=False).fit(X_ph2_feat_fit, \n",
    "                                                                                   Y_ph2_scaled_cut.to_numpy().ravel())\n",
    "\n",
    "        cm = confusion_matrix(Y_ph3_scaled_cut, svm.predict(X_ph3_feat_score), normalize='true')\n",
    "        conf_mats_t4[i][c] = cm\n",
    "        ev = EV_multi(Y_ph3_scaled_cut, svm.predict(X_ph3_feat_score), classes, cost_mat)\n",
    "        evs_t4[i][c] = ev\n",
    "        \n",
    "        #store aucs -- will aggregate after taking an auc for each class -- simple mean\n",
    "        y = label_binarize(Y_ph3_scaled_cut, classes=[0,1,2,3])\n",
    "        n_classes = y.shape[1]\n",
    "        aucs_sub = np.zeros(n_classes)\n",
    "        for n in range(n_classes):\n",
    "            fpr, tpr, thresholds = roc_curve(y[:,n], svm.decision_function(X_ph3_feat_score)[:,n])\n",
    "            aucs_sub = auc(fpr,tpr)\n",
    "    \n",
    "        aucs_t4[i][c] = np.mean(aucs_sub)"
   ]
  },
  {
   "cell_type": "code",
   "execution_count": 34,
   "metadata": {},
   "outputs": [
    {
     "data": {
      "text/plain": [
       "-6.176176628020629"
      ]
     },
     "execution_count": 34,
     "metadata": {},
     "output_type": "execute_result"
    }
   ],
   "source": [
    "#get the best expected value from the test\n",
    "#need logic to get parameters for this test\n",
    "max_evs_t4 = []\n",
    "for f in feat_list_keys:\n",
    "    max_ev = max(evs_t4[f].values())\n",
    "    max_evs_t4.append(max_ev)\n",
    "\n",
    "max(max_evs_t4)"
   ]
  }
 ],
 "metadata": {
  "kernelspec": {
   "display_name": "Python 3",
   "language": "python",
   "name": "python3"
  },
  "language_info": {
   "codemirror_mode": {
    "name": "ipython",
    "version": 3
   },
   "file_extension": ".py",
   "mimetype": "text/x-python",
   "name": "python",
   "nbconvert_exporter": "python",
   "pygments_lexer": "ipython3",
   "version": "3.8.6"
  }
 },
 "nbformat": 4,
 "nbformat_minor": 4
}
