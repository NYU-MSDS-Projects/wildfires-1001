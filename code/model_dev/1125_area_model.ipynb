{
 "cells": [
  {
   "cell_type": "code",
   "execution_count": 175,
   "metadata": {},
   "outputs": [],
   "source": [
    "from sklearn.ensemble import RandomForestClassifier\n",
    "from sklearn.metrics import accuracy_score, confusion_matrix, classification_report, multilabel_confusion_matrix\n",
    "from sklearn.metrics import auc, roc_curve, r2_score\n",
    "from sklearn.ensemble import RandomForestRegressor\n",
    "from sklearn.utils.class_weight import compute_class_weight\n",
    "from sklearn.linear_model import LogisticRegression, LinearRegression, Ridge\n",
    "from sklearn.svm import SVC, LinearSVC\n",
    "from sklearn.preprocessing import scale, label_binarize\n",
    "from sklearn.calibration import CalibratedClassifierCV"
   ]
  },
  {
   "cell_type": "code",
   "execution_count": 176,
   "metadata": {},
   "outputs": [],
   "source": [
    "import pandas as pd  # provides interface for interacting with tabular data\n",
    "import geopandas as gpd  # combines the capabilities of pandas and shapely for geospatial operations\n",
    "from shapely.geometry import Point, Polygon, MultiPolygon  # for manipulating text data into geospatial shapes\n",
    "from shapely import wkt  # stands for \"well known text,\" allows for interchange across GIS programs\n",
    "import rtree  # supports geospatial join\n",
    "import os\n",
    "import fnmatch\n",
    "import numpy as np\n",
    "import matplotlib.pyplot as plt\n",
    "import descartes\n",
    "import sys\n",
    "import sklearn\n",
    "from shapely.ops import nearest_points\n",
    "from datetime import datetime as dt, date\n",
    "sys.path.append('C:/Users/jades/1001 Intro to Data Science Notebooks/Project/wildfires-1001/code/functions/')\n",
    "from gis_processing import *\n",
    "import pickle"
   ]
  },
  {
   "cell_type": "code",
   "execution_count": 177,
   "metadata": {},
   "outputs": [],
   "source": [
    "pd.set_option('display.max_rows', 500)\n",
    "pd.set_option('display.max_columns', 500)\n",
    "pd.set_option('display.width', 1000)"
   ]
  },
  {
   "cell_type": "code",
   "execution_count": 178,
   "metadata": {},
   "outputs": [],
   "source": [
    "git_dir = 'C:/Users/jades/1001 Intro to Data Science Notebooks/Project/wildfires-1001/'"
   ]
  },
  {
   "cell_type": "code",
   "execution_count": 179,
   "metadata": {},
   "outputs": [],
   "source": [
    "weather_rename_dict = pd.read_pickle(os.path.join(git_dir, 'data/clean_data/ERA_weather-data/ERA_rename_dictionary.pkl'))\n",
    "mod_lr = pd.read_pickle(os.path.join(git_dir, 'models/LR_30entropy_1990_2015.pkl'))\n",
    "mod_svm = pd.read_pickle(os.path.join(git_dir, 'models/linSVC_30entropy_1990_2015_a.pkl'))\n",
    "feat_list = pd.read_pickle(os.path.join(git_dir, 'models/feature_lists/RF_entropy_top30_features.pkl'))"
   ]
  },
  {
   "cell_type": "code",
   "execution_count": 180,
   "metadata": {},
   "outputs": [],
   "source": [
    "target_df1 = pd.read_pickle(os.path.join(git_dir, 'data/clean_data/target_df_final_1123_newtargets_1.pkl'))\n",
    "target_df2 = pd.read_pickle(os.path.join(git_dir, 'data/clean_data/target_df_final_1123_newtargets_2.pkl'))\n",
    "target_df = target_df1.append(target_df2)\n",
    "target_df.rename(columns = weather_rename_dict, inplace = True)"
   ]
  },
  {
   "cell_type": "code",
   "execution_count": 181,
   "metadata": {},
   "outputs": [],
   "source": [
    "non_mod_cols = ['GRID_ID','month_id','MONTH','COUNTYFP','COUNTY_AREA', 'NAME','GRID_AREA','COUNTY_ARE','month_id_old_x','month_id_old_y',\n",
    "                'geometry','Fire_area','total_fire_days','hist_p_time_1y','total_fire_days','hist_p_time_1y', \n",
    "                'hist_p_time_1m', 'month_id_old', 'YEAR']\n",
    "Y_cols = ['Y_bin', 'Y_fire_count', 'Y_fire_area_prop', 'Y_fire_class_size','Y_bin_new_fire_month',\n",
    "          'Y_max_new_fire_size_month','Y_count_new_fires_month']"
   ]
  },
  {
   "cell_type": "markdown",
   "metadata": {},
   "source": [
    "## Binary Target Variable"
   ]
  },
  {
   "cell_type": "code",
   "execution_count": 305,
   "metadata": {},
   "outputs": [],
   "source": [
    "train_stage1_data = target_df[(target_df['YEAR']>1989) & (target_df['YEAR']<=2005)]\n",
    "X_train_stage1 = train_stage1_data.drop('YEAR', axis = 1)\n",
    "for y in Y_cols + non_mod_cols:\n",
    "    try:\n",
    "        X_train_stage1.drop(y, inplace = True, axis =1)\n",
    "    except:\n",
    "        pass\n",
    "Y_train_stage1_bin = train_stage1_data['Y_bin_new_fire_month'].to_frame()\n",
    "#Y_train_stage1_area = train_stage1_data['Y_fire_area_prop'].to_frame()\n",
    "#Y_train_stage1_area = np.log(train_stage1_data['Y_fire_area_prop'] + 1).to_frame()\n",
    "Y_train_stage1_area = np.sqrt(train_stage1_data['Y_fire_area_prop']).to_frame()"
   ]
  },
  {
   "cell_type": "code",
   "execution_count": 306,
   "metadata": {},
   "outputs": [],
   "source": [
    "train_stage2_data = target_df[(target_df['YEAR']>2005) & (target_df['YEAR']<=2016)]\n",
    "X_train_stage2 = train_stage2_data.drop('YEAR', axis = 1)\n",
    "for y in Y_cols + non_mod_cols:\n",
    "    try:\n",
    "        X_train_stage2.drop(y, inplace = True, axis =1)\n",
    "    except:\n",
    "        pass\n",
    "Y_train_stage2_bin = train_stage2_data['Y_bin_new_fire_month'].to_frame()\n",
    "#Y_train_stage2_area = train_stage2_data['Y_fire_area_prop'].to_frame() \n",
    "#Y_train_stage2_area = np.log(train_stage2_data['Y_fire_area_prop'] + 1).to_frame() \n",
    "Y_train_stage2_area = np.sqrt(train_stage2_data['Y_fire_area_prop']).to_frame() "
   ]
  },
  {
   "cell_type": "code",
   "execution_count": 307,
   "metadata": {},
   "outputs": [],
   "source": [
    "test_data = target_df[target_df['YEAR']>2016]\n",
    "X_test = test_data.drop('YEAR', axis = 1)\n",
    "for y in Y_cols + non_mod_cols:\n",
    "    try:\n",
    "        X_test.drop(y, inplace = True, axis =1)\n",
    "    except:\n",
    "        pass\n",
    "Y_test_bin = test_data['Y_bin_new_fire_month'].to_frame()\n",
    "#Y_test_area = test_data['Y_fire_area_prop'].to_frame()\n",
    "#Y_test_area = np.log(test_data['Y_fire_area_prop'] + 1).to_frame()\n",
    "Y_test_area = np.sqrt(test_data['Y_fire_area_prop']).to_frame()"
   ]
  },
  {
   "cell_type": "code",
   "execution_count": 308,
   "metadata": {},
   "outputs": [],
   "source": [
    "X_train_stage1_scaled = pd.DataFrame(scale(X_train_stage1), columns = X_train_stage1.columns)\n",
    "X_train_stage2_scaled = pd.DataFrame(scale(X_train_stage2), columns = X_train_stage2.columns)\n",
    "X_test_scaled = pd.DataFrame(scale(X_test), columns = X_test.columns)"
   ]
  },
  {
   "cell_type": "markdown",
   "metadata": {},
   "source": [
    "## Create Classification Model Using First Training Set"
   ]
  },
  {
   "cell_type": "code",
   "execution_count": 309,
   "metadata": {},
   "outputs": [
    {
     "data": {
      "text/plain": [
       "LogisticRegression(C=0.01, class_weight='balanced')"
      ]
     },
     "execution_count": 309,
     "metadata": {},
     "output_type": "execute_result"
    }
   ],
   "source": [
    "mod_cl = LogisticRegression(C=0.01, class_weight='balanced')\n",
    "mod_cl.fit(X_train_stage1_scaled[feat_list], Y_train_stage1_bin['Y_bin_new_fire_month'])"
   ]
  },
  {
   "cell_type": "code",
   "execution_count": 310,
   "metadata": {},
   "outputs": [],
   "source": [
    "#mod_cl = LinearSVC(C=0.0001, class_weight='balanced', dual=False)\n",
    "#mod_cl.fit(X_train_stage1_scaled[feat_list], Y_train_stage1_bin['Y_bin_new_fire_month'])"
   ]
  },
  {
   "cell_type": "code",
   "execution_count": 311,
   "metadata": {},
   "outputs": [
    {
     "data": {
      "text/plain": [
       "CalibratedClassifierCV(base_estimator=LogisticRegression(C=0.01,\n",
       "                                                         class_weight='balanced'))"
      ]
     },
     "execution_count": 311,
     "metadata": {},
     "output_type": "execute_result"
    }
   ],
   "source": [
    "mod_cl_2 = CalibratedClassifierCV(mod_cl)\n",
    "mod_cl_2.fit(X_train_stage1_scaled[feat_list], Y_train_stage1_bin['Y_bin_new_fire_month'])"
   ]
  },
  {
   "cell_type": "markdown",
   "metadata": {},
   "source": [
    "## Generate Input for Regression Model Using Second Training Set"
   ]
  },
  {
   "cell_type": "code",
   "execution_count": 312,
   "metadata": {},
   "outputs": [],
   "source": [
    "preds_stage1 = mod_cl.predict(X_train_stage2_scaled[feat_list])\n",
    "preds_proba_stage1 = mod_cl_2.predict_proba(X_train_stage2_scaled[feat_list])[:, 1]"
   ]
  },
  {
   "cell_type": "code",
   "execution_count": 313,
   "metadata": {},
   "outputs": [],
   "source": [
    "X_train_stage2['preds_stage1'] = preds_stage1\n",
    "Y_train_stage2_area['preds_stage1'] = preds_stage1\n",
    "X_train_stage2['preds_proba_stage1'] = preds_proba_stage1\n",
    "Y_train_stage2_area['preds_proba_stage1'] = preds_proba_stage1\n",
    "\n",
    "X_train_stage2 = X_train_stage2[X_train_stage2['preds_stage1'] == 1]\n",
    "Y_train_stage2_area = Y_train_stage2_area[Y_train_stage2_area['preds_stage1'] == 1]"
   ]
  },
  {
   "cell_type": "markdown",
   "metadata": {},
   "source": [
    "## Create Regression Model Using Filtered Second Training Set"
   ]
  },
  {
   "cell_type": "code",
   "execution_count": 314,
   "metadata": {},
   "outputs": [],
   "source": [
    "# Fit model\n",
    "#mod_reg = LinearRegression()\n",
    "#mod_reg.fit(X_train_stage2[feat_list], Y_train_stage2_area['Y_fire_area_prop'])"
   ]
  },
  {
   "cell_type": "code",
   "execution_count": 315,
   "metadata": {},
   "outputs": [],
   "source": [
    "# Fit model\n",
    "#mod_reg = Ridge()\n",
    "#mod_reg.fit(X_train_stage2[feat_list], Y_train_stage2_area['Y_fire_area_prop'])"
   ]
  },
  {
   "cell_type": "code",
   "execution_count": 316,
   "metadata": {},
   "outputs": [
    {
     "data": {
      "text/plain": [
       "RandomForestRegressor(min_samples_leaf=30, n_estimators=500)"
      ]
     },
     "execution_count": 316,
     "metadata": {},
     "output_type": "execute_result"
    }
   ],
   "source": [
    "# Fit model\n",
    "mod_reg = RandomForestRegressor(n_estimators=500, min_samples_leaf=30)\n",
    "mod_reg.fit(X_train_stage2[feat_list], Y_train_stage2_area['Y_fire_area_prop'])"
   ]
  },
  {
   "cell_type": "markdown",
   "metadata": {},
   "source": [
    "## Generate Input for Regression Model Using Test Set"
   ]
  },
  {
   "cell_type": "code",
   "execution_count": 317,
   "metadata": {},
   "outputs": [],
   "source": [
    "# Predict using stage 1 model to identify positive instances\n",
    "preds_stage1 = mod_cl.predict(X_test_scaled[feat_list])\n",
    "preds_proba_stage1 = mod_cl_2.predict_proba(X_test_scaled[feat_list])[:, 1]"
   ]
  },
  {
   "cell_type": "code",
   "execution_count": 318,
   "metadata": {},
   "outputs": [],
   "source": [
    "# Create a filtered test df of just the instances flagged as positive from the stage 1 model\n",
    "X_test['preds_stage1'] = preds_stage1\n",
    "Y_test_area['preds_stage1'] = preds_stage1\n",
    "X_test['preds_proba_stage1'] = preds_proba_stage1\n",
    "Y_test_area['preds_proba_stage1'] = preds_proba_stage1\n",
    "\n",
    "X_test_filtered = X_test[X_test['preds_stage1'] == 1]\n",
    "Y_test_filtered_area = Y_test_area[Y_test_area['preds_stage1'] == 1]"
   ]
  },
  {
   "cell_type": "markdown",
   "metadata": {},
   "source": [
    "## Score Regression Model on Filtered Test and Full Test"
   ]
  },
  {
   "cell_type": "code",
   "execution_count": 319,
   "metadata": {},
   "outputs": [
    {
     "data": {
      "text/plain": [
       "0.29031365996392633"
      ]
     },
     "execution_count": 319,
     "metadata": {},
     "output_type": "execute_result"
    }
   ],
   "source": [
    "# Score on the instances flagged as positive from the stage 1 model\n",
    "preds_stage2 = mod_reg.predict(X_test_filtered[feat_list])\n",
    "r2_score(Y_test_filtered_area['Y_fire_area_prop'], preds_stage2)"
   ]
  },
  {
   "cell_type": "code",
   "execution_count": 320,
   "metadata": {},
   "outputs": [
    {
     "name": "stderr",
     "output_type": "stream",
     "text": [
      "<ipython-input-320-4eb6f0ff063e>:2: SettingWithCopyWarning: \n",
      "A value is trying to be set on a copy of a slice from a DataFrame.\n",
      "Try using .loc[row_indexer,col_indexer] = value instead\n",
      "\n",
      "See the caveats in the documentation: https://pandas.pydata.org/pandas-docs/stable/user_guide/indexing.html#returning-a-view-versus-a-copy\n",
      "  X_test_filtered['preds_stage2'] = preds_stage2\n"
     ]
    }
   ],
   "source": [
    "# Join our predictions back on the full test df and null fill with 0s (we predict an area of 0 if the stage 1 model predicts 0)\n",
    "X_test_filtered['preds_stage2'] = preds_stage2\n",
    "\n",
    "#X_test = X_test.merge(X_test_filtered['preds_stage2'], how='left', left_index=True, right_index=True)\n",
    "#X_test['preds_stage2'] = X_test['preds_stage2'].fillna(0)"
   ]
  },
  {
   "cell_type": "code",
   "execution_count": 321,
   "metadata": {},
   "outputs": [],
   "source": [
    "X_test = X_test.merge(X_test_filtered['preds_stage2'], how='left', left_index=True, right_index=True)"
   ]
  },
  {
   "cell_type": "code",
   "execution_count": 322,
   "metadata": {},
   "outputs": [],
   "source": [
    "X_test['preds_stage2'] = X_test['preds_stage2'].fillna(0)"
   ]
  },
  {
   "cell_type": "code",
   "execution_count": 323,
   "metadata": {},
   "outputs": [
    {
     "data": {
      "text/plain": [
       "0.18131147726973673"
      ]
     },
     "execution_count": 323,
     "metadata": {},
     "output_type": "execute_result"
    }
   ],
   "source": [
    "# Score on all test instances\n",
    "r2_score(Y_test_area['Y_fire_area_prop'], X_test['preds_stage2'])"
   ]
  },
  {
   "cell_type": "code",
   "execution_count": 324,
   "metadata": {},
   "outputs": [],
   "source": [
    "## Split test actuals into buckets\n",
    "## Calculate the mean for each bucket\n",
    "## Apply predictions to the test group\n",
    "## Group the predictions in the same way as the first grouping and calculate the prediction mean for each bucket"
   ]
  },
  {
   "cell_type": "code",
   "execution_count": 325,
   "metadata": {},
   "outputs": [],
   "source": [
    "set_1 = Y_test_filtered_area['Y_fire_area_prop'][(Y_test_filtered_area['Y_fire_area_prop'] >= Y_test_filtered_area['Y_fire_area_prop'].quantile(0)) & (Y_test_filtered_area['Y_fire_area_prop'] <= Y_test_filtered_area['Y_fire_area_prop'].quantile(0.6))].index.values\n",
    "set_2 = Y_test_filtered_area['Y_fire_area_prop'][(Y_test_filtered_area['Y_fire_area_prop'] >= Y_test_filtered_area['Y_fire_area_prop'].quantile(0.61)) & (Y_test_filtered_area['Y_fire_area_prop'] <= Y_test_filtered_area['Y_fire_area_prop'].quantile(0.7))].index.values\n",
    "set_3 = Y_test_filtered_area['Y_fire_area_prop'][(Y_test_filtered_area['Y_fire_area_prop'] >= Y_test_filtered_area['Y_fire_area_prop'].quantile(0.7)) & (Y_test_filtered_area['Y_fire_area_prop'] <= Y_test_filtered_area['Y_fire_area_prop'].quantile(0.8))].index.values\n",
    "set_4 = Y_test_filtered_area['Y_fire_area_prop'][(Y_test_filtered_area['Y_fire_area_prop'] >= Y_test_filtered_area['Y_fire_area_prop'].quantile(0.8)) & (Y_test_filtered_area['Y_fire_area_prop'] <= Y_test_filtered_area['Y_fire_area_prop'].quantile(0.9))].index.values\n",
    "set_5 = Y_test_filtered_area['Y_fire_area_prop'][(Y_test_filtered_area['Y_fire_area_prop'] >= Y_test_filtered_area['Y_fire_area_prop'].quantile(0.9)) & (Y_test_filtered_area['Y_fire_area_prop'] <= Y_test_filtered_area['Y_fire_area_prop'].quantile(1))].index.values"
   ]
  },
  {
   "cell_type": "code",
   "execution_count": 326,
   "metadata": {},
   "outputs": [
    {
     "data": {
      "text/plain": [
       "[3.1945681114505325e-05,\n",
       " 0.004494061944232703,\n",
       " 0.011189509197727132,\n",
       " 0.02950711862928163,\n",
       " 0.15711333665023552]"
      ]
     },
     "execution_count": 326,
     "metadata": {},
     "output_type": "execute_result"
    }
   ],
   "source": [
    "actuals = []\n",
    "\n",
    "actuals.append(Y_test_filtered_area['Y_fire_area_prop'][set_1].mean())\n",
    "actuals.append(Y_test_filtered_area['Y_fire_area_prop'][set_2].mean())\n",
    "actuals.append(Y_test_filtered_area['Y_fire_area_prop'][set_3].mean())\n",
    "actuals.append(Y_test_filtered_area['Y_fire_area_prop'][set_4].mean())\n",
    "actuals.append(Y_test_filtered_area['Y_fire_area_prop'][set_5].mean())\n",
    "\n",
    "actuals"
   ]
  },
  {
   "cell_type": "code",
   "execution_count": 327,
   "metadata": {},
   "outputs": [
    {
     "data": {
      "text/plain": [
       "[0.012227983987605844,\n",
       " 0.016474099334296714,\n",
       " 0.018026014103753468,\n",
       " 0.01971043041834076,\n",
       " 0.06000867978783855]"
      ]
     },
     "execution_count": 327,
     "metadata": {},
     "output_type": "execute_result"
    }
   ],
   "source": [
    "preds = []\n",
    "\n",
    "preds.append(X_test_filtered['preds_stage2'][set_1].mean())\n",
    "preds.append(X_test_filtered['preds_stage2'][set_2].mean())\n",
    "preds.append(X_test_filtered['preds_stage2'][set_3].mean())\n",
    "preds.append(X_test_filtered['preds_stage2'][set_4].mean())\n",
    "preds.append(X_test_filtered['preds_stage2'][set_5].mean())\n",
    "\n",
    "preds"
   ]
  },
  {
   "cell_type": "code",
   "execution_count": 329,
   "metadata": {},
   "outputs": [
    {
     "data": {
      "text/plain": [
       "<matplotlib.legend.Legend at 0x24c442d0940>"
      ]
     },
     "execution_count": 329,
     "metadata": {},
     "output_type": "execute_result"
    },
    {
     "data": {
      "image/png": "[encoded data removed]",
      "text/plain": [
       "<Figure size 432x288 with 1 Axes>"
      ]
     },
     "metadata": {
      "needs_background": "light"
     },
     "output_type": "display_data"
    }
   ],
   "source": [
    "x1_values = [0.8,1.8,2.8,3.8,4.8]\n",
    "x2_values = [1.2,2.2,3.2,4.2,5.2]\n",
    "\n",
    "plt.figure()\n",
    "\n",
    "plt.bar(x1_values, actuals, width=0.4, color='royalblue', label='Actuals')\n",
    "plt.bar(x2_values, preds, width=0.4, color='skyblue', label='Predictions')\n",
    "\n",
    "plt.suptitle('Fire Area Actuals versus Predictions')\n",
    "plt.title('R2 = 0.290')\n",
    "plt.xlabel('Percentile')\n",
    "plt.ylabel('Proportion of Grid Covered by Fire (sqrt)')\n",
    "plt.xticks([1,2,3,4,5], ['< 60', '60 - 70', '70 to 80', '80 to 90', '>= 90'])\n",
    "plt.legend()\n"
   ]
  }
 ],
 "metadata": {
  "kernelspec": {
   "display_name": "Python 3",
   "language": "python",
   "name": "python3"
  },
  "language_info": {
   "codemirror_mode": {
    "name": "ipython",
    "version": 3
   },
   "file_extension": ".py",
   "mimetype": "text/x-python",
   "name": "python",
   "nbconvert_exporter": "python",
   "pygments_lexer": "ipython3",
   "version": "3.8.5"
  }
 },
 "nbformat": 4,
 "nbformat_minor": 4
}
